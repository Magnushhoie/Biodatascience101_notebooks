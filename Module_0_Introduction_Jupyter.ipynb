{
 "cells": [
  {
   "cell_type": "markdown",
   "metadata": {},
   "source": [
    "# A quick introduction to Jupyter Notebooks"
   ]
  },
  {
   "cell_type": "markdown",
   "metadata": {},
   "source": [
    "**Please go through this notebook in your own time in order to get familiar with the Jupyter Notebook environment, running Python code and if you would like to, practicing some Python coding. We have attached some additional learning resources at the bottom of the notebook**\n",
    "\n",
    "If you would like to preserve your changes, save the notebook and download it by right-clicking the file and selecting download."
   ]
  },
  {
   "cell_type": "code",
   "execution_count": null,
   "metadata": {},
   "outputs": [],
   "source": []
  },
  {
   "cell_type": "markdown",
   "metadata": {},
   "source": [
    "[**Jupyter notebooks**](https://jupyter-notebook-beginner-guide.readthedocs.io/en/latest/what_is_jupyter.html) allow you to run code, document it and see its outputs in a single notebook. These notebooks can be easily shared, read and run by others, assuming all dependencies are already installed.\n",
    "\n",
    "This notebook is currently running on an online Jupyter server, which allows you to edit and run the notebook via a web browser without needing to run any code directly on your computer.\n",
    "\n",
    "Notebooks are useful for running code interactively, step-by-step, and be able to see the state of all your variables at any point. They support code, text, graphs, images, youtube videos, tables and much, much more.\n",
    "\n",
    "The code we run is run by the Jupyter kernel. Depending on what we have installed, we can run Python code directly, any type of Python library (e.g. Pandas and Numpy), as well as other programming languages like R and UNIX terminal BASH code.\n",
    "\n",
    "Let´s have a closer look!"
   ]
  },
  {
   "cell_type": "code",
   "execution_count": null,
   "metadata": {},
   "outputs": [],
   "source": []
  },
  {
   "cell_type": "markdown",
   "metadata": {},
   "source": [
    "#### Selecting and running cells:"
   ]
  },
  {
   "cell_type": "markdown",
   "metadata": {},
   "source": [
    "#### Double-click me!\n",
    "\n",
    "This cell is a **markdown cell**, which allows basic text formatting and showing images\n",
    "\n",
    "- Clicking on a cell will select that cell.\n",
    "- Double-click to access and write code in that cell\n",
    "- **Control + Enter** or **Shift + Enter** or clicking the **play/run button** in the toolbar above will run the code in that cell.\n",
    "\n",
    "<a href=\"img/toolbar.png\"><center> <img src=\"img/toolbar.png\" alt=\"Drawing\" style=\"width: 400px;\"/> <center/><a/>"
   ]
  },
  {
   "cell_type": "markdown",
   "metadata": {},
   "source": [
    "Below is a **code cell**. All code inside the code cell will be run line by line.\n",
    "\n",
    "**Lines which start with a comment (#) or anything written after # will not be run. This is very useful for commenting and explaining your code, and we will be using this extensively in the next modules.**"
   ]
  },
  {
   "cell_type": "code",
   "execution_count": null,
   "metadata": {},
   "outputs": [],
   "source": [
    "10/3"
   ]
  },
  {
   "cell_type": "code",
   "execution_count": null,
   "metadata": {},
   "outputs": [],
   "source": []
  },
  {
   "cell_type": "markdown",
   "metadata": {},
   "source": [
    "There is also a third type of cell, **raw cells**. These are more like notepads - places to quickly jot down your notes. Nothing will run in these cells, the text will remain exactly how you left it."
   ]
  },
  {
   "cell_type": "raw",
   "metadata": {},
   "source": [
    "This is a raw cell. Nothing will run here, so there is no need to use # at the start of the line as a commment"
   ]
  },
  {
   "cell_type": "markdown",
   "metadata": {},
   "source": [
    "You can check the type of the cell from the cell type dropdown in the toolbar.\n",
    "\n",
    "**It will show the 3 types of cells, code, markdown and raw.**"
   ]
  },
  {
   "cell_type": "code",
   "execution_count": null,
   "metadata": {},
   "outputs": [],
   "source": []
  },
  {
   "cell_type": "markdown",
   "metadata": {},
   "source": [
    "#### Code, Markdown and Raw cell states"
   ]
  },
  {
   "cell_type": "markdown",
   "metadata": {},
   "source": [
    "Each cell in a Jupyter notebook can have 1 of 3 states:\n",
    "- Markdown code (such as this one)\n",
    "- Code cell (for running e.g. Python code)\n",
    "- Raw cell (text with no formatting)\n",
    "\n",
    "<a href=\"img/toolbar.png\"><center> <img src=\"img/toolbar.png\" alt=\"Drawing\" style=\"width: 400px;\"/> <center/><a/>\n",
    "\n",
    "The state of a cell can be changed using the drop-down menu in the toolbar.\n",
    "\n",
    "<a href=\"img/markdown2.png\"><center> <img src=\"img/markdown2.png\" alt=\"Drawing\" style=\"width: 100px;\"/> <center/><a/>\n",
    "\n",
    "In order to **change a cell to another state**, select the drop-down menu and change it to one of the 3 options."
   ]
  },
  {
   "cell_type": "code",
   "execution_count": null,
   "metadata": {},
   "outputs": [],
   "source": []
  },
  {
   "cell_type": "markdown",
   "metadata": {},
   "source": [
    "#### Exercise 1: Change the cell **below** to a code cell and run using **Shift + Enter**\n",
    "\n",
    "It should print 2 lines."
   ]
  },
  {
   "cell_type": "markdown",
   "metadata": {},
   "source": [
    "print(\"Two plus two equals:\")\n",
    "print(2+2)\n"
   ]
  },
  {
   "cell_type": "code",
   "execution_count": null,
   "metadata": {},
   "outputs": [],
   "source": []
  },
  {
   "cell_type": "code",
   "execution_count": null,
   "metadata": {},
   "outputs": [],
   "source": []
  },
  {
   "cell_type": "markdown",
   "metadata": {},
   "source": [
    "## The toolbar"
   ]
  },
  {
   "cell_type": "markdown",
   "metadata": {},
   "source": [
    "<a href=\"img/toolbar.png\"><center> <img src=\"img/toolbar.png\" alt=\"Drawing\" style=\"width: 400px;\"/> <center/><a/>\n",
    "\n",
    "The jupyter **notebook toolbar** can be seen on top. It shows tabs for your open notebooks, commands for running cells and kernel, and the currently running kernel (should state Python 3).\n",
    "\n",
    "The command buttons can be clicked to perform the following actions. Keyboard shortcuts are also shown.\n",
    "    \n",
    "**NOTE: For keyboard shortcuts to work, press escape first, or select somewhere where you are not currently typing in a cell. Otherwise the shortcuts will not work**\n",
    "    \n",
    "    \n",
    "- Saving notebook **(Command + S or Control + S)**\n",
    "- Adding new empty cell **(a or b)**.\n",
    "    - (This only works if you are not currently typing in a cell. Try clicking somewhere else in the notebook or pressing Escape first.)\n",
    "- Cutting (X), copying (C) and pasting cells below (V). \n",
    "    - You can also see these by right clicking a cell\n",
    "    - Note that while copy preserves the original cell(s), cut deletes them\n",
    "- **Run the cell** **(Shift + Enter)**\n",
    "- **Interrupt the kernel** Interrupts currently running code.\n",
    "    - Very useful if something gets stuck processing!\n",
    "- **Restart the kernel** Flushes all memory and starts a new kernel from scratch. Basically a new session to start fresh from\n",
    "- **Changing cell type**, e.g. from e.g. code cells to markdown cells\n",
    "    - Change to code cell (**Y**)\n",
    "    - Change to markdown cell (**M**)\n",
    "    - Change to raw cell (**R**)"
   ]
  },
  {
   "cell_type": "code",
   "execution_count": null,
   "metadata": {},
   "outputs": [],
   "source": []
  },
  {
   "cell_type": "markdown",
   "metadata": {},
   "source": [
    "### Useful keyboard shortcuts"
   ]
  },
  {
   "cell_type": "markdown",
   "metadata": {},
   "source": [
    "Other useful commands and tricks are:\n",
    "- **Delete cell**: dd\n",
    "- **Undo command**: z\n",
    "- **Redo comamnd**: Shift + z\n",
    "- **Move cell(s)**: Select cell(s) and drag them from next to the blue bar\n",
    "- **Select multiple cells**: Select using Shift + click\n",
    "\n",
    "<a href=\"img/edit.png\"><center> <img src=\"img/edit.png\" alt=\"Drawing\" style=\"width: 200px;\"/> <center/><a/>\n",
    "\n",
    "These commands and shortcuts can also be seen from the top navigation bar, under Edit.\n",
    "\n"
   ]
  },
  {
   "cell_type": "markdown",
   "metadata": {},
   "source": [
    "Access to your home directory´s folders and files, including other notebooks, can be be done using the Jupyter File Navigation view on the left. \n",
    "\n",
    "<a href=\"img/file_navigation.png\"><center> <img src=\"img/file_navigation.png\" alt=\"Drawing\" style=\"width: 200px;\"/> <center/><a/>\n",
    "\n",
    "- Open notebooks or files by double-clicking them or right click -> open\n",
    "- Create new notebooks, terminals or text files using the + button on the top\n",
    "- Create new folders using the folder button\n",
    "- Download files by right-clicking file -> Download\n",
    "- Upload files either by using the Upload button or dragging files from your local computer into the folder you want to upload to\n",
    "- Currently running notebooks are shown with a **<font color='green'>green dot</font>** next to their filename\n",
    "\n"
   ]
  },
  {
   "cell_type": "markdown",
   "metadata": {},
   "source": [
    "#### Please run this cell to display proper formatting of the notebook:\n",
    "This will import a custom css script file which allows the intended color formatting of cells to work in the notebook. We will use this in the later modules to indicate notes, questions and color more challenging exercises"
   ]
  },
  {
   "cell_type": "code",
   "execution_count": null,
   "metadata": {},
   "outputs": [],
   "source": [
    "import sys\n",
    "sys.path.insert(0, \"/biodatascience_notebooks/software/CheckAnswer\")\n",
    "from CheckModuleAnswers import *\n",
    "\n",
    "sys.path.insert(0, \"/sdcworkshop/notebooks/\")\n",
    "\n",
    "from scripts.noteStyle import set_styles, background\n",
    "set_styles()\n",
    "print(\"Done!\")"
   ]
  },
  {
   "cell_type": "markdown",
   "metadata": {},
   "source": [
    "# Running Python code"
   ]
  },
  {
   "cell_type": "markdown",
   "metadata": {},
   "source": [
    "<div class='blue' > Python code can be run directly inside code cells. Cells will run code in the order that they are in, that is line by line. The output of the cell will be shown below the cell.\n",
    "\n",
    "We will define two variables, number1 and number2, then we will define the variable output as the two variables multiplied together.\n",
    "</div>"
   ]
  },
  {
   "cell_type": "code",
   "execution_count": null,
   "metadata": {},
   "outputs": [],
   "source": [
    "number1 = 10\n",
    "number2 = 2\n",
    "output = number1 * number2\n",
    "output"
   ]
  },
  {
   "cell_type": "markdown",
   "metadata": {},
   "source": [
    "Variables can be displayed directly in the notebook by running them in the last code line. In this case we can also use **print(output)** which will display the same."
   ]
  },
  {
   "cell_type": "code",
   "execution_count": null,
   "metadata": {},
   "outputs": [],
   "source": [
    "print(output)"
   ]
  },
  {
   "cell_type": "markdown",
   "metadata": {},
   "source": [
    "Try performing some [arithmetic calculations](https://www.tutorialspoint.com/python/python_basic_operators.htm) in the cell below:"
   ]
  },
  {
   "cell_type": "code",
   "execution_count": null,
   "metadata": {},
   "outputs": [],
   "source": []
  },
  {
   "cell_type": "code",
   "execution_count": null,
   "metadata": {},
   "outputs": [],
   "source": []
  },
  {
   "cell_type": "code",
   "execution_count": null,
   "metadata": {},
   "outputs": [],
   "source": [
    "number_list = list(range(1,10))\n",
    "print(number_list)\n",
    "print(sum(number_list))"
   ]
  },
  {
   "cell_type": "markdown",
   "metadata": {},
   "source": [
    "<div class = 'yellow'><b>Note: unless <i>print<i/> statements are used, only the output of the last line of code will be shown, as seen below.</b></div>"
   ]
  },
  {
   "cell_type": "markdown",
   "metadata": {},
   "source": [
    "<div class='yellow'><b>Question 1:</b> What is 123 * 234?<br><i>\n",
    "\n",
    "\n",
    "\n"
   ]
  },
  {
   "cell_type": "markdown",
   "metadata": {},
   "source": [
    "Fill in the answer in the check_answer_module0 function below, by writing it between the quotes in answer=\"\". Then run the code in the cell using shift + enter or the  to see if the answer was correct.\n",
    "\n",
    "For example:\n",
    "\n",
    "check_answer_module0(question='1', \n",
    "                     answer=\"920\")"
   ]
  },
  {
   "cell_type": "code",
   "execution_count": null,
   "metadata": {},
   "outputs": [],
   "source": [
    "123*234"
   ]
  },
  {
   "cell_type": "code",
   "execution_count": null,
   "metadata": {},
   "outputs": [],
   "source": [
    "check_answer_module0(question='1', \n",
    "                     answer=\"28782\")"
   ]
  },
  {
   "cell_type": "code",
   "execution_count": null,
   "metadata": {},
   "outputs": [],
   "source": []
  },
  {
   "cell_type": "markdown",
   "metadata": {},
   "source": [
    "# For loops in python"
   ]
  },
  {
   "cell_type": "markdown",
   "metadata": {},
   "source": [
    "In python a forloop is a way to iterate over something iterable, for example a list. \n",
    "This allows for repeatedly executing a block of code for each item in the list.\n",
    "A for loop can be written written like this: "
   ]
  },
  {
   "cell_type": "code",
   "execution_count": null,
   "metadata": {},
   "outputs": [],
   "source": [
    "for item in [1,2,3,4,5]:\n",
    "    print(item)"
   ]
  },
  {
   "cell_type": "markdown",
   "metadata": {},
   "source": [
    "the variable item can be named anything you like, and the list can be any object which is iterable. For example:"
   ]
  },
  {
   "cell_type": "code",
   "execution_count": null,
   "metadata": {},
   "outputs": [],
   "source": [
    "items = [\"apple\", \"banana\", \"pear\"]\n",
    "for fruit in items:\n",
    "    print(fruit)"
   ]
  },
  {
   "cell_type": "markdown",
   "metadata": {},
   "source": [
    "Even characters in a string:"
   ]
  },
  {
   "cell_type": "code",
   "execution_count": null,
   "metadata": {},
   "outputs": [],
   "source": [
    "string = \"Hello_World!\"\n",
    "for character in string:\n",
    "    print(character)"
   ]
  },
  {
   "cell_type": "code",
   "execution_count": null,
   "metadata": {},
   "outputs": [],
   "source": []
  },
  {
   "cell_type": "markdown",
   "metadata": {},
   "source": [
    "All sort of operations can be performed during a loop. Here is an example to calculate the power of a list. "
   ]
  },
  {
   "cell_type": "code",
   "execution_count": null,
   "metadata": {},
   "outputs": [],
   "source": [
    "for number in [1,2,3,4,5]:\n",
    "    number_squared = number**2\n",
    "    print(number, '*', number ,'=', number_squared)"
   ]
  },
  {
   "cell_type": "markdown",
   "metadata": {},
   "source": [
    "While forloops are convenient, external libraries often provide the same behavior, but orders of magnitude faster."
   ]
  },
  {
   "cell_type": "code",
   "execution_count": null,
   "metadata": {},
   "outputs": [],
   "source": []
  },
  {
   "cell_type": "markdown",
   "metadata": {},
   "source": [
    "### Python cheatsheet with overview of Python commands: https://www.pythoncheatsheet.org/"
   ]
  },
  {
   "cell_type": "markdown",
   "metadata": {},
   "source": [
    "### Optional extra exercises to practice your Python! Feel free to use the cheatsheet above to help you"
   ]
  },
  {
   "cell_type": "markdown",
   "metadata": {},
   "source": [
    "1. Write 'Hello World' on the screen.\n",
    "2. Write 'Hello World' 10 times using a loop. One Hello per line.\n",
    "3. Write numbers 1 to 10 to the screen one number per line. Use a loop.\n",
    "4. Make a program ask for a name, and then write a greeting using that name. However, if it is your name you give as input the greeting should be extra nice.\n",
    "5. Make a program that ask for two numbers (one at a time) and then prints them and their sum.\n",
    "6. Ask for two numbers and ask what operation to perform on them (+, - , *, /) and display the numbers and the result.\n",
    "7. Ask for two integers and print them and all integers between them. It is not necessary to perform input control - just assume that the user is well-behaved and inputs integers.\n",
    "8. Now make the same program work even if you switch the input numbers, so it does not matter if you input the smallest number first or last.\n",
    "9. This needs to be read carefully: Make a program that asks for number, and then continues asking for numbers as long as you input numbers that are greater or equal to all previous numbers (not the sum of previous numbers).\n",
    "10. Ask for a positive integer and calculate the factorial (n!) of that number. Display the result. If input is negative, display an error message.\n",
    "11. If you solved the previous one then this should be relatively easy. Ask for an integer and calculate the sum from 0 up/down to the integer. An eksample: If you input 5 then calculate 5 + 4 + 3 + 2 + 1 (+ 0) = 15. If input is -4 then calculate -4 + -3 + -2 + -1 (+ 0) = -10."
   ]
  },
  {
   "cell_type": "code",
   "execution_count": null,
   "metadata": {},
   "outputs": [],
   "source": []
  },
  {
   "cell_type": "code",
   "execution_count": null,
   "metadata": {},
   "outputs": [],
   "source": []
  },
  {
   "cell_type": "code",
   "execution_count": null,
   "metadata": {},
   "outputs": [],
   "source": []
  },
  {
   "cell_type": "code",
   "execution_count": null,
   "metadata": {},
   "outputs": [],
   "source": []
  },
  {
   "cell_type": "code",
   "execution_count": null,
   "metadata": {},
   "outputs": [],
   "source": []
  },
  {
   "cell_type": "markdown",
   "metadata": {},
   "source": [
    "#### In your own time: We also highly recommend checking out these quick guides to the Pandas and Numpy libraries, which we will be using extensively to perform our analysis in the next modules. You can find links to these guides below and practice them here."
   ]
  },
  {
   "cell_type": "code",
   "execution_count": null,
   "metadata": {},
   "outputs": [],
   "source": [
    "import numpy as np\n",
    "import pandas as pd"
   ]
  },
  {
   "cell_type": "markdown",
   "metadata": {},
   "source": [
    "#### Optional extra exercises to practice the Pandas library:\n",
    "https://pandas.pydata.org/pandas-docs/stable/getting_started/10min.html"
   ]
  },
  {
   "cell_type": "code",
   "execution_count": null,
   "metadata": {},
   "outputs": [],
   "source": []
  },
  {
   "cell_type": "code",
   "execution_count": null,
   "metadata": {},
   "outputs": [],
   "source": []
  },
  {
   "cell_type": "markdown",
   "metadata": {},
   "source": [
    "#### Optional extra exercises to practice the Numpy library:\n",
    "https://docs.scipy.org/doc/numpy/user/quickstart.html"
   ]
  },
  {
   "cell_type": "code",
   "execution_count": null,
   "metadata": {},
   "outputs": [],
   "source": []
  }
 ],
 "metadata": {
  "kernelspec": {
   "display_name": "Python 3",
   "language": "python",
   "name": "python3"
  },
  "language_info": {
   "codemirror_mode": {
    "name": "ipython",
    "version": 3
   },
   "file_extension": ".py",
   "mimetype": "text/x-python",
   "name": "python",
   "nbconvert_exporter": "python",
   "pygments_lexer": "ipython3",
   "version": "3.6.7"
  }
 },
 "nbformat": 4,
 "nbformat_minor": 2
}
