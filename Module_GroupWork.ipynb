{
 "cells": [
  {
   "cell_type": "markdown",
   "metadata": {},
   "source": [
    "<a href=\"./img/module5logo.png\"><center> <img src=\"./img/module5logo.png\" alt=\"Drawing\" style=\"width: 600px;\"/> <center/><a/>"
   ]
  },
  {
   "cell_type": "markdown",
   "metadata": {},
   "source": [
    "# **Protein Sequences Analysis (Group work - Hemagglutinin Case Study)**"
   ]
  },
  {
   "cell_type": "markdown",
   "metadata": {},
   "source": [
    "<div class=\"alert alert-info\"> <font color=black> The purpose of this group work notebook is for you, together with others, to have the chance to reapply what you have learned so far about clustering and logoplots on a different data set. \n",
    "    \n",
    "<b></b>\n",
    "\n",
    "The new data set you will be working with is a set of <a href=”https://pdb101.rcsb.org/motm/76”>influenza Hemagglutinin (HA)</a> proteins from influenza A virus. HA is, together with Neuraminidase (NA), the two outer membrane proteins on influenza A which defines its serotype. HA is central for binding to the host cells (e.g. human or swine cells) and for the fusion of the virus into the host cell. At least 18 and 11 different subtypes of HA and NA, respectively, are known and it is the combination of these which gives us the influenza names of H1N1, H5N2 etc.. We will be focusing on HA 1 in H1N1 subtypes that have been found in humans and swine. H1N1 is interesting, as it is known for being the cause of both the 1918 and 2009 pandemics (different strains of an H1N1 subtype) and as the most dominant circulating influenza A in most countries. \n",
    "\n",
    "<b></b>\n",
    "    \n",
    "The <a href=\"https://www.fludb.org/brc/influenza_sequence_search_segment_display.spg?method=ShowCleanSearch&decorator=influenza\">fludb.com database</a> is a nicely curated database of influenza data which also includes the protein sequences of both HA and NA. From this site we extracted all the protein sequences of HA 1 from the H1N1 subtypes that have been found in humans and swine. \n",
    "\n",
    "<b></b>\n",
    "\n",
    "You are now tasked, together with your group, to apply the clustering and logoplot techniques, which you have been using on coronavirus sequences, to explore this set of sequences.</font></div>\n",
    "\n",
    "\n",
    "----------"
   ]
  },
  {
   "cell_type": "code",
   "execution_count": null,
   "metadata": {},
   "outputs": [],
   "source": [
    "import pandas as pd\n",
    "import numpy as np\n",
    "from Bio import SeqIO\n",
    "\n",
    "import matplotlib.pyplot as plt\n",
    "import seaborn as sns\n",
    "sns.set(style='white')\n",
    "\n",
    "from biotite.sequence import ProteinSequence, align\n",
    "\n",
    "from sklearn.decomposition import PCA\n",
    "from sklearn.manifold import TSNE\n",
    "import umap\n",
    "\n",
    "from sklearn.cluster import DBSCAN\n",
    "\n",
    "import logomaker"
   ]
  },
  {
   "cell_type": "markdown",
   "metadata": {},
   "source": [
    "-----------"
   ]
  },
  {
   "cell_type": "markdown",
   "metadata": {},
   "source": [
    "### **Data Preparation and Cleaning**\n",
    "\n",
    "<div class=\"alert alert-info\"> <font color=black>We have already downloaded the data from <a href=\"https://www.fludb.org/brc/influenza_sequence_search_segment_display.spg?method=ShowCleanSearch&decorator=influenza\">fludb.org database</a> and written the below code to read it into a Pandas DataFrame. The data contains four columns; the HA protein sequence, the strain (in our case they are all H1N1), the species (human or swine) and fludb's quality check column. \n",
    "    \n",
    "<b></b>\n",
    "\n",
    "In the following you need to prepare and clean the data.</font></div>"
   ]
  },
  {
   "cell_type": "code",
   "execution_count": null,
   "metadata": {},
   "outputs": [],
   "source": [
    "data = np.array([[str(record.seq)]+record.id.split('|') for record in SeqIO.FastaIO.FastaIterator('./data/Hemagglutinin.fasta')])\n",
    "data = pd.DataFrame(data, columns=['seq', 'strain', 'species', 'quality'])\n",
    "data.head()"
   ]
  },
  {
   "cell_type": "markdown",
   "metadata": {},
   "source": [
    "<div class=\"alert alert-warning\"> <font color=black><b>Question 1:</b> How many of our sequences have been found in humans and in swine?</font></div>"
   ]
  },
  {
   "cell_type": "code",
   "execution_count": null,
   "metadata": {},
   "outputs": [],
   "source": [
    "# Write code here\n",
    "# Hint: value_counts() is great for summarizing the elements in a Pandas column "
   ]
  },
  {
   "cell_type": "markdown",
   "metadata": {},
   "source": [
    "<div class=\"alert alert-info\"> <font color=black>Clean the data by removing;\n",
    "    \n",
    "<ol>\n",
    "  <li>sequences shorter than 500 amino acids (sequences shorter than 500 are only partial sequences),</li>\n",
    "  <li>sequences containing elements which are not one of the 20 amino acids,</li>\n",
    "  <li>sequences which don't have the 'Pass' element in the quality column and</li>\n",
    "  <li>duplicate sequences.</li>\n",
    "</ol></font></div>\n",
    "<div class=\"alert alert-warning\"> <font color=black><b>Question 2:</b> Which of the four cleaning steps removed the most data?</font></div>"
   ]
  },
  {
   "cell_type": "code",
   "execution_count": null,
   "metadata": {},
   "outputs": [],
   "source": [
    "# Write code here\n",
    "# Hint: look for inspiration in the coronavirus notebook and search on google, e.g. \"pandas remove duplicates\". "
   ]
  },
  {
   "cell_type": "markdown",
   "metadata": {},
   "source": [
    "---------------\n",
    "\n",
    "### **Clustering and logoplots**\n",
    "\n",
    "<div class=\"alert alert-info\"> <font color=black>As it takes some time to calculate the distance matrix and multiple sequence alignment, we have already pre-computed a prepared set of hemagglutinin sequences containing 500 found in human and 500 found in swine.\n",
    " </font></div>"
   ]
  },
  {
   "cell_type": "code",
   "execution_count": null,
   "metadata": {},
   "outputs": [],
   "source": [
    "distDF = pd.read_csv('./data/DistMat_precomputed_gw.csv')\n",
    "msaDF = pd.read_csv('./data/MSA_precomputed_gw.csv')\n",
    "\n",
    "msaDF.head()"
   ]
  },
  {
   "cell_type": "markdown",
   "metadata": {},
   "source": [
    "<div class=\"alert alert-info\"> <font color=black>Using the distance matrix, reduce the dimensionality using PCA and t-SNE/UMAP and plot the results.</font></div>\n",
    "<div class=\"alert alert-warning\"> <font color=black><b>Question 3:</b> Is the PCA able to split human and swine found hemagglutinin sequences into different clusters?</font></div>"
   ]
  },
  {
   "cell_type": "code",
   "execution_count": null,
   "metadata": {},
   "outputs": [],
   "source": [
    "# Write code here\n",
    "# Hint: look for inspiration in the coronavirus notebook"
   ]
  },
  {
   "cell_type": "markdown",
   "metadata": {},
   "source": [
    "<div class=\"alert alert-warning\"> <font color=black><b>Question 4:</b> Are t-SNE and UMAP able to do it?</font></div>"
   ]
  },
  {
   "cell_type": "code",
   "execution_count": null,
   "metadata": {},
   "outputs": [],
   "source": [
    "# Write code here\n",
    "# Hint: look for inspiration in the coronavirus notebook"
   ]
  },
  {
   "cell_type": "markdown",
   "metadata": {},
   "source": [
    "<div class=\"alert alert-info\"> <font color=black>Select now two clusters, one containing mainly human and one containing mainly swine found hemagglutinin sequences, and compare their logoplots. Focus on the amino acids from position 95-110, as they span the amino acids involved in the virus’ ability to infect either human and swine cells.</font></div>\n",
    "<div class=\"alert alert-warning\"> <font color=black><b>Question 5:</b> How many different amino acids are there between the two logoplots when only looking at amino acids spanning the positions 95-110?</font></div>"
   ]
  },
  {
   "cell_type": "code",
   "execution_count": null,
   "metadata": {},
   "outputs": [],
   "source": [
    "# Write code here\n",
    "# Hint: in order to select a cluster you need to use DBSCAN to define the clusters first\n",
    "# Hint: use tologo[95:110] as input to logomaker.Logo to only select and visualize amino acids from 95 to 110"
   ]
  },
  {
   "cell_type": "markdown",
   "metadata": {},
   "source": [
    "<div class=\"alert alert-info\"> <font color=black>While whether a H1N1 strain can infect a human cell is not only based on its HA, it does illustrate how closely related H1N1 strains infecting different animals are. This coupled with influenza A's high mutation rate, explains how these virus can jump from swine to humans. For further reading into the differences between swine and human infecting H1N1 strains, then <a href=\"https://www.ncbi.nlm.nih.gov/pmc/articles/PMC4249111/\">this article</a> nicely describes different mutations found in the 2009 pandemic. \n",
    "    \n",
    "<b></b>    \n",
    "\n",
    "<a href=\"https://www.proteogenix.science/scientific-corner/peptide-synthesis/conventional-vs-peptide-vaccines/\">A peptide vaccine</a> is a type of vaccine utilizing a small stretch of a protein (e.g. a peptide) from a pathogen to immunize an organism.</font></div>\n",
    "\n",
    "<div class=\"alert alert-warning\"> <font color=black><b>Question 6 (Advanced):</b> Based on logoplots of residue 95-110 in the alignment, do you think that an hypotethical peptide vaccine targeting this region might be effective against all different strains of H1N1? </font></div>"
   ]
  },
  {
   "cell_type": "code",
   "execution_count": null,
   "metadata": {},
   "outputs": [],
   "source": [
    "# Write code here\n",
    "# Hint: compare different clusters of sequences found in humans"
   ]
  },
  {
   "cell_type": "markdown",
   "metadata": {},
   "source": [
    "**This is the end of the group work session**. We hope you have now become traversed with using the different clustering techniques and logoplots, and especially, have become comfortable with using the code introduced in the previous notebook. \n",
    "\n",
    "As seen, the exact same approach for initial exploration of coronavirus antibody sequences can be used for exploring influenza hemagglutinin sequences. We hope you will now try and apply these methods to your own data!\n",
    "\n",
    "Have a break and remember to join the **Zoom call at 13:00 CET** for presentations from our guest speakers and a walk-through of the coronavirus notebook.  "
   ]
  }
 ],
 "metadata": {
  "kernelspec": {
   "display_name": "Python 3",
   "language": "python",
   "name": "python3"
  },
  "language_info": {
   "codemirror_mode": {
    "name": "ipython",
    "version": 3
   },
   "file_extension": ".py",
   "mimetype": "text/x-python",
   "name": "python",
   "nbconvert_exporter": "python",
   "pygments_lexer": "ipython3",
   "version": "3.6.7"
  },
  "toc": {
   "base_numbering": 1,
   "nav_menu": {},
   "number_sections": true,
   "sideBar": true,
   "skip_h1_title": true,
   "title_cell": "Table of Contents",
   "title_sidebar": "Contents",
   "toc_cell": false,
   "toc_position": {},
   "toc_section_display": true,
   "toc_window_display": false
  }
 },
 "nbformat": 4,
 "nbformat_minor": 4
}
