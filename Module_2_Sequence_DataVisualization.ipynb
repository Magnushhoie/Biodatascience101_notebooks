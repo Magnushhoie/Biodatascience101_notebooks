{
 "cells": [
  {
   "cell_type": "code",
   "execution_count": null,
   "metadata": {},
   "outputs": [],
   "source": []
  },
  {
   "cell_type": "markdown",
   "metadata": {},
   "source": [
    "### Notebook for [Biodatascience101.github.io](https://biodatascience101.github.io) - Simple and effective biological data science training\n",
    "### By [Magnus Haraldson Høie](https://twitter.com/magnushoie) and [Andreas Fønss Møller](https://github.com/foenssmoeller)"
   ]
  },
  {
   "cell_type": "code",
   "execution_count": null,
   "metadata": {},
   "outputs": [],
   "source": []
  },
  {
   "cell_type": "markdown",
   "metadata": {},
   "source": [
    "# Visualization of sequence data\n",
    "\n",
    "## Learning objectives\n",
    "\n",
    "This notebook is designed to give users an introduction to: \n",
    "\n",
    "- Processing of amino-acid sequence data\n",
    "\n",
    "- Efficient data handling and numerical computing using NumPy\n",
    "\n",
    "- Data visualization in Python using SeaBorn\n",
    "\n",
    "- Visualizing dataset distributions, frequencies and correlations\n",
    "\n",
    "- Python Matplotlib figure interaction, manipulation and customization\n",
    "\n",
    "\n",
    "Users will after this notebook be able to:\n",
    "\n",
    "- Import and process sequence data using NumPy\n",
    "\n",
    "- Use advanced python features to efficiently transform and manipulate sequence data\n",
    "\n",
    "- Make effective and compelling data visualization graphs that clearly convey scientific messages\n"
   ]
  },
  {
   "cell_type": "markdown",
   "metadata": {},
   "source": [
    "# Case study:\n",
    "## Sequence analysis of micro-organisms at different optimal growth temperatures\n",
    "\n",
    "Proteins are important biomolecules, absolutely vital for life. \n",
    "They perform vital cellular functions, from cellular transport to catalysis of chemical reactions. \n",
    "\n",
    "The properties of proteins are largely dependent of their chemical composition and their structure. Thus, loss of protein stability or its native structure can lead to loss of their function. \n",
    "\n",
    "Several chemical and physical factors (e.g. pH, heat, ions) influence protein conformation. \n",
    "\n",
    "Proteins usually have an optimal range of temperatures, at which they operate efficiently. At temperature levels above this, enzymatic activity may increase but proteins are at increasing risk of denaturation and loss of their function, while temperatures lower than the optimum generally leads to lower enzymatic activity.\n",
    "\n",
    "The activity of proteins are therefore highly dependent on the state of the system that they are in. \n",
    "\n",
    "\n"
   ]
  },
  {
   "cell_type": "markdown",
   "metadata": {},
   "source": [
    "<img src=\"img/denatur.png\" width=\"800\" />\n",
    "\n",
    "**Protein temperature-based denaturation. Source: Scurran15 - Own work - 1 June 2015. URL: https://upload.wikimedia.org/wikipedia/commons/thumb/1/1d/Process_of_Denaturation.svg/640px-Process_of_Denaturation.svg.png**"
   ]
  },
  {
   "cell_type": "code",
   "execution_count": null,
   "metadata": {},
   "outputs": [],
   "source": []
  },
  {
   "cell_type": "markdown",
   "metadata": {},
   "source": [
    "From a biotechnological or biopharmaceutical perspective, proteins should be engineered to have a close to optimal performance at the physical specifications of the intended system. For example, enzymes used as detergents must have a good performance in water at 30 - 40 degrees. \n",
    "\n",
    "Predicting features of proteins that are thermostabile at a given temperature, is therefore of great interest to e.g. the biotech and pharmaceutical industry.\n",
    "\n",
    "<img src=\"img/opi_grow.png\" width=\"500\" />\n",
    "    \n",
    "**Trade-off between protein enzymatic activity and stability. Source: Thomas Shafee - Own work - 9 March 2016. URL: https://upload.wikimedia.org/wikipedia/commons/thumb/6/64/Q10_graphs.svg/800px-Q10_graphs.svg.png?1578145290717**\n",
    " "
   ]
  },
  {
   "cell_type": "code",
   "execution_count": null,
   "metadata": {},
   "outputs": [],
   "source": []
  },
  {
   "cell_type": "markdown",
   "metadata": {},
   "source": [
    "#### Dataset description\n",
    "\n",
    "To demonstrate data visualization and graphing techniques in Python using Seaborn, we are going to use a subset of a \"Protein Heat Resistance\" dataset from Kaggle. \n",
    "\n",
    "<img src=\"img/module2.png\" width=\"500\" />"
   ]
  },
  {
   "cell_type": "code",
   "execution_count": null,
   "metadata": {},
   "outputs": [],
   "source": []
  },
  {
   "cell_type": "markdown",
   "metadata": {},
   "source": [
    "The full dataset can be accessed through:\n",
    "\n",
    "www.kaggle.com/igempotsdam/protein-heat-resistance-dataset\n",
    "\n",
    "Our subset contains 10.000 protein sequences (~7.7 million protein sequences in the full dataset). For all protein sequences in the dataset, the iGEM Potsdam team have associated an optimal growth temperature of the source organism (the observed temperature at which cells of that organism had the highest growth rate). The temperature data was sourced from the BacDive, Bacterial Diversity Metadatabase (https://bacdive.dsmz.de, (1)) and bacterial protein sequences from UniProt (https://www.uniprot.org, (2)).\n",
    "\n",
    "The dataset description is as follows:\n",
    "\n",
    "The data consists of the sequences of the proteins as input and the growth temperature as target. The sequences are coded as numbers from 0 to 20. The numbers 1-20 relate to the canonical amino acids, which are present in every cell. The class 0 encodes \"None\": Note that protein sequences vary in length. Therefore shorter sequences will have many zeros at the end. The dataset contains 7.708.771 sequences and temperatures.\n",
    "\n",
    "**Source: https://www.kaggle.com/igempotsdam/protein-heat-resistance-dataset**\n",
    "\n",
    "**1. BacDive in 2019: bacterial phenotypic data for High-throughput biodiversity analysis Reimer, L. C., Vetcininova, A., Sardà Carbasse, J., Söhngen, C., Gleim, D., Ebeling, C., Overmann, J. Nucleic Acids Research; database issue 2019.**\n",
    "\n",
    "**2. The UniProt Consortium UniProt: a worldwide hub of protein knowledge Nucleic Acids Res. 47: D506-515 (2019)**"
   ]
  },
  {
   "cell_type": "code",
   "execution_count": null,
   "metadata": {},
   "outputs": [],
   "source": []
  },
  {
   "cell_type": "markdown",
   "metadata": {},
   "source": [
    "#### NumPy\n",
    "\n",
    "The NumPy library is one of the pillars of scientific computing. \n",
    "\n",
    "For our needs NumPy provides:\n",
    "\n",
    "- Powerful data structures (most notably N-dimensional arrays)\n",
    "- A large set of tools for manipulating data in matrices or arrays\n",
    "- High performance linear algebra and arithmetic functions \n",
    "\n",
    "We will, during this exercise, use Numpy arrays as a very memory and computationally efficient container for handling our sequence data, instead of Pandas DataFrames which in this case would suffer from far longer processing times.\n",
    "\n",
    "**A Numpy quickstart tutorial can be found here:\n",
    "https://numpy.org/devdocs/user/quickstart.html**\n",
    "\n",
    "**Read more: https://numpy.org**"
   ]
  },
  {
   "cell_type": "code",
   "execution_count": null,
   "metadata": {},
   "outputs": [],
   "source": []
  },
  {
   "cell_type": "markdown",
   "metadata": {},
   "source": [
    "#### Numpy arrays vs Pandas DataFrames\n",
    "**The Pandas library and its Pandas dataframe implementation** are built on top of numpy arrays, providing a level of abstraction and is used for handling tabular data, analysis and cleaning. Pandas dataframes usually have explicit row and column names that must be defined. The Pandas library also provides a large set of tools for data alignment, statistics and joining functions. However it can only handle 1 dimensional series or 2 dimensional dataframes.\n",
    " \n",
    "**Numpy arrays** do not have any row or column names. However, numpy arrays can handle any N-dimensional data by ordering them in N-dimensional arrays or \"matrices\" of any given number of dimensions. The Numpy library is optimized for  efficient memory access and computations on its arrays. Due to this, it is not uncommon to observe a significant speed increase when working with numpy arrays vs pandas dataframes (1).\n",
    "\n",
    "\n",
    "**Note 1: Numpy vs Pandas can provide Speed-ups of up to 10 - 100x faster and with up to 1 / 3 memory requirements.\n",
    "Read more: http://gouthamanbalaraman.com/blog/numpy-vs-pandas-comparison.html**"
   ]
  },
  {
   "cell_type": "code",
   "execution_count": null,
   "metadata": {},
   "outputs": [],
   "source": []
  },
  {
   "cell_type": "markdown",
   "metadata": {},
   "source": [
    "## Library import\n",
    "\n",
    "Below we will import a series of libraries which will be used to run the code we will need for the analysis"
   ]
  },
  {
   "cell_type": "code",
   "execution_count": 2,
   "metadata": {},
   "outputs": [
    {
     "data": {
      "text/html": [
       "<style>div.green { \n",
       "                    background-color: #9ad190;\n",
       "                    border-color: #1c8538; \n",
       "                    border-left: 5px solid #1c8538; \n",
       "                    padding: 0.5em;}\n",
       "                    div.red { \n",
       "                    background-color: #fcf2f2;\n",
       "                    border-color: #dFb5b4; \n",
       "                    border-left: 5px solid #dfb5b4; \n",
       "                    padding: 0.5em;}\n",
       "                    div.yellow { \n",
       "                    background-color: #f7eb99;\n",
       "                    border-color: #edd11a; \n",
       "                    border-left: 5px solid #edd11a; \n",
       "                    padding: 0.5em;}\n",
       "                    div.blue { \n",
       "                    background-color: #c9deff;\n",
       "                    border-color: #9cc2ff; \n",
       "                    border-left: 5px solid #9cc2ff; \n",
       "                    padding: 0.5em;}<style>\n",
       "                    "
      ],
      "text/plain": [
       "<IPython.core.display.HTML object>"
      ]
     },
     "execution_count": 2,
     "metadata": {},
     "output_type": "execute_result"
    }
   ],
   "source": [
    "# Data science libraries\n",
    "import pandas as pd\n",
    "import numpy as np\n",
    "\n",
    "# Plotting libraries\n",
    "from matplotlib import *\n",
    "import matplotlib.pyplot as plt\n",
    "import seaborn as sns\n",
    "#from plotnine import *\n",
    "\n",
    "# This is a custom script which gives intended coloring to cells in this notebook\n",
    "from scripts.noteStyle import set_styles, background\n",
    "set_styles()"
   ]
  },
  {
   "cell_type": "code",
   "execution_count": 3,
   "metadata": {},
   "outputs": [],
   "source": [
    "%matplotlib inline\n",
    "%reload_ext autoreload\n",
    "%autoreload 2\n",
    "#Show matplotlib graphs directly in jupyter notebook\n",
    "# Allow reloading of scripts\n",
    "# Automatically reload scripts if they change"
   ]
  },
  {
   "cell_type": "code",
   "execution_count": null,
   "metadata": {},
   "outputs": [],
   "source": []
  },
  {
   "cell_type": "markdown",
   "metadata": {},
   "source": [
    "#### Loading data\n",
    "\n",
    "The data has already been processed and saved as numpy files using **np.save**.\n",
    "We can recognize this from the .npy file extension. In order to load the files we use the **np.load** function.\n",
    "\n",
    "(https://docs.scipy.org/doc/numpy/reference/generated/numpy.load.html)\n",
    "\n",
    "Since the data comes from a Kaggle machine-learning competition, the data is stored as two files.\n",
    "- X_data: All samples with their training data features (sequences in numeric format)\n",
    "- y_data: The target value those samples represent (source organism optimal growth temperatures in celsius)\n"
   ]
  },
  {
   "cell_type": "code",
   "execution_count": 4,
   "metadata": {},
   "outputs": [],
   "source": [
    "#%time\n",
    "X_data = np.load(\"data/sequences10k_X.npy\")\n",
    "y_data = np.load(\"data/sequences10k_y.npy\")"
   ]
  },
  {
   "cell_type": "markdown",
   "metadata": {},
   "source": [
    "#### Note: Here we use the [Jupyter Magic](https://ipython.readthedocs.io/en/stable/interactive/magics.html) function %time in order to observe the processing time it takes to load our 10 000 sequences. The original dataset is 7.7 million sequences. "
   ]
  },
  {
   "cell_type": "markdown",
   "metadata": {},
   "source": [
    "#### Let´s quickly get an overview of the data we have loaded by looking at an individual sample, the numpy array shapes and use the Pandas .describe method.\n",
    "\n"
   ]
  },
  {
   "cell_type": "code",
   "execution_count": 5,
   "metadata": {},
   "outputs": [
    {
     "data": {
      "text/plain": [
       "(numpy.ndarray, numpy.ndarray)"
      ]
     },
     "execution_count": 5,
     "metadata": {},
     "output_type": "execute_result"
    }
   ],
   "source": [
    "# Check the type of the object we loaded, which should be Numpy arrays\n",
    "type(X_data), type(y_data)"
   ]
  },
  {
   "cell_type": "code",
   "execution_count": 6,
   "metadata": {},
   "outputs": [
    {
     "data": {
      "text/plain": [
       "array([11,  1,  9,  9, 16,  9,  8,  1, 15, 12,  4, 14, 15,  9, 18,  8, 18,\n",
       "        4, 15, 20,  1,  4, 15, 15,  1,  4, 10,  9,  9, 17, 10, 18,  3, 13,\n",
       "       12,  1, 17,  3,  4,  1, 15,  4,  1,  1, 15, 18,  6, 10, 14,  9, 10,\n",
       "       13, 15, 12,  1, 16, 13,  1, 15, 18, 15, 16, 15,  3, 18,  8,  3,  6,\n",
       "       15, 13, 15,  6, 18, 10, 17,  9,  5,  6,  8, 16, 15, 18, 15,  5, 15,\n",
       "        3, 11,  1,  7, 15,  6,  4, 10, 13,  6, 18, 17,  9, 16, 16, 19,  0,\n",
       "        0,  0,  0,  0,  0,  0,  0,  0,  0,  0,  0,  0,  0,  0,  0,  0,  0,\n",
       "        0,  0,  0,  0,  0,  0,  0,  0,  0,  0,  0,  0,  0,  0,  0,  0,  0,\n",
       "        0,  0,  0,  0,  0,  0,  0,  0,  0,  0,  0,  0,  0,  0,  0,  0,  0,\n",
       "        0,  0,  0,  0,  0,  0,  0,  0,  0,  0,  0,  0,  0,  0,  0,  0,  0,\n",
       "        0,  0,  0,  0,  0,  0,  0,  0,  0,  0,  0,  0,  0,  0,  0,  0,  0,\n",
       "        0,  0,  0,  0,  0,  0,  0,  0,  0,  0,  0,  0,  0,  0,  0,  0,  0,\n",
       "        0,  0,  0,  0,  0,  0,  0,  0,  0,  0,  0,  0,  0,  0,  0,  0,  0,\n",
       "        0,  0,  0,  0,  0,  0,  0,  0,  0,  0,  0,  0,  0,  0,  0,  0,  0,\n",
       "        0,  0,  0,  0,  0,  0,  0,  0,  0,  0,  0,  0,  0,  0,  0,  0,  0,\n",
       "        0,  0,  0,  0,  0,  0,  0,  0,  0,  0,  0,  0,  0,  0,  0,  0,  0,\n",
       "        0,  0,  0,  0,  0,  0,  0,  0,  0,  0,  0,  0,  0,  0,  0,  0,  0,\n",
       "        0,  0,  0,  0,  0,  0,  0,  0,  0,  0,  0,  0,  0,  0,  0,  0,  0,\n",
       "        0,  0,  0,  0,  0,  0,  0,  0,  0,  0,  0,  0,  0,  0,  0,  0,  0,\n",
       "        0,  0,  0,  0,  0,  0,  0,  0,  0,  0,  0,  0,  0,  0,  0,  0,  0,\n",
       "        0,  0,  0,  0,  0,  0,  0,  0,  0,  0,  0,  0,  0,  0,  0,  0,  0,\n",
       "        0,  0,  0,  0,  0,  0,  0,  0,  0,  0,  0,  0,  0,  0,  0,  0,  0,\n",
       "        0,  0,  0,  0,  0,  0,  0,  0,  0,  0,  0,  0,  0,  0,  0,  0,  0,\n",
       "        0,  0,  0,  0,  0,  0,  0,  0,  0,  0,  0,  0,  0,  0,  0,  0,  0,\n",
       "        0,  0,  0,  0,  0,  0,  0,  0,  0,  0,  0,  0,  0,  0,  0,  0,  0,\n",
       "        0,  0,  0,  0,  0,  0,  0,  0,  0,  0,  0,  0,  0,  0,  0,  0,  0,\n",
       "        0,  0,  0,  0,  0,  0,  0,  0,  0,  0,  0,  0,  0,  0,  0,  0,  0,\n",
       "        0,  0,  0,  0,  0,  0,  0,  0,  0,  0,  0,  0,  0,  0,  0,  0,  0,\n",
       "        0,  0,  0,  0,  0,  0,  0,  0,  0,  0,  0,  0,  0,  0,  0,  0,  0,\n",
       "        0,  0,  0,  0,  0,  0,  0,  0,  0,  0,  0,  0,  0,  0,  0,  0,  0,\n",
       "        0,  0,  0,  0,  0,  0,  0,  0,  0,  0,  0,  0,  0,  0,  0,  0,  0,\n",
       "        0,  0,  0,  0,  0,  0,  0,  0,  0,  0,  0,  0,  0,  0,  0,  0,  0,\n",
       "        0,  0,  0,  0,  0,  0,  0,  0,  0,  0,  0,  0,  0,  0,  0,  0,  0,\n",
       "        0,  0,  0,  0,  0,  0,  0,  0,  0,  0,  0,  0,  0,  0,  0,  0,  0,\n",
       "        0,  0,  0,  0,  0,  0,  0,  0,  0,  0,  0,  0,  0,  0,  0,  0,  0,\n",
       "        0,  0,  0,  0,  0,  0,  0,  0,  0,  0,  0,  0,  0,  0,  0,  0,  0,\n",
       "        0,  0,  0,  0,  0,  0,  0,  0,  0,  0,  0,  0,  0,  0,  0,  0,  0,\n",
       "        0,  0,  0,  0,  0,  0,  0,  0,  0,  0,  0,  0,  0,  0,  0,  0,  0,\n",
       "        0,  0,  0,  0], dtype=int8)"
      ]
     },
     "execution_count": 6,
     "metadata": {},
     "output_type": "execute_result"
    }
   ],
   "source": [
    "# Looking at the first sequence\n",
    "X_data[0]"
   ]
  },
  {
   "cell_type": "code",
   "execution_count": 7,
   "metadata": {},
   "outputs": [
    {
     "data": {
      "text/plain": [
       "28.0"
      ]
     },
     "execution_count": 7,
     "metadata": {},
     "output_type": "execute_result"
    }
   ],
   "source": [
    "y_data[0]"
   ]
  },
  {
   "cell_type": "code",
   "execution_count": 8,
   "metadata": {},
   "outputs": [
    {
     "data": {
      "text/plain": [
       "((10000, 650), (10000,))"
      ]
     },
     "execution_count": 8,
     "metadata": {},
     "output_type": "execute_result"
    }
   ],
   "source": [
    "X_data.shape, y_data.shape"
   ]
  },
  {
   "cell_type": "markdown",
   "metadata": {},
   "source": [
    "#### Question 1: What is the maximum length of each protein in the dataset?"
   ]
  },
  {
   "cell_type": "code",
   "execution_count": null,
   "metadata": {},
   "outputs": [],
   "source": []
  },
  {
   "cell_type": "markdown",
   "metadata": {},
   "source": [
    "**Having checked the above functions, and having read the dataset description, we can now identify that:**\n",
    "- The type of our two objects are numpy arrays as expected\n",
    "- The first sequence of X_data consists of what seems to be amino-acids in numerical format of length 650, with 0´s representing missing residues\n",
    "- The first item of y_data is a temperature in Celsius\n",
    "- The dimensions of X_data and y_data is\n",
    "        1) An array of 2 dimensions: 10 000 rows, 650 columns\n",
    "        2) An array of 1 dimension: a vector of 10 000 items"
   ]
  },
  {
   "cell_type": "markdown",
   "metadata": {},
   "source": [
    "#### Exercise:\n",
    "    \n",
    "Using knowledge from the previous session about slicing 2-dimensional arrays (or pandas dataframes), try to slice only the **first 2 amino acids from all (10 000) sequences** in X_data."
   ]
  },
  {
   "cell_type": "code",
   "execution_count": null,
   "metadata": {},
   "outputs": [],
   "source": []
  },
  {
   "cell_type": "markdown",
   "metadata": {},
   "source": [
    "#### Running the Pandas [.describe](https://pandas.pydata.org/pandas-docs/stable/reference/api/pandas.DataFrame.describe.html) method on our Numpy array\n",
    "The Pandas .describe method will work in 2 separate ways, depending on the type of data in the DataFrame it is run on. It can either interpet the data numerically (if it reads floats or integers), or it can interpret the data categorically (if it reads strings or a non-numerical format)\n",
    "\n",
    "**If it is interpreted numerically, the 2nd amino acid will be interpreted as having twice the value of the 1st, and so on for all amino acids. This does not make biological sense.**\n",
    "\n",
    "**If it is interpreted categorically, it will treat all amino-acids as separate categories, and can give us the per-position frequency, top occuring amino-acid and number of unique amino-acid per position.**\n",
    "\n",
    "We will try both methods."
   ]
  },
  {
   "cell_type": "code",
   "execution_count": null,
   "metadata": {},
   "outputs": [],
   "source": []
  },
  {
   "cell_type": "markdown",
   "metadata": {},
   "source": [
    "**Note that in order to use the pandas [.describe](https://pandas.pydata.org/pandas-docs/stable/reference/api/pandas.DataFrame.describe.html) method, we first need to convert the numpy array into a Pandas DataFrame, as shown here.**\n",
    "\n"
   ]
  },
  {
   "cell_type": "code",
   "execution_count": 9,
   "metadata": {},
   "outputs": [
    {
     "data": {
      "text/html": [
       "<div>\n",
       "<style scoped>\n",
       "    .dataframe tbody tr th:only-of-type {\n",
       "        vertical-align: middle;\n",
       "    }\n",
       "\n",
       "    .dataframe tbody tr th {\n",
       "        vertical-align: top;\n",
       "    }\n",
       "\n",
       "    .dataframe thead th {\n",
       "        text-align: right;\n",
       "    }\n",
       "</style>\n",
       "<table border=\"1\" class=\"dataframe\">\n",
       "  <thead>\n",
       "    <tr style=\"text-align: right;\">\n",
       "      <th></th>\n",
       "      <th>0</th>\n",
       "      <th>1</th>\n",
       "      <th>2</th>\n",
       "      <th>3</th>\n",
       "      <th>4</th>\n",
       "      <th>5</th>\n",
       "      <th>6</th>\n",
       "      <th>7</th>\n",
       "      <th>8</th>\n",
       "      <th>9</th>\n",
       "      <th>...</th>\n",
       "      <th>640</th>\n",
       "      <th>641</th>\n",
       "      <th>642</th>\n",
       "      <th>643</th>\n",
       "      <th>644</th>\n",
       "      <th>645</th>\n",
       "      <th>646</th>\n",
       "      <th>647</th>\n",
       "      <th>648</th>\n",
       "      <th>649</th>\n",
       "    </tr>\n",
       "  </thead>\n",
       "  <tbody>\n",
       "    <tr>\n",
       "      <th>count</th>\n",
       "      <td>10000.000000</td>\n",
       "      <td>10000.000000</td>\n",
       "      <td>10000.00000</td>\n",
       "      <td>10000.000000</td>\n",
       "      <td>10000.000000</td>\n",
       "      <td>10000.000000</td>\n",
       "      <td>10000.000000</td>\n",
       "      <td>10000.000000</td>\n",
       "      <td>10000.000000</td>\n",
       "      <td>10000.000000</td>\n",
       "      <td>...</td>\n",
       "      <td>10000.00000</td>\n",
       "      <td>10000.000000</td>\n",
       "      <td>10000.000000</td>\n",
       "      <td>10000.00000</td>\n",
       "      <td>10000.000000</td>\n",
       "      <td>10000.000000</td>\n",
       "      <td>10000.000000</td>\n",
       "      <td>10000.000000</td>\n",
       "      <td>10000.000000</td>\n",
       "      <td>10000.000000</td>\n",
       "    </tr>\n",
       "    <tr>\n",
       "      <th>mean</th>\n",
       "      <td>11.002000</td>\n",
       "      <td>10.725300</td>\n",
       "      <td>10.38200</td>\n",
       "      <td>10.637800</td>\n",
       "      <td>10.503500</td>\n",
       "      <td>10.450200</td>\n",
       "      <td>10.394300</td>\n",
       "      <td>10.046200</td>\n",
       "      <td>10.013600</td>\n",
       "      <td>9.957000</td>\n",
       "      <td>...</td>\n",
       "      <td>0.05160</td>\n",
       "      <td>0.041900</td>\n",
       "      <td>0.049300</td>\n",
       "      <td>0.04480</td>\n",
       "      <td>0.030400</td>\n",
       "      <td>0.024100</td>\n",
       "      <td>0.017400</td>\n",
       "      <td>0.012900</td>\n",
       "      <td>0.010200</td>\n",
       "      <td>0.008700</td>\n",
       "    </tr>\n",
       "    <tr>\n",
       "      <th>std</th>\n",
       "      <td>0.340599</td>\n",
       "      <td>5.387926</td>\n",
       "      <td>5.41522</td>\n",
       "      <td>5.361015</td>\n",
       "      <td>5.363568</td>\n",
       "      <td>5.382102</td>\n",
       "      <td>5.472625</td>\n",
       "      <td>5.525334</td>\n",
       "      <td>5.573663</td>\n",
       "      <td>5.617464</td>\n",
       "      <td>...</td>\n",
       "      <td>0.81707</td>\n",
       "      <td>0.745117</td>\n",
       "      <td>0.829662</td>\n",
       "      <td>0.79916</td>\n",
       "      <td>0.618639</td>\n",
       "      <td>0.563871</td>\n",
       "      <td>0.483033</td>\n",
       "      <td>0.400187</td>\n",
       "      <td>0.353707</td>\n",
       "      <td>0.343564</td>\n",
       "    </tr>\n",
       "    <tr>\n",
       "      <th>min</th>\n",
       "      <td>1.000000</td>\n",
       "      <td>1.000000</td>\n",
       "      <td>1.00000</td>\n",
       "      <td>1.000000</td>\n",
       "      <td>1.000000</td>\n",
       "      <td>1.000000</td>\n",
       "      <td>1.000000</td>\n",
       "      <td>1.000000</td>\n",
       "      <td>1.000000</td>\n",
       "      <td>1.000000</td>\n",
       "      <td>...</td>\n",
       "      <td>0.00000</td>\n",
       "      <td>0.000000</td>\n",
       "      <td>0.000000</td>\n",
       "      <td>0.00000</td>\n",
       "      <td>0.000000</td>\n",
       "      <td>0.000000</td>\n",
       "      <td>0.000000</td>\n",
       "      <td>0.000000</td>\n",
       "      <td>0.000000</td>\n",
       "      <td>0.000000</td>\n",
       "    </tr>\n",
       "    <tr>\n",
       "      <th>25%</th>\n",
       "      <td>11.000000</td>\n",
       "      <td>7.000000</td>\n",
       "      <td>6.00000</td>\n",
       "      <td>7.000000</td>\n",
       "      <td>6.000000</td>\n",
       "      <td>6.000000</td>\n",
       "      <td>6.000000</td>\n",
       "      <td>6.000000</td>\n",
       "      <td>5.000000</td>\n",
       "      <td>5.000000</td>\n",
       "      <td>...</td>\n",
       "      <td>0.00000</td>\n",
       "      <td>0.000000</td>\n",
       "      <td>0.000000</td>\n",
       "      <td>0.00000</td>\n",
       "      <td>0.000000</td>\n",
       "      <td>0.000000</td>\n",
       "      <td>0.000000</td>\n",
       "      <td>0.000000</td>\n",
       "      <td>0.000000</td>\n",
       "      <td>0.000000</td>\n",
       "    </tr>\n",
       "    <tr>\n",
       "      <th>50%</th>\n",
       "      <td>11.000000</td>\n",
       "      <td>11.000000</td>\n",
       "      <td>10.00000</td>\n",
       "      <td>10.000000</td>\n",
       "      <td>10.000000</td>\n",
       "      <td>10.000000</td>\n",
       "      <td>10.000000</td>\n",
       "      <td>10.000000</td>\n",
       "      <td>10.000000</td>\n",
       "      <td>10.000000</td>\n",
       "      <td>...</td>\n",
       "      <td>0.00000</td>\n",
       "      <td>0.000000</td>\n",
       "      <td>0.000000</td>\n",
       "      <td>0.00000</td>\n",
       "      <td>0.000000</td>\n",
       "      <td>0.000000</td>\n",
       "      <td>0.000000</td>\n",
       "      <td>0.000000</td>\n",
       "      <td>0.000000</td>\n",
       "      <td>0.000000</td>\n",
       "    </tr>\n",
       "    <tr>\n",
       "      <th>75%</th>\n",
       "      <td>11.000000</td>\n",
       "      <td>16.000000</td>\n",
       "      <td>15.00000</td>\n",
       "      <td>16.000000</td>\n",
       "      <td>15.000000</td>\n",
       "      <td>15.000000</td>\n",
       "      <td>15.000000</td>\n",
       "      <td>15.000000</td>\n",
       "      <td>15.000000</td>\n",
       "      <td>15.000000</td>\n",
       "      <td>...</td>\n",
       "      <td>0.00000</td>\n",
       "      <td>0.000000</td>\n",
       "      <td>0.000000</td>\n",
       "      <td>0.00000</td>\n",
       "      <td>0.000000</td>\n",
       "      <td>0.000000</td>\n",
       "      <td>0.000000</td>\n",
       "      <td>0.000000</td>\n",
       "      <td>0.000000</td>\n",
       "      <td>0.000000</td>\n",
       "    </tr>\n",
       "    <tr>\n",
       "      <th>max</th>\n",
       "      <td>20.000000</td>\n",
       "      <td>20.000000</td>\n",
       "      <td>20.00000</td>\n",
       "      <td>20.000000</td>\n",
       "      <td>20.000000</td>\n",
       "      <td>20.000000</td>\n",
       "      <td>20.000000</td>\n",
       "      <td>20.000000</td>\n",
       "      <td>20.000000</td>\n",
       "      <td>20.000000</td>\n",
       "      <td>...</td>\n",
       "      <td>20.00000</td>\n",
       "      <td>19.000000</td>\n",
       "      <td>20.000000</td>\n",
       "      <td>20.00000</td>\n",
       "      <td>18.000000</td>\n",
       "      <td>20.000000</td>\n",
       "      <td>20.000000</td>\n",
       "      <td>18.000000</td>\n",
       "      <td>18.000000</td>\n",
       "      <td>18.000000</td>\n",
       "    </tr>\n",
       "  </tbody>\n",
       "</table>\n",
       "<p>8 rows × 650 columns</p>\n",
       "</div>"
      ],
      "text/plain": [
       "                0             1            2             3             4    \\\n",
       "count  10000.000000  10000.000000  10000.00000  10000.000000  10000.000000   \n",
       "mean      11.002000     10.725300     10.38200     10.637800     10.503500   \n",
       "std        0.340599      5.387926      5.41522      5.361015      5.363568   \n",
       "min        1.000000      1.000000      1.00000      1.000000      1.000000   \n",
       "25%       11.000000      7.000000      6.00000      7.000000      6.000000   \n",
       "50%       11.000000     11.000000     10.00000     10.000000     10.000000   \n",
       "75%       11.000000     16.000000     15.00000     16.000000     15.000000   \n",
       "max       20.000000     20.000000     20.00000     20.000000     20.000000   \n",
       "\n",
       "                5             6             7             8             9    \\\n",
       "count  10000.000000  10000.000000  10000.000000  10000.000000  10000.000000   \n",
       "mean      10.450200     10.394300     10.046200     10.013600      9.957000   \n",
       "std        5.382102      5.472625      5.525334      5.573663      5.617464   \n",
       "min        1.000000      1.000000      1.000000      1.000000      1.000000   \n",
       "25%        6.000000      6.000000      6.000000      5.000000      5.000000   \n",
       "50%       10.000000     10.000000     10.000000     10.000000     10.000000   \n",
       "75%       15.000000     15.000000     15.000000     15.000000     15.000000   \n",
       "max       20.000000     20.000000     20.000000     20.000000     20.000000   \n",
       "\n",
       "       ...          640           641           642          643  \\\n",
       "count  ...  10000.00000  10000.000000  10000.000000  10000.00000   \n",
       "mean   ...      0.05160      0.041900      0.049300      0.04480   \n",
       "std    ...      0.81707      0.745117      0.829662      0.79916   \n",
       "min    ...      0.00000      0.000000      0.000000      0.00000   \n",
       "25%    ...      0.00000      0.000000      0.000000      0.00000   \n",
       "50%    ...      0.00000      0.000000      0.000000      0.00000   \n",
       "75%    ...      0.00000      0.000000      0.000000      0.00000   \n",
       "max    ...     20.00000     19.000000     20.000000     20.00000   \n",
       "\n",
       "                644           645           646           647           648  \\\n",
       "count  10000.000000  10000.000000  10000.000000  10000.000000  10000.000000   \n",
       "mean       0.030400      0.024100      0.017400      0.012900      0.010200   \n",
       "std        0.618639      0.563871      0.483033      0.400187      0.353707   \n",
       "min        0.000000      0.000000      0.000000      0.000000      0.000000   \n",
       "25%        0.000000      0.000000      0.000000      0.000000      0.000000   \n",
       "50%        0.000000      0.000000      0.000000      0.000000      0.000000   \n",
       "75%        0.000000      0.000000      0.000000      0.000000      0.000000   \n",
       "max       18.000000     20.000000     20.000000     18.000000     18.000000   \n",
       "\n",
       "                649  \n",
       "count  10000.000000  \n",
       "mean       0.008700  \n",
       "std        0.343564  \n",
       "min        0.000000  \n",
       "25%        0.000000  \n",
       "50%        0.000000  \n",
       "75%        0.000000  \n",
       "max       18.000000  \n",
       "\n",
       "[8 rows x 650 columns]"
      ]
     },
     "execution_count": 9,
     "metadata": {},
     "output_type": "execute_result"
    }
   ],
   "source": [
    "# 1. Convert the numpy array X_data to a Pandas DataFrame,\n",
    "# 2. Run the .describe method on the DataFrame\n",
    "pd.DataFrame(X_data).describe()"
   ]
  },
  {
   "cell_type": "markdown",
   "metadata": {},
   "source": [
    "- count gives us the total number of items per column\n",
    "- mean is the average value across the column\n",
    "- std, min, max and 25-75% represents the standard deviation, minimum value, maximum value and the quartiles for all values in the column\n",
    "\n",
    "**We can observe that:**\n",
    "- The 20 amino-acids are represented as integers between 0 and 20, where 0 represents a missing residue.\n",
    "- There are 10 000 items per position, and that the average value of each position is 11.\n",
    "- The minimum value for the first 9 positions is 0, while for the last 10 positions it is 0.\n",
    "- The average value for the last 10 positions is extremely low, indicating most sequences have no residues in those positions (are shorter than 650 residues)"
   ]
  },
  {
   "cell_type": "markdown",
   "metadata": {},
   "source": [
    "#### Note:\n",
    "    \n",
    "**Because the pandas describe method is interpreting the residues as numerical values, and not as categorical items, the summary seen above is not very useful for finding out how many unique residues there is per position, or which residue is most over-represented.**"
   ]
  },
  {
   "cell_type": "markdown",
   "metadata": {},
   "source": [
    "In order for the .describe method to recognize the integers as categorical values (integers representing residues) as opposed to continuous numerical values, we need to convert our data to text-based strings. We do this using the Pandas **[.astype](https://pandas.pydata.org/pandas-docs/stable/reference/api/pandas.DataFrame.astype.html)** method on our Pandas DataFrame."
   ]
  },
  {
   "cell_type": "code",
   "execution_count": 10,
   "metadata": {},
   "outputs": [
    {
     "data": {
      "text/html": [
       "<div>\n",
       "<style scoped>\n",
       "    .dataframe tbody tr th:only-of-type {\n",
       "        vertical-align: middle;\n",
       "    }\n",
       "\n",
       "    .dataframe tbody tr th {\n",
       "        vertical-align: top;\n",
       "    }\n",
       "\n",
       "    .dataframe thead th {\n",
       "        text-align: right;\n",
       "    }\n",
       "</style>\n",
       "<table border=\"1\" class=\"dataframe\">\n",
       "  <thead>\n",
       "    <tr style=\"text-align: right;\">\n",
       "      <th></th>\n",
       "      <th>0</th>\n",
       "      <th>1</th>\n",
       "      <th>2</th>\n",
       "      <th>3</th>\n",
       "      <th>4</th>\n",
       "      <th>5</th>\n",
       "      <th>6</th>\n",
       "      <th>7</th>\n",
       "      <th>8</th>\n",
       "      <th>9</th>\n",
       "      <th>...</th>\n",
       "      <th>640</th>\n",
       "      <th>641</th>\n",
       "      <th>642</th>\n",
       "      <th>643</th>\n",
       "      <th>644</th>\n",
       "      <th>645</th>\n",
       "      <th>646</th>\n",
       "      <th>647</th>\n",
       "      <th>648</th>\n",
       "      <th>649</th>\n",
       "    </tr>\n",
       "  </thead>\n",
       "  <tbody>\n",
       "    <tr>\n",
       "      <th>count</th>\n",
       "      <td>10000</td>\n",
       "      <td>10000</td>\n",
       "      <td>10000</td>\n",
       "      <td>10000</td>\n",
       "      <td>10000</td>\n",
       "      <td>10000</td>\n",
       "      <td>10000</td>\n",
       "      <td>10000</td>\n",
       "      <td>10000</td>\n",
       "      <td>10000</td>\n",
       "      <td>...</td>\n",
       "      <td>10000</td>\n",
       "      <td>10000</td>\n",
       "      <td>10000</td>\n",
       "      <td>10000</td>\n",
       "      <td>10000</td>\n",
       "      <td>10000</td>\n",
       "      <td>10000</td>\n",
       "      <td>10000</td>\n",
       "      <td>10000</td>\n",
       "      <td>10000</td>\n",
       "    </tr>\n",
       "    <tr>\n",
       "      <th>unique</th>\n",
       "      <td>13</td>\n",
       "      <td>20</td>\n",
       "      <td>20</td>\n",
       "      <td>20</td>\n",
       "      <td>20</td>\n",
       "      <td>20</td>\n",
       "      <td>20</td>\n",
       "      <td>20</td>\n",
       "      <td>20</td>\n",
       "      <td>20</td>\n",
       "      <td>...</td>\n",
       "      <td>19</td>\n",
       "      <td>17</td>\n",
       "      <td>18</td>\n",
       "      <td>19</td>\n",
       "      <td>16</td>\n",
       "      <td>14</td>\n",
       "      <td>13</td>\n",
       "      <td>11</td>\n",
       "      <td>10</td>\n",
       "      <td>6</td>\n",
       "    </tr>\n",
       "    <tr>\n",
       "      <th>top</th>\n",
       "      <td>11</td>\n",
       "      <td>16</td>\n",
       "      <td>9</td>\n",
       "      <td>10</td>\n",
       "      <td>10</td>\n",
       "      <td>10</td>\n",
       "      <td>10</td>\n",
       "      <td>10</td>\n",
       "      <td>10</td>\n",
       "      <td>10</td>\n",
       "      <td>...</td>\n",
       "      <td>0</td>\n",
       "      <td>0</td>\n",
       "      <td>0</td>\n",
       "      <td>0</td>\n",
       "      <td>0</td>\n",
       "      <td>0</td>\n",
       "      <td>0</td>\n",
       "      <td>0</td>\n",
       "      <td>0</td>\n",
       "      <td>0</td>\n",
       "    </tr>\n",
       "    <tr>\n",
       "      <th>freq</th>\n",
       "      <td>9967</td>\n",
       "      <td>1264</td>\n",
       "      <td>1085</td>\n",
       "      <td>1105</td>\n",
       "      <td>1158</td>\n",
       "      <td>1206</td>\n",
       "      <td>1183</td>\n",
       "      <td>1124</td>\n",
       "      <td>1201</td>\n",
       "      <td>1182</td>\n",
       "      <td>...</td>\n",
       "      <td>9948</td>\n",
       "      <td>9958</td>\n",
       "      <td>9959</td>\n",
       "      <td>9962</td>\n",
       "      <td>9970</td>\n",
       "      <td>9975</td>\n",
       "      <td>9981</td>\n",
       "      <td>9984</td>\n",
       "      <td>9987</td>\n",
       "      <td>9993</td>\n",
       "    </tr>\n",
       "  </tbody>\n",
       "</table>\n",
       "<p>4 rows × 650 columns</p>\n",
       "</div>"
      ],
      "text/plain": [
       "          0      1      2      3      4      5      6      7      8      9    \\\n",
       "count   10000  10000  10000  10000  10000  10000  10000  10000  10000  10000   \n",
       "unique     13     20     20     20     20     20     20     20     20     20   \n",
       "top        11     16      9     10     10     10     10     10     10     10   \n",
       "freq     9967   1264   1085   1105   1158   1206   1183   1124   1201   1182   \n",
       "\n",
       "        ...    640    641    642    643    644    645    646    647    648  \\\n",
       "count   ...  10000  10000  10000  10000  10000  10000  10000  10000  10000   \n",
       "unique  ...     19     17     18     19     16     14     13     11     10   \n",
       "top     ...      0      0      0      0      0      0      0      0      0   \n",
       "freq    ...   9948   9958   9959   9962   9970   9975   9981   9984   9987   \n",
       "\n",
       "          649  \n",
       "count   10000  \n",
       "unique      6  \n",
       "top         0  \n",
       "freq     9993  \n",
       "\n",
       "[4 rows x 650 columns]"
      ]
     },
     "execution_count": 10,
     "metadata": {},
     "output_type": "execute_result"
    }
   ],
   "source": [
    "# 1. Convert the numpy array X_data to a Pandas DataFrame,\n",
    "# 2. specify the dataframe contents as strings,\n",
    "# 3. Run the .describe method\n",
    "\n",
    "pd.DataFrame(X_data).astype(str).describe()"
   ]
  },
  {
   "cell_type": "markdown",
   "metadata": {},
   "source": [
    "- The unique row tells us the number of unique amino-acids observed across the 10000 sequences.\n",
    "- Top is the amino-acid with the highest frequency\n",
    "- Freq is the frequency for the top occuring amino-acid\n",
    "\n",
    "**We can observe that:**\n",
    "- The top amino-acid for the first position for the first position is 11, occuring an incredible 9967 times (99.67 % of the time). The 11th residue in an alphabetically sorted amino-acid list starting from Alanine, would be **[Methionine, representing the most common start codon](https://en.wikipedia.org/wiki/Methionine#Encoding).**\n",
    "- The top occuring amino-acid for positions 2-10 (ordered 1 to 9 as Python numbering starts at 0), occurs ca 12 % of the time.\n",
    "- The most common residue for most positions after the first 3 is 10, representing Leucine, **[one of the most common amino-acids in UniProtKB (*)](https://web.expasy.org/docs/relnotes/relstat.html)**\n",
    "\n",
    "(*) Reference: \"6.1  Composition in percent for the complete database\", UniProtKB/Swiss-Prot protein knowledgebase release 2020_01 statistics, ExPasy Bioinformatics Resource Portal, March 2020."
   ]
  },
  {
   "cell_type": "markdown",
   "metadata": {},
   "source": [
    "#### Note:\n",
    "    \n",
    "**We will create and show a numerical list of which numbers correspond to which amino-acids in alphabetical order just below.**"
   ]
  },
  {
   "cell_type": "code",
   "execution_count": null,
   "metadata": {},
   "outputs": [],
   "source": []
  },
  {
   "cell_type": "markdown",
   "metadata": {},
   "source": [
    "In order to convert these numbers to a more meaningful, human-readable sequence, we will need to write a function that for a single sequence, takes its integers as input and returns the correct amino-acid for a given position position."
   ]
  },
  {
   "cell_type": "markdown",
   "metadata": {},
   "source": [
    "#### Question 2: How many unique amino acids are found in the first position of all proteins in the dataset?"
   ]
  },
  {
   "cell_type": "code",
   "execution_count": null,
   "metadata": {},
   "outputs": [],
   "source": []
  },
  {
   "cell_type": "code",
   "execution_count": null,
   "metadata": {},
   "outputs": [],
   "source": []
  },
  {
   "cell_type": "markdown",
   "metadata": {},
   "source": [
    "### Python Dictionaries for translating\n",
    "In order to map or translate between the amino-acids´ integer values and their corresponding letters, we will use a [Python dictionary](https://realpython.com/python-dicts/) (official documentation [here](https://docs.python.org/3/tutorial/datastructures.html#dictionaries)). \n",
    "\n",
    "A python dictionary is a data structure and method that maps a **key** (e.g. the word or value one wishes to look up) to a **value** (what that word maps to)."
   ]
  },
  {
   "cell_type": "markdown",
   "metadata": {},
   "source": [
    "#### Note: A key can only map to one value, but that value can be any python object including a list, tuple or even an array or dataframe. Python does this very efficiently by using hash tables "
   ]
  },
  {
   "cell_type": "code",
   "execution_count": null,
   "metadata": {},
   "outputs": [],
   "source": []
  },
  {
   "cell_type": "markdown",
   "metadata": {},
   "source": [
    "Using **{}** or **dict()** initializes a new, empty dictionary. We can then fill this dictionary with our amino-acid integers as keys, and the corresponding amino-acid letter as values. This is done using:\n",
    "\n",
    "**dict[key] = value**\n",
    "\n",
    "We will create a range called aa_integers with the integers from 1 to 20.\n",
    "\n",
    "Using the built in function zip, we iterate over aa_integers and aa_residues at the same time.\n",
    "\n",
    "The zip function takes multiple iterators and return an iterator of tuples with the first, second and third element of each iterator together, as:"
   ]
  },
  {
   "cell_type": "code",
   "execution_count": 11,
   "metadata": {},
   "outputs": [
    {
     "data": {
      "text/plain": [
       "2"
      ]
     },
     "execution_count": 11,
     "metadata": {},
     "output_type": "execute_result"
    }
   ],
   "source": [
    "# Dictionaries are made as such:\n",
    "a_dict = {'A':1, 'B':2, 'C':3}\n",
    "# Values kan the be accessed using the keys\n",
    "a_dict['B']"
   ]
  },
  {
   "cell_type": "code",
   "execution_count": 12,
   "metadata": {},
   "outputs": [
    {
     "data": {
      "text/plain": [
       "[('A', 1), ('B', 2), ('C', 3)]"
      ]
     },
     "execution_count": 12,
     "metadata": {},
     "output_type": "execute_result"
    }
   ],
   "source": [
    "#The zip finction works as follow:\n",
    "letters, numbers = ['A','B', 'C'], [1,2,3]\n",
    "[*zip(letters, numbers)] # * is used to unpack"
   ]
  },
  {
   "cell_type": "code",
   "execution_count": 13,
   "metadata": {},
   "outputs": [
    {
     "data": {
      "text/plain": [
       "{1: 'A',\n",
       " 2: 'C',\n",
       " 3: 'D',\n",
       " 4: 'E',\n",
       " 5: 'F',\n",
       " 6: 'G',\n",
       " 7: 'H',\n",
       " 8: 'I',\n",
       " 9: 'K',\n",
       " 10: 'L',\n",
       " 11: 'M',\n",
       " 12: 'N',\n",
       " 13: 'P',\n",
       " 14: 'Q',\n",
       " 15: 'R',\n",
       " 16: 'S',\n",
       " 17: 'T',\n",
       " 18: 'V',\n",
       " 19: 'W',\n",
       " 20: 'Y'}"
      ]
     },
     "execution_count": 13,
     "metadata": {},
     "output_type": "execute_result"
    }
   ],
   "source": [
    "# Python dictionary method\n",
    "aa_dict = {}\n",
    "aa_residues = list(\"ACDEFGHIKLMNPQRSTVWY\")\n",
    "aa_integers = range(1, 21)\n",
    "\n",
    "# Iterate over the 20 integers and their amino-acid residue equivalent\n",
    "# And assign those to a aa_dict\n",
    "for integer, aa in zip(aa_integers, aa_residues):\n",
    "    aa_dict[integer] = aa\n",
    "    \n",
    "aa_dict"
   ]
  },
  {
   "cell_type": "markdown",
   "metadata": {},
   "source": [
    "We can access any key in the dictionary and find its value. For example we can find out what the most common amino-acid in the first position of our sequences is, namely integer 11, by running the below command:"
   ]
  },
  {
   "cell_type": "markdown",
   "metadata": {},
   "source": [
    "#### Question 3: Which amino-acid residue does the key 19 correspond to?\n",
    "    "
   ]
  },
  {
   "cell_type": "code",
   "execution_count": null,
   "metadata": {},
   "outputs": [],
   "source": []
  },
  {
   "cell_type": "code",
   "execution_count": null,
   "metadata": {},
   "outputs": [],
   "source": []
  },
  {
   "cell_type": "markdown",
   "metadata": {},
   "source": [
    "We can see that the integer 11 represents the residue Methionine.\n",
    "\n",
    "<a href=\"img/Amino_Acids.png\"><center> <img src=\"img/Amino_Acids.png\" alt=\"Drawing\" style=\"width: 500px;\"/> <center/><a/>\n",
    "\n",
    "**Source: \"Amino acids\" by Dancojocari - Own work - January 2010. URL: https://commons.wikimedia.org/wiki/File:Amino_Acids.svg**\n"
   ]
  },
  {
   "cell_type": "markdown",
   "metadata": {},
   "source": [
    "#### Building the numerical to string amino-acid converter function"
   ]
  },
  {
   "cell_type": "markdown",
   "metadata": {},
   "source": [
    "Using the python dict, we now have a way to convert directly from integers to the correct amino-acid letter. Now we just need to define a function which:\n",
    "- 1. Takes an input sequence\n",
    "- 2. Finds and remove the missing positons (denoted by \"0\")\n",
    "- 3. Iterates over the sequence, converting all integers into their equivalent residues\n",
    "- 4. Returns a string of the resulting amino-sequence"
   ]
  },
  {
   "cell_type": "markdown",
   "metadata": {},
   "source": [
    "### Python functions\n",
    "\n",
    "Functions are a set of instructions that can be re-applied several times. This allows you to only write /edit code once to implement behavior. \n",
    "\n",
    "A function is defined as such:\n",
    "\n",
    "\n",
    "def function_name(parameters):\n",
    "\n",
    "    function_body\n",
    "    \n",
    "    return something\n",
    "\n"
   ]
  },
  {
   "cell_type": "code",
   "execution_count": 14,
   "metadata": {},
   "outputs": [],
   "source": [
    "def numeric_to_aa(numeric_sequence):\n",
    "    #First find and remove the missing positions\n",
    "    missing_positions = np.where(numeric_sequence == 0)[0]\n",
    "    numeric_sequence = np.delete(numeric_sequence, missing_positions)\n",
    "    \n",
    "    #Next convert the numeric sequence to the amino-sequence using aa_dict\n",
    "    amino_sequence = np.array([aa_dict[aa] for aa in numeric_sequence])\n",
    "    \n",
    "    #Finally convert the numpy array of amino-acids to a single string\n",
    "    amino_sequence_string = \"\".join(amino_sequence)\n",
    "    return amino_sequence_string"
   ]
  },
  {
   "cell_type": "code",
   "execution_count": 15,
   "metadata": {},
   "outputs": [
    {
     "data": {
      "text/plain": [
       "'MAKKSKIARNEQRKVIVERYAERRAELKKTLVDPNATDEAREAARVGLQKLPRNASPARVRSRDVIDGRPRGVLTKFGISRVRFRDMAHRGELPGVTKSSW'"
      ]
     },
     "execution_count": 15,
     "metadata": {},
     "output_type": "execute_result"
    }
   ],
   "source": [
    "# Testing the function on the first sequence in the dataset\n",
    "numeric_to_aa(X_data[0])"
   ]
  },
  {
   "cell_type": "markdown",
   "metadata": {},
   "source": [
    "#### Note: There is also a [BioPython package](https://biopython.org/), [Polypeptide](https://biopython.org/DIST/docs/api/Bio.PDB.Polypeptide-module.html), which achieves the same."
   ]
  },
  {
   "cell_type": "markdown",
   "metadata": {},
   "source": [
    "#### Great! Everything seems to be working"
   ]
  },
  {
   "cell_type": "code",
   "execution_count": null,
   "metadata": {},
   "outputs": [],
   "source": []
  },
  {
   "cell_type": "markdown",
   "metadata": {},
   "source": [
    "#### Question 4: Using the dictionary, map the following sequence to its translated amino-acid string: [3, 1, 17, 1, 16, 2, 8, 4, 12, 2, 4]\n",
    "    \n",
    "    "
   ]
  },
  {
   "cell_type": "code",
   "execution_count": null,
   "metadata": {},
   "outputs": [],
   "source": []
  },
  {
   "cell_type": "code",
   "execution_count": null,
   "metadata": {},
   "outputs": [],
   "source": []
  },
  {
   "cell_type": "markdown",
   "metadata": {},
   "source": [
    "Now let´s convert all our numerical sequences to their letter sequences"
   ]
  },
  {
   "cell_type": "code",
   "execution_count": 16,
   "metadata": {},
   "outputs": [
    {
     "data": {
      "text/plain": [
       "['MAKKSKIARNE',\n",
       " 'MYARTLLLAVI',\n",
       " 'MLVKTYCAAVN',\n",
       " 'MKKTLSAIANW',\n",
       " 'MKLNCDMGESF',\n",
       " 'MFNKIQSKLHK',\n",
       " 'MDKKIKKIDRA',\n",
       " 'MSYLAIKHIHM',\n",
       " 'MKTTLITVAGL',\n",
       " 'MSELLEYLDML']"
      ]
     },
     "execution_count": 16,
     "metadata": {},
     "output_type": "execute_result"
    }
   ],
   "source": [
    "# Create new empty list named sequences\n",
    "sequences = []\n",
    "\n",
    "# Iterate over first 1000 sequences in dataset\n",
    "for seq in X_data[0:1000]:\n",
    "    \n",
    "    # Convert each sequence to amino-sequence,\n",
    "    # and append to sequences list\n",
    "    sequences.append(numeric_to_aa(seq)[0:11])\n",
    "    \n",
    "# Show first 10 sequences in list\n",
    "sequences[0:10]"
   ]
  },
  {
   "cell_type": "markdown",
   "metadata": {},
   "source": [
    "#### Note: In Python, positions start at 0, not 1. Also, the last item in the slice 0:11 is not included, meaning only items 0 to 10 will be returned"
   ]
  },
  {
   "cell_type": "code",
   "execution_count": 17,
   "metadata": {},
   "outputs": [],
   "source": [
    "# Save sequences list to new file, sequences.txt\n",
    "\n",
    "# Open a new file called sequences.txt in writing mode\n",
    "with open(\"sequences.txt\", \"w\") as infile:\n",
    "    \n",
    "    # Iterate over sequences list\n",
    "    for seq in sequences:\n",
    "        \n",
    "        # Text = string of sequence, with a newline\n",
    "        text = str(seq) + \"\\n\"\n",
    "        \n",
    "        # Write each sequence text to file (sequences.txt)\n",
    "        infile.write(text)"
   ]
  },
  {
   "cell_type": "markdown",
   "metadata": {},
   "source": [
    "#### Note: It is also possible to save the sequences list directly as a Python list, using [Pickle](https://wiki.python.org/moin/UsingPickle):"
   ]
  },
  {
   "cell_type": "code",
   "execution_count": 18,
   "metadata": {},
   "outputs": [],
   "source": [
    "import pickle \n",
    "pickle.dump(sequences, open(\"sequences.pickle\", \"wb\")) \n",
    "loaded_sequences = pickle.load(open(\"sequences.pickle\", \"rb\"))"
   ]
  },
  {
   "cell_type": "code",
   "execution_count": null,
   "metadata": {},
   "outputs": [],
   "source": []
  },
  {
   "cell_type": "markdown",
   "metadata": {},
   "source": [
    "## Protein sequence and Optimal Growth Temperatures\n",
    "\n",
    "Let´s continue investigating our dataset, and look at the **y_data** optimal growth temperatures"
   ]
  },
  {
   "cell_type": "code",
   "execution_count": 19,
   "metadata": {},
   "outputs": [
    {
     "data": {
      "text/html": [
       "<div>\n",
       "<style scoped>\n",
       "    .dataframe tbody tr th:only-of-type {\n",
       "        vertical-align: middle;\n",
       "    }\n",
       "\n",
       "    .dataframe tbody tr th {\n",
       "        vertical-align: top;\n",
       "    }\n",
       "\n",
       "    .dataframe thead th {\n",
       "        text-align: right;\n",
       "    }\n",
       "</style>\n",
       "<table border=\"1\" class=\"dataframe\">\n",
       "  <thead>\n",
       "    <tr style=\"text-align: right;\">\n",
       "      <th></th>\n",
       "      <th>0</th>\n",
       "    </tr>\n",
       "  </thead>\n",
       "  <tbody>\n",
       "    <tr>\n",
       "      <th>count</th>\n",
       "      <td>10000.000000</td>\n",
       "    </tr>\n",
       "    <tr>\n",
       "      <th>mean</th>\n",
       "      <td>34.742852</td>\n",
       "    </tr>\n",
       "    <tr>\n",
       "      <th>std</th>\n",
       "      <td>12.670174</td>\n",
       "    </tr>\n",
       "    <tr>\n",
       "      <th>min</th>\n",
       "      <td>4.000000</td>\n",
       "    </tr>\n",
       "    <tr>\n",
       "      <th>25%</th>\n",
       "      <td>28.000000</td>\n",
       "    </tr>\n",
       "    <tr>\n",
       "      <th>50%</th>\n",
       "      <td>30.000000</td>\n",
       "    </tr>\n",
       "    <tr>\n",
       "      <th>75%</th>\n",
       "      <td>37.000000</td>\n",
       "    </tr>\n",
       "    <tr>\n",
       "      <th>max</th>\n",
       "      <td>103.000000</td>\n",
       "    </tr>\n",
       "  </tbody>\n",
       "</table>\n",
       "</div>"
      ],
      "text/plain": [
       "                  0\n",
       "count  10000.000000\n",
       "mean      34.742852\n",
       "std       12.670174\n",
       "min        4.000000\n",
       "25%       28.000000\n",
       "50%       30.000000\n",
       "75%       37.000000\n",
       "max      103.000000"
      ]
     },
     "execution_count": 19,
     "metadata": {},
     "output_type": "execute_result"
    }
   ],
   "source": [
    "#%%time\n",
    "pd.DataFrame(y_data).describe()"
   ]
  },
  {
   "cell_type": "markdown",
   "metadata": {},
   "source": [
    "**y_data** represents the optimal growth temperatures for the organisms which the protein was sourced from. We see a distribution from 4 to 103 degrees Celsius, with a mean of 34.7 degrees."
   ]
  },
  {
   "cell_type": "markdown",
   "metadata": {},
   "source": [
    "#### Let´s start plotting!\n",
    "\n",
    "We can easily plot the distribution of a set of values using **[Seaborn´s distplot](https://seaborn.pydata.org/generated/seaborn.distplot.html)** method. This will allow us to easily create a histogram of frequency along with an estimated density across all temperatures. We can then identify which temperatures are most common in the dataset."
   ]
  },
  {
   "cell_type": "code",
   "execution_count": 20,
   "metadata": {},
   "outputs": [
    {
     "name": "stderr",
     "output_type": "stream",
     "text": [
      "/Users/admin/opt/anaconda3/envs/biodatascience101/lib/python3.9/site-packages/seaborn/distributions.py:2619: FutureWarning: `distplot` is a deprecated function and will be removed in a future version. Please adapt your code to use either `displot` (a figure-level function with similar flexibility) or `histplot` (an axes-level function for histograms).\n",
      "  warnings.warn(msg, FutureWarning)\n",
      "/Users/admin/opt/anaconda3/envs/biodatascience101/lib/python3.9/site-packages/seaborn/distributions.py:1699: FutureWarning: The `bw` parameter is deprecated in favor of `bw_method` and `bw_adjust`. Using 2 for `bw_method`, but please see the docs for the new parameters and update your code.\n",
      "  warnings.warn(msg, FutureWarning)\n"
     ]
    },
    {
     "data": {
      "text/plain": [
       "<AxesSubplot:ylabel='Density'>"
      ]
     },
     "execution_count": 20,
     "metadata": {},
     "output_type": "execute_result"
    },
    {
     "data": {
      "image/png": "[encoded data removed]",
      "text/plain": [
       "<Figure size 432x288 with 1 Axes>"
      ]
     },
     "metadata": {
      "needs_background": "light"
     },
     "output_type": "display_data"
    }
   ],
   "source": [
    "sns.distplot(y_data, kde_kws={'bw':2})"
   ]
  },
  {
   "cell_type": "markdown",
   "metadata": {},
   "source": [
    "Let´s make the figure size a little larger, and add axis labels and a title"
   ]
  },
  {
   "cell_type": "code",
   "execution_count": 21,
   "metadata": {},
   "outputs": [
    {
     "name": "stderr",
     "output_type": "stream",
     "text": [
      "/Users/admin/opt/anaconda3/envs/biodatascience101/lib/python3.9/site-packages/seaborn/distributions.py:2619: FutureWarning: `distplot` is a deprecated function and will be removed in a future version. Please adapt your code to use either `displot` (a figure-level function with similar flexibility) or `histplot` (an axes-level function for histograms).\n",
      "  warnings.warn(msg, FutureWarning)\n",
      "/Users/admin/opt/anaconda3/envs/biodatascience101/lib/python3.9/site-packages/seaborn/distributions.py:1699: FutureWarning: The `bw` parameter is deprecated in favor of `bw_method` and `bw_adjust`. Using 2 for `bw_method`, but please see the docs for the new parameters and update your code.\n",
      "  warnings.warn(msg, FutureWarning)\n"
     ]
    },
    {
     "data": {
      "text/plain": [
       "Text(0.5, 1.0, 'Distribution of optimal-growth temperatures')"
      ]
     },
     "execution_count": 21,
     "metadata": {},
     "output_type": "execute_result"
    },
    {
     "data": {
      "image/png": "[encoded data removed]",
      "text/plain": [
       "<Figure size 576x360 with 1 Axes>"
      ]
     },
     "metadata": {
      "needs_background": "light"
     },
     "output_type": "display_data"
    }
   ],
   "source": [
    "# Set figure size and font scale for entire figure\n",
    "fig, ax = plt.subplots(figsize = (8,5))\n",
    "sns.set(font_scale=2)\n",
    "\n",
    "# Plot graph from y_data\n",
    "sns.distplot(y_data, kde_kws={'bw':2})\n",
    "\n",
    "# Add labels and title\n",
    "ax.set_xlabel('Source-organism optimal growth temperature (Celsius)')\n",
    "ax.set_ylabel('Ratio of dataset')\n",
    "plt.title('Distribution of optimal-growth temperatures')\n"
   ]
  },
  {
   "cell_type": "code",
   "execution_count": null,
   "metadata": {},
   "outputs": [],
   "source": []
  },
  {
   "cell_type": "markdown",
   "metadata": {},
   "source": [
    "#### Extracting datapoints directly from plot"
   ]
  },
  {
   "cell_type": "markdown",
   "metadata": {},
   "source": [
    "We see a large overrepresentation of sequences at specific temperature values. We can extract the data directly from the plot using matplotlibs **[.get_xdata() and .get_ydata()](https://matplotlib.org/3.1.1/api/_as_gen/matplotlib.lines.Line2D.html?highlight=get_xdata#matplotlib.lines.Line2D.get_xdata)** functions.\n",
    "\n",
    "We can then analyze the extracted data, annotate it, and graph it again."
   ]
  },
  {
   "cell_type": "code",
   "execution_count": 22,
   "metadata": {},
   "outputs": [
    {
     "name": "stdout",
     "output_type": "stream",
     "text": [
      "Temperatures extracted:\n"
     ]
    },
    {
     "data": {
      "text/plain": [
       "array([-7.20210446e+01, -7.07595266e+01, -6.94980085e+01, -6.82364905e+01,\n",
       "       -6.69749725e+01, -6.57134544e+01, -6.44519364e+01, -6.31904183e+01,\n",
       "       -6.19289003e+01, -6.06673823e+01, -5.94058642e+01, -5.81443462e+01,\n",
       "       -5.68828282e+01, -5.56213101e+01, -5.43597921e+01, -5.30982741e+01,\n",
       "       -5.18367560e+01, -5.05752380e+01, -4.93137200e+01, -4.80522019e+01,\n",
       "       -4.67906839e+01, -4.55291658e+01, -4.42676478e+01, -4.30061298e+01,\n",
       "       -4.17446117e+01, -4.04830937e+01, -3.92215757e+01, -3.79600576e+01,\n",
       "       -3.66985396e+01, -3.54370216e+01, -3.41755035e+01, -3.29139855e+01,\n",
       "       -3.16524674e+01, -3.03909494e+01, -2.91294314e+01, -2.78679133e+01,\n",
       "       -2.66063953e+01, -2.53448773e+01, -2.40833592e+01, -2.28218412e+01,\n",
       "       -2.15603232e+01, -2.02988051e+01, -1.90372871e+01, -1.77757690e+01,\n",
       "       -1.65142510e+01, -1.52527330e+01, -1.39912149e+01, -1.27296969e+01,\n",
       "       -1.14681789e+01, -1.02066608e+01, -8.94514279e+00, -7.68362476e+00,\n",
       "       -6.42210672e+00, -5.16058868e+00, -3.89907065e+00, -2.63755261e+00,\n",
       "       -1.37603458e+00, -1.14516539e-01,  1.14700150e+00,  2.40851953e+00,\n",
       "        3.67003757e+00,  4.93155561e+00,  6.19307364e+00,  7.45459168e+00,\n",
       "        8.71610971e+00,  9.97762775e+00,  1.12391458e+01,  1.25006638e+01,\n",
       "        1.37621819e+01,  1.50236999e+01,  1.62852179e+01,  1.75467360e+01,\n",
       "        1.88082540e+01,  2.00697720e+01,  2.13312901e+01,  2.25928081e+01,\n",
       "        2.38543261e+01,  2.51158442e+01,  2.63773622e+01,  2.76388803e+01,\n",
       "        2.89003983e+01,  3.01619163e+01,  3.14234344e+01,  3.26849524e+01,\n",
       "        3.39464704e+01,  3.52079885e+01,  3.64695065e+01,  3.77310245e+01,\n",
       "        3.89925426e+01,  4.02540606e+01,  4.15155787e+01,  4.27770967e+01,\n",
       "        4.40386147e+01,  4.53001328e+01,  4.65616508e+01,  4.78231688e+01,\n",
       "        4.90846869e+01,  5.03462049e+01,  5.16077229e+01,  5.28692410e+01,\n",
       "        5.41307590e+01,  5.53922771e+01,  5.66537951e+01,  5.79153131e+01,\n",
       "        5.91768312e+01,  6.04383492e+01,  6.16998672e+01,  6.29613853e+01,\n",
       "        6.42229033e+01,  6.54844213e+01,  6.67459394e+01,  6.80074574e+01,\n",
       "        6.92689755e+01,  7.05304935e+01,  7.17920115e+01,  7.30535296e+01,\n",
       "        7.43150476e+01,  7.55765656e+01,  7.68380837e+01,  7.80996017e+01,\n",
       "        7.93611197e+01,  8.06226378e+01,  8.18841558e+01,  8.31456739e+01,\n",
       "        8.44071919e+01,  8.56687099e+01,  8.69302280e+01,  8.81917460e+01,\n",
       "        8.94532640e+01,  9.07147821e+01,  9.19763001e+01,  9.32378181e+01,\n",
       "        9.44993362e+01,  9.57608542e+01,  9.70223722e+01,  9.82838903e+01,\n",
       "        9.95454083e+01,  1.00806926e+02,  1.02068444e+02,  1.03329962e+02,\n",
       "        1.04591480e+02,  1.05852999e+02,  1.07114517e+02,  1.08376035e+02,\n",
       "        1.09637553e+02,  1.10899071e+02,  1.12160589e+02,  1.13422107e+02,\n",
       "        1.14683625e+02,  1.15945143e+02,  1.17206661e+02,  1.18468179e+02,\n",
       "        1.19729697e+02,  1.20991215e+02,  1.22252733e+02,  1.23514251e+02,\n",
       "        1.24775769e+02,  1.26037287e+02,  1.27298805e+02,  1.28560323e+02,\n",
       "        1.29821841e+02,  1.31083359e+02,  1.32344877e+02,  1.33606395e+02,\n",
       "        1.34867913e+02,  1.36129431e+02,  1.37390949e+02,  1.38652467e+02,\n",
       "        1.39913985e+02,  1.41175504e+02,  1.42437022e+02,  1.43698540e+02,\n",
       "        1.44960058e+02,  1.46221576e+02,  1.47483094e+02,  1.48744612e+02,\n",
       "        1.50006130e+02,  1.51267648e+02,  1.52529166e+02,  1.53790684e+02,\n",
       "        1.55052202e+02,  1.56313720e+02,  1.57575238e+02,  1.58836756e+02,\n",
       "        1.60098274e+02,  1.61359792e+02,  1.62621310e+02,  1.63882828e+02,\n",
       "        1.65144346e+02,  1.66405864e+02,  1.67667382e+02,  1.68928900e+02,\n",
       "        1.70190418e+02,  1.71451936e+02,  1.72713454e+02,  1.73974972e+02,\n",
       "        1.75236490e+02,  1.76498009e+02,  1.77759527e+02,  1.79021045e+02])"
      ]
     },
     "execution_count": 22,
     "metadata": {},
     "output_type": "execute_result"
    }
   ],
   "source": [
    "x_values = ax.lines[0].get_xdata() # Get the x data of the distribution\n",
    "y_values = ax.lines[0].get_ydata() # Get the y data of the distribution\n",
    "\n",
    "print(\"Temperatures extracted:\")\n",
    "x_values"
   ]
  },
  {
   "cell_type": "markdown",
   "metadata": {},
   "source": [
    "#### Exercise: Sort the extracted temperatures (x_values) in reverse order using np.sort and print them. https://docs.scipy.org/doc/numpy/reference/generated/numpy.sort.html"
   ]
  },
  {
   "cell_type": "code",
   "execution_count": 23,
   "metadata": {},
   "outputs": [
    {
     "name": "stdout",
     "output_type": "stream",
     "text": [
      "Sorted temperatures extracted:\n"
     ]
    }
   ],
   "source": [
    "print(\"Sorted temperatures extracted:\")\n",
    "# ?"
   ]
  },
  {
   "cell_type": "code",
   "execution_count": null,
   "metadata": {},
   "outputs": [],
   "source": []
  },
  {
   "cell_type": "markdown",
   "metadata": {},
   "source": [
    "We can also plot the newly extracted points:"
   ]
  },
  {
   "cell_type": "code",
   "execution_count": 24,
   "metadata": {},
   "outputs": [
    {
     "name": "stderr",
     "output_type": "stream",
     "text": [
      "/Users/admin/opt/anaconda3/envs/biodatascience101/lib/python3.9/site-packages/seaborn/_decorators.py:36: FutureWarning: Pass the following variables as keyword args: x, y. From version 0.12, the only valid positional argument will be `data`, and passing other arguments without an explicit keyword will result in an error or misinterpretation.\n",
      "  warnings.warn(\n",
      "/Users/admin/opt/anaconda3/envs/biodatascience101/lib/python3.9/site-packages/seaborn/_decorators.py:36: FutureWarning: Pass the following variables as keyword args: x, y. From version 0.12, the only valid positional argument will be `data`, and passing other arguments without an explicit keyword will result in an error or misinterpretation.\n",
      "  warnings.warn(\n"
     ]
    },
    {
     "data": {
      "text/plain": [
       "Text(0.5, 1.0, 'Extracted datapoints')"
      ]
     },
     "execution_count": 24,
     "metadata": {},
     "output_type": "execute_result"
    },
    {
     "data": {
      "image/png": "[encoded data removed]",
      "text/plain": [
       "<Figure size 432x288 with 1 Axes>"
      ]
     },
     "metadata": {},
     "output_type": "display_data"
    }
   ],
   "source": [
    "sns.lineplot(x_values, y_values)\n",
    "sns.scatterplot(x_values, y_values)\n",
    "plt.title('Extracted datapoints')"
   ]
  },
  {
   "cell_type": "code",
   "execution_count": null,
   "metadata": {},
   "outputs": [],
   "source": []
  },
  {
   "cell_type": "markdown",
   "metadata": {},
   "source": [
    "We can use the extracted datapoints in order to investigate which temperatures are the most overrepresented in the dataset.\n",
    "\n",
    "First we will find all the temperatures which represent by themselves more than 5 % of the total dataset (where the y coordinate or ratio of the dataset is over 0.05)"
   ]
  },
  {
   "cell_type": "code",
   "execution_count": 25,
   "metadata": {},
   "outputs": [
    {
     "data": {
      "text/plain": [
       "(array([], dtype=float64), array([], dtype=float64))"
      ]
     },
     "execution_count": 25,
     "metadata": {},
     "output_type": "execute_result"
    }
   ],
   "source": [
    "top_points = np.where(y_values > 0.05)\n",
    "top_x_values = x_values[top_points]\n",
    "top_y_values = y_values[top_points]\n",
    "\n",
    "top_x_values, top_y_values"
   ]
  },
  {
   "cell_type": "markdown",
   "metadata": {},
   "source": [
    "#### Next we add these data points back to the original plot as label texts"
   ]
  },
  {
   "cell_type": "code",
   "execution_count": 26,
   "metadata": {},
   "outputs": [
    {
     "name": "stderr",
     "output_type": "stream",
     "text": [
      "/Users/admin/opt/anaconda3/envs/biodatascience101/lib/python3.9/site-packages/seaborn/distributions.py:2619: FutureWarning: `distplot` is a deprecated function and will be removed in a future version. Please adapt your code to use either `displot` (a figure-level function with similar flexibility) or `histplot` (an axes-level function for histograms).\n",
      "  warnings.warn(msg, FutureWarning)\n",
      "/Users/admin/opt/anaconda3/envs/biodatascience101/lib/python3.9/site-packages/seaborn/distributions.py:1699: FutureWarning: The `bw` parameter is deprecated in favor of `bw_method` and `bw_adjust`. Using 2 for `bw_method`, but please see the docs for the new parameters and update your code.\n",
      "  warnings.warn(msg, FutureWarning)\n",
      "/Users/admin/opt/anaconda3/envs/biodatascience101/lib/python3.9/site-packages/seaborn/_decorators.py:36: FutureWarning: Pass the following variables as keyword args: x, y. From version 0.12, the only valid positional argument will be `data`, and passing other arguments without an explicit keyword will result in an error or misinterpretation.\n",
      "  warnings.warn(\n"
     ]
    },
    {
     "data": {
      "text/plain": [
       "11"
      ]
     },
     "execution_count": 26,
     "metadata": {},
     "output_type": "execute_result"
    },
    {
     "data": {
      "image/png": "[encoded data removed]",
      "text/plain": [
       "<Figure size 864x360 with 1 Axes>"
      ]
     },
     "metadata": {},
     "output_type": "display_data"
    }
   ],
   "source": [
    "fig, ax = plt.subplots(figsize = (12,5))\n",
    "sns.set(font_scale=1.2) # Adjust this to change the fontsize of all text\n",
    "\n",
    "sns.distplot(y_data, kde_kws={'bw':2})\n",
    "sns.scatterplot(x_values, y_values)\n",
    "ax.set_xlabel('Source-organism optimal growth temperature (Celsius)')\n",
    "ax.set_ylabel('Ratio of dataset')\n",
    "plt.title('Distribution of optimal-growth temperatures')\n",
    "\n",
    "# Create label texts\n",
    "label_text = np.round(top_x_values, 2)\n",
    "\n",
    "texts = [plt.text(top_x_values[i],\n",
    "                  top_y_values[i],\n",
    "                  label_text[i],\n",
    "                  ha='center',\n",
    "                  va='center')\n",
    "         for i in range(len(top_x_values))]\n",
    "\n",
    "\n",
    "\n",
    "from adjustText import adjust_text\n",
    "adjust_text(texts)"
   ]
  },
  {
   "cell_type": "markdown",
   "metadata": {},
   "source": [
    "#### Note: adjustText is a \"small library for automatically adjustment of text position in matplotlib plots to minimize overlaps.\" by Ilya Flyamer (Phlya). It allows us to add labels to the plotted points without the text overlapping. Read more: https://github.com/Phlya/adjustText"
   ]
  },
  {
   "cell_type": "code",
   "execution_count": null,
   "metadata": {},
   "outputs": [],
   "source": []
  },
  {
   "cell_type": "markdown",
   "metadata": {},
   "source": [
    "## Investigating sequence length"
   ]
  },
  {
   "cell_type": "markdown",
   "metadata": {},
   "source": [
    "In order to count the length of the sequences, we need to count the number of positions per sequence which are not 0.\n",
    "\n",
    "This can be easily done using a combination of a python equality statement (x == y) and numpy´s .sum function across one dimension/axis of a numpy array.\n",
    "\n",
    "- Python logical and other operators: https://www.w3schools.com/python/python_operators.asp\n",
    "- Numpy .sum: https://docs.scipy.org/doc/numpy/reference/generated/numpy.sum.html"
   ]
  },
  {
   "cell_type": "code",
   "execution_count": 27,
   "metadata": {},
   "outputs": [
    {
     "data": {
      "text/plain": [
       "3"
      ]
     },
     "execution_count": 27,
     "metadata": {},
     "output_type": "execute_result"
    }
   ],
   "source": [
    "np.sum([True, True, True, False, False])"
   ]
  },
  {
   "cell_type": "markdown",
   "metadata": {},
   "source": [
    "#### Note: We can find all the non-missing positions in the sequences by finding all items which are NOT 0. This will return a list of True and False booleans, which are also represented as 0 and 1. We can then sum this list to count the number of True / 1 items, which gives us the length of the sequence excluding missing positions"
   ]
  },
  {
   "cell_type": "code",
   "execution_count": null,
   "metadata": {},
   "outputs": [],
   "source": []
  },
  {
   "cell_type": "code",
   "execution_count": 28,
   "metadata": {},
   "outputs": [
    {
     "data": {
      "text/plain": [
       "array([101, 137, 513, ..., 146, 410, 161])"
      ]
     },
     "execution_count": 28,
     "metadata": {},
     "output_type": "execute_result"
    }
   ],
   "source": [
    "# Take the length of the non-zero values in the sequences\n",
    "lengths = (X_data != 0).sum(axis = 1)\n",
    "lengths"
   ]
  },
  {
   "cell_type": "markdown",
   "metadata": {},
   "source": [
    "Now that we have gathered the lengths of the different sequences we can use this information to get a visualization of the length distribution. We will use the **[.distplot](https://seaborn.pydata.org/generated/seaborn.distplot.html)** method again\n",
    "\n",
    "We can use seaborn´s global **[.set](https://seaborn.pydata.org/generated/seaborn.set.html)** function in order to set the font scale for all fonts in the graph. This will be remembered for all future graphs as well, unless changed again."
   ]
  },
  {
   "cell_type": "code",
   "execution_count": 29,
   "metadata": {},
   "outputs": [
    {
     "name": "stderr",
     "output_type": "stream",
     "text": [
      "/Users/admin/opt/anaconda3/envs/biodatascience101/lib/python3.9/site-packages/seaborn/distributions.py:2619: FutureWarning: `distplot` is a deprecated function and will be removed in a future version. Please adapt your code to use either `displot` (a figure-level function with similar flexibility) or `histplot` (an axes-level function for histograms).\n",
      "  warnings.warn(msg, FutureWarning)\n"
     ]
    },
    {
     "data": {
      "text/plain": [
       "Text(0.5, 1.0, 'Sequence length')"
      ]
     },
     "execution_count": 29,
     "metadata": {},
     "output_type": "execute_result"
    },
    {
     "data": {
      "image/png": "[encoded data removed]",
      "text/plain": [
       "<Figure size 432x288 with 1 Axes>"
      ]
     },
     "metadata": {},
     "output_type": "display_data"
    }
   ],
   "source": [
    "sns.set(font_scale = 1.5)\n",
    "sns.distplot(lengths, bins=30)\n",
    "plt.xlabel('Sequence length')\n",
    "plt.ylabel('Frequency')\n",
    "plt.title('Sequence length')"
   ]
  },
  {
   "cell_type": "markdown",
   "metadata": {},
   "source": [
    "Increasing the number of bins will increase the resolution of the plot and may provide valuable insight.\n",
    "Increasing the bin size will however give a lower granularity and ability to discern trends in the distribution.\n",
    "A too low number of bins  may hide interesting details in the distribution.\n",
    "\n",
    "Several methods to finding an ideal bin size have been proposed:\n",
    "\n",
    "__Square-root of number of samples__\n",
    "\n",
    "bins = $\\sqrt{n}$\n",
    "\n",
    "__Sturges__\n",
    "\n",
    "bins = ceil(log2(n)) + 1\n",
    "\n",
    "\n",
    "__Experimentation is however always advised!__\n",
    "\n",
    "More informatioin can be found at: https://www.answerminer.com/blog/binning-guide-ideal-histogram"
   ]
  },
  {
   "cell_type": "code",
   "execution_count": 30,
   "metadata": {},
   "outputs": [
    {
     "name": "stdout",
     "output_type": "stream",
     "text": [
      "100 15\n"
     ]
    }
   ],
   "source": [
    "n = len(lengths)\n",
    "bins_square_root = int(np.sqrt(n))\n",
    "bins_sturges = int(np.ceil(np.log2(n)) + 1)\n",
    "\n",
    "print(bins_square_root, bins_sturges)"
   ]
  },
  {
   "cell_type": "markdown",
   "metadata": {},
   "source": [
    "#### Try changing the bin size in the above plot and observe the changes in the graph\n",
    "   "
   ]
  },
  {
   "cell_type": "markdown",
   "metadata": {},
   "source": [
    "#### Question 5: What is the mean sequence length of the proteins in this dataset?"
   ]
  },
  {
   "cell_type": "code",
   "execution_count": null,
   "metadata": {},
   "outputs": [],
   "source": []
  },
  {
   "cell_type": "code",
   "execution_count": null,
   "metadata": {},
   "outputs": [],
   "source": []
  },
  {
   "cell_type": "markdown",
   "metadata": {},
   "source": [
    "#### Plotting dataset correlations\n",
    "Is there a relationship between the sequence length and optimal growth temperature?\n",
    "An easy way to visualize the correlationship between two sets of values is using Seaborn´s regplot graphing method.\n",
    "\n",
    "https://seaborn.pydata.org/generated/seaborn.regplot.html"
   ]
  },
  {
   "cell_type": "code",
   "execution_count": 31,
   "metadata": {},
   "outputs": [
    {
     "name": "stderr",
     "output_type": "stream",
     "text": [
      "/Users/admin/opt/anaconda3/envs/biodatascience101/lib/python3.9/site-packages/seaborn/_decorators.py:36: FutureWarning: Pass the following variables as keyword args: x, y. From version 0.12, the only valid positional argument will be `data`, and passing other arguments without an explicit keyword will result in an error or misinterpretation.\n",
      "  warnings.warn(\n",
      "/Users/admin/opt/anaconda3/envs/biodatascience101/lib/python3.9/site-packages/seaborn/_decorators.py:36: FutureWarning: Pass the following variables as keyword args: x, y. From version 0.12, the only valid positional argument will be `data`, and passing other arguments without an explicit keyword will result in an error or misinterpretation.\n",
      "  warnings.warn(\n"
     ]
    },
    {
     "data": {
      "text/plain": [
       "Text(0.5, 1.0, 'Regression plot:\\nsequence length vs temperature')"
      ]
     },
     "execution_count": 31,
     "metadata": {},
     "output_type": "execute_result"
    },
    {
     "data": {
      "image/png": "[encoded data removed]",
      "text/plain": [
       "<Figure size 432x288 with 1 Axes>"
      ]
     },
     "metadata": {},
     "output_type": "display_data"
    }
   ],
   "source": [
    "sns.set(font_scale = 1.5)\n",
    "\n",
    "sns.scatterplot(lengths, y_data, s = 5)\n",
    "sns.regplot(lengths, y_data, scatter = False)\n",
    "plt.xlabel('Sequence length')\n",
    "plt.ylabel('Temperature, C')\n",
    "plt.title('Regression plot:\\nsequence length vs temperature')"
   ]
  },
  {
   "cell_type": "markdown",
   "metadata": {},
   "source": [
    "#### Note: Seaborn unfortunately does not support giving a numeric value for the regression line plotted above. However we can calculate the Pearson correlation value ourselves using Scipy´s pearsonr method."
   ]
  },
  {
   "cell_type": "markdown",
   "metadata": {},
   "source": [
    "#### Exercise: Calculate the pearson correlation between the sequence lengths (lengths) and temperatures (y_data) using Scipy´s pearsonr method. Is there a strong correlation? In which direction? https://docs.scipy.org/doc/scipy/reference/generated/scipy.stats.pearsonr.html"
   ]
  },
  {
   "cell_type": "code",
   "execution_count": 32,
   "metadata": {},
   "outputs": [],
   "source": [
    "#from scipy.stats import pearsonr\n",
    "\n",
    "#pearson_corr, p_value = pearsonr()\n",
    "\n",
    "#print(\"Pearson correlation:\", pearson_corr, \"\\nP-value:\", p_value)"
   ]
  },
  {
   "cell_type": "code",
   "execution_count": null,
   "metadata": {},
   "outputs": [],
   "source": []
  },
  {
   "cell_type": "markdown",
   "metadata": {},
   "source": [
    "#### Question 6: Is the pearson correlation positive or negative?"
   ]
  },
  {
   "cell_type": "code",
   "execution_count": null,
   "metadata": {},
   "outputs": [],
   "source": []
  },
  {
   "cell_type": "markdown",
   "metadata": {},
   "source": [
    "\n",
    "<img src=\"img/corr.jpg\" alt=\"Drawing\" style=\"width: 600px;\"/>\n",
    "\n",
    "*** Source: Image from:\n",
    "https://www.emathzone.com/wp-content/uploads/2014/10/positive-negative-corrrelation.jpg ***"
   ]
  },
  {
   "cell_type": "code",
   "execution_count": null,
   "metadata": {},
   "outputs": [],
   "source": []
  },
  {
   "cell_type": "markdown",
   "metadata": {},
   "source": [
    "#### Analyzing amino-acid frequencies"
   ]
  },
  {
   "cell_type": "markdown",
   "metadata": {},
   "source": [
    "#### Since the sequences are not aligned and heterogeneously distributed among different source organism, we need to convert it into something we can more easily analyze. Below we will use a function to count the amino-acid content of each sequence. This process can be extremely slow using regular Python functions. We will therefore use Numba to speed things up. Numba is a high performance python compiler which compiles Python code into far more optimized machine code. Read more: http://numba.pydata.org"
   ]
  },
  {
   "cell_type": "code",
   "execution_count": 33,
   "metadata": {},
   "outputs": [],
   "source": [
    "from numba import jit\n",
    "\n",
    "#@jit(nopython=True) #Compile this function into machine-code using Numba\n",
    "def counter(x):\n",
    "    counts = np.zeros((len(x), 21))\n",
    "\n",
    "    for i in range(len(x)): #protein\n",
    "        for aa in range(0, 21): #aa\n",
    "            counts[i, aa] = np.sum(x[i] == aa)      \n",
    "    return counts"
   ]
  },
  {
   "cell_type": "markdown",
   "metadata": {},
   "source": [
    "**Note that while Numba works on the above function without any changes to the Python code, for more advanced functions this will likely not be the case and may require Numba specific definitions**"
   ]
  },
  {
   "cell_type": "code",
   "execution_count": 34,
   "metadata": {},
   "outputs": [
    {
     "data": {
      "text/plain": [
       "array([[549.,  11.,   0., ...,   9.,   1.,   1.],\n",
       "       [513.,  15.,   0., ...,  13.,   4.,   3.],\n",
       "       [137.,  46.,  10., ...,  32.,   1.,  16.],\n",
       "       ...,\n",
       "       [504.,  14.,   1., ...,  13.,   0.,   0.],\n",
       "       [240.,  53.,   4., ...,  24.,   7.,   6.],\n",
       "       [489.,   9.,   2., ...,  10.,   2.,  10.]])"
      ]
     },
     "execution_count": 34,
     "metadata": {},
     "output_type": "execute_result"
    }
   ],
   "source": [
    "counter(X_data)"
   ]
  },
  {
   "cell_type": "markdown",
   "metadata": {},
   "source": [
    "We observe below that our amino-acid frequency counter also counts the zeros, which represent missing positions.\n",
    "If we are only interested in the distribution of the 20 amino-acids, the missing positions should be excluded."
   ]
  },
  {
   "cell_type": "code",
   "execution_count": 35,
   "metadata": {},
   "outputs": [
    {
     "data": {
      "text/plain": [
       "array([[11.,  0.,  5., ...,  9.,  1.,  1.],\n",
       "       [15.,  0., 10., ..., 13.,  4.,  3.],\n",
       "       [46., 10., 24., ..., 32.,  1., 16.],\n",
       "       ...,\n",
       "       [14.,  1., 12., ..., 13.,  0.,  0.],\n",
       "       [53.,  4., 28., ..., 24.,  7.,  6.],\n",
       "       [ 9.,  2.,  9., ..., 10.,  2., 10.]])"
      ]
     },
     "execution_count": 35,
     "metadata": {},
     "output_type": "execute_result"
    }
   ],
   "source": [
    "X_data_counted = counter(X_data)[:, 1:] #Remove the first column, representing missing positions\n",
    "\n",
    "X_data_counted"
   ]
  },
  {
   "cell_type": "code",
   "execution_count": null,
   "metadata": {},
   "outputs": [],
   "source": []
  },
  {
   "cell_type": "markdown",
   "metadata": {},
   "source": [
    "Let´s visualize the distribution of amino-acids in all sequences.\n",
    "\n",
    "We will demonstrate 3 different chart types:\n",
    "- Swarmplot\n",
    "- Boxplot\n",
    "- Violinplot\n",
    "\n",
    "Each has its own benefits. Note that for the swarmplot, it quickly becomes computationally expensive to plot all points. For the sake of speed and not overcrowding the plot, we sample only 100 samples.\n",
    "\n",
    "- The swarmplot plots all points, with no overlap between the plots, therefore giving insight into the underlying distributions of the samples. \n",
    "- The boxplot includes common statistical estimates, including the mean, first and third quartile, minimum, maximum and outliers. It does not however show the individual points, except those at the extremes.\n",
    "- The violinplot, similar to the boxplot, contains statistical estimates, but also visualize the density of the datapoints, revealing the underlying data structure. \n",
    "\n",
    "**For more information about visualizing statistical uncertanty, we highly recomment the e-book \"Fundamentals of data visualization\" by Claus O. Wilke:**\n",
    "\n",
    "https://serialmentor.com/dataviz/visualizing-uncertainty.html\n",
    "\n",
    "Read more: https://towardsdatascience.com/visualizing-statistical-plots-with-seaborn-6b6e60ce5e71"
   ]
  },
  {
   "cell_type": "code",
   "execution_count": 36,
   "metadata": {},
   "outputs": [],
   "source": [
    "# Creating a DataFrame of the amino-acid counts\n",
    "df = pd.DataFrame(X_data_counted, columns = aa_residues)\n",
    "\n",
    "# Converting the DataFrame to a \"melted\" dataframe, for plotting\n",
    "melt_df = pd.melt(df, var_name = \"Amino-acid\", value_name=\"Count\")\n",
    "\n",
    "# Randomly sub-sampling 100 sequences for visualizing the beeswarm distribution,\n",
    "# in order to speed up plotting\n",
    "df_sampled = df.sample(n = 100)\n",
    "melt_df_sampled = pd.melt(df_sampled, var_name = \"Amino-acid\", value_name=\"Count\")"
   ]
  },
  {
   "cell_type": "markdown",
   "metadata": {},
   "source": [
    "#### Note: swarmplots takes relatively longer time to plot. Avoid making swarmplots with large sample sizes"
   ]
  },
  {
   "cell_type": "markdown",
   "metadata": {},
   "source": [
    "**Try plotting each of the 3 graphs below by themselves and in combination,\n",
    "by adding / removing the comment tags below.**"
   ]
  },
  {
   "cell_type": "code",
   "execution_count": 37,
   "metadata": {},
   "outputs": [
    {
     "name": "stderr",
     "output_type": "stream",
     "text": [
      "/Users/admin/opt/anaconda3/envs/biodatascience101/lib/python3.9/site-packages/seaborn/categorical.py:1296: UserWarning: 68.0% of the points cannot be placed; you may want to decrease the size of the markers or use stripplot.\n",
      "  warnings.warn(msg, UserWarning)\n",
      "/Users/admin/opt/anaconda3/envs/biodatascience101/lib/python3.9/site-packages/seaborn/categorical.py:1296: UserWarning: 19.0% of the points cannot be placed; you may want to decrease the size of the markers or use stripplot.\n",
      "  warnings.warn(msg, UserWarning)\n",
      "/Users/admin/opt/anaconda3/envs/biodatascience101/lib/python3.9/site-packages/seaborn/categorical.py:1296: UserWarning: 21.0% of the points cannot be placed; you may want to decrease the size of the markers or use stripplot.\n",
      "  warnings.warn(msg, UserWarning)\n",
      "/Users/admin/opt/anaconda3/envs/biodatascience101/lib/python3.9/site-packages/seaborn/categorical.py:1296: UserWarning: 39.0% of the points cannot be placed; you may want to decrease the size of the markers or use stripplot.\n",
      "  warnings.warn(msg, UserWarning)\n",
      "/Users/admin/opt/anaconda3/envs/biodatascience101/lib/python3.9/site-packages/seaborn/categorical.py:1296: UserWarning: 13.0% of the points cannot be placed; you may want to decrease the size of the markers or use stripplot.\n",
      "  warnings.warn(msg, UserWarning)\n",
      "/Users/admin/opt/anaconda3/envs/biodatascience101/lib/python3.9/site-packages/seaborn/categorical.py:1296: UserWarning: 48.0% of the points cannot be placed; you may want to decrease the size of the markers or use stripplot.\n",
      "  warnings.warn(msg, UserWarning)\n",
      "/Users/admin/opt/anaconda3/envs/biodatascience101/lib/python3.9/site-packages/seaborn/categorical.py:1296: UserWarning: 23.0% of the points cannot be placed; you may want to decrease the size of the markers or use stripplot.\n",
      "  warnings.warn(msg, UserWarning)\n",
      "/Users/admin/opt/anaconda3/envs/biodatascience101/lib/python3.9/site-packages/seaborn/categorical.py:1296: UserWarning: 25.0% of the points cannot be placed; you may want to decrease the size of the markers or use stripplot.\n",
      "  warnings.warn(msg, UserWarning)\n",
      "/Users/admin/opt/anaconda3/envs/biodatascience101/lib/python3.9/site-packages/seaborn/categorical.py:1296: UserWarning: 6.0% of the points cannot be placed; you may want to decrease the size of the markers or use stripplot.\n",
      "  warnings.warn(msg, UserWarning)\n",
      "/Users/admin/opt/anaconda3/envs/biodatascience101/lib/python3.9/site-packages/seaborn/categorical.py:1296: UserWarning: 52.0% of the points cannot be placed; you may want to decrease the size of the markers or use stripplot.\n",
      "  warnings.warn(msg, UserWarning)\n",
      "/Users/admin/opt/anaconda3/envs/biodatascience101/lib/python3.9/site-packages/seaborn/categorical.py:1296: UserWarning: 37.0% of the points cannot be placed; you may want to decrease the size of the markers or use stripplot.\n",
      "  warnings.warn(msg, UserWarning)\n",
      "/Users/admin/opt/anaconda3/envs/biodatascience101/lib/python3.9/site-packages/seaborn/categorical.py:1296: UserWarning: 27.0% of the points cannot be placed; you may want to decrease the size of the markers or use stripplot.\n",
      "  warnings.warn(msg, UserWarning)\n",
      "/Users/admin/opt/anaconda3/envs/biodatascience101/lib/python3.9/site-packages/seaborn/categorical.py:1296: UserWarning: 32.0% of the points cannot be placed; you may want to decrease the size of the markers or use stripplot.\n",
      "  warnings.warn(msg, UserWarning)\n",
      "/Users/admin/opt/anaconda3/envs/biodatascience101/lib/python3.9/site-packages/seaborn/categorical.py:1296: UserWarning: 12.0% of the points cannot be placed; you may want to decrease the size of the markers or use stripplot.\n",
      "  warnings.warn(msg, UserWarning)\n",
      "/Users/admin/opt/anaconda3/envs/biodatascience101/lib/python3.9/site-packages/seaborn/categorical.py:1296: UserWarning: 30.0% of the points cannot be placed; you may want to decrease the size of the markers or use stripplot.\n",
      "  warnings.warn(msg, UserWarning)\n",
      "/Users/admin/opt/anaconda3/envs/biodatascience101/lib/python3.9/site-packages/seaborn/categorical.py:1296: UserWarning: 61.0% of the points cannot be placed; you may want to decrease the size of the markers or use stripplot.\n",
      "  warnings.warn(msg, UserWarning)\n",
      "/Users/admin/opt/anaconda3/envs/biodatascience101/lib/python3.9/site-packages/seaborn/categorical.py:1296: UserWarning: 46.0% of the points cannot be placed; you may want to decrease the size of the markers or use stripplot.\n",
      "  warnings.warn(msg, UserWarning)\n"
     ]
    },
    {
     "data": {
      "text/plain": [
       "Text(0.5, 1.0, 'Frequency of amino-acids in all sequences')"
      ]
     },
     "execution_count": 37,
     "metadata": {},
     "output_type": "execute_result"
    },
    {
     "data": {
      "image/png": "[encoded data removed]",
      "text/plain": [
       "<Figure size 1080x360 with 1 Axes>"
      ]
     },
     "metadata": {},
     "output_type": "display_data"
    }
   ],
   "source": [
    "fig, ax = plt.subplots(figsize = (15,5))\n",
    "\n",
    "# Try plotting of these plots, individually and combined!\n",
    "sns.swarmplot(x = \"Amino-acid\", y = \"Count\", data = melt_df_sampled)\n",
    "#sns.boxplot(x = \"Amino-acid\", y = \"Count\", data = melt_df)\n",
    "#sns.violinplot(x = \"Amino-acid\", y = \"Count\", data = melt_df)\n",
    "\n",
    "plt.title('Frequency of amino-acids in all sequences', fontsize=16)"
   ]
  },
  {
   "cell_type": "markdown",
   "metadata": {},
   "source": [
    "#### Try removing / adding the comment hashtags (#), to graph the 3 different distribution plot methods above"
   ]
  },
  {
   "cell_type": "code",
   "execution_count": null,
   "metadata": {},
   "outputs": [],
   "source": []
  },
  {
   "cell_type": "markdown",
   "metadata": {},
   "source": [
    "## Extracting sequences by own definition of thermophile, mesophiles and cryophiles"
   ]
  },
  {
   "cell_type": "code",
   "execution_count": 38,
   "metadata": {},
   "outputs": [
    {
     "name": "stderr",
     "output_type": "stream",
     "text": [
      "/Users/admin/opt/anaconda3/envs/biodatascience101/lib/python3.9/site-packages/seaborn/_decorators.py:36: FutureWarning: Pass the following variable as a keyword arg: x. From version 0.12, the only valid positional argument will be `data`, and passing other arguments without an explicit keyword will result in an error or misinterpretation.\n",
      "  warnings.warn(\n"
     ]
    },
    {
     "data": {
      "text/plain": [
       "Text(0.5, 1.0, 'Distribution of optimal-growth temperatures')"
      ]
     },
     "execution_count": 38,
     "metadata": {},
     "output_type": "execute_result"
    },
    {
     "data": {
      "image/png": "[encoded data removed]",
      "text/plain": [
       "<Figure size 576x360 with 1 Axes>"
      ]
     },
     "metadata": {},
     "output_type": "display_data"
    }
   ],
   "source": [
    "fig, ax = plt.subplots(figsize = (8,5))\n",
    "sns.violinplot(y_data)\n",
    "\n",
    "ax.set_xlabel('Source-organism optimal growth temperature (Celsius)')\n",
    "ax.set_ylabel('Ratio of dataset')\n",
    "plt.title('Distribution of optimal-growth temperatures', fontsize=16)"
   ]
  },
  {
   "cell_type": "code",
   "execution_count": null,
   "metadata": {},
   "outputs": [],
   "source": []
  },
  {
   "cell_type": "markdown",
   "metadata": {},
   "source": [
    "Let´s assign 3 temperature groups from our dataset.\n",
    "\n",
    "- [Thermophiles](https://en.wikipedia.org/wiki/Thermophile), with optimal growth temperature above 45 degrees\n",
    "- [Mesophiles](https://en.wikipedia.org/wiki/Mesophile), with optimal growth temperatures between 20 and 45 degrees\n",
    "- [Cryophiles](https://en.wikipedia.org/wiki/Psychrophile), with optimal growth temperature below 20 degrees\n",
    "\n",
    "These limits are roughly comparable to the limits defined by Prescott, Harley and Klein in Microbiology 7th edition.\n",
    "\n",
    "<img src=\"img/growth.png\" alt=\"Drawing\" style=\"width: 600px;\"/>\n",
    "\n",
    "**Image source: Prescott, Harley and Klein Microbiology 7th edition. Image URL:\n",
    "https://archive.org/details/Microbiology_7_edition_by_Joanne_Willey_Linda_Sherwood_Chris_Woolverton/page/n157**"
   ]
  },
  {
   "cell_type": "code",
   "execution_count": 39,
   "metadata": {},
   "outputs": [],
   "source": [
    "# y_data\n",
    "mesophiles_y = y_data[(y_data <= 45) * (y_data >= 20)]\n",
    "cryophiles_y = y_data[(y_data < 20)]\n",
    "thermophiles_y = y_data[(y_data > 45)]\n",
    "\n",
    "# X_data\n",
    "mesophiles_X = X_data[(y_data <= 45) * (y_data >= 20)]\n",
    "cryophiles_X = X_data[(y_data < 20)]\n",
    "thermophiles_X = X_data[(y_data > 45)]"
   ]
  },
  {
   "cell_type": "markdown",
   "metadata": {},
   "source": [
    "We can calculate the new median temperature of our 3 groups of sequences"
   ]
  },
  {
   "cell_type": "code",
   "execution_count": 40,
   "metadata": {},
   "outputs": [
    {
     "data": {
      "text/plain": [
       "(58.33333333333334, 30.0, 16.0)"
      ]
     },
     "execution_count": 40,
     "metadata": {},
     "output_type": "execute_result"
    }
   ],
   "source": [
    "np.median(thermophiles_y), np.median(mesophiles_y), np.median(cryophiles_y)"
   ]
  },
  {
   "cell_type": "markdown",
   "metadata": {},
   "source": [
    "In our dataset given the definitions used here, we observe a median optimal growth temperature of:\n",
    "- thermophiles: 58 degrees\n",
    "- mesophiles: 30 degrees\n",
    "- cryophiles: 16 degrees"
   ]
  },
  {
   "cell_type": "markdown",
   "metadata": {},
   "source": [
    "## Calculating average amino-acid content"
   ]
  },
  {
   "cell_type": "markdown",
   "metadata": {},
   "source": [
    "It would be interesting to investigate which features of a sequence are associated with the more extremophilic organisms compared to organisms preferring growth at non-extreme temperatures. We will therefore calculate the frequency of amino-acids in the sequences of the 3 groups, and observe whether there are any significant differences.\n",
    "\n",
    "We will normalize the residue count by the total number of sequences for that temperature group.\n",
    "\n",
    "*Note: For the sake of simplicity, and since we did not observe any significant relationship between sequence length and temperature, we do not normalize for the sequence length yet when calculating frequency of amino-acids. This will however be done when later calculating the average sequence ratios*"
   ]
  },
  {
   "cell_type": "code",
   "execution_count": null,
   "metadata": {},
   "outputs": [],
   "source": []
  },
  {
   "cell_type": "code",
   "execution_count": 41,
   "metadata": {},
   "outputs": [],
   "source": [
    "# First count integers for the 20 amino acids (1-20) and missing positions (0),\n",
    "# then remove the missing positions (first column)\n",
    "thermophile_count = counter(thermophiles_X)[:, 1:]\n",
    "mesophile_count = counter(mesophiles_X)[:, 1:]\n",
    "cryophile_count = counter(cryophiles_X)[:, 1:]\n",
    "\n",
    "#Sum the count for all sequences for each amino-acid, and normalize by total count\n",
    "thermophile_count_sum = np.sum(thermophile_count, axis = 0) / len(thermophile_count)\n",
    "mesophile_count_sum = np.sum(mesophile_count, axis = 0) / len(mesophile_count)\n",
    "cryophile_count_sum = np.sum(cryophile_count, axis = 0) / len(cryophile_count)\n"
   ]
  },
  {
   "cell_type": "code",
   "execution_count": 42,
   "metadata": {},
   "outputs": [
    {
     "name": "stdout",
     "output_type": "stream",
     "text": [
      "Average number of amino-acids in the thermophile sequences:\n"
     ]
    },
    {
     "data": {
      "text/html": [
       "<div>\n",
       "<style scoped>\n",
       "    .dataframe tbody tr th:only-of-type {\n",
       "        vertical-align: middle;\n",
       "    }\n",
       "\n",
       "    .dataframe tbody tr th {\n",
       "        vertical-align: top;\n",
       "    }\n",
       "\n",
       "    .dataframe thead th {\n",
       "        text-align: right;\n",
       "    }\n",
       "</style>\n",
       "<table border=\"1\" class=\"dataframe\">\n",
       "  <thead>\n",
       "    <tr style=\"text-align: right;\">\n",
       "      <th></th>\n",
       "      <th>Residue</th>\n",
       "    </tr>\n",
       "  </thead>\n",
       "  <tbody>\n",
       "    <tr>\n",
       "      <th>L</th>\n",
       "      <td>29.694662</td>\n",
       "    </tr>\n",
       "    <tr>\n",
       "      <th>A</th>\n",
       "      <td>23.667616</td>\n",
       "    </tr>\n",
       "    <tr>\n",
       "      <th>V</th>\n",
       "      <td>21.429181</td>\n",
       "    </tr>\n",
       "    <tr>\n",
       "      <th>G</th>\n",
       "      <td>20.936655</td>\n",
       "    </tr>\n",
       "    <tr>\n",
       "      <th>E</th>\n",
       "      <td>20.518861</td>\n",
       "    </tr>\n",
       "    <tr>\n",
       "      <th>I</th>\n",
       "      <td>19.543060</td>\n",
       "    </tr>\n",
       "    <tr>\n",
       "      <th>K</th>\n",
       "      <td>17.042705</td>\n",
       "    </tr>\n",
       "    <tr>\n",
       "      <th>R</th>\n",
       "      <td>16.214947</td>\n",
       "    </tr>\n",
       "    <tr>\n",
       "      <th>S</th>\n",
       "      <td>14.823488</td>\n",
       "    </tr>\n",
       "    <tr>\n",
       "      <th>D</th>\n",
       "      <td>13.580071</td>\n",
       "    </tr>\n",
       "    <tr>\n",
       "      <th>T</th>\n",
       "      <td>13.335231</td>\n",
       "    </tr>\n",
       "    <tr>\n",
       "      <th>P</th>\n",
       "      <td>12.274021</td>\n",
       "    </tr>\n",
       "    <tr>\n",
       "      <th>F</th>\n",
       "      <td>11.923843</td>\n",
       "    </tr>\n",
       "    <tr>\n",
       "      <th>N</th>\n",
       "      <td>9.940214</td>\n",
       "    </tr>\n",
       "    <tr>\n",
       "      <th>Y</th>\n",
       "      <td>9.545907</td>\n",
       "    </tr>\n",
       "    <tr>\n",
       "      <th>Q</th>\n",
       "      <td>8.364413</td>\n",
       "    </tr>\n",
       "    <tr>\n",
       "      <th>M</th>\n",
       "      <td>6.717438</td>\n",
       "    </tr>\n",
       "    <tr>\n",
       "      <th>H</th>\n",
       "      <td>5.170107</td>\n",
       "    </tr>\n",
       "    <tr>\n",
       "      <th>W</th>\n",
       "      <td>3.209253</td>\n",
       "    </tr>\n",
       "    <tr>\n",
       "      <th>C</th>\n",
       "      <td>2.525267</td>\n",
       "    </tr>\n",
       "  </tbody>\n",
       "</table>\n",
       "</div>"
      ],
      "text/plain": [
       "     Residue\n",
       "L  29.694662\n",
       "A  23.667616\n",
       "V  21.429181\n",
       "G  20.936655\n",
       "E  20.518861\n",
       "I  19.543060\n",
       "K  17.042705\n",
       "R  16.214947\n",
       "S  14.823488\n",
       "D  13.580071\n",
       "T  13.335231\n",
       "P  12.274021\n",
       "F  11.923843\n",
       "N   9.940214\n",
       "Y   9.545907\n",
       "Q   8.364413\n",
       "M   6.717438\n",
       "H   5.170107\n",
       "W   3.209253\n",
       "C   2.525267"
      ]
     },
     "execution_count": 42,
     "metadata": {},
     "output_type": "execute_result"
    }
   ],
   "source": [
    "# Create new dataframe with the thermophile residue frequencies,\n",
    "df = pd.DataFrame(thermophile_count_sum, index = aa_residues, columns = [\"Residue\"])\n",
    "\n",
    "# Order dataframe rows from most frequent to least frequent amino-acid\n",
    "order_descending = df.sort_values(by = \"Residue\", ascending = False).index\n",
    "\n",
    "print(\"Average number of amino-acids in the thermophile sequences:\")\n",
    "df.loc[order_descending]"
   ]
  },
  {
   "cell_type": "code",
   "execution_count": 43,
   "metadata": {},
   "outputs": [
    {
     "name": "stdout",
     "output_type": "stream",
     "text": [
      "Average length of thermophile sequences:\n"
     ]
    },
    {
     "data": {
      "text/plain": [
       "280.4569395017794"
      ]
     },
     "execution_count": 43,
     "metadata": {},
     "output_type": "execute_result"
    }
   ],
   "source": [
    "print(\"Average length of thermophile sequences:\")\n",
    "np.sum(df.values)"
   ]
  },
  {
   "cell_type": "code",
   "execution_count": 44,
   "metadata": {},
   "outputs": [
    {
     "data": {
      "text/plain": [
       "Text(0.5, 1.0, 'Average amino-acid frequency count')"
      ]
     },
     "execution_count": 44,
     "metadata": {},
     "output_type": "execute_result"
    },
    {
     "data": {
      "image/png": "[encoded data removed]",
      "text/plain": [
       "<Figure size 432x288 with 1 Axes>"
      ]
     },
     "metadata": {},
     "output_type": "display_data"
    }
   ],
   "source": [
    "# Create barplot for thermophile average sequence frequency of residues\n",
    "fig = sns.barplot(x = df.index, y = \"Residue\", data = df,\n",
    "            color = 'Red', alpha = .6,\n",
    "            label = 'Thermophiles',\n",
    "           order = order_descending)\n",
    "\n",
    "# Add graph legend, axis labels and title\n",
    "plt.legend()\n",
    "fig.set_xlabel('Amino-acid')\n",
    "fig.set_ylabel('Frequency-count')\n",
    "plt.title('Average amino-acid frequency count')"
   ]
  },
  {
   "cell_type": "markdown",
   "metadata": {},
   "source": [
    "#### Now let´s repeat the same with all 3 groups, and compare the barplots in a single graph."
   ]
  },
  {
   "cell_type": "code",
   "execution_count": 45,
   "metadata": {},
   "outputs": [
    {
     "data": {
      "text/plain": [
       "Text(0.5, 1.0, 'Average amino-acid frequency count')"
      ]
     },
     "execution_count": 45,
     "metadata": {},
     "output_type": "execute_result"
    },
    {
     "data": {
      "image/png": "[encoded data removed]",
      "text/plain": [
       "<Figure size 576x360 with 1 Axes>"
      ]
     },
     "metadata": {},
     "output_type": "display_data"
    }
   ],
   "source": [
    "# Initialize plot \n",
    "fig, ax = plt.subplots(figsize = (8,5))\n",
    "\n",
    "# Create dataframes and plot the 3 temperature groups, thermo-, meso- and cryophiles\n",
    "#Barplot for mesophiles\n",
    "df1 = pd.DataFrame(mesophile_count_sum, index = aa_residues, columns = [\"Residue\"])\n",
    "df1 = df1.loc[order_descending]\n",
    "ax = sns.barplot(x = df1.index, y = \"Residue\", data = df1, color = 'Orange',\n",
    "            alpha = 0.6, label = 'Mesophiles')\n",
    "\n",
    "#Barplot for cryophiles\n",
    "df2 = pd.DataFrame(cryophile_count_sum, index = aa_residues, columns = [\"Residue\"])\n",
    "df2 = df2.loc[order_descending]\n",
    "ax = sns.barplot(x = df2.index, y = \"Residue\", data = df2, color = 'Blue',\n",
    "            alpha = 0.6, label = 'Cryophiles')\n",
    "\n",
    "#Barplot for thermophiles\n",
    "df3 = pd.DataFrame(thermophile_count_sum, index = aa_residues, columns = [\"Residue\"])\n",
    "df3 = df3.loc[order_descending]\n",
    "ax = sns.barplot(x = df3.index, y = \"Residue\", data = df3, color = 'Red',\n",
    "            alpha = 0.6, label = 'Thermophiles')\n",
    "\n",
    "# Add graph legend, axis labels and title\n",
    "plt.legend()\n",
    "ax.set_xlabel('Frequency-count')\n",
    "ax.set_ylabel('Amino-acid')\n",
    "plt.title('Average amino-acid frequency count')"
   ]
  },
  {
   "cell_type": "markdown",
   "metadata": {},
   "source": [
    "**From the above bargraph, we observe that:**\n",
    "- The most common amino-acids in all groups are Leucine, Alanine and Valine.\n",
    "- The largest difference between the groups seems to be in the Alanine frequencies.\n",
    "- Residues like glutamine, methionine, histidine, tryptophan and cysteine are relatively rare\n"
   ]
  },
  {
   "cell_type": "markdown",
   "metadata": {},
   "source": [
    "We are not fond of overlapping bar charts. It becomes very hard to discern the color of bars hidden behind others. Let´s try to make our graph a little more easy to interpret. \n",
    "    \n",
    "Also, due to the bar lengths not being normalized by sequence lengths, it becomes difficult to visualize the relative changes in frequency between sequences and groups.\n",
    "    \n",
    "Let´s see if we find a better way to represent the information in the graph above."
   ]
  },
  {
   "cell_type": "code",
   "execution_count": null,
   "metadata": {},
   "outputs": [],
   "source": []
  },
  {
   "cell_type": "markdown",
   "metadata": {},
   "source": [
    "## Graphing changes in amino-acid content\n",
    "\n",
    "While in the above plot we can observe differences in the average frequency of each amino-acid, what could be more interesting to us is the change in relative frequency per amino-acid. For example, which residues are overrepresented or underrepresented in the thermophiles and cryophiles, compared to mesophiles as a baseline.\n",
    "    \n",
    "    \n",
    "In order to calculate this we first calculate the difference in the frequency counts, and then normalize the difference by the average frequency of that amino-acid. This gives us the percent change in residue frequency from the mesophile baseline frequency."
   ]
  },
  {
   "cell_type": "code",
   "execution_count": null,
   "metadata": {},
   "outputs": [],
   "source": []
  },
  {
   "cell_type": "code",
   "execution_count": 46,
   "metadata": {},
   "outputs": [],
   "source": [
    "def average_sequence_content(df):\n",
    "    # Calculates amino-acid frequency per sequence,\n",
    "    # calculate residue ratio per sequence (% content),\n",
    "    # then calculate average ratio for all sequences (avg % content)\n",
    "    counts = counter(df)[:, 1:]\n",
    "    sequence_ratio = counts / counts.sum(axis = 1).reshape(-1, 1)\n",
    "    average_sequence_ratio = np.sum(sequence_ratio, axis = 0) / len(df)\n",
    "    return(average_sequence_ratio)"
   ]
  },
  {
   "cell_type": "code",
   "execution_count": 47,
   "metadata": {},
   "outputs": [],
   "source": [
    "#Mesophiles vs thermophilees\n",
    "change_thermophiles = ((average_sequence_content(thermophiles_X) - average_sequence_content(mesophiles_X))\n",
    "            / average_sequence_content(thermophiles_X) * 100)\n",
    "change_thermophiles = np.round(change_thermophiles, 1)\n",
    "df_thermophiles = pd.DataFrame({\"Percent change\": change_thermophiles, \"Amino-acids\": aa_residues})\n",
    "\n",
    "#Find order for ascending percent change for thermophiles\n",
    "order_ascending = df_thermophiles.sort_values(by = \"Percent change\", ascending=False).index\n",
    "\n",
    "#Mesophiles vs cryophiles\n",
    "change_cryophiles = ((average_sequence_content(cryophiles_X) - average_sequence_content(mesophiles_X))\n",
    "            / average_sequence_content(cryophiles_X) * 100)\n",
    "change_cryophiles = np.round(change_cryophiles, 1)\n",
    "df_cryophiles = pd.DataFrame({\"Percent change\": change_cryophiles, \"Amino-acids\": aa_residues})"
   ]
  },
  {
   "cell_type": "code",
   "execution_count": 48,
   "metadata": {},
   "outputs": [
    {
     "name": "stdout",
     "output_type": "stream",
     "text": [
      "Relative amino-acid content change in cryophiles vs mesophiles\n"
     ]
    },
    {
     "data": {
      "text/html": [
       "<div>\n",
       "<style scoped>\n",
       "    .dataframe tbody tr th:only-of-type {\n",
       "        vertical-align: middle;\n",
       "    }\n",
       "\n",
       "    .dataframe tbody tr th {\n",
       "        vertical-align: top;\n",
       "    }\n",
       "\n",
       "    .dataframe thead th {\n",
       "        text-align: right;\n",
       "    }\n",
       "</style>\n",
       "<table border=\"1\" class=\"dataframe\">\n",
       "  <thead>\n",
       "    <tr style=\"text-align: right;\">\n",
       "      <th></th>\n",
       "      <th>Percent change</th>\n",
       "      <th>Amino-acids</th>\n",
       "    </tr>\n",
       "  </thead>\n",
       "  <tbody>\n",
       "    <tr>\n",
       "      <th>0</th>\n",
       "      <td>-17.7</td>\n",
       "      <td>A</td>\n",
       "    </tr>\n",
       "    <tr>\n",
       "      <th>1</th>\n",
       "      <td>-1.0</td>\n",
       "      <td>C</td>\n",
       "    </tr>\n",
       "    <tr>\n",
       "      <th>2</th>\n",
       "      <td>-5.3</td>\n",
       "      <td>D</td>\n",
       "    </tr>\n",
       "    <tr>\n",
       "      <th>3</th>\n",
       "      <td>0.2</td>\n",
       "      <td>E</td>\n",
       "    </tr>\n",
       "    <tr>\n",
       "      <th>4</th>\n",
       "      <td>12.5</td>\n",
       "      <td>F</td>\n",
       "    </tr>\n",
       "    <tr>\n",
       "      <th>5</th>\n",
       "      <td>-12.8</td>\n",
       "      <td>G</td>\n",
       "    </tr>\n",
       "    <tr>\n",
       "      <th>6</th>\n",
       "      <td>-5.9</td>\n",
       "      <td>H</td>\n",
       "    </tr>\n",
       "    <tr>\n",
       "      <th>7</th>\n",
       "      <td>17.0</td>\n",
       "      <td>I</td>\n",
       "    </tr>\n",
       "    <tr>\n",
       "      <th>8</th>\n",
       "      <td>25.4</td>\n",
       "      <td>K</td>\n",
       "    </tr>\n",
       "    <tr>\n",
       "      <th>9</th>\n",
       "      <td>-2.2</td>\n",
       "      <td>L</td>\n",
       "    </tr>\n",
       "    <tr>\n",
       "      <th>10</th>\n",
       "      <td>5.2</td>\n",
       "      <td>M</td>\n",
       "    </tr>\n",
       "    <tr>\n",
       "      <th>11</th>\n",
       "      <td>23.3</td>\n",
       "      <td>N</td>\n",
       "    </tr>\n",
       "    <tr>\n",
       "      <th>12</th>\n",
       "      <td>-18.7</td>\n",
       "      <td>P</td>\n",
       "    </tr>\n",
       "    <tr>\n",
       "      <th>13</th>\n",
       "      <td>6.8</td>\n",
       "      <td>Q</td>\n",
       "    </tr>\n",
       "    <tr>\n",
       "      <th>14</th>\n",
       "      <td>-27.0</td>\n",
       "      <td>R</td>\n",
       "    </tr>\n",
       "    <tr>\n",
       "      <th>15</th>\n",
       "      <td>7.3</td>\n",
       "      <td>S</td>\n",
       "    </tr>\n",
       "    <tr>\n",
       "      <th>16</th>\n",
       "      <td>2.0</td>\n",
       "      <td>T</td>\n",
       "    </tr>\n",
       "    <tr>\n",
       "      <th>17</th>\n",
       "      <td>-7.6</td>\n",
       "      <td>V</td>\n",
       "    </tr>\n",
       "    <tr>\n",
       "      <th>18</th>\n",
       "      <td>-6.0</td>\n",
       "      <td>W</td>\n",
       "    </tr>\n",
       "    <tr>\n",
       "      <th>19</th>\n",
       "      <td>9.1</td>\n",
       "      <td>Y</td>\n",
       "    </tr>\n",
       "  </tbody>\n",
       "</table>\n",
       "</div>"
      ],
      "text/plain": [
       "    Percent change Amino-acids\n",
       "0            -17.7           A\n",
       "1             -1.0           C\n",
       "2             -5.3           D\n",
       "3              0.2           E\n",
       "4             12.5           F\n",
       "5            -12.8           G\n",
       "6             -5.9           H\n",
       "7             17.0           I\n",
       "8             25.4           K\n",
       "9             -2.2           L\n",
       "10             5.2           M\n",
       "11            23.3           N\n",
       "12           -18.7           P\n",
       "13             6.8           Q\n",
       "14           -27.0           R\n",
       "15             7.3           S\n",
       "16             2.0           T\n",
       "17            -7.6           V\n",
       "18            -6.0           W\n",
       "19             9.1           Y"
      ]
     },
     "execution_count": 48,
     "metadata": {},
     "output_type": "execute_result"
    }
   ],
   "source": [
    "print(\"Relative amino-acid content change in cryophiles vs mesophiles\")\n",
    "df_cryophiles"
   ]
  },
  {
   "cell_type": "markdown",
   "metadata": {},
   "source": [
    "Now that we have the percent residue change for both cryophiles and thermophiles vs mesophiles, we merge both into a single dataframe and keep track of which group the values belong to by adding a new column.\n",
    "\n",
    "The Group column will later be used by Seaborn to give the correct color to the bar plot while graphing."
   ]
  },
  {
   "cell_type": "code",
   "execution_count": null,
   "metadata": {},
   "outputs": [],
   "source": []
  },
  {
   "cell_type": "code",
   "execution_count": 49,
   "metadata": {},
   "outputs": [],
   "source": [
    "# Combining data into single dataframe\n",
    "melt_df = pd.concat((df_thermophiles, df_cryophiles))\n",
    "\n",
    "# Adding \"group\" label to keep track of which residue percent change belongs to which organism group\n",
    "melt_df[\"Group\"] = np.repeat([\"Thermophiles\", \"Cryophiles\"], 20)\n",
    "\n",
    "# Order residues\n",
    "melt_df = melt_df.loc[order_ascending]"
   ]
  },
  {
   "cell_type": "code",
   "execution_count": 50,
   "metadata": {},
   "outputs": [
    {
     "data": {
      "text/html": [
       "<div>\n",
       "<style scoped>\n",
       "    .dataframe tbody tr th:only-of-type {\n",
       "        vertical-align: middle;\n",
       "    }\n",
       "\n",
       "    .dataframe tbody tr th {\n",
       "        vertical-align: top;\n",
       "    }\n",
       "\n",
       "    .dataframe thead th {\n",
       "        text-align: right;\n",
       "    }\n",
       "</style>\n",
       "<table border=\"1\" class=\"dataframe\">\n",
       "  <thead>\n",
       "    <tr style=\"text-align: right;\">\n",
       "      <th></th>\n",
       "      <th>Percent change</th>\n",
       "      <th>Amino-acids</th>\n",
       "      <th>Group</th>\n",
       "    </tr>\n",
       "  </thead>\n",
       "  <tbody>\n",
       "    <tr>\n",
       "      <th>8</th>\n",
       "      <td>25.5</td>\n",
       "      <td>K</td>\n",
       "      <td>Thermophiles</td>\n",
       "    </tr>\n",
       "    <tr>\n",
       "      <th>8</th>\n",
       "      <td>25.4</td>\n",
       "      <td>K</td>\n",
       "      <td>Cryophiles</td>\n",
       "    </tr>\n",
       "    <tr>\n",
       "      <th>19</th>\n",
       "      <td>17.3</td>\n",
       "      <td>Y</td>\n",
       "      <td>Thermophiles</td>\n",
       "    </tr>\n",
       "    <tr>\n",
       "      <th>19</th>\n",
       "      <td>9.1</td>\n",
       "      <td>Y</td>\n",
       "      <td>Cryophiles</td>\n",
       "    </tr>\n",
       "    <tr>\n",
       "      <th>3</th>\n",
       "      <td>15.6</td>\n",
       "      <td>E</td>\n",
       "      <td>Thermophiles</td>\n",
       "    </tr>\n",
       "    <tr>\n",
       "      <th>3</th>\n",
       "      <td>0.2</td>\n",
       "      <td>E</td>\n",
       "      <td>Cryophiles</td>\n",
       "    </tr>\n",
       "    <tr>\n",
       "      <th>7</th>\n",
       "      <td>14.9</td>\n",
       "      <td>I</td>\n",
       "      <td>Thermophiles</td>\n",
       "    </tr>\n",
       "    <tr>\n",
       "      <th>7</th>\n",
       "      <td>17.0</td>\n",
       "      <td>I</td>\n",
       "      <td>Cryophiles</td>\n",
       "    </tr>\n",
       "    <tr>\n",
       "      <th>4</th>\n",
       "      <td>11.0</td>\n",
       "      <td>F</td>\n",
       "      <td>Thermophiles</td>\n",
       "    </tr>\n",
       "    <tr>\n",
       "      <th>4</th>\n",
       "      <td>12.5</td>\n",
       "      <td>F</td>\n",
       "      <td>Cryophiles</td>\n",
       "    </tr>\n",
       "    <tr>\n",
       "      <th>11</th>\n",
       "      <td>4.1</td>\n",
       "      <td>N</td>\n",
       "      <td>Thermophiles</td>\n",
       "    </tr>\n",
       "    <tr>\n",
       "      <th>11</th>\n",
       "      <td>23.3</td>\n",
       "      <td>N</td>\n",
       "      <td>Cryophiles</td>\n",
       "    </tr>\n",
       "    <tr>\n",
       "      <th>1</th>\n",
       "      <td>4.0</td>\n",
       "      <td>C</td>\n",
       "      <td>Thermophiles</td>\n",
       "    </tr>\n",
       "    <tr>\n",
       "      <th>1</th>\n",
       "      <td>-1.0</td>\n",
       "      <td>C</td>\n",
       "      <td>Cryophiles</td>\n",
       "    </tr>\n",
       "    <tr>\n",
       "      <th>9</th>\n",
       "      <td>2.9</td>\n",
       "      <td>L</td>\n",
       "      <td>Thermophiles</td>\n",
       "    </tr>\n",
       "    <tr>\n",
       "      <th>9</th>\n",
       "      <td>-2.2</td>\n",
       "      <td>L</td>\n",
       "      <td>Cryophiles</td>\n",
       "    </tr>\n",
       "    <tr>\n",
       "      <th>17</th>\n",
       "      <td>1.2</td>\n",
       "      <td>V</td>\n",
       "      <td>Thermophiles</td>\n",
       "    </tr>\n",
       "    <tr>\n",
       "      <th>17</th>\n",
       "      <td>-7.6</td>\n",
       "      <td>V</td>\n",
       "      <td>Cryophiles</td>\n",
       "    </tr>\n",
       "    <tr>\n",
       "      <th>14</th>\n",
       "      <td>-0.4</td>\n",
       "      <td>R</td>\n",
       "      <td>Thermophiles</td>\n",
       "    </tr>\n",
       "    <tr>\n",
       "      <th>14</th>\n",
       "      <td>-27.0</td>\n",
       "      <td>R</td>\n",
       "      <td>Cryophiles</td>\n",
       "    </tr>\n",
       "    <tr>\n",
       "      <th>10</th>\n",
       "      <td>-0.7</td>\n",
       "      <td>M</td>\n",
       "      <td>Thermophiles</td>\n",
       "    </tr>\n",
       "    <tr>\n",
       "      <th>10</th>\n",
       "      <td>5.2</td>\n",
       "      <td>M</td>\n",
       "      <td>Cryophiles</td>\n",
       "    </tr>\n",
       "    <tr>\n",
       "      <th>18</th>\n",
       "      <td>-2.7</td>\n",
       "      <td>W</td>\n",
       "      <td>Thermophiles</td>\n",
       "    </tr>\n",
       "    <tr>\n",
       "      <th>18</th>\n",
       "      <td>-6.0</td>\n",
       "      <td>W</td>\n",
       "      <td>Cryophiles</td>\n",
       "    </tr>\n",
       "    <tr>\n",
       "      <th>12</th>\n",
       "      <td>-3.4</td>\n",
       "      <td>P</td>\n",
       "      <td>Thermophiles</td>\n",
       "    </tr>\n",
       "    <tr>\n",
       "      <th>12</th>\n",
       "      <td>-18.7</td>\n",
       "      <td>P</td>\n",
       "      <td>Cryophiles</td>\n",
       "    </tr>\n",
       "    <tr>\n",
       "      <th>5</th>\n",
       "      <td>-4.5</td>\n",
       "      <td>G</td>\n",
       "      <td>Thermophiles</td>\n",
       "    </tr>\n",
       "    <tr>\n",
       "      <th>5</th>\n",
       "      <td>-12.8</td>\n",
       "      <td>G</td>\n",
       "      <td>Cryophiles</td>\n",
       "    </tr>\n",
       "    <tr>\n",
       "      <th>15</th>\n",
       "      <td>-9.8</td>\n",
       "      <td>S</td>\n",
       "      <td>Thermophiles</td>\n",
       "    </tr>\n",
       "    <tr>\n",
       "      <th>15</th>\n",
       "      <td>7.3</td>\n",
       "      <td>S</td>\n",
       "      <td>Cryophiles</td>\n",
       "    </tr>\n",
       "    <tr>\n",
       "      <th>16</th>\n",
       "      <td>-16.3</td>\n",
       "      <td>T</td>\n",
       "      <td>Thermophiles</td>\n",
       "    </tr>\n",
       "    <tr>\n",
       "      <th>16</th>\n",
       "      <td>2.0</td>\n",
       "      <td>T</td>\n",
       "      <td>Cryophiles</td>\n",
       "    </tr>\n",
       "    <tr>\n",
       "      <th>6</th>\n",
       "      <td>-16.4</td>\n",
       "      <td>H</td>\n",
       "      <td>Thermophiles</td>\n",
       "    </tr>\n",
       "    <tr>\n",
       "      <th>6</th>\n",
       "      <td>-5.9</td>\n",
       "      <td>H</td>\n",
       "      <td>Cryophiles</td>\n",
       "    </tr>\n",
       "    <tr>\n",
       "      <th>2</th>\n",
       "      <td>-17.0</td>\n",
       "      <td>D</td>\n",
       "      <td>Thermophiles</td>\n",
       "    </tr>\n",
       "    <tr>\n",
       "      <th>2</th>\n",
       "      <td>-5.3</td>\n",
       "      <td>D</td>\n",
       "      <td>Cryophiles</td>\n",
       "    </tr>\n",
       "    <tr>\n",
       "      <th>13</th>\n",
       "      <td>-18.8</td>\n",
       "      <td>Q</td>\n",
       "      <td>Thermophiles</td>\n",
       "    </tr>\n",
       "    <tr>\n",
       "      <th>13</th>\n",
       "      <td>6.8</td>\n",
       "      <td>Q</td>\n",
       "      <td>Cryophiles</td>\n",
       "    </tr>\n",
       "    <tr>\n",
       "      <th>0</th>\n",
       "      <td>-23.3</td>\n",
       "      <td>A</td>\n",
       "      <td>Thermophiles</td>\n",
       "    </tr>\n",
       "    <tr>\n",
       "      <th>0</th>\n",
       "      <td>-17.7</td>\n",
       "      <td>A</td>\n",
       "      <td>Cryophiles</td>\n",
       "    </tr>\n",
       "  </tbody>\n",
       "</table>\n",
       "</div>"
      ],
      "text/plain": [
       "    Percent change Amino-acids         Group\n",
       "8             25.5           K  Thermophiles\n",
       "8             25.4           K    Cryophiles\n",
       "19            17.3           Y  Thermophiles\n",
       "19             9.1           Y    Cryophiles\n",
       "3             15.6           E  Thermophiles\n",
       "3              0.2           E    Cryophiles\n",
       "7             14.9           I  Thermophiles\n",
       "7             17.0           I    Cryophiles\n",
       "4             11.0           F  Thermophiles\n",
       "4             12.5           F    Cryophiles\n",
       "11             4.1           N  Thermophiles\n",
       "11            23.3           N    Cryophiles\n",
       "1              4.0           C  Thermophiles\n",
       "1             -1.0           C    Cryophiles\n",
       "9              2.9           L  Thermophiles\n",
       "9             -2.2           L    Cryophiles\n",
       "17             1.2           V  Thermophiles\n",
       "17            -7.6           V    Cryophiles\n",
       "14            -0.4           R  Thermophiles\n",
       "14           -27.0           R    Cryophiles\n",
       "10            -0.7           M  Thermophiles\n",
       "10             5.2           M    Cryophiles\n",
       "18            -2.7           W  Thermophiles\n",
       "18            -6.0           W    Cryophiles\n",
       "12            -3.4           P  Thermophiles\n",
       "12           -18.7           P    Cryophiles\n",
       "5             -4.5           G  Thermophiles\n",
       "5            -12.8           G    Cryophiles\n",
       "15            -9.8           S  Thermophiles\n",
       "15             7.3           S    Cryophiles\n",
       "16           -16.3           T  Thermophiles\n",
       "16             2.0           T    Cryophiles\n",
       "6            -16.4           H  Thermophiles\n",
       "6             -5.9           H    Cryophiles\n",
       "2            -17.0           D  Thermophiles\n",
       "2             -5.3           D    Cryophiles\n",
       "13           -18.8           Q  Thermophiles\n",
       "13             6.8           Q    Cryophiles\n",
       "0            -23.3           A  Thermophiles\n",
       "0            -17.7           A    Cryophiles"
      ]
     },
     "execution_count": 50,
     "metadata": {},
     "output_type": "execute_result"
    }
   ],
   "source": [
    "melt_df"
   ]
  },
  {
   "cell_type": "markdown",
   "metadata": {},
   "source": [
    "Let us graph the changes using Seaborn´s barplot function.\n",
    "\n",
    "We will also use a custom function from Secant Zhang posted on StackOverflow in order to display the values on the bargraph."
   ]
  },
  {
   "cell_type": "code",
   "execution_count": null,
   "metadata": {},
   "outputs": [],
   "source": []
  },
  {
   "cell_type": "code",
   "execution_count": 51,
   "metadata": {},
   "outputs": [],
   "source": [
    "from scripts.plotting_scripts import *\n",
    "# show_values_on_bars:\n",
    "# Custom adapted function for displaying values on bar graphs\n",
    "# Original credit to Secant Zhang, Jun 26 2019\n",
    "# \"Seaborn Barplot - Displaying Values\", StackOverflow\n",
    "# URL: https://stackoverflow.com/questions/43214978/seaborn-barplot-displaying-values"
   ]
  },
  {
   "cell_type": "code",
   "execution_count": 52,
   "metadata": {},
   "outputs": [
    {
     "name": "stderr",
     "output_type": "stream",
     "text": [
      "/Users/admin/opt/anaconda3/envs/biodatascience101/lib/python3.9/site-packages/seaborn/_decorators.py:36: FutureWarning: Pass the following variables as keyword args: x, y. From version 0.12, the only valid positional argument will be `data`, and passing other arguments without an explicit keyword will result in an error or misinterpretation.\n",
      "  warnings.warn(\n",
      "/var/folders/xq/4dfn_6kx7613dqly277t20r00000gn/T/ipykernel_3730/1412188900.py:15: UserWarning: FixedFormatter should only be used together with FixedLocator\n",
      "  ax.set_yticklabels([(str(y) + \" %\") for y in y_values])\n"
     ]
    },
    {
     "data": {
      "image/png": "[encoded data removed]",
      "text/plain": [
       "<Figure size 1152x720 with 1 Axes>"
      ]
     },
     "metadata": {},
     "output_type": "display_data"
    }
   ],
   "source": [
    "sns.set(font_scale=1.5)\n",
    "sns.set_style(\"darkgrid\")\n",
    "\n",
    "colors = [\"Red\", \"lightblue\"]\n",
    "fig, ax = plt.subplots(figsize = (16,10))\n",
    "fig = sns.barplot(\"Amino-acids\", \"Percent change\", hue=\"Group\",\n",
    "            palette = colors, data=melt_df)\n",
    "plt.title('Change in amino-acid content:\\n Extremophiles vs mesophiles')\n",
    "\n",
    "# Use custom function to show values of bars\n",
    "show_values_on_bars(fig, \"v\", fontsize = 16, space = 0.7)\n",
    "\n",
    "# Manipulate y-axis\n",
    "y_values = ax.get_yticks()\n",
    "ax.set_yticklabels([(str(y) + \" %\") for y in y_values])\n",
    "\n",
    "# Save plot\n",
    "plt.savefig(\"extremophile_amino_content.png\")"
   ]
  },
  {
   "cell_type": "markdown",
   "metadata": {},
   "source": [
    "In our analysis we observe these differences in the extremophiles compared to mesophiles:\n",
    "- **Thermophiles** have a higher content of Lysine (+ 26%), Tyrosine (+ 17 %), Glutamate (+ 16 %) and Isoleucines (+ 15 %)\n",
    "- **Thermophiles** have a lower content of Alanine (- 23 %), Glutamic acid (- 19 %), Aspartic acid (- 17 %), Histidines (- 16 %) and Threonines (- 16 %)\n",
    "\n",
    "- **Cryophiles** have a higher content of Lysines (+ 25 %), Asparagines (+ 23 %) and Isoleucines (+ 17 %)\n",
    "- **Cryophiles** have a lower content of Arginine (- 27 %), Proline (- 19 %) and Alanines (- 18 %)\n",
    "\n",
    "- **Cryophiles compared to thermophiles** have significantly higher Glutamic acid (+ 25 %) and Serine (+ 17 %) content, and significantly lower Arginine content (ca -27 %)"
   ]
  },
  {
   "cell_type": "code",
   "execution_count": null,
   "metadata": {},
   "outputs": [],
   "source": []
  },
  {
   "cell_type": "markdown",
   "metadata": {},
   "source": [
    "Note that since we only used a proxy of the given optimal growth temperature for assigning the proteins to the 3 groups, we do not actually know the true label for the protein sequences. Also without knowing more about the source of the dataset and how the values were calculated, we should not assign too much weight to the calculated percentages here.\n",
    "\n",
    "**Are our findings in agreement with the scientific literature consensus on amino-acid differences between the temperature groups?**\n",
    "\n",
    "**Read more: Devi et al, 2013, Comparative analysis of amino acid sequences from mesophiles and thermophiles in respective of carbon–nitrogen hydrolase family.\n",
    "URL: https://www.ncbi.nlm.nih.gov/pmc/articles/PMC3824785/**\n"
   ]
  },
  {
   "cell_type": "code",
   "execution_count": null,
   "metadata": {},
   "outputs": [],
   "source": []
  },
  {
   "cell_type": "markdown",
   "metadata": {},
   "source": [
    "__Final summary:__\n",
    "\n",
    "Finally we have:\n",
    "- Imported and processed data using numpy\n",
    "- Translated sequences into amino-acid sequences\n",
    "- Extracted datapoints directly from a plot and used them to annotate interesting areas\n",
    "- Plotted dataset correlations\n",
    "- Visualized scatterplot, lineplot, boxplot and violinplots in Seaborn\n",
    "- Calculated and plotted amino-acid frequncies\n",
    "- Shown distribution and difference in frequency of amino-acids between thermo, meso and cryophiles"
   ]
  },
  {
   "cell_type": "markdown",
   "metadata": {},
   "source": [
    "#### Read more:\n",
    "- Introduction to NumPy: http://cs231n.github.io/python-numpy-tutorial/\n",
    "- Seaborn plotting tutorial: https://seaborn.pydata.org/tutorial.html\n",
    "- Introduction to matplotlib in Python: https://towardsdatascience.com/introduction-to-matplotlib-in-python-5f5a9919991f\n"
   ]
  },
  {
   "cell_type": "code",
   "execution_count": null,
   "metadata": {},
   "outputs": [],
   "source": []
  },
  {
   "cell_type": "markdown",
   "metadata": {},
   "source": [
    "### Notebook for [Biodatascience101.github.io](https://biodatascience101.github.io) - Simple and effective biological data science training\n",
    "### By [Magnus Haraldson Høie](https://twitter.com/magnushoie) and [Andreas Fønss Møller](https://github.com/foenssmoeller)"
   ]
  },
  {
   "cell_type": "code",
   "execution_count": null,
   "metadata": {},
   "outputs": [],
   "source": []
  }
 ],
 "metadata": {
  "kernelspec": {
   "display_name": "Python 3 (ipykernel)",
   "language": "python",
   "name": "python3"
  },
  "language_info": {
   "codemirror_mode": {
    "name": "ipython",
    "version": 3
   },
   "file_extension": ".py",
   "mimetype": "text/x-python",
   "name": "python",
   "nbconvert_exporter": "python",
   "pygments_lexer": "ipython3",
   "version": "3.9.6"
  }
 },
 "nbformat": 4,
 "nbformat_minor": 2
}
