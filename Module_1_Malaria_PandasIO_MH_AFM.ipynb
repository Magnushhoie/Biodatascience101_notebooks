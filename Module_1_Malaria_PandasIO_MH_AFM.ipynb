{
 "cells": [
  {
   "cell_type": "markdown",
   "metadata": {},
   "source": [
    "# Data modeling in Pandas"
   ]
  },
  {
   "cell_type": "markdown",
   "metadata": {},
   "source": [
    "## Learning objectives"
   ]
  },
  {
   "cell_type": "markdown",
   "metadata": {},
   "source": [
    "This notebook is designed to give users an introduction to: \n",
    "\n",
    "- Importing files using Pandas\n",
    "\n",
    "- Dataset inspection and manipulation\n",
    "\n",
    "- Normalization, imputing missing values and data transformations\n",
    "\n",
    "- Descriptive statistics\n",
    "\n",
    "- Dimensionality reduction\n",
    "\n",
    "- Clustering\n",
    "\n",
    "- Principal component analysis\n",
    "\n",
    "- Simple data visualization\n",
    "\n",
    "**Users will after this notebook be able to:**\n",
    "\n",
    "- Demonstrate a basic use of the Pandas data handling library\n",
    "\n",
    "- Handle importing and processing protein expression level data\n",
    "\n",
    "- Generate dataset statistics and show correlation heatmaps\n",
    "\n",
    "- Generate simple data visualization graphs\n",
    "\n",
    "- Perform, visualize and explain principal component analysis"
   ]
  },
  {
   "cell_type": "code",
   "execution_count": null,
   "metadata": {},
   "outputs": [],
   "source": []
  },
  {
   "cell_type": "markdown",
   "metadata": {},
   "source": [
    "# Case study:\n",
    "# Quantifying relative protein levels in malaria-infected mice"
   ]
  },
  {
   "cell_type": "markdown",
   "metadata": {},
   "source": [
    "<a href=\"img/malaria_paper.png\"><center> <img src=\"img/malaria_paper.png\" alt=\"Drawing\" style=\"width: 600px;\"/> <center><a/>\n",
    "\n"
   ]
  },
  {
   "cell_type": "markdown",
   "metadata": {},
   "source": [
    "**Paper: Tiberti, N et. al. Exploring experimental cerebral malaria pathogenesis through the characterisation of host-derived plasma microparticle protein content,  Scientific Reports (2016) https://www.nature.com/articles/srep37871**"
   ]
  },
  {
   "cell_type": "markdown",
   "metadata": {},
   "source": [
    "**The aim of the study was to investigate which proteins were significantly over- or underexpressed between different malaria stage conditions of experimentally infected cerebral malaria in mice.**\n",
    "\n",
    "Malaria is as severe infectious disease with significant morbidity and mortality. Though being widespread in many parts of the world, the complete disease mechanism is not understood.\n",
    "\n",
    "This study investigated plasma protein levels (a proposed effector of malaria) in mouse strains under different stages of malaria infection, using qualitative and quantitative high-throughput mass spectrometry based proteomics."
   ]
  },
  {
   "cell_type": "code",
   "execution_count": null,
   "metadata": {},
   "outputs": [],
   "source": []
  },
  {
   "cell_type": "markdown",
   "metadata": {},
   "source": [
    "The experiment used Tandem-Mass-Tagging Mass Spectrometry (TMT-MS) for quantification of proteome in Malaria infected mice. TMT-MS makes use of special isobaric chemical tags which allow for uniquely tagging multiple samples which can then be analyzed in a single run. The TMT-tagged peptides of each sample can then be used both to identify the original sample and for relative quantification of peptides to one another.\n",
    "\n",
    "<a href=\"img/tmt_workflow.jpg\"><center> <img src=\"img/tmt_workflow.jpg\" alt=\"Drawing\" style=\"width: 600px;\"/> <center/><a/>\n",
    "\n",
    "**Source: Planet Orbitrap, \"Relative Quantitation\". URL: https://planetorbitrap.com/tmt**\n",
    "\n",
    "**Read more on Tandem-Mass-Tag quantitation MS: https://www.thermofisher.com/dk/en/home/industrial/mass-spectrometry/proteomics-protein-mass-spectrometry/proteomics-protein-mass-spectrometry-workflows/relative-quantitation/tmt-quantitation.html#how-tmt-works**"
   ]
  },
  {
   "cell_type": "code",
   "execution_count": null,
   "metadata": {},
   "outputs": [],
   "source": []
  },
  {
   "cell_type": "markdown",
   "metadata": {},
   "source": [
    "## Dataset description"
   ]
  },
  {
   "cell_type": "markdown",
   "metadata": {},
   "source": [
    "Two parallel experiments were performed in the experiment, with 6 mice in each (12 in total). \n",
    "\n",
    "<a href=\"img/tmt_workflow.jpg\"><center> <a href=\"img/module1_wf.jpg\"><img src=\"img/module1_wf.jpg\" alt=\"Drawing\" style=\"width: 400px;\"/> <center/><a/>\n"
   ]
  },
  {
   "cell_type": "markdown",
   "metadata": {},
   "source": [
    "Each of the 2 experiments had:\n",
    "- 2 mice with non-infected status (controls)\n",
    "- 2 mice with day 3 post-infection (only sampled 3 days after infection)\n",
    "- 2 mice with Experimental Cerebral Malaria stage (ECM) day 8 (only sampled 8 days after infection upon evidence of ECM)\n",
    "\n",
    "The dataset consists of in total 12 samples and the relative quantification levels of 748 proteins expressed log base 2 format. Not all proteins have quantified levels in all samples.\n"
   ]
  },
  {
   "cell_type": "code",
   "execution_count": null,
   "metadata": {},
   "outputs": [],
   "source": []
  },
  {
   "cell_type": "markdown",
   "metadata": {},
   "source": [
    "## Library import"
   ]
  },
  {
   "cell_type": "markdown",
   "metadata": {},
   "source": [
    "Below we will import a series of libraries which will be used to run the code we will need for the analysis of our protein quantification dataset"
   ]
  },
  {
   "cell_type": "code",
   "execution_count": 1,
   "metadata": {},
   "outputs": [
    {
     "data": {
      "text/html": [
       "<style>div.green { \n",
       "                    background-color: #9ad190;\n",
       "                    border-color: #1c8538; \n",
       "                    border-left: 5px solid #1c8538; \n",
       "                    padding: 0.5em;}\n",
       "                    div.red { \n",
       "                    background-color: #fcf2f2;\n",
       "                    border-color: #dFb5b4; \n",
       "                    border-left: 5px solid #dfb5b4; \n",
       "                    padding: 0.5em;}\n",
       "                    div.yellow { \n",
       "                    background-color: #f7eb99;\n",
       "                    border-color: #edd11a; \n",
       "                    border-left: 5px solid #edd11a; \n",
       "                    padding: 0.5em;}\n",
       "                    div.blue { \n",
       "                    background-color: #c9deff;\n",
       "                    border-color: #9cc2ff; \n",
       "                    border-left: 5px solid #9cc2ff; \n",
       "                    padding: 0.5em;}<style>\n",
       "                    "
      ],
      "text/plain": [
       "<IPython.core.display.HTML object>"
      ]
     },
     "execution_count": 1,
     "metadata": {},
     "output_type": "execute_result"
    }
   ],
   "source": [
    "# Data science libraries\n",
    "import pandas as pd\n",
    "import numpy as np\n",
    "from sklearn import *\n",
    "\n",
    "# Plotting libraries\n",
    "from matplotlib import *\n",
    "import matplotlib.pyplot as plt\n",
    "import seaborn as sns\n",
    "\n",
    "# Custom module for checking answers\n",
    "sys.path.insert(0, \"scripts/\")\n",
    "from CheckModuleAnswers import *\n",
    "\n",
    "# This is a custom script which gives intended coloring to cells in this notebook\n",
    "from scripts.noteStyle import set_styles, background\n",
    "set_styles()"
   ]
  },
  {
   "cell_type": "markdown",
   "metadata": {},
   "source": [
    "Additionally the [Jupyter](https://ipython.readthedocs.io/en/stable/interactive/magics.html) [Magics](https://towardsdatascience.com/the-top-5-magic-commands-for-jupyter-notebooks-2bf0c5ae4bb8) commands below will allow us to show matplotlib graphs inside jupyter notebook, and make sure that if we change any of our scripts that we will always run the latest version of the script."
   ]
  },
  {
   "cell_type": "code",
   "execution_count": 2,
   "metadata": {},
   "outputs": [],
   "source": [
    "%matplotlib inline\n",
    "%reload_ext autoreload\n",
    "%autoreload 2\n",
    "#Show matplotlib graphs directly in jupyter notebook\n",
    "# Allow reloading of scripts\n",
    "# Automatically reload scripts if they change"
   ]
  },
  {
   "cell_type": "markdown",
   "metadata": {},
   "source": [
    "## Color coding"
   ]
  },
  {
   "cell_type": "markdown",
   "metadata": {},
   "source": [
    "## Importing data in Pandas"
   ]
  },
  {
   "cell_type": "markdown",
   "metadata": {},
   "source": [
    "__The dataset can be easily imported into a Pandas DataFrame using the read_csv method__\n",
    "\n",
    "Pandas is a python library that provides easy-to-use data structures as well as data preprocessing and analysis methods. \n",
    "Pandas is mostly known for it's DataFrame structure for tabular data (similar to native dataframes in R). \n",
    "More information on the Pandas project can be found on: https://pandas.pydata.org.\n",
    "\n",
    "A quick tutorial on using Pandas can be found here: https://pandas.pydata.org/pandas-docs/stable/getting_started/10min.html"
   ]
  },
  {
   "cell_type": "markdown",
   "metadata": {},
   "source": [
    "#### Reading in tabular data from files"
   ]
  },
  {
   "cell_type": "markdown",
   "metadata": {},
   "source": [
    "To import data Pandas provide a range of import methods for different data formats. \n",
    "In this example, the data is provided as a comma separated CSV file. Thus, we use the **read_csv** method which can read any comma (or other character) separated file.\n",
    "\n",
    "**read_csv** comes with a variety of arguments, to appropriately import any csv file.\n",
    "\n",
    "To see the available parameters, use **shift + tab** after the entered command\n",
    "\n",
    "Most common parameters:\n",
    "- filepath_or_buffer : string specifying the path to the data. \n",
    "- sep : string specifying the separator used. Default is \",\" but also \"\\t\" (tab) and \";\" is common. \n",
    "- header : integer specifying the row number used as column names (e.g. 0). \n",
    "- index_col : integer specifying the column number used as column names (e.g. 0). \n",
    "- decimal : string specifying decimal point character. Default \".\" (while \",\" is sometimes used in Scandinavia)"
   ]
  },
  {
   "cell_type": "code",
   "execution_count": 3,
   "metadata": {},
   "outputs": [],
   "source": [
    "#Try to see the available commands using shift + tab, from inside the parentheses\n",
    "#Note that this might take a while if the kernel is slow"
   ]
  },
  {
   "cell_type": "raw",
   "metadata": {},
   "source": [
    "pd.read_csv()"
   ]
  },
  {
   "cell_type": "code",
   "execution_count": 4,
   "metadata": {},
   "outputs": [],
   "source": [
    "df_raw = pd.read_csv(\"data/Malaria.csv\", index_col = 0)"
   ]
  },
  {
   "cell_type": "markdown",
   "metadata": {},
   "source": [
    "Note:\n",
    "    \n",
    "Almost everything in Python is zero indexed, meaning items start with a position of 0 instead of 1. Therefor index_col = 0 means use the first column as the index column."
   ]
  },
  {
   "cell_type": "markdown",
   "metadata": {},
   "source": [
    "Other alternatives to **read_csv** are **read_table**, **read_excel** **read_sql** and more ... (See https://elitedatascience.com/python-cheat-sheet).\n",
    "\n",
    "While **pd.read_csv** reads in a file, **pd.to_csv** saves a dataframe as a file."
   ]
  },
  {
   "cell_type": "markdown",
   "metadata": {},
   "source": [
    "A whole or truncated view of the dataframe can be seen below:"
   ]
  },
  {
   "cell_type": "code",
   "execution_count": 5,
   "metadata": {},
   "outputs": [
    {
     "data": {
      "text/html": [
       "<div>\n",
       "<style scoped>\n",
       "    .dataframe tbody tr th:only-of-type {\n",
       "        vertical-align: middle;\n",
       "    }\n",
       "\n",
       "    .dataframe tbody tr th {\n",
       "        vertical-align: top;\n",
       "    }\n",
       "\n",
       "    .dataframe thead th {\n",
       "        text-align: right;\n",
       "    }\n",
       "</style>\n",
       "<table border=\"1\" class=\"dataframe\">\n",
       "  <thead>\n",
       "    <tr style=\"text-align: right;\">\n",
       "      <th></th>\n",
       "      <th>Sample.1.NI.Sample1</th>\n",
       "      <th>Sample.2.NI.Sample1</th>\n",
       "      <th>Sample.3.d3.pi.Sample1</th>\n",
       "      <th>Sample.4.d3.pi.Sample1</th>\n",
       "      <th>Sample.5.ECM.Sample1</th>\n",
       "      <th>Sample.6.ECM.Sample1</th>\n",
       "      <th>Sample 1\\nECM\\nSample2</th>\n",
       "      <th>Sample 2\\nECM\\nSample2</th>\n",
       "      <th>Sample 3\\nNI\\nSample2</th>\n",
       "      <th>Sample 4\\nNI\\nSample2</th>\n",
       "      <th>Sample 5\\nd3 pi\\nSample2</th>\n",
       "      <th>Sample 6\\nd3 pi\\nSample2</th>\n",
       "    </tr>\n",
       "  </thead>\n",
       "  <tbody>\n",
       "    <tr>\n",
       "      <th>A2A8L1</th>\n",
       "      <td>0.030023</td>\n",
       "      <td>0.255059</td>\n",
       "      <td>0.105955</td>\n",
       "      <td>-0.045645</td>\n",
       "      <td>-0.110047</td>\n",
       "      <td>-0.235346</td>\n",
       "      <td>0.396041</td>\n",
       "      <td>-3.631490</td>\n",
       "      <td>0.960442</td>\n",
       "      <td>0.816278</td>\n",
       "      <td>0.933976</td>\n",
       "      <td>0.524753</td>\n",
       "    </tr>\n",
       "    <tr>\n",
       "      <th>A2AQ07, P68372, P99024, Q7TMM9, Q922F4, Q9CWF2, Q9D6F9, Q9ERD7</th>\n",
       "      <td>-0.175916</td>\n",
       "      <td>-0.249753</td>\n",
       "      <td>-0.211482</td>\n",
       "      <td>-0.098306</td>\n",
       "      <td>0.285241</td>\n",
       "      <td>0.450215</td>\n",
       "      <td>-0.074134</td>\n",
       "      <td>0.887562</td>\n",
       "      <td>-0.481753</td>\n",
       "      <td>0.174177</td>\n",
       "      <td>-0.435210</td>\n",
       "      <td>-0.070642</td>\n",
       "    </tr>\n",
       "    <tr>\n",
       "      <th>A2BIM8, B5X0G2, P02762, P04938</th>\n",
       "      <td>0.022319</td>\n",
       "      <td>-0.195931</td>\n",
       "      <td>-0.192663</td>\n",
       "      <td>-0.166054</td>\n",
       "      <td>0.368278</td>\n",
       "      <td>0.164051</td>\n",
       "      <td>0.066875</td>\n",
       "      <td>-0.020412</td>\n",
       "      <td>0.285260</td>\n",
       "      <td>-0.533405</td>\n",
       "      <td>0.214600</td>\n",
       "      <td>-0.012918</td>\n",
       "    </tr>\n",
       "    <tr>\n",
       "      <th>A2BIM8, B5X0G2, P02762, P04938, P04939, P11589</th>\n",
       "      <td>-0.243200</td>\n",
       "      <td>0.037658</td>\n",
       "      <td>-0.251572</td>\n",
       "      <td>0.136858</td>\n",
       "      <td>0.106330</td>\n",
       "      <td>0.213925</td>\n",
       "      <td>-0.576792</td>\n",
       "      <td>0.745219</td>\n",
       "      <td>-0.058964</td>\n",
       "      <td>-0.113433</td>\n",
       "      <td>-0.094399</td>\n",
       "      <td>0.098368</td>\n",
       "    </tr>\n",
       "    <tr>\n",
       "      <th>A2BIM8, B5X0G2, P02762, P04938, P11588</th>\n",
       "      <td>0.739940</td>\n",
       "      <td>0.421966</td>\n",
       "      <td>0.077114</td>\n",
       "      <td>0.616292</td>\n",
       "      <td>-0.546514</td>\n",
       "      <td>-1.308798</td>\n",
       "      <td>-1.180796</td>\n",
       "      <td>-0.647811</td>\n",
       "      <td>1.255490</td>\n",
       "      <td>-0.035059</td>\n",
       "      <td>-0.616863</td>\n",
       "      <td>1.225039</td>\n",
       "    </tr>\n",
       "    <tr>\n",
       "      <th>...</th>\n",
       "      <td>...</td>\n",
       "      <td>...</td>\n",
       "      <td>...</td>\n",
       "      <td>...</td>\n",
       "      <td>...</td>\n",
       "      <td>...</td>\n",
       "      <td>...</td>\n",
       "      <td>...</td>\n",
       "      <td>...</td>\n",
       "      <td>...</td>\n",
       "      <td>...</td>\n",
       "      <td>...</td>\n",
       "    </tr>\n",
       "    <tr>\n",
       "      <th>Q63918</th>\n",
       "      <td>NaN</td>\n",
       "      <td>NaN</td>\n",
       "      <td>NaN</td>\n",
       "      <td>NaN</td>\n",
       "      <td>NaN</td>\n",
       "      <td>NaN</td>\n",
       "      <td>-0.187021</td>\n",
       "      <td>-0.084300</td>\n",
       "      <td>0.366505</td>\n",
       "      <td>0.400013</td>\n",
       "      <td>-0.068991</td>\n",
       "      <td>-0.426207</td>\n",
       "    </tr>\n",
       "    <tr>\n",
       "      <th>Q8CG16</th>\n",
       "      <td>NaN</td>\n",
       "      <td>NaN</td>\n",
       "      <td>NaN</td>\n",
       "      <td>NaN</td>\n",
       "      <td>NaN</td>\n",
       "      <td>NaN</td>\n",
       "      <td>-0.281706</td>\n",
       "      <td>-0.199044</td>\n",
       "      <td>0.378822</td>\n",
       "      <td>-0.045821</td>\n",
       "      <td>0.221614</td>\n",
       "      <td>-0.073865</td>\n",
       "    </tr>\n",
       "    <tr>\n",
       "      <th>Q9CQI6</th>\n",
       "      <td>NaN</td>\n",
       "      <td>NaN</td>\n",
       "      <td>NaN</td>\n",
       "      <td>NaN</td>\n",
       "      <td>NaN</td>\n",
       "      <td>NaN</td>\n",
       "      <td>-0.006262</td>\n",
       "      <td>0.601181</td>\n",
       "      <td>-0.039100</td>\n",
       "      <td>0.050765</td>\n",
       "      <td>-0.303919</td>\n",
       "      <td>-0.302665</td>\n",
       "    </tr>\n",
       "    <tr>\n",
       "      <th>Q8R146</th>\n",
       "      <td>NaN</td>\n",
       "      <td>NaN</td>\n",
       "      <td>NaN</td>\n",
       "      <td>NaN</td>\n",
       "      <td>NaN</td>\n",
       "      <td>NaN</td>\n",
       "      <td>-0.166520</td>\n",
       "      <td>0.587835</td>\n",
       "      <td>-0.055273</td>\n",
       "      <td>0.177209</td>\n",
       "      <td>-0.449705</td>\n",
       "      <td>-0.093546</td>\n",
       "    </tr>\n",
       "    <tr>\n",
       "      <th>P47753, P47754</th>\n",
       "      <td>NaN</td>\n",
       "      <td>NaN</td>\n",
       "      <td>NaN</td>\n",
       "      <td>NaN</td>\n",
       "      <td>NaN</td>\n",
       "      <td>NaN</td>\n",
       "      <td>0.080050</td>\n",
       "      <td>0.763677</td>\n",
       "      <td>-0.678243</td>\n",
       "      <td>0.035854</td>\n",
       "      <td>-0.004657</td>\n",
       "      <td>-0.196682</td>\n",
       "    </tr>\n",
       "  </tbody>\n",
       "</table>\n",
       "<p>748 rows × 12 columns</p>\n",
       "</div>"
      ],
      "text/plain": [
       "                                                    Sample.1.NI.Sample1  \\\n",
       "A2A8L1                                                         0.030023   \n",
       "A2AQ07, P68372, P99024, Q7TMM9, Q922F4, Q9CWF2,...            -0.175916   \n",
       "A2BIM8, B5X0G2, P02762, P04938                                 0.022319   \n",
       "A2BIM8, B5X0G2, P02762, P04938, P04939, P11589                -0.243200   \n",
       "A2BIM8, B5X0G2, P02762, P04938, P11588                         0.739940   \n",
       "...                                                                 ...   \n",
       "Q63918                                                              NaN   \n",
       "Q8CG16                                                              NaN   \n",
       "Q9CQI6                                                              NaN   \n",
       "Q8R146                                                              NaN   \n",
       "P47753, P47754                                                      NaN   \n",
       "\n",
       "                                                    Sample.2.NI.Sample1  \\\n",
       "A2A8L1                                                         0.255059   \n",
       "A2AQ07, P68372, P99024, Q7TMM9, Q922F4, Q9CWF2,...            -0.249753   \n",
       "A2BIM8, B5X0G2, P02762, P04938                                -0.195931   \n",
       "A2BIM8, B5X0G2, P02762, P04938, P04939, P11589                 0.037658   \n",
       "A2BIM8, B5X0G2, P02762, P04938, P11588                         0.421966   \n",
       "...                                                                 ...   \n",
       "Q63918                                                              NaN   \n",
       "Q8CG16                                                              NaN   \n",
       "Q9CQI6                                                              NaN   \n",
       "Q8R146                                                              NaN   \n",
       "P47753, P47754                                                      NaN   \n",
       "\n",
       "                                                    Sample.3.d3.pi.Sample1  \\\n",
       "A2A8L1                                                            0.105955   \n",
       "A2AQ07, P68372, P99024, Q7TMM9, Q922F4, Q9CWF2,...               -0.211482   \n",
       "A2BIM8, B5X0G2, P02762, P04938                                   -0.192663   \n",
       "A2BIM8, B5X0G2, P02762, P04938, P04939, P11589                   -0.251572   \n",
       "A2BIM8, B5X0G2, P02762, P04938, P11588                            0.077114   \n",
       "...                                                                    ...   \n",
       "Q63918                                                                 NaN   \n",
       "Q8CG16                                                                 NaN   \n",
       "Q9CQI6                                                                 NaN   \n",
       "Q8R146                                                                 NaN   \n",
       "P47753, P47754                                                         NaN   \n",
       "\n",
       "                                                    Sample.4.d3.pi.Sample1  \\\n",
       "A2A8L1                                                           -0.045645   \n",
       "A2AQ07, P68372, P99024, Q7TMM9, Q922F4, Q9CWF2,...               -0.098306   \n",
       "A2BIM8, B5X0G2, P02762, P04938                                   -0.166054   \n",
       "A2BIM8, B5X0G2, P02762, P04938, P04939, P11589                    0.136858   \n",
       "A2BIM8, B5X0G2, P02762, P04938, P11588                            0.616292   \n",
       "...                                                                    ...   \n",
       "Q63918                                                                 NaN   \n",
       "Q8CG16                                                                 NaN   \n",
       "Q9CQI6                                                                 NaN   \n",
       "Q8R146                                                                 NaN   \n",
       "P47753, P47754                                                         NaN   \n",
       "\n",
       "                                                    Sample.5.ECM.Sample1  \\\n",
       "A2A8L1                                                         -0.110047   \n",
       "A2AQ07, P68372, P99024, Q7TMM9, Q922F4, Q9CWF2,...              0.285241   \n",
       "A2BIM8, B5X0G2, P02762, P04938                                  0.368278   \n",
       "A2BIM8, B5X0G2, P02762, P04938, P04939, P11589                  0.106330   \n",
       "A2BIM8, B5X0G2, P02762, P04938, P11588                         -0.546514   \n",
       "...                                                                  ...   \n",
       "Q63918                                                               NaN   \n",
       "Q8CG16                                                               NaN   \n",
       "Q9CQI6                                                               NaN   \n",
       "Q8R146                                                               NaN   \n",
       "P47753, P47754                                                       NaN   \n",
       "\n",
       "                                                    Sample.6.ECM.Sample1  \\\n",
       "A2A8L1                                                         -0.235346   \n",
       "A2AQ07, P68372, P99024, Q7TMM9, Q922F4, Q9CWF2,...              0.450215   \n",
       "A2BIM8, B5X0G2, P02762, P04938                                  0.164051   \n",
       "A2BIM8, B5X0G2, P02762, P04938, P04939, P11589                  0.213925   \n",
       "A2BIM8, B5X0G2, P02762, P04938, P11588                         -1.308798   \n",
       "...                                                                  ...   \n",
       "Q63918                                                               NaN   \n",
       "Q8CG16                                                               NaN   \n",
       "Q9CQI6                                                               NaN   \n",
       "Q8R146                                                               NaN   \n",
       "P47753, P47754                                                       NaN   \n",
       "\n",
       "                                                    Sample 1\\nECM\\nSample2  \\\n",
       "A2A8L1                                                            0.396041   \n",
       "A2AQ07, P68372, P99024, Q7TMM9, Q922F4, Q9CWF2,...               -0.074134   \n",
       "A2BIM8, B5X0G2, P02762, P04938                                    0.066875   \n",
       "A2BIM8, B5X0G2, P02762, P04938, P04939, P11589                   -0.576792   \n",
       "A2BIM8, B5X0G2, P02762, P04938, P11588                           -1.180796   \n",
       "...                                                                    ...   \n",
       "Q63918                                                           -0.187021   \n",
       "Q8CG16                                                           -0.281706   \n",
       "Q9CQI6                                                           -0.006262   \n",
       "Q8R146                                                           -0.166520   \n",
       "P47753, P47754                                                    0.080050   \n",
       "\n",
       "                                                    Sample 2\\nECM\\nSample2  \\\n",
       "A2A8L1                                                           -3.631490   \n",
       "A2AQ07, P68372, P99024, Q7TMM9, Q922F4, Q9CWF2,...                0.887562   \n",
       "A2BIM8, B5X0G2, P02762, P04938                                   -0.020412   \n",
       "A2BIM8, B5X0G2, P02762, P04938, P04939, P11589                    0.745219   \n",
       "A2BIM8, B5X0G2, P02762, P04938, P11588                           -0.647811   \n",
       "...                                                                    ...   \n",
       "Q63918                                                           -0.084300   \n",
       "Q8CG16                                                           -0.199044   \n",
       "Q9CQI6                                                            0.601181   \n",
       "Q8R146                                                            0.587835   \n",
       "P47753, P47754                                                    0.763677   \n",
       "\n",
       "                                                    Sample 3\\nNI\\nSample2  \\\n",
       "A2A8L1                                                           0.960442   \n",
       "A2AQ07, P68372, P99024, Q7TMM9, Q922F4, Q9CWF2,...              -0.481753   \n",
       "A2BIM8, B5X0G2, P02762, P04938                                   0.285260   \n",
       "A2BIM8, B5X0G2, P02762, P04938, P04939, P11589                  -0.058964   \n",
       "A2BIM8, B5X0G2, P02762, P04938, P11588                           1.255490   \n",
       "...                                                                   ...   \n",
       "Q63918                                                           0.366505   \n",
       "Q8CG16                                                           0.378822   \n",
       "Q9CQI6                                                          -0.039100   \n",
       "Q8R146                                                          -0.055273   \n",
       "P47753, P47754                                                  -0.678243   \n",
       "\n",
       "                                                    Sample 4\\nNI\\nSample2  \\\n",
       "A2A8L1                                                           0.816278   \n",
       "A2AQ07, P68372, P99024, Q7TMM9, Q922F4, Q9CWF2,...               0.174177   \n",
       "A2BIM8, B5X0G2, P02762, P04938                                  -0.533405   \n",
       "A2BIM8, B5X0G2, P02762, P04938, P04939, P11589                  -0.113433   \n",
       "A2BIM8, B5X0G2, P02762, P04938, P11588                          -0.035059   \n",
       "...                                                                   ...   \n",
       "Q63918                                                           0.400013   \n",
       "Q8CG16                                                          -0.045821   \n",
       "Q9CQI6                                                           0.050765   \n",
       "Q8R146                                                           0.177209   \n",
       "P47753, P47754                                                   0.035854   \n",
       "\n",
       "                                                    Sample 5\\nd3 pi\\nSample2  \\\n",
       "A2A8L1                                                              0.933976   \n",
       "A2AQ07, P68372, P99024, Q7TMM9, Q922F4, Q9CWF2,...                 -0.435210   \n",
       "A2BIM8, B5X0G2, P02762, P04938                                      0.214600   \n",
       "A2BIM8, B5X0G2, P02762, P04938, P04939, P11589                     -0.094399   \n",
       "A2BIM8, B5X0G2, P02762, P04938, P11588                             -0.616863   \n",
       "...                                                                      ...   \n",
       "Q63918                                                             -0.068991   \n",
       "Q8CG16                                                              0.221614   \n",
       "Q9CQI6                                                             -0.303919   \n",
       "Q8R146                                                             -0.449705   \n",
       "P47753, P47754                                                     -0.004657   \n",
       "\n",
       "                                                    Sample 6\\nd3 pi\\nSample2  \n",
       "A2A8L1                                                              0.524753  \n",
       "A2AQ07, P68372, P99024, Q7TMM9, Q922F4, Q9CWF2,...                 -0.070642  \n",
       "A2BIM8, B5X0G2, P02762, P04938                                     -0.012918  \n",
       "A2BIM8, B5X0G2, P02762, P04938, P04939, P11589                      0.098368  \n",
       "A2BIM8, B5X0G2, P02762, P04938, P11588                              1.225039  \n",
       "...                                                                      ...  \n",
       "Q63918                                                             -0.426207  \n",
       "Q8CG16                                                             -0.073865  \n",
       "Q9CQI6                                                             -0.302665  \n",
       "Q8R146                                                             -0.093546  \n",
       "P47753, P47754                                                     -0.196682  \n",
       "\n",
       "[748 rows x 12 columns]"
      ]
     },
     "execution_count": 5,
     "metadata": {},
     "output_type": "execute_result"
    }
   ],
   "source": [
    "df_raw"
   ]
  },
  {
   "cell_type": "code",
   "execution_count": null,
   "metadata": {},
   "outputs": [],
   "source": []
  },
  {
   "cell_type": "markdown",
   "metadata": {},
   "source": [
    "### Dataframe summary commands"
   ]
  },
  {
   "cell_type": "markdown",
   "metadata": {},
   "source": [
    "We can inspect the data using the DataFrame attribute '**shape**'.\n",
    "\n",
    "'**.shape*' here returns a tuple in the format (#rows, #columns). "
   ]
  },
  {
   "cell_type": "code",
   "execution_count": 6,
   "metadata": {},
   "outputs": [
    {
     "name": "stdout",
     "output_type": "stream",
     "text": [
      "Dataset has 748 features from 12 samples\n"
     ]
    },
    {
     "data": {
      "text/plain": [
       "(748, 12)"
      ]
     },
     "execution_count": 6,
     "metadata": {},
     "output_type": "execute_result"
    }
   ],
   "source": [
    "shape = df_raw.shape\n",
    "print(\"Dataset has\", shape[0], \"features from\", shape[1], \"samples\")\n",
    "shape"
   ]
  },
  {
   "cell_type": "markdown",
   "metadata": {},
   "source": [
    "An summary of the **DataFrame** object can be found using **.describe**.\n",
    "\n",
    "This includes the number of unique values per column (feature), and each column´s mean, standard deviation and percentiles."
   ]
  },
  {
   "cell_type": "code",
   "execution_count": 7,
   "metadata": {},
   "outputs": [
    {
     "data": {
      "text/html": [
       "<div>\n",
       "<style scoped>\n",
       "    .dataframe tbody tr th:only-of-type {\n",
       "        vertical-align: middle;\n",
       "    }\n",
       "\n",
       "    .dataframe tbody tr th {\n",
       "        vertical-align: top;\n",
       "    }\n",
       "\n",
       "    .dataframe thead th {\n",
       "        text-align: right;\n",
       "    }\n",
       "</style>\n",
       "<table border=\"1\" class=\"dataframe\">\n",
       "  <thead>\n",
       "    <tr style=\"text-align: right;\">\n",
       "      <th></th>\n",
       "      <th>Sample.1.NI.Sample1</th>\n",
       "      <th>Sample.2.NI.Sample1</th>\n",
       "      <th>Sample.3.d3.pi.Sample1</th>\n",
       "      <th>Sample.4.d3.pi.Sample1</th>\n",
       "      <th>Sample.5.ECM.Sample1</th>\n",
       "      <th>Sample.6.ECM.Sample1</th>\n",
       "      <th>Sample 1\\nECM\\nSample2</th>\n",
       "      <th>Sample 2\\nECM\\nSample2</th>\n",
       "      <th>Sample 3\\nNI\\nSample2</th>\n",
       "      <th>Sample 4\\nNI\\nSample2</th>\n",
       "      <th>Sample 5\\nd3 pi\\nSample2</th>\n",
       "      <th>Sample 6\\nd3 pi\\nSample2</th>\n",
       "    </tr>\n",
       "  </thead>\n",
       "  <tbody>\n",
       "    <tr>\n",
       "      <th>count</th>\n",
       "      <td>591.000000</td>\n",
       "      <td>591.000000</td>\n",
       "      <td>591.000000</td>\n",
       "      <td>591.000000</td>\n",
       "      <td>591.000000</td>\n",
       "      <td>591.000000</td>\n",
       "      <td>636.000000</td>\n",
       "      <td>636.000000</td>\n",
       "      <td>636.000000</td>\n",
       "      <td>636.000000</td>\n",
       "      <td>636.000000</td>\n",
       "      <td>636.000000</td>\n",
       "    </tr>\n",
       "    <tr>\n",
       "      <th>mean</th>\n",
       "      <td>0.018741</td>\n",
       "      <td>-0.096846</td>\n",
       "      <td>-0.136090</td>\n",
       "      <td>-0.186912</td>\n",
       "      <td>0.257273</td>\n",
       "      <td>0.143834</td>\n",
       "      <td>-0.039733</td>\n",
       "      <td>0.433572</td>\n",
       "      <td>-0.141263</td>\n",
       "      <td>-0.023339</td>\n",
       "      <td>-0.184807</td>\n",
       "      <td>-0.044430</td>\n",
       "    </tr>\n",
       "    <tr>\n",
       "      <th>std</th>\n",
       "      <td>0.352807</td>\n",
       "      <td>0.242460</td>\n",
       "      <td>0.316248</td>\n",
       "      <td>0.349886</td>\n",
       "      <td>0.561700</td>\n",
       "      <td>0.484882</td>\n",
       "      <td>0.387100</td>\n",
       "      <td>0.897728</td>\n",
       "      <td>0.498972</td>\n",
       "      <td>0.265459</td>\n",
       "      <td>0.425344</td>\n",
       "      <td>0.285929</td>\n",
       "    </tr>\n",
       "    <tr>\n",
       "      <th>min</th>\n",
       "      <td>-1.226488</td>\n",
       "      <td>-1.090018</td>\n",
       "      <td>-1.698366</td>\n",
       "      <td>-1.772834</td>\n",
       "      <td>-1.461867</td>\n",
       "      <td>-1.421203</td>\n",
       "      <td>-1.180796</td>\n",
       "      <td>-3.631490</td>\n",
       "      <td>-2.903402</td>\n",
       "      <td>-0.772762</td>\n",
       "      <td>-1.576109</td>\n",
       "      <td>-0.963776</td>\n",
       "    </tr>\n",
       "    <tr>\n",
       "      <th>25%</th>\n",
       "      <td>-0.182524</td>\n",
       "      <td>-0.249135</td>\n",
       "      <td>-0.344550</td>\n",
       "      <td>-0.399042</td>\n",
       "      <td>-0.145712</td>\n",
       "      <td>-0.195306</td>\n",
       "      <td>-0.242904</td>\n",
       "      <td>-0.220424</td>\n",
       "      <td>-0.431201</td>\n",
       "      <td>-0.185618</td>\n",
       "      <td>-0.459229</td>\n",
       "      <td>-0.223822</td>\n",
       "    </tr>\n",
       "    <tr>\n",
       "      <th>50%</th>\n",
       "      <td>-0.020263</td>\n",
       "      <td>-0.116964</td>\n",
       "      <td>-0.148311</td>\n",
       "      <td>-0.202649</td>\n",
       "      <td>0.255479</td>\n",
       "      <td>0.132509</td>\n",
       "      <td>-0.111954</td>\n",
       "      <td>0.415333</td>\n",
       "      <td>-0.129233</td>\n",
       "      <td>-0.045670</td>\n",
       "      <td>-0.211429</td>\n",
       "      <td>-0.076210</td>\n",
       "    </tr>\n",
       "    <tr>\n",
       "      <th>75%</th>\n",
       "      <td>0.154793</td>\n",
       "      <td>0.045542</td>\n",
       "      <td>0.065655</td>\n",
       "      <td>0.024667</td>\n",
       "      <td>0.606388</td>\n",
       "      <td>0.455201</td>\n",
       "      <td>0.065979</td>\n",
       "      <td>1.163893</td>\n",
       "      <td>0.134527</td>\n",
       "      <td>0.115044</td>\n",
       "      <td>0.079249</td>\n",
       "      <td>0.095432</td>\n",
       "    </tr>\n",
       "    <tr>\n",
       "      <th>max</th>\n",
       "      <td>1.687239</td>\n",
       "      <td>0.676707</td>\n",
       "      <td>1.846544</td>\n",
       "      <td>0.846193</td>\n",
       "      <td>2.138143</td>\n",
       "      <td>2.338790</td>\n",
       "      <td>1.924148</td>\n",
       "      <td>2.752643</td>\n",
       "      <td>2.082204</td>\n",
       "      <td>1.522205</td>\n",
       "      <td>1.447687</td>\n",
       "      <td>1.225039</td>\n",
       "    </tr>\n",
       "  </tbody>\n",
       "</table>\n",
       "</div>"
      ],
      "text/plain": [
       "       Sample.1.NI.Sample1  Sample.2.NI.Sample1  Sample.3.d3.pi.Sample1  \\\n",
       "count           591.000000           591.000000              591.000000   \n",
       "mean              0.018741            -0.096846               -0.136090   \n",
       "std               0.352807             0.242460                0.316248   \n",
       "min              -1.226488            -1.090018               -1.698366   \n",
       "25%              -0.182524            -0.249135               -0.344550   \n",
       "50%              -0.020263            -0.116964               -0.148311   \n",
       "75%               0.154793             0.045542                0.065655   \n",
       "max               1.687239             0.676707                1.846544   \n",
       "\n",
       "       Sample.4.d3.pi.Sample1  Sample.5.ECM.Sample1  Sample.6.ECM.Sample1  \\\n",
       "count              591.000000            591.000000            591.000000   \n",
       "mean                -0.186912              0.257273              0.143834   \n",
       "std                  0.349886              0.561700              0.484882   \n",
       "min                 -1.772834             -1.461867             -1.421203   \n",
       "25%                 -0.399042             -0.145712             -0.195306   \n",
       "50%                 -0.202649              0.255479              0.132509   \n",
       "75%                  0.024667              0.606388              0.455201   \n",
       "max                  0.846193              2.138143              2.338790   \n",
       "\n",
       "       Sample 1\\nECM\\nSample2  Sample 2\\nECM\\nSample2  Sample 3\\nNI\\nSample2  \\\n",
       "count              636.000000              636.000000             636.000000   \n",
       "mean                -0.039733                0.433572              -0.141263   \n",
       "std                  0.387100                0.897728               0.498972   \n",
       "min                 -1.180796               -3.631490              -2.903402   \n",
       "25%                 -0.242904               -0.220424              -0.431201   \n",
       "50%                 -0.111954                0.415333              -0.129233   \n",
       "75%                  0.065979                1.163893               0.134527   \n",
       "max                  1.924148                2.752643               2.082204   \n",
       "\n",
       "       Sample 4\\nNI\\nSample2  Sample 5\\nd3 pi\\nSample2  \\\n",
       "count             636.000000                636.000000   \n",
       "mean               -0.023339                 -0.184807   \n",
       "std                 0.265459                  0.425344   \n",
       "min                -0.772762                 -1.576109   \n",
       "25%                -0.185618                 -0.459229   \n",
       "50%                -0.045670                 -0.211429   \n",
       "75%                 0.115044                  0.079249   \n",
       "max                 1.522205                  1.447687   \n",
       "\n",
       "       Sample 6\\nd3 pi\\nSample2  \n",
       "count                636.000000  \n",
       "mean                  -0.044430  \n",
       "std                    0.285929  \n",
       "min                   -0.963776  \n",
       "25%                   -0.223822  \n",
       "50%                   -0.076210  \n",
       "75%                    0.095432  \n",
       "max                    1.225039  "
      ]
     },
     "execution_count": 7,
     "metadata": {},
     "output_type": "execute_result"
    }
   ],
   "source": [
    "df_raw.describe()"
   ]
  },
  {
   "cell_type": "code",
   "execution_count": 8,
   "metadata": {},
   "outputs": [
    {
     "data": {
      "text/plain": [
       "Sample.1.NI.Sample1         591\n",
       "Sample.2.NI.Sample1         591\n",
       "Sample.3.d3.pi.Sample1      591\n",
       "Sample.4.d3.pi.Sample1      591\n",
       "Sample.5.ECM.Sample1        591\n",
       "Sample.6.ECM.Sample1        591\n",
       "Sample 1\\nECM\\nSample2      636\n",
       "Sample 2\\nECM\\nSample2      636\n",
       "Sample 3\\nNI\\nSample2       636\n",
       "Sample 4\\nNI\\nSample2       636\n",
       "Sample 5\\nd3 pi\\nSample2    636\n",
       "Sample 6\\nd3 pi\\nSample2    636\n",
       "dtype: int64"
      ]
     },
     "execution_count": 8,
     "metadata": {},
     "output_type": "execute_result"
    }
   ],
   "source": [
    "df_raw.nunique() #Unique values per column"
   ]
  },
  {
   "cell_type": "code",
   "execution_count": 9,
   "metadata": {},
   "outputs": [
    {
     "data": {
      "text/html": [
       "<div>\n",
       "<style scoped>\n",
       "    .dataframe tbody tr th:only-of-type {\n",
       "        vertical-align: middle;\n",
       "    }\n",
       "\n",
       "    .dataframe tbody tr th {\n",
       "        vertical-align: top;\n",
       "    }\n",
       "\n",
       "    .dataframe thead th {\n",
       "        text-align: right;\n",
       "    }\n",
       "</style>\n",
       "<table border=\"1\" class=\"dataframe\">\n",
       "  <thead>\n",
       "    <tr style=\"text-align: right;\">\n",
       "      <th></th>\n",
       "      <th>Sample.1.NI.Sample1</th>\n",
       "      <th>Sample.2.NI.Sample1</th>\n",
       "      <th>Sample.3.d3.pi.Sample1</th>\n",
       "      <th>Sample.4.d3.pi.Sample1</th>\n",
       "      <th>Sample.5.ECM.Sample1</th>\n",
       "      <th>Sample.6.ECM.Sample1</th>\n",
       "      <th>Sample 1\\nECM\\nSample2</th>\n",
       "      <th>Sample 2\\nECM\\nSample2</th>\n",
       "      <th>Sample 3\\nNI\\nSample2</th>\n",
       "      <th>Sample 4\\nNI\\nSample2</th>\n",
       "      <th>Sample 5\\nd3 pi\\nSample2</th>\n",
       "      <th>Sample 6\\nd3 pi\\nSample2</th>\n",
       "    </tr>\n",
       "  </thead>\n",
       "  <tbody>\n",
       "    <tr>\n",
       "      <th>Sample.1.NI.Sample1</th>\n",
       "      <td>1.000000</td>\n",
       "      <td>0.337269</td>\n",
       "      <td>-0.019516</td>\n",
       "      <td>0.203421</td>\n",
       "      <td>-0.499222</td>\n",
       "      <td>-0.452005</td>\n",
       "      <td>-0.437800</td>\n",
       "      <td>-0.193705</td>\n",
       "      <td>0.259209</td>\n",
       "      <td>0.430271</td>\n",
       "      <td>-0.121997</td>\n",
       "      <td>0.550231</td>\n",
       "    </tr>\n",
       "    <tr>\n",
       "      <th>Sample.2.NI.Sample1</th>\n",
       "      <td>0.337269</td>\n",
       "      <td>1.000000</td>\n",
       "      <td>0.640982</td>\n",
       "      <td>0.724954</td>\n",
       "      <td>-0.788059</td>\n",
       "      <td>-0.773708</td>\n",
       "      <td>-0.278472</td>\n",
       "      <td>-0.588729</td>\n",
       "      <td>0.480469</td>\n",
       "      <td>0.355243</td>\n",
       "      <td>0.405743</td>\n",
       "      <td>0.495142</td>\n",
       "    </tr>\n",
       "    <tr>\n",
       "      <th>Sample.3.d3.pi.Sample1</th>\n",
       "      <td>-0.019516</td>\n",
       "      <td>0.640982</td>\n",
       "      <td>1.000000</td>\n",
       "      <td>0.644084</td>\n",
       "      <td>-0.653502</td>\n",
       "      <td>-0.666261</td>\n",
       "      <td>-0.192783</td>\n",
       "      <td>-0.535438</td>\n",
       "      <td>0.373365</td>\n",
       "      <td>0.267635</td>\n",
       "      <td>0.547784</td>\n",
       "      <td>0.268700</td>\n",
       "    </tr>\n",
       "    <tr>\n",
       "      <th>Sample.4.d3.pi.Sample1</th>\n",
       "      <td>0.203421</td>\n",
       "      <td>0.724954</td>\n",
       "      <td>0.644084</td>\n",
       "      <td>1.000000</td>\n",
       "      <td>-0.785637</td>\n",
       "      <td>-0.742085</td>\n",
       "      <td>-0.234144</td>\n",
       "      <td>-0.547865</td>\n",
       "      <td>0.387534</td>\n",
       "      <td>0.337208</td>\n",
       "      <td>0.473519</td>\n",
       "      <td>0.381605</td>\n",
       "    </tr>\n",
       "    <tr>\n",
       "      <th>Sample.5.ECM.Sample1</th>\n",
       "      <td>-0.499222</td>\n",
       "      <td>-0.788059</td>\n",
       "      <td>-0.653502</td>\n",
       "      <td>-0.785637</td>\n",
       "      <td>1.000000</td>\n",
       "      <td>0.592005</td>\n",
       "      <td>0.337964</td>\n",
       "      <td>0.516322</td>\n",
       "      <td>-0.402954</td>\n",
       "      <td>-0.448625</td>\n",
       "      <td>-0.304762</td>\n",
       "      <td>-0.540100</td>\n",
       "    </tr>\n",
       "    <tr>\n",
       "      <th>Sample.6.ECM.Sample1</th>\n",
       "      <td>-0.452005</td>\n",
       "      <td>-0.773708</td>\n",
       "      <td>-0.666261</td>\n",
       "      <td>-0.742085</td>\n",
       "      <td>0.592005</td>\n",
       "      <td>1.000000</td>\n",
       "      <td>0.377500</td>\n",
       "      <td>0.587589</td>\n",
       "      <td>-0.493576</td>\n",
       "      <td>-0.407218</td>\n",
       "      <td>-0.449919</td>\n",
       "      <td>-0.497314</td>\n",
       "    </tr>\n",
       "    <tr>\n",
       "      <th>Sample 1\\nECM\\nSample2</th>\n",
       "      <td>-0.437800</td>\n",
       "      <td>-0.278472</td>\n",
       "      <td>-0.192783</td>\n",
       "      <td>-0.234144</td>\n",
       "      <td>0.337964</td>\n",
       "      <td>0.377500</td>\n",
       "      <td>1.000000</td>\n",
       "      <td>-0.253582</td>\n",
       "      <td>-0.052574</td>\n",
       "      <td>-0.375557</td>\n",
       "      <td>0.193137</td>\n",
       "      <td>-0.404558</td>\n",
       "    </tr>\n",
       "    <tr>\n",
       "      <th>Sample 2\\nECM\\nSample2</th>\n",
       "      <td>-0.193705</td>\n",
       "      <td>-0.588729</td>\n",
       "      <td>-0.535438</td>\n",
       "      <td>-0.547865</td>\n",
       "      <td>0.516322</td>\n",
       "      <td>0.587589</td>\n",
       "      <td>-0.253582</td>\n",
       "      <td>1.000000</td>\n",
       "      <td>-0.718901</td>\n",
       "      <td>-0.349158</td>\n",
       "      <td>-0.618427</td>\n",
       "      <td>-0.297708</td>\n",
       "    </tr>\n",
       "    <tr>\n",
       "      <th>Sample 3\\nNI\\nSample2</th>\n",
       "      <td>0.259209</td>\n",
       "      <td>0.480469</td>\n",
       "      <td>0.373365</td>\n",
       "      <td>0.387534</td>\n",
       "      <td>-0.402954</td>\n",
       "      <td>-0.493576</td>\n",
       "      <td>-0.052574</td>\n",
       "      <td>-0.718901</td>\n",
       "      <td>1.000000</td>\n",
       "      <td>0.216651</td>\n",
       "      <td>0.178114</td>\n",
       "      <td>0.117108</td>\n",
       "    </tr>\n",
       "    <tr>\n",
       "      <th>Sample 4\\nNI\\nSample2</th>\n",
       "      <td>0.430271</td>\n",
       "      <td>0.355243</td>\n",
       "      <td>0.267635</td>\n",
       "      <td>0.337208</td>\n",
       "      <td>-0.448625</td>\n",
       "      <td>-0.407218</td>\n",
       "      <td>-0.375557</td>\n",
       "      <td>-0.349158</td>\n",
       "      <td>0.216651</td>\n",
       "      <td>1.000000</td>\n",
       "      <td>-0.064099</td>\n",
       "      <td>0.393555</td>\n",
       "    </tr>\n",
       "    <tr>\n",
       "      <th>Sample 5\\nd3 pi\\nSample2</th>\n",
       "      <td>-0.121997</td>\n",
       "      <td>0.405743</td>\n",
       "      <td>0.547784</td>\n",
       "      <td>0.473519</td>\n",
       "      <td>-0.304762</td>\n",
       "      <td>-0.449919</td>\n",
       "      <td>0.193137</td>\n",
       "      <td>-0.618427</td>\n",
       "      <td>0.178114</td>\n",
       "      <td>-0.064099</td>\n",
       "      <td>1.000000</td>\n",
       "      <td>-0.058706</td>\n",
       "    </tr>\n",
       "    <tr>\n",
       "      <th>Sample 6\\nd3 pi\\nSample2</th>\n",
       "      <td>0.550231</td>\n",
       "      <td>0.495142</td>\n",
       "      <td>0.268700</td>\n",
       "      <td>0.381605</td>\n",
       "      <td>-0.540100</td>\n",
       "      <td>-0.497314</td>\n",
       "      <td>-0.404558</td>\n",
       "      <td>-0.297708</td>\n",
       "      <td>0.117108</td>\n",
       "      <td>0.393555</td>\n",
       "      <td>-0.058706</td>\n",
       "      <td>1.000000</td>\n",
       "    </tr>\n",
       "  </tbody>\n",
       "</table>\n",
       "</div>"
      ],
      "text/plain": [
       "                          Sample.1.NI.Sample1  Sample.2.NI.Sample1  \\\n",
       "Sample.1.NI.Sample1                  1.000000             0.337269   \n",
       "Sample.2.NI.Sample1                  0.337269             1.000000   \n",
       "Sample.3.d3.pi.Sample1              -0.019516             0.640982   \n",
       "Sample.4.d3.pi.Sample1               0.203421             0.724954   \n",
       "Sample.5.ECM.Sample1                -0.499222            -0.788059   \n",
       "Sample.6.ECM.Sample1                -0.452005            -0.773708   \n",
       "Sample 1\\nECM\\nSample2              -0.437800            -0.278472   \n",
       "Sample 2\\nECM\\nSample2              -0.193705            -0.588729   \n",
       "Sample 3\\nNI\\nSample2                0.259209             0.480469   \n",
       "Sample 4\\nNI\\nSample2                0.430271             0.355243   \n",
       "Sample 5\\nd3 pi\\nSample2            -0.121997             0.405743   \n",
       "Sample 6\\nd3 pi\\nSample2             0.550231             0.495142   \n",
       "\n",
       "                          Sample.3.d3.pi.Sample1  Sample.4.d3.pi.Sample1  \\\n",
       "Sample.1.NI.Sample1                    -0.019516                0.203421   \n",
       "Sample.2.NI.Sample1                     0.640982                0.724954   \n",
       "Sample.3.d3.pi.Sample1                  1.000000                0.644084   \n",
       "Sample.4.d3.pi.Sample1                  0.644084                1.000000   \n",
       "Sample.5.ECM.Sample1                   -0.653502               -0.785637   \n",
       "Sample.6.ECM.Sample1                   -0.666261               -0.742085   \n",
       "Sample 1\\nECM\\nSample2                 -0.192783               -0.234144   \n",
       "Sample 2\\nECM\\nSample2                 -0.535438               -0.547865   \n",
       "Sample 3\\nNI\\nSample2                   0.373365                0.387534   \n",
       "Sample 4\\nNI\\nSample2                   0.267635                0.337208   \n",
       "Sample 5\\nd3 pi\\nSample2                0.547784                0.473519   \n",
       "Sample 6\\nd3 pi\\nSample2                0.268700                0.381605   \n",
       "\n",
       "                          Sample.5.ECM.Sample1  Sample.6.ECM.Sample1  \\\n",
       "Sample.1.NI.Sample1                  -0.499222             -0.452005   \n",
       "Sample.2.NI.Sample1                  -0.788059             -0.773708   \n",
       "Sample.3.d3.pi.Sample1               -0.653502             -0.666261   \n",
       "Sample.4.d3.pi.Sample1               -0.785637             -0.742085   \n",
       "Sample.5.ECM.Sample1                  1.000000              0.592005   \n",
       "Sample.6.ECM.Sample1                  0.592005              1.000000   \n",
       "Sample 1\\nECM\\nSample2                0.337964              0.377500   \n",
       "Sample 2\\nECM\\nSample2                0.516322              0.587589   \n",
       "Sample 3\\nNI\\nSample2                -0.402954             -0.493576   \n",
       "Sample 4\\nNI\\nSample2                -0.448625             -0.407218   \n",
       "Sample 5\\nd3 pi\\nSample2             -0.304762             -0.449919   \n",
       "Sample 6\\nd3 pi\\nSample2             -0.540100             -0.497314   \n",
       "\n",
       "                          Sample 1\\nECM\\nSample2  Sample 2\\nECM\\nSample2  \\\n",
       "Sample.1.NI.Sample1                    -0.437800               -0.193705   \n",
       "Sample.2.NI.Sample1                    -0.278472               -0.588729   \n",
       "Sample.3.d3.pi.Sample1                 -0.192783               -0.535438   \n",
       "Sample.4.d3.pi.Sample1                 -0.234144               -0.547865   \n",
       "Sample.5.ECM.Sample1                    0.337964                0.516322   \n",
       "Sample.6.ECM.Sample1                    0.377500                0.587589   \n",
       "Sample 1\\nECM\\nSample2                  1.000000               -0.253582   \n",
       "Sample 2\\nECM\\nSample2                 -0.253582                1.000000   \n",
       "Sample 3\\nNI\\nSample2                  -0.052574               -0.718901   \n",
       "Sample 4\\nNI\\nSample2                  -0.375557               -0.349158   \n",
       "Sample 5\\nd3 pi\\nSample2                0.193137               -0.618427   \n",
       "Sample 6\\nd3 pi\\nSample2               -0.404558               -0.297708   \n",
       "\n",
       "                          Sample 3\\nNI\\nSample2  Sample 4\\nNI\\nSample2  \\\n",
       "Sample.1.NI.Sample1                    0.259209               0.430271   \n",
       "Sample.2.NI.Sample1                    0.480469               0.355243   \n",
       "Sample.3.d3.pi.Sample1                 0.373365               0.267635   \n",
       "Sample.4.d3.pi.Sample1                 0.387534               0.337208   \n",
       "Sample.5.ECM.Sample1                  -0.402954              -0.448625   \n",
       "Sample.6.ECM.Sample1                  -0.493576              -0.407218   \n",
       "Sample 1\\nECM\\nSample2                -0.052574              -0.375557   \n",
       "Sample 2\\nECM\\nSample2                -0.718901              -0.349158   \n",
       "Sample 3\\nNI\\nSample2                  1.000000               0.216651   \n",
       "Sample 4\\nNI\\nSample2                  0.216651               1.000000   \n",
       "Sample 5\\nd3 pi\\nSample2               0.178114              -0.064099   \n",
       "Sample 6\\nd3 pi\\nSample2               0.117108               0.393555   \n",
       "\n",
       "                          Sample 5\\nd3 pi\\nSample2  Sample 6\\nd3 pi\\nSample2  \n",
       "Sample.1.NI.Sample1                      -0.121997                  0.550231  \n",
       "Sample.2.NI.Sample1                       0.405743                  0.495142  \n",
       "Sample.3.d3.pi.Sample1                    0.547784                  0.268700  \n",
       "Sample.4.d3.pi.Sample1                    0.473519                  0.381605  \n",
       "Sample.5.ECM.Sample1                     -0.304762                 -0.540100  \n",
       "Sample.6.ECM.Sample1                     -0.449919                 -0.497314  \n",
       "Sample 1\\nECM\\nSample2                    0.193137                 -0.404558  \n",
       "Sample 2\\nECM\\nSample2                   -0.618427                 -0.297708  \n",
       "Sample 3\\nNI\\nSample2                     0.178114                  0.117108  \n",
       "Sample 4\\nNI\\nSample2                    -0.064099                  0.393555  \n",
       "Sample 5\\nd3 pi\\nSample2                  1.000000                 -0.058706  \n",
       "Sample 6\\nd3 pi\\nSample2                 -0.058706                  1.000000  "
      ]
     },
     "execution_count": 9,
     "metadata": {},
     "output_type": "execute_result"
    }
   ],
   "source": [
    "df_raw.corr() #Correlation between each sample and each other sample"
   ]
  },
  {
   "cell_type": "code",
   "execution_count": null,
   "metadata": {},
   "outputs": [],
   "source": []
  },
  {
   "cell_type": "markdown",
   "metadata": {},
   "source": [
    "#### List of data inspection commands to try out:\n",
    "**Reference: Python Cheat Sheet for Data Science, elitedatascience.com,\n",
    "URL: https://elitedatascience.com/python-cheat-sheet, November 2019.**"
   ]
  },
  {
   "cell_type": "raw",
   "metadata": {},
   "source": [
    "df.shape() # Prints number of rows and columns in dataframe\n",
    "df.head(n) # Prints first n rows of the DataFrame\n",
    "df.tail(n) # Prints last n rowsof the DataFrame\n",
    "df.info() # Index, Datatype and Memory information\n",
    "df.describe() # Summary statistics for numerical columns\n",
    "s.value_counts(dropna=False) # Views unique values and counts\n",
    "df.apply(pd.Series.value_counts) # Unique values and counts for all columns\n",
    "df.describe() # Summary statistics for numerical columns\n",
    "df.mean() # Returns the mean of all columns\n",
    "df.corr() # Returns the correlation between columns in a DataFrame\n",
    "df.count() # Returns the number of non-null values in each DataFrame column\n",
    "df.max() # Returns the highest value in each column\n",
    "df.min() # Returns the lowest value in each column\n",
    "df.median() # Returns the median of each column\n",
    "df.std() # Returns the standard deviation of each column"
   ]
  },
  {
   "cell_type": "code",
   "execution_count": 10,
   "metadata": {},
   "outputs": [
    {
     "data": {
      "text/plain": [
       " 0.030023    1\n",
       " 0.255059    1\n",
       " 0.105955    1\n",
       "-0.045645    1\n",
       "-0.110047    1\n",
       "-0.235346    1\n",
       " 0.396041    1\n",
       "-3.631490    1\n",
       " 0.960442    1\n",
       " 0.816278    1\n",
       " 0.933976    1\n",
       " 0.524753    1\n",
       "Name: A2A8L1, dtype: int64"
      ]
     },
     "execution_count": 10,
     "metadata": {},
     "output_type": "execute_result"
    }
   ],
   "source": [
    "df_raw.iloc[0].value_counts()"
   ]
  },
  {
   "cell_type": "markdown",
   "metadata": {},
   "source": [
    "Try exploring the different pandas methods on your df_raw dataframe."
   ]
  },
  {
   "cell_type": "markdown",
   "metadata": {},
   "source": [
    "Question 1: </b>What is the lowest value in sample  “Sample.3.d3.pi.Sample1”?"
   ]
  },
  {
   "cell_type": "code",
   "execution_count": null,
   "metadata": {},
   "outputs": [],
   "source": []
  },
  {
   "cell_type": "code",
   "execution_count": 11,
   "metadata": {},
   "outputs": [
    {
     "name": "stdout",
     "output_type": "stream",
     "text": [
      "Better luck next time.\n",
      "your answer was : \n"
     ]
    }
   ],
   "source": [
    "#Please fill in your answer if you want to have it corrected\n",
    "check_answer_module1(question='1', \n",
    "                     answer=\"\")"
   ]
  },
  {
   "cell_type": "code",
   "execution_count": null,
   "metadata": {},
   "outputs": [],
   "source": []
  },
  {
   "cell_type": "markdown",
   "metadata": {},
   "source": [
    "## Data inspection"
   ]
  },
  {
   "cell_type": "markdown",
   "metadata": {},
   "source": [
    "A portion of the dataset can be inspected using the Pandas **.head** method:\n",
    "\n",
    "The method prints the n first rows of the DataFrame, as such:"
   ]
  },
  {
   "cell_type": "code",
   "execution_count": 12,
   "metadata": {},
   "outputs": [
    {
     "data": {
      "text/html": [
       "<div>\n",
       "<style scoped>\n",
       "    .dataframe tbody tr th:only-of-type {\n",
       "        vertical-align: middle;\n",
       "    }\n",
       "\n",
       "    .dataframe tbody tr th {\n",
       "        vertical-align: top;\n",
       "    }\n",
       "\n",
       "    .dataframe thead th {\n",
       "        text-align: right;\n",
       "    }\n",
       "</style>\n",
       "<table border=\"1\" class=\"dataframe\">\n",
       "  <thead>\n",
       "    <tr style=\"text-align: right;\">\n",
       "      <th></th>\n",
       "      <th>Sample.1.NI.Sample1</th>\n",
       "      <th>Sample.2.NI.Sample1</th>\n",
       "      <th>Sample.3.d3.pi.Sample1</th>\n",
       "      <th>Sample.4.d3.pi.Sample1</th>\n",
       "      <th>Sample.5.ECM.Sample1</th>\n",
       "      <th>Sample.6.ECM.Sample1</th>\n",
       "      <th>Sample 1\\nECM\\nSample2</th>\n",
       "      <th>Sample 2\\nECM\\nSample2</th>\n",
       "      <th>Sample 3\\nNI\\nSample2</th>\n",
       "      <th>Sample 4\\nNI\\nSample2</th>\n",
       "      <th>Sample 5\\nd3 pi\\nSample2</th>\n",
       "      <th>Sample 6\\nd3 pi\\nSample2</th>\n",
       "    </tr>\n",
       "  </thead>\n",
       "  <tbody>\n",
       "    <tr>\n",
       "      <th>A2A8L1</th>\n",
       "      <td>0.030023</td>\n",
       "      <td>0.255059</td>\n",
       "      <td>0.105955</td>\n",
       "      <td>-0.045645</td>\n",
       "      <td>-0.110047</td>\n",
       "      <td>-0.235346</td>\n",
       "      <td>0.396041</td>\n",
       "      <td>-3.631490</td>\n",
       "      <td>0.960442</td>\n",
       "      <td>0.816278</td>\n",
       "      <td>0.933976</td>\n",
       "      <td>0.524753</td>\n",
       "    </tr>\n",
       "    <tr>\n",
       "      <th>A2AQ07, P68372, P99024, Q7TMM9, Q922F4, Q9CWF2, Q9D6F9, Q9ERD7</th>\n",
       "      <td>-0.175916</td>\n",
       "      <td>-0.249753</td>\n",
       "      <td>-0.211482</td>\n",
       "      <td>-0.098306</td>\n",
       "      <td>0.285241</td>\n",
       "      <td>0.450215</td>\n",
       "      <td>-0.074134</td>\n",
       "      <td>0.887562</td>\n",
       "      <td>-0.481753</td>\n",
       "      <td>0.174177</td>\n",
       "      <td>-0.435210</td>\n",
       "      <td>-0.070642</td>\n",
       "    </tr>\n",
       "    <tr>\n",
       "      <th>A2BIM8, B5X0G2, P02762, P04938</th>\n",
       "      <td>0.022319</td>\n",
       "      <td>-0.195931</td>\n",
       "      <td>-0.192663</td>\n",
       "      <td>-0.166054</td>\n",
       "      <td>0.368278</td>\n",
       "      <td>0.164051</td>\n",
       "      <td>0.066875</td>\n",
       "      <td>-0.020412</td>\n",
       "      <td>0.285260</td>\n",
       "      <td>-0.533405</td>\n",
       "      <td>0.214600</td>\n",
       "      <td>-0.012918</td>\n",
       "    </tr>\n",
       "    <tr>\n",
       "      <th>A2BIM8, B5X0G2, P02762, P04938, P04939, P11589</th>\n",
       "      <td>-0.243200</td>\n",
       "      <td>0.037658</td>\n",
       "      <td>-0.251572</td>\n",
       "      <td>0.136858</td>\n",
       "      <td>0.106330</td>\n",
       "      <td>0.213925</td>\n",
       "      <td>-0.576792</td>\n",
       "      <td>0.745219</td>\n",
       "      <td>-0.058964</td>\n",
       "      <td>-0.113433</td>\n",
       "      <td>-0.094399</td>\n",
       "      <td>0.098368</td>\n",
       "    </tr>\n",
       "    <tr>\n",
       "      <th>A2BIM8, B5X0G2, P02762, P04938, P11588</th>\n",
       "      <td>0.739940</td>\n",
       "      <td>0.421966</td>\n",
       "      <td>0.077114</td>\n",
       "      <td>0.616292</td>\n",
       "      <td>-0.546514</td>\n",
       "      <td>-1.308798</td>\n",
       "      <td>-1.180796</td>\n",
       "      <td>-0.647811</td>\n",
       "      <td>1.255490</td>\n",
       "      <td>-0.035059</td>\n",
       "      <td>-0.616863</td>\n",
       "      <td>1.225039</td>\n",
       "    </tr>\n",
       "  </tbody>\n",
       "</table>\n",
       "</div>"
      ],
      "text/plain": [
       "                                                    Sample.1.NI.Sample1  \\\n",
       "A2A8L1                                                         0.030023   \n",
       "A2AQ07, P68372, P99024, Q7TMM9, Q922F4, Q9CWF2,...            -0.175916   \n",
       "A2BIM8, B5X0G2, P02762, P04938                                 0.022319   \n",
       "A2BIM8, B5X0G2, P02762, P04938, P04939, P11589                -0.243200   \n",
       "A2BIM8, B5X0G2, P02762, P04938, P11588                         0.739940   \n",
       "\n",
       "                                                    Sample.2.NI.Sample1  \\\n",
       "A2A8L1                                                         0.255059   \n",
       "A2AQ07, P68372, P99024, Q7TMM9, Q922F4, Q9CWF2,...            -0.249753   \n",
       "A2BIM8, B5X0G2, P02762, P04938                                -0.195931   \n",
       "A2BIM8, B5X0G2, P02762, P04938, P04939, P11589                 0.037658   \n",
       "A2BIM8, B5X0G2, P02762, P04938, P11588                         0.421966   \n",
       "\n",
       "                                                    Sample.3.d3.pi.Sample1  \\\n",
       "A2A8L1                                                            0.105955   \n",
       "A2AQ07, P68372, P99024, Q7TMM9, Q922F4, Q9CWF2,...               -0.211482   \n",
       "A2BIM8, B5X0G2, P02762, P04938                                   -0.192663   \n",
       "A2BIM8, B5X0G2, P02762, P04938, P04939, P11589                   -0.251572   \n",
       "A2BIM8, B5X0G2, P02762, P04938, P11588                            0.077114   \n",
       "\n",
       "                                                    Sample.4.d3.pi.Sample1  \\\n",
       "A2A8L1                                                           -0.045645   \n",
       "A2AQ07, P68372, P99024, Q7TMM9, Q922F4, Q9CWF2,...               -0.098306   \n",
       "A2BIM8, B5X0G2, P02762, P04938                                   -0.166054   \n",
       "A2BIM8, B5X0G2, P02762, P04938, P04939, P11589                    0.136858   \n",
       "A2BIM8, B5X0G2, P02762, P04938, P11588                            0.616292   \n",
       "\n",
       "                                                    Sample.5.ECM.Sample1  \\\n",
       "A2A8L1                                                         -0.110047   \n",
       "A2AQ07, P68372, P99024, Q7TMM9, Q922F4, Q9CWF2,...              0.285241   \n",
       "A2BIM8, B5X0G2, P02762, P04938                                  0.368278   \n",
       "A2BIM8, B5X0G2, P02762, P04938, P04939, P11589                  0.106330   \n",
       "A2BIM8, B5X0G2, P02762, P04938, P11588                         -0.546514   \n",
       "\n",
       "                                                    Sample.6.ECM.Sample1  \\\n",
       "A2A8L1                                                         -0.235346   \n",
       "A2AQ07, P68372, P99024, Q7TMM9, Q922F4, Q9CWF2,...              0.450215   \n",
       "A2BIM8, B5X0G2, P02762, P04938                                  0.164051   \n",
       "A2BIM8, B5X0G2, P02762, P04938, P04939, P11589                  0.213925   \n",
       "A2BIM8, B5X0G2, P02762, P04938, P11588                         -1.308798   \n",
       "\n",
       "                                                    Sample 1\\nECM\\nSample2  \\\n",
       "A2A8L1                                                            0.396041   \n",
       "A2AQ07, P68372, P99024, Q7TMM9, Q922F4, Q9CWF2,...               -0.074134   \n",
       "A2BIM8, B5X0G2, P02762, P04938                                    0.066875   \n",
       "A2BIM8, B5X0G2, P02762, P04938, P04939, P11589                   -0.576792   \n",
       "A2BIM8, B5X0G2, P02762, P04938, P11588                           -1.180796   \n",
       "\n",
       "                                                    Sample 2\\nECM\\nSample2  \\\n",
       "A2A8L1                                                           -3.631490   \n",
       "A2AQ07, P68372, P99024, Q7TMM9, Q922F4, Q9CWF2,...                0.887562   \n",
       "A2BIM8, B5X0G2, P02762, P04938                                   -0.020412   \n",
       "A2BIM8, B5X0G2, P02762, P04938, P04939, P11589                    0.745219   \n",
       "A2BIM8, B5X0G2, P02762, P04938, P11588                           -0.647811   \n",
       "\n",
       "                                                    Sample 3\\nNI\\nSample2  \\\n",
       "A2A8L1                                                           0.960442   \n",
       "A2AQ07, P68372, P99024, Q7TMM9, Q922F4, Q9CWF2,...              -0.481753   \n",
       "A2BIM8, B5X0G2, P02762, P04938                                   0.285260   \n",
       "A2BIM8, B5X0G2, P02762, P04938, P04939, P11589                  -0.058964   \n",
       "A2BIM8, B5X0G2, P02762, P04938, P11588                           1.255490   \n",
       "\n",
       "                                                    Sample 4\\nNI\\nSample2  \\\n",
       "A2A8L1                                                           0.816278   \n",
       "A2AQ07, P68372, P99024, Q7TMM9, Q922F4, Q9CWF2,...               0.174177   \n",
       "A2BIM8, B5X0G2, P02762, P04938                                  -0.533405   \n",
       "A2BIM8, B5X0G2, P02762, P04938, P04939, P11589                  -0.113433   \n",
       "A2BIM8, B5X0G2, P02762, P04938, P11588                          -0.035059   \n",
       "\n",
       "                                                    Sample 5\\nd3 pi\\nSample2  \\\n",
       "A2A8L1                                                              0.933976   \n",
       "A2AQ07, P68372, P99024, Q7TMM9, Q922F4, Q9CWF2,...                 -0.435210   \n",
       "A2BIM8, B5X0G2, P02762, P04938                                      0.214600   \n",
       "A2BIM8, B5X0G2, P02762, P04938, P04939, P11589                     -0.094399   \n",
       "A2BIM8, B5X0G2, P02762, P04938, P11588                             -0.616863   \n",
       "\n",
       "                                                    Sample 6\\nd3 pi\\nSample2  \n",
       "A2A8L1                                                              0.524753  \n",
       "A2AQ07, P68372, P99024, Q7TMM9, Q922F4, Q9CWF2,...                 -0.070642  \n",
       "A2BIM8, B5X0G2, P02762, P04938                                     -0.012918  \n",
       "A2BIM8, B5X0G2, P02762, P04938, P04939, P11589                      0.098368  \n",
       "A2BIM8, B5X0G2, P02762, P04938, P11588                              1.225039  "
      ]
     },
     "execution_count": 12,
     "metadata": {},
     "output_type": "execute_result"
    }
   ],
   "source": [
    "df_raw.head(n = 5)"
   ]
  },
  {
   "cell_type": "markdown",
   "metadata": {},
   "source": [
    "As we can see from the data, protein accession numbers are ordered along the rows, and sample names along the columns. Protein names are given as UniprotKB identifiers."
   ]
  },
  {
   "cell_type": "code",
   "execution_count": null,
   "metadata": {},
   "outputs": [],
   "source": []
  },
  {
   "cell_type": "markdown",
   "metadata": {},
   "source": [
    "DataFrames columns can directly be sliced on columns using the square brackets []. \n",
    "\n",
    "df_raw[['column_name1', 'column_name2']]"
   ]
  },
  {
   "cell_type": "markdown",
   "metadata": {},
   "source": [
    "This way is though very restricted, therefore we recomend using pandas .loc and .iloc"
   ]
  },
  {
   "cell_type": "markdown",
   "metadata": {},
   "source": [
    "#### Accessing dataframe items using .iloc and .loc for"
   ]
  },
  {
   "cell_type": "markdown",
   "metadata": {},
   "source": [
    "**.iloc** - accesses items by their **position** (integer number)\n",
    "\n",
    "**.loc** -- accesses items using their **name** (usually for text or column names but sometimes also integer numbers)\n",
    "\n",
    "...\n",
    "\n",
    "**df.iloc[[rows], [columns]]**\n",
    "\n",
    ".iloc accepts:\n",
    "- An integer, eg. (7).\n",
    "- A list or array of integers, eg. [1, 2, 4].\n",
    "- A slice object with integers, eg. 1:5\n",
    "- A boolean array of the same length as the axis\n",
    "\n",
    "\n",
    "**df.loc[[rownames], [columnnames]]**\n",
    "\n",
    ".loc accepts:\n",
    "- A single label integer or string, eg. 'a'\n",
    "- A list or array of labels, eg. ['a', 'b', 'c'].\n",
    "- A slice object with labels, eg. 'a':'f'.\n",
    "- A boolean array of the same length as the axis"
   ]
  },
  {
   "cell_type": "markdown",
   "metadata": {},
   "source": [
    "Let´s try to get the first 5 rows and first 5 columns by two equivalent methods"
   ]
  },
  {
   "cell_type": "code",
   "execution_count": 13,
   "metadata": {},
   "outputs": [
    {
     "data": {
      "text/html": [
       "<div>\n",
       "<style scoped>\n",
       "    .dataframe tbody tr th:only-of-type {\n",
       "        vertical-align: middle;\n",
       "    }\n",
       "\n",
       "    .dataframe tbody tr th {\n",
       "        vertical-align: top;\n",
       "    }\n",
       "\n",
       "    .dataframe thead th {\n",
       "        text-align: right;\n",
       "    }\n",
       "</style>\n",
       "<table border=\"1\" class=\"dataframe\">\n",
       "  <thead>\n",
       "    <tr style=\"text-align: right;\">\n",
       "      <th></th>\n",
       "      <th>Sample.1.NI.Sample1</th>\n",
       "      <th>Sample.2.NI.Sample1</th>\n",
       "      <th>Sample.3.d3.pi.Sample1</th>\n",
       "      <th>Sample.4.d3.pi.Sample1</th>\n",
       "      <th>Sample.5.ECM.Sample1</th>\n",
       "    </tr>\n",
       "  </thead>\n",
       "  <tbody>\n",
       "    <tr>\n",
       "      <th>A2A8L1</th>\n",
       "      <td>0.030023</td>\n",
       "      <td>0.255059</td>\n",
       "      <td>0.105955</td>\n",
       "      <td>-0.045645</td>\n",
       "      <td>-0.110047</td>\n",
       "    </tr>\n",
       "    <tr>\n",
       "      <th>A2AQ07, P68372, P99024, Q7TMM9, Q922F4, Q9CWF2, Q9D6F9, Q9ERD7</th>\n",
       "      <td>-0.175916</td>\n",
       "      <td>-0.249753</td>\n",
       "      <td>-0.211482</td>\n",
       "      <td>-0.098306</td>\n",
       "      <td>0.285241</td>\n",
       "    </tr>\n",
       "    <tr>\n",
       "      <th>A2BIM8, B5X0G2, P02762, P04938</th>\n",
       "      <td>0.022319</td>\n",
       "      <td>-0.195931</td>\n",
       "      <td>-0.192663</td>\n",
       "      <td>-0.166054</td>\n",
       "      <td>0.368278</td>\n",
       "    </tr>\n",
       "    <tr>\n",
       "      <th>A2BIM8, B5X0G2, P02762, P04938, P04939, P11589</th>\n",
       "      <td>-0.243200</td>\n",
       "      <td>0.037658</td>\n",
       "      <td>-0.251572</td>\n",
       "      <td>0.136858</td>\n",
       "      <td>0.106330</td>\n",
       "    </tr>\n",
       "    <tr>\n",
       "      <th>A2BIM8, B5X0G2, P02762, P04938, P11588</th>\n",
       "      <td>0.739940</td>\n",
       "      <td>0.421966</td>\n",
       "      <td>0.077114</td>\n",
       "      <td>0.616292</td>\n",
       "      <td>-0.546514</td>\n",
       "    </tr>\n",
       "  </tbody>\n",
       "</table>\n",
       "</div>"
      ],
      "text/plain": [
       "                                                    Sample.1.NI.Sample1  \\\n",
       "A2A8L1                                                         0.030023   \n",
       "A2AQ07, P68372, P99024, Q7TMM9, Q922F4, Q9CWF2,...            -0.175916   \n",
       "A2BIM8, B5X0G2, P02762, P04938                                 0.022319   \n",
       "A2BIM8, B5X0G2, P02762, P04938, P04939, P11589                -0.243200   \n",
       "A2BIM8, B5X0G2, P02762, P04938, P11588                         0.739940   \n",
       "\n",
       "                                                    Sample.2.NI.Sample1  \\\n",
       "A2A8L1                                                         0.255059   \n",
       "A2AQ07, P68372, P99024, Q7TMM9, Q922F4, Q9CWF2,...            -0.249753   \n",
       "A2BIM8, B5X0G2, P02762, P04938                                -0.195931   \n",
       "A2BIM8, B5X0G2, P02762, P04938, P04939, P11589                 0.037658   \n",
       "A2BIM8, B5X0G2, P02762, P04938, P11588                         0.421966   \n",
       "\n",
       "                                                    Sample.3.d3.pi.Sample1  \\\n",
       "A2A8L1                                                            0.105955   \n",
       "A2AQ07, P68372, P99024, Q7TMM9, Q922F4, Q9CWF2,...               -0.211482   \n",
       "A2BIM8, B5X0G2, P02762, P04938                                   -0.192663   \n",
       "A2BIM8, B5X0G2, P02762, P04938, P04939, P11589                   -0.251572   \n",
       "A2BIM8, B5X0G2, P02762, P04938, P11588                            0.077114   \n",
       "\n",
       "                                                    Sample.4.d3.pi.Sample1  \\\n",
       "A2A8L1                                                           -0.045645   \n",
       "A2AQ07, P68372, P99024, Q7TMM9, Q922F4, Q9CWF2,...               -0.098306   \n",
       "A2BIM8, B5X0G2, P02762, P04938                                   -0.166054   \n",
       "A2BIM8, B5X0G2, P02762, P04938, P04939, P11589                    0.136858   \n",
       "A2BIM8, B5X0G2, P02762, P04938, P11588                            0.616292   \n",
       "\n",
       "                                                    Sample.5.ECM.Sample1  \n",
       "A2A8L1                                                         -0.110047  \n",
       "A2AQ07, P68372, P99024, Q7TMM9, Q922F4, Q9CWF2,...              0.285241  \n",
       "A2BIM8, B5X0G2, P02762, P04938                                  0.368278  \n",
       "A2BIM8, B5X0G2, P02762, P04938, P04939, P11589                  0.106330  \n",
       "A2BIM8, B5X0G2, P02762, P04938, P11588                         -0.546514  "
      ]
     },
     "execution_count": 13,
     "metadata": {},
     "output_type": "execute_result"
    }
   ],
   "source": [
    "df_raw.iloc[0:5, 0:5] #Using a slice object and .iloc"
   ]
  },
  {
   "cell_type": "code",
   "execution_count": 14,
   "metadata": {},
   "outputs": [
    {
     "data": {
      "text/html": [
       "<div>\n",
       "<style scoped>\n",
       "    .dataframe tbody tr th:only-of-type {\n",
       "        vertical-align: middle;\n",
       "    }\n",
       "\n",
       "    .dataframe tbody tr th {\n",
       "        vertical-align: top;\n",
       "    }\n",
       "\n",
       "    .dataframe thead th {\n",
       "        text-align: right;\n",
       "    }\n",
       "</style>\n",
       "<table border=\"1\" class=\"dataframe\">\n",
       "  <thead>\n",
       "    <tr style=\"text-align: right;\">\n",
       "      <th></th>\n",
       "      <th>Sample.1.NI.Sample1</th>\n",
       "      <th>Sample.2.NI.Sample1</th>\n",
       "      <th>Sample.3.d3.pi.Sample1</th>\n",
       "      <th>Sample.4.d3.pi.Sample1</th>\n",
       "      <th>Sample.5.ECM.Sample1</th>\n",
       "    </tr>\n",
       "  </thead>\n",
       "  <tbody>\n",
       "    <tr>\n",
       "      <th>A2A8L1</th>\n",
       "      <td>0.030023</td>\n",
       "      <td>0.255059</td>\n",
       "      <td>0.105955</td>\n",
       "      <td>-0.045645</td>\n",
       "      <td>-0.110047</td>\n",
       "    </tr>\n",
       "    <tr>\n",
       "      <th>A2AQ07, P68372, P99024, Q7TMM9, Q922F4, Q9CWF2, Q9D6F9, Q9ERD7</th>\n",
       "      <td>-0.175916</td>\n",
       "      <td>-0.249753</td>\n",
       "      <td>-0.211482</td>\n",
       "      <td>-0.098306</td>\n",
       "      <td>0.285241</td>\n",
       "    </tr>\n",
       "    <tr>\n",
       "      <th>A2BIM8, B5X0G2, P02762, P04938</th>\n",
       "      <td>0.022319</td>\n",
       "      <td>-0.195931</td>\n",
       "      <td>-0.192663</td>\n",
       "      <td>-0.166054</td>\n",
       "      <td>0.368278</td>\n",
       "    </tr>\n",
       "    <tr>\n",
       "      <th>A2BIM8, B5X0G2, P02762, P04938, P04939, P11589</th>\n",
       "      <td>-0.243200</td>\n",
       "      <td>0.037658</td>\n",
       "      <td>-0.251572</td>\n",
       "      <td>0.136858</td>\n",
       "      <td>0.106330</td>\n",
       "    </tr>\n",
       "    <tr>\n",
       "      <th>A2BIM8, B5X0G2, P02762, P04938, P11588</th>\n",
       "      <td>0.739940</td>\n",
       "      <td>0.421966</td>\n",
       "      <td>0.077114</td>\n",
       "      <td>0.616292</td>\n",
       "      <td>-0.546514</td>\n",
       "    </tr>\n",
       "  </tbody>\n",
       "</table>\n",
       "</div>"
      ],
      "text/plain": [
       "                                                    Sample.1.NI.Sample1  \\\n",
       "A2A8L1                                                         0.030023   \n",
       "A2AQ07, P68372, P99024, Q7TMM9, Q922F4, Q9CWF2,...            -0.175916   \n",
       "A2BIM8, B5X0G2, P02762, P04938                                 0.022319   \n",
       "A2BIM8, B5X0G2, P02762, P04938, P04939, P11589                -0.243200   \n",
       "A2BIM8, B5X0G2, P02762, P04938, P11588                         0.739940   \n",
       "\n",
       "                                                    Sample.2.NI.Sample1  \\\n",
       "A2A8L1                                                         0.255059   \n",
       "A2AQ07, P68372, P99024, Q7TMM9, Q922F4, Q9CWF2,...            -0.249753   \n",
       "A2BIM8, B5X0G2, P02762, P04938                                -0.195931   \n",
       "A2BIM8, B5X0G2, P02762, P04938, P04939, P11589                 0.037658   \n",
       "A2BIM8, B5X0G2, P02762, P04938, P11588                         0.421966   \n",
       "\n",
       "                                                    Sample.3.d3.pi.Sample1  \\\n",
       "A2A8L1                                                            0.105955   \n",
       "A2AQ07, P68372, P99024, Q7TMM9, Q922F4, Q9CWF2,...               -0.211482   \n",
       "A2BIM8, B5X0G2, P02762, P04938                                   -0.192663   \n",
       "A2BIM8, B5X0G2, P02762, P04938, P04939, P11589                   -0.251572   \n",
       "A2BIM8, B5X0G2, P02762, P04938, P11588                            0.077114   \n",
       "\n",
       "                                                    Sample.4.d3.pi.Sample1  \\\n",
       "A2A8L1                                                           -0.045645   \n",
       "A2AQ07, P68372, P99024, Q7TMM9, Q922F4, Q9CWF2,...               -0.098306   \n",
       "A2BIM8, B5X0G2, P02762, P04938                                   -0.166054   \n",
       "A2BIM8, B5X0G2, P02762, P04938, P04939, P11589                    0.136858   \n",
       "A2BIM8, B5X0G2, P02762, P04938, P11588                            0.616292   \n",
       "\n",
       "                                                    Sample.5.ECM.Sample1  \n",
       "A2A8L1                                                         -0.110047  \n",
       "A2AQ07, P68372, P99024, Q7TMM9, Q922F4, Q9CWF2,...              0.285241  \n",
       "A2BIM8, B5X0G2, P02762, P04938                                  0.368278  \n",
       "A2BIM8, B5X0G2, P02762, P04938, P04939, P11589                  0.106330  \n",
       "A2BIM8, B5X0G2, P02762, P04938, P11588                         -0.546514  "
      ]
     },
     "execution_count": 14,
     "metadata": {},
     "output_type": "execute_result"
    }
   ],
   "source": [
    "df_raw.iloc[[0,1,2,3,4], [0,1,2,3,4]] #Using a list and .iloc"
   ]
  },
  {
   "cell_type": "markdown",
   "metadata": {},
   "source": [
    "We can also access individual samples/columns using the column names using the following two methods:"
   ]
  },
  {
   "cell_type": "code",
   "execution_count": 15,
   "metadata": {},
   "outputs": [
    {
     "data": {
      "text/plain": [
       "A2A8L1                                                            0.030023\n",
       "A2AQ07, P68372, P99024, Q7TMM9, Q922F4, Q9CWF2, Q9D6F9, Q9ERD7   -0.175916\n",
       "A2BIM8, B5X0G2, P02762, P04938                                    0.022319\n",
       "A2BIM8, B5X0G2, P02762, P04938, P04939, P11589                   -0.243200\n",
       "A2BIM8, B5X0G2, P02762, P04938, P11588                            0.739940\n",
       "                                                                    ...   \n",
       "Q63918                                                                 NaN\n",
       "Q8CG16                                                                 NaN\n",
       "Q9CQI6                                                                 NaN\n",
       "Q8R146                                                                 NaN\n",
       "P47753, P47754                                                         NaN\n",
       "Name: Sample.1.NI.Sample1, Length: 748, dtype: float64"
      ]
     },
     "execution_count": 15,
     "metadata": {},
     "output_type": "execute_result"
    }
   ],
   "source": [
    "df_raw.loc[:, \"Sample.1.NI.Sample1\"] #Using names and .loc"
   ]
  },
  {
   "cell_type": "code",
   "execution_count": 16,
   "metadata": {},
   "outputs": [
    {
     "data": {
      "text/plain": [
       "A2A8L1                                                            0.030023\n",
       "A2AQ07, P68372, P99024, Q7TMM9, Q922F4, Q9CWF2, Q9D6F9, Q9ERD7   -0.175916\n",
       "A2BIM8, B5X0G2, P02762, P04938                                    0.022319\n",
       "A2BIM8, B5X0G2, P02762, P04938, P04939, P11589                   -0.243200\n",
       "A2BIM8, B5X0G2, P02762, P04938, P11588                            0.739940\n",
       "                                                                    ...   \n",
       "Q63918                                                                 NaN\n",
       "Q8CG16                                                                 NaN\n",
       "Q9CQI6                                                                 NaN\n",
       "Q8R146                                                                 NaN\n",
       "P47753, P47754                                                         NaN\n",
       "Name: Sample.1.NI.Sample1, Length: 748, dtype: float64"
      ]
     },
     "execution_count": 16,
     "metadata": {},
     "output_type": "execute_result"
    }
   ],
   "source": [
    "df_raw[\"Sample.1.NI.Sample1\"] #Access column names directly"
   ]
  },
  {
   "cell_type": "code",
   "execution_count": null,
   "metadata": {},
   "outputs": [],
   "source": []
  },
  {
   "cell_type": "markdown",
   "metadata": {},
   "source": [
    "Note: Confusing the accessing methods, which comes first of rows and column, and mixing up index / column NAMES for LOCATIONS can lead to bizarre results when this does not immediately return an error!\n",
    "  \n",
    "\n",
    "Some helpful tips:\n",
    "- Rows always come before columns\n",
    "- To specify multiple rows or columns use:\n",
    "    - a slice: [1:5, :]\n",
    "    - list or pd.Series: [1,2,3,4]\n",
    "- If in doubt, .iloc will always return the absolute integer position(s)\n",
    "- To quickly access named columns:\n",
    "    - df[\"column_name\"]\n",
    "    - df[[\"column_name1\", \"column_name2\"]]"
   ]
  },
  {
   "cell_type": "markdown",
   "metadata": {},
   "source": [
    "Question 2: What is the 35th protein id?\n",
    "Hint: Python indexes start at 0\n",
    "\n"
   ]
  },
  {
   "cell_type": "code",
   "execution_count": null,
   "metadata": {},
   "outputs": [],
   "source": []
  },
  {
   "cell_type": "code",
   "execution_count": 17,
   "metadata": {},
   "outputs": [
    {
     "name": "stdout",
     "output_type": "stream",
     "text": [
      "Better luck next time.\n",
      "your answer was : \n"
     ]
    }
   ],
   "source": [
    "check_answer_module1(question='2', \n",
    "                     answer=\"\")"
   ]
  },
  {
   "cell_type": "code",
   "execution_count": null,
   "metadata": {},
   "outputs": [],
   "source": []
  },
  {
   "cell_type": "markdown",
   "metadata": {},
   "source": [
    "__Lets check out the columns and index names__\n",
    "\n",
    "We can access the column and row names using the column and index attributes. "
   ]
  },
  {
   "cell_type": "code",
   "execution_count": 18,
   "metadata": {},
   "outputs": [
    {
     "data": {
      "text/plain": [
       "Index(['Sample.1.NI.Sample1', 'Sample.2.NI.Sample1', 'Sample.3.d3.pi.Sample1',\n",
       "       'Sample.4.d3.pi.Sample1', 'Sample.5.ECM.Sample1',\n",
       "       'Sample.6.ECM.Sample1', 'Sample 1\\nECM\\nSample2',\n",
       "       'Sample 2\\nECM\\nSample2', 'Sample 3\\nNI\\nSample2',\n",
       "       'Sample 4\\nNI\\nSample2', 'Sample 5\\nd3 pi\\nSample2',\n",
       "       'Sample 6\\nd3 pi\\nSample2'],\n",
       "      dtype='object')"
      ]
     },
     "execution_count": 18,
     "metadata": {},
     "output_type": "execute_result"
    }
   ],
   "source": [
    "df_raw.columns"
   ]
  },
  {
   "cell_type": "code",
   "execution_count": 19,
   "metadata": {},
   "outputs": [
    {
     "data": {
      "text/plain": [
       "Index(['A2A8L1',\n",
       "       'A2AQ07, P68372, P99024, Q7TMM9, Q922F4, Q9CWF2, Q9D6F9, Q9ERD7',\n",
       "       'A2BIM8, B5X0G2, P02762, P04938',\n",
       "       'A2BIM8, B5X0G2, P02762, P04938, P04939, P11589',\n",
       "       'A2BIM8, B5X0G2, P02762, P04938, P11588',\n",
       "       'A2BIM8, B5X0G2, P02762, P04938, P11588, P11589',\n",
       "       'A2BIM8, B5X0G2, P02762, P04938, P11588, P11589, P11591',\n",
       "       'A2BIM8, B5X0G2, P02762, P04938, P11588, P11589, P11591, Q5FW60',\n",
       "       'A2BIM8, P02762, P04938, P11588, P11589', 'A3KGS3',\n",
       "       ...\n",
       "       'Q9R111', 'P68510', 'P50446', 'Q9Z0M6', 'P70336', 'Q63918', 'Q8CG16',\n",
       "       'Q9CQI6', 'Q8R146', 'P47753, P47754'],\n",
       "      dtype='object', length=748)"
      ]
     },
     "execution_count": 19,
     "metadata": {},
     "output_type": "execute_result"
    }
   ],
   "source": [
    "df_raw.index"
   ]
  },
  {
   "cell_type": "markdown",
   "metadata": {},
   "source": [
    "Question 3: Now try accessing sample name (.columns) using the square brackets []. What sample name is in column 7? "
   ]
  },
  {
   "cell_type": "code",
   "execution_count": null,
   "metadata": {},
   "outputs": [],
   "source": []
  },
  {
   "cell_type": "code",
   "execution_count": 20,
   "metadata": {},
   "outputs": [
    {
     "name": "stdout",
     "output_type": "stream",
     "text": [
      "It doesn't seem like you typed a valid question.\n"
     ]
    }
   ],
   "source": [
    "check_answer_module1(question='3', \n",
    "                     answer=\"\")\n"
   ]
  },
  {
   "cell_type": "code",
   "execution_count": null,
   "metadata": {},
   "outputs": [],
   "source": []
  },
  {
   "cell_type": "markdown",
   "metadata": {},
   "source": [
    "New columns names can be manually assigned or replaced by assinging an array of strings or integers to **df.columns** or **df.index**.\n",
    "\n",
    "Here we use a shortened manually curated version of the author labels for simplicity."
   ]
  },
  {
   "cell_type": "markdown",
   "metadata": {},
   "source": [
    "#### Renaming column names"
   ]
  },
  {
   "cell_type": "code",
   "execution_count": 21,
   "metadata": {},
   "outputs": [],
   "source": [
    "df_raw.columns = [\"NI_1\", \"NI_2\",\n",
    "                 \"D3_3\", \"D3_4\",\n",
    "                 \"ECM_5\", \"ECM_6\",\n",
    "                 \"ECM_11\", \"ECM_12\",\n",
    "                 \"NI_7\", \"NI_8\",\n",
    "                 \"D3_9\", \"D3_10\"]"
   ]
  },
  {
   "cell_type": "markdown",
   "metadata": {},
   "source": [
    "#### Re-ordering columns"
   ]
  },
  {
   "cell_type": "markdown",
   "metadata": {},
   "source": [
    "In this dataset the columns are ordered by the batch they belong to. Instead we would like the samples to be binned by their treatment group, and appear in chronogical order, namely:\n",
    "\n",
    "- Non-infected : NI\n",
    "- Day 3 : D3\n",
    "- Experimental cerebral malaria : ECM\n"
   ]
  },
  {
   "cell_type": "code",
   "execution_count": 22,
   "metadata": {},
   "outputs": [
    {
     "data": {
      "text/html": [
       "<div>\n",
       "<style scoped>\n",
       "    .dataframe tbody tr th:only-of-type {\n",
       "        vertical-align: middle;\n",
       "    }\n",
       "\n",
       "    .dataframe tbody tr th {\n",
       "        vertical-align: top;\n",
       "    }\n",
       "\n",
       "    .dataframe thead th {\n",
       "        text-align: right;\n",
       "    }\n",
       "</style>\n",
       "<table border=\"1\" class=\"dataframe\">\n",
       "  <thead>\n",
       "    <tr style=\"text-align: right;\">\n",
       "      <th></th>\n",
       "      <th>NI_1</th>\n",
       "      <th>NI_2</th>\n",
       "      <th>NI_7</th>\n",
       "      <th>NI_8</th>\n",
       "      <th>D3_3</th>\n",
       "      <th>D3_4</th>\n",
       "      <th>D3_9</th>\n",
       "      <th>D3_10</th>\n",
       "      <th>ECM_5</th>\n",
       "      <th>ECM_6</th>\n",
       "      <th>ECM_11</th>\n",
       "      <th>ECM_12</th>\n",
       "    </tr>\n",
       "  </thead>\n",
       "  <tbody>\n",
       "    <tr>\n",
       "      <th>A2A8L1</th>\n",
       "      <td>0.030023</td>\n",
       "      <td>0.255059</td>\n",
       "      <td>0.960442</td>\n",
       "      <td>0.816278</td>\n",
       "      <td>0.105955</td>\n",
       "      <td>-0.045645</td>\n",
       "      <td>0.933976</td>\n",
       "      <td>0.524753</td>\n",
       "      <td>-0.110047</td>\n",
       "      <td>-0.235346</td>\n",
       "      <td>0.396041</td>\n",
       "      <td>-3.631490</td>\n",
       "    </tr>\n",
       "    <tr>\n",
       "      <th>A2AQ07, P68372, P99024, Q7TMM9, Q922F4, Q9CWF2, Q9D6F9, Q9ERD7</th>\n",
       "      <td>-0.175916</td>\n",
       "      <td>-0.249753</td>\n",
       "      <td>-0.481753</td>\n",
       "      <td>0.174177</td>\n",
       "      <td>-0.211482</td>\n",
       "      <td>-0.098306</td>\n",
       "      <td>-0.435210</td>\n",
       "      <td>-0.070642</td>\n",
       "      <td>0.285241</td>\n",
       "      <td>0.450215</td>\n",
       "      <td>-0.074134</td>\n",
       "      <td>0.887562</td>\n",
       "    </tr>\n",
       "    <tr>\n",
       "      <th>A2BIM8, B5X0G2, P02762, P04938</th>\n",
       "      <td>0.022319</td>\n",
       "      <td>-0.195931</td>\n",
       "      <td>0.285260</td>\n",
       "      <td>-0.533405</td>\n",
       "      <td>-0.192663</td>\n",
       "      <td>-0.166054</td>\n",
       "      <td>0.214600</td>\n",
       "      <td>-0.012918</td>\n",
       "      <td>0.368278</td>\n",
       "      <td>0.164051</td>\n",
       "      <td>0.066875</td>\n",
       "      <td>-0.020412</td>\n",
       "    </tr>\n",
       "    <tr>\n",
       "      <th>A2BIM8, B5X0G2, P02762, P04938, P04939, P11589</th>\n",
       "      <td>-0.243200</td>\n",
       "      <td>0.037658</td>\n",
       "      <td>-0.058964</td>\n",
       "      <td>-0.113433</td>\n",
       "      <td>-0.251572</td>\n",
       "      <td>0.136858</td>\n",
       "      <td>-0.094399</td>\n",
       "      <td>0.098368</td>\n",
       "      <td>0.106330</td>\n",
       "      <td>0.213925</td>\n",
       "      <td>-0.576792</td>\n",
       "      <td>0.745219</td>\n",
       "    </tr>\n",
       "    <tr>\n",
       "      <th>A2BIM8, B5X0G2, P02762, P04938, P11588</th>\n",
       "      <td>0.739940</td>\n",
       "      <td>0.421966</td>\n",
       "      <td>1.255490</td>\n",
       "      <td>-0.035059</td>\n",
       "      <td>0.077114</td>\n",
       "      <td>0.616292</td>\n",
       "      <td>-0.616863</td>\n",
       "      <td>1.225039</td>\n",
       "      <td>-0.546514</td>\n",
       "      <td>-1.308798</td>\n",
       "      <td>-1.180796</td>\n",
       "      <td>-0.647811</td>\n",
       "    </tr>\n",
       "    <tr>\n",
       "      <th>...</th>\n",
       "      <td>...</td>\n",
       "      <td>...</td>\n",
       "      <td>...</td>\n",
       "      <td>...</td>\n",
       "      <td>...</td>\n",
       "      <td>...</td>\n",
       "      <td>...</td>\n",
       "      <td>...</td>\n",
       "      <td>...</td>\n",
       "      <td>...</td>\n",
       "      <td>...</td>\n",
       "      <td>...</td>\n",
       "    </tr>\n",
       "    <tr>\n",
       "      <th>Q63918</th>\n",
       "      <td>NaN</td>\n",
       "      <td>NaN</td>\n",
       "      <td>0.366505</td>\n",
       "      <td>0.400013</td>\n",
       "      <td>NaN</td>\n",
       "      <td>NaN</td>\n",
       "      <td>-0.068991</td>\n",
       "      <td>-0.426207</td>\n",
       "      <td>NaN</td>\n",
       "      <td>NaN</td>\n",
       "      <td>-0.187021</td>\n",
       "      <td>-0.084300</td>\n",
       "    </tr>\n",
       "    <tr>\n",
       "      <th>Q8CG16</th>\n",
       "      <td>NaN</td>\n",
       "      <td>NaN</td>\n",
       "      <td>0.378822</td>\n",
       "      <td>-0.045821</td>\n",
       "      <td>NaN</td>\n",
       "      <td>NaN</td>\n",
       "      <td>0.221614</td>\n",
       "      <td>-0.073865</td>\n",
       "      <td>NaN</td>\n",
       "      <td>NaN</td>\n",
       "      <td>-0.281706</td>\n",
       "      <td>-0.199044</td>\n",
       "    </tr>\n",
       "    <tr>\n",
       "      <th>Q9CQI6</th>\n",
       "      <td>NaN</td>\n",
       "      <td>NaN</td>\n",
       "      <td>-0.039100</td>\n",
       "      <td>0.050765</td>\n",
       "      <td>NaN</td>\n",
       "      <td>NaN</td>\n",
       "      <td>-0.303919</td>\n",
       "      <td>-0.302665</td>\n",
       "      <td>NaN</td>\n",
       "      <td>NaN</td>\n",
       "      <td>-0.006262</td>\n",
       "      <td>0.601181</td>\n",
       "    </tr>\n",
       "    <tr>\n",
       "      <th>Q8R146</th>\n",
       "      <td>NaN</td>\n",
       "      <td>NaN</td>\n",
       "      <td>-0.055273</td>\n",
       "      <td>0.177209</td>\n",
       "      <td>NaN</td>\n",
       "      <td>NaN</td>\n",
       "      <td>-0.449705</td>\n",
       "      <td>-0.093546</td>\n",
       "      <td>NaN</td>\n",
       "      <td>NaN</td>\n",
       "      <td>-0.166520</td>\n",
       "      <td>0.587835</td>\n",
       "    </tr>\n",
       "    <tr>\n",
       "      <th>P47753, P47754</th>\n",
       "      <td>NaN</td>\n",
       "      <td>NaN</td>\n",
       "      <td>-0.678243</td>\n",
       "      <td>0.035854</td>\n",
       "      <td>NaN</td>\n",
       "      <td>NaN</td>\n",
       "      <td>-0.004657</td>\n",
       "      <td>-0.196682</td>\n",
       "      <td>NaN</td>\n",
       "      <td>NaN</td>\n",
       "      <td>0.080050</td>\n",
       "      <td>0.763677</td>\n",
       "    </tr>\n",
       "  </tbody>\n",
       "</table>\n",
       "<p>748 rows × 12 columns</p>\n",
       "</div>"
      ],
      "text/plain": [
       "                                                        NI_1      NI_2  \\\n",
       "A2A8L1                                              0.030023  0.255059   \n",
       "A2AQ07, P68372, P99024, Q7TMM9, Q922F4, Q9CWF2,... -0.175916 -0.249753   \n",
       "A2BIM8, B5X0G2, P02762, P04938                      0.022319 -0.195931   \n",
       "A2BIM8, B5X0G2, P02762, P04938, P04939, P11589     -0.243200  0.037658   \n",
       "A2BIM8, B5X0G2, P02762, P04938, P11588              0.739940  0.421966   \n",
       "...                                                      ...       ...   \n",
       "Q63918                                                   NaN       NaN   \n",
       "Q8CG16                                                   NaN       NaN   \n",
       "Q9CQI6                                                   NaN       NaN   \n",
       "Q8R146                                                   NaN       NaN   \n",
       "P47753, P47754                                           NaN       NaN   \n",
       "\n",
       "                                                        NI_7      NI_8  \\\n",
       "A2A8L1                                              0.960442  0.816278   \n",
       "A2AQ07, P68372, P99024, Q7TMM9, Q922F4, Q9CWF2,... -0.481753  0.174177   \n",
       "A2BIM8, B5X0G2, P02762, P04938                      0.285260 -0.533405   \n",
       "A2BIM8, B5X0G2, P02762, P04938, P04939, P11589     -0.058964 -0.113433   \n",
       "A2BIM8, B5X0G2, P02762, P04938, P11588              1.255490 -0.035059   \n",
       "...                                                      ...       ...   \n",
       "Q63918                                              0.366505  0.400013   \n",
       "Q8CG16                                              0.378822 -0.045821   \n",
       "Q9CQI6                                             -0.039100  0.050765   \n",
       "Q8R146                                             -0.055273  0.177209   \n",
       "P47753, P47754                                     -0.678243  0.035854   \n",
       "\n",
       "                                                        D3_3      D3_4  \\\n",
       "A2A8L1                                              0.105955 -0.045645   \n",
       "A2AQ07, P68372, P99024, Q7TMM9, Q922F4, Q9CWF2,... -0.211482 -0.098306   \n",
       "A2BIM8, B5X0G2, P02762, P04938                     -0.192663 -0.166054   \n",
       "A2BIM8, B5X0G2, P02762, P04938, P04939, P11589     -0.251572  0.136858   \n",
       "A2BIM8, B5X0G2, P02762, P04938, P11588              0.077114  0.616292   \n",
       "...                                                      ...       ...   \n",
       "Q63918                                                   NaN       NaN   \n",
       "Q8CG16                                                   NaN       NaN   \n",
       "Q9CQI6                                                   NaN       NaN   \n",
       "Q8R146                                                   NaN       NaN   \n",
       "P47753, P47754                                           NaN       NaN   \n",
       "\n",
       "                                                        D3_9     D3_10  \\\n",
       "A2A8L1                                              0.933976  0.524753   \n",
       "A2AQ07, P68372, P99024, Q7TMM9, Q922F4, Q9CWF2,... -0.435210 -0.070642   \n",
       "A2BIM8, B5X0G2, P02762, P04938                      0.214600 -0.012918   \n",
       "A2BIM8, B5X0G2, P02762, P04938, P04939, P11589     -0.094399  0.098368   \n",
       "A2BIM8, B5X0G2, P02762, P04938, P11588             -0.616863  1.225039   \n",
       "...                                                      ...       ...   \n",
       "Q63918                                             -0.068991 -0.426207   \n",
       "Q8CG16                                              0.221614 -0.073865   \n",
       "Q9CQI6                                             -0.303919 -0.302665   \n",
       "Q8R146                                             -0.449705 -0.093546   \n",
       "P47753, P47754                                     -0.004657 -0.196682   \n",
       "\n",
       "                                                       ECM_5     ECM_6  \\\n",
       "A2A8L1                                             -0.110047 -0.235346   \n",
       "A2AQ07, P68372, P99024, Q7TMM9, Q922F4, Q9CWF2,...  0.285241  0.450215   \n",
       "A2BIM8, B5X0G2, P02762, P04938                      0.368278  0.164051   \n",
       "A2BIM8, B5X0G2, P02762, P04938, P04939, P11589      0.106330  0.213925   \n",
       "A2BIM8, B5X0G2, P02762, P04938, P11588             -0.546514 -1.308798   \n",
       "...                                                      ...       ...   \n",
       "Q63918                                                   NaN       NaN   \n",
       "Q8CG16                                                   NaN       NaN   \n",
       "Q9CQI6                                                   NaN       NaN   \n",
       "Q8R146                                                   NaN       NaN   \n",
       "P47753, P47754                                           NaN       NaN   \n",
       "\n",
       "                                                      ECM_11    ECM_12  \n",
       "A2A8L1                                              0.396041 -3.631490  \n",
       "A2AQ07, P68372, P99024, Q7TMM9, Q922F4, Q9CWF2,... -0.074134  0.887562  \n",
       "A2BIM8, B5X0G2, P02762, P04938                      0.066875 -0.020412  \n",
       "A2BIM8, B5X0G2, P02762, P04938, P04939, P11589     -0.576792  0.745219  \n",
       "A2BIM8, B5X0G2, P02762, P04938, P11588             -1.180796 -0.647811  \n",
       "...                                                      ...       ...  \n",
       "Q63918                                             -0.187021 -0.084300  \n",
       "Q8CG16                                             -0.281706 -0.199044  \n",
       "Q9CQI6                                             -0.006262  0.601181  \n",
       "Q8R146                                             -0.166520  0.587835  \n",
       "P47753, P47754                                      0.080050  0.763677  \n",
       "\n",
       "[748 rows x 12 columns]"
      ]
     },
     "execution_count": 22,
     "metadata": {},
     "output_type": "execute_result"
    }
   ],
   "source": [
    "#Let´s re-order the columns by accessing them in a specific order, and see what the new dataframe looks like\n",
    "df_raw.loc[:, [\"NI_1\", \"NI_2\", \"NI_7\", \"NI_8\",\n",
    "              \"D3_3\", \"D3_4\", \"D3_9\", \"D3_10\",\n",
    "              \"ECM_5\", \"ECM_6\", \"ECM_11\", \"ECM_12\"]]"
   ]
  },
  {
   "cell_type": "markdown",
   "metadata": {},
   "source": [
    "To make this change permanent, we need to save this new view into a variable.\n",
    "Let´s save it back to **df_raw**."
   ]
  },
  {
   "cell_type": "code",
   "execution_count": 23,
   "metadata": {},
   "outputs": [],
   "source": [
    "df_raw = df_raw.loc[:, [\"NI_1\", \"NI_2\", \"NI_7\", \"NI_8\",\n",
    "              \"D3_3\", \"D3_4\", \"D3_9\", \"D3_10\",\n",
    "              \"ECM_5\", \"ECM_6\", \"ECM_11\", \"ECM_12\"]]"
   ]
  },
  {
   "cell_type": "markdown",
   "metadata": {},
   "source": [
    "To inspect the column ordering we can again check the columns attribute again"
   ]
  },
  {
   "cell_type": "code",
   "execution_count": 24,
   "metadata": {},
   "outputs": [
    {
     "data": {
      "text/plain": [
       "Index(['NI_1', 'NI_2', 'NI_7', 'NI_8', 'D3_3', 'D3_4', 'D3_9', 'D3_10',\n",
       "       'ECM_5', 'ECM_6', 'ECM_11', 'ECM_12'],\n",
       "      dtype='object')"
      ]
     },
     "execution_count": 24,
     "metadata": {},
     "output_type": "execute_result"
    }
   ],
   "source": [
    "df_raw.columns"
   ]
  },
  {
   "cell_type": "markdown",
   "metadata": {},
   "source": [
    "__Subtask summary:__\n",
    "\n",
    "So far we:\n",
    "- Loaded the dataset using the Pandas module\n",
    "- Inspected the dataframe\n",
    "- Generated summary statistics\n",
    "- Re-ordered the dataframe columns"
   ]
  },
  {
   "cell_type": "code",
   "execution_count": null,
   "metadata": {},
   "outputs": [],
   "source": []
  },
  {
   "cell_type": "markdown",
   "metadata": {},
   "source": [
    "## Removing mising values, normalizing and cleaning our data"
   ]
  },
  {
   "cell_type": "code",
   "execution_count": 25,
   "metadata": {},
   "outputs": [
    {
     "data": {
      "text/html": [
       "<div>\n",
       "<style scoped>\n",
       "    .dataframe tbody tr th:only-of-type {\n",
       "        vertical-align: middle;\n",
       "    }\n",
       "\n",
       "    .dataframe tbody tr th {\n",
       "        vertical-align: top;\n",
       "    }\n",
       "\n",
       "    .dataframe thead th {\n",
       "        text-align: right;\n",
       "    }\n",
       "</style>\n",
       "<table border=\"1\" class=\"dataframe\">\n",
       "  <thead>\n",
       "    <tr style=\"text-align: right;\">\n",
       "      <th></th>\n",
       "      <th>NI_1</th>\n",
       "      <th>NI_2</th>\n",
       "      <th>NI_7</th>\n",
       "      <th>NI_8</th>\n",
       "      <th>D3_3</th>\n",
       "      <th>D3_4</th>\n",
       "      <th>D3_9</th>\n",
       "      <th>D3_10</th>\n",
       "      <th>ECM_5</th>\n",
       "      <th>ECM_6</th>\n",
       "      <th>ECM_11</th>\n",
       "      <th>ECM_12</th>\n",
       "    </tr>\n",
       "  </thead>\n",
       "  <tbody>\n",
       "    <tr>\n",
       "      <th>count</th>\n",
       "      <td>591.000000</td>\n",
       "      <td>591.000000</td>\n",
       "      <td>636.000000</td>\n",
       "      <td>636.000000</td>\n",
       "      <td>591.000000</td>\n",
       "      <td>591.000000</td>\n",
       "      <td>636.000000</td>\n",
       "      <td>636.000000</td>\n",
       "      <td>591.000000</td>\n",
       "      <td>591.000000</td>\n",
       "      <td>636.000000</td>\n",
       "      <td>636.000000</td>\n",
       "    </tr>\n",
       "    <tr>\n",
       "      <th>mean</th>\n",
       "      <td>0.018741</td>\n",
       "      <td>-0.096846</td>\n",
       "      <td>-0.141263</td>\n",
       "      <td>-0.023339</td>\n",
       "      <td>-0.136090</td>\n",
       "      <td>-0.186912</td>\n",
       "      <td>-0.184807</td>\n",
       "      <td>-0.044430</td>\n",
       "      <td>0.257273</td>\n",
       "      <td>0.143834</td>\n",
       "      <td>-0.039733</td>\n",
       "      <td>0.433572</td>\n",
       "    </tr>\n",
       "    <tr>\n",
       "      <th>std</th>\n",
       "      <td>0.352807</td>\n",
       "      <td>0.242460</td>\n",
       "      <td>0.498972</td>\n",
       "      <td>0.265459</td>\n",
       "      <td>0.316248</td>\n",
       "      <td>0.349886</td>\n",
       "      <td>0.425344</td>\n",
       "      <td>0.285929</td>\n",
       "      <td>0.561700</td>\n",
       "      <td>0.484882</td>\n",
       "      <td>0.387100</td>\n",
       "      <td>0.897728</td>\n",
       "    </tr>\n",
       "    <tr>\n",
       "      <th>min</th>\n",
       "      <td>-1.226488</td>\n",
       "      <td>-1.090018</td>\n",
       "      <td>-2.903402</td>\n",
       "      <td>-0.772762</td>\n",
       "      <td>-1.698366</td>\n",
       "      <td>-1.772834</td>\n",
       "      <td>-1.576109</td>\n",
       "      <td>-0.963776</td>\n",
       "      <td>-1.461867</td>\n",
       "      <td>-1.421203</td>\n",
       "      <td>-1.180796</td>\n",
       "      <td>-3.631490</td>\n",
       "    </tr>\n",
       "    <tr>\n",
       "      <th>25%</th>\n",
       "      <td>-0.182524</td>\n",
       "      <td>-0.249135</td>\n",
       "      <td>-0.431201</td>\n",
       "      <td>-0.185618</td>\n",
       "      <td>-0.344550</td>\n",
       "      <td>-0.399042</td>\n",
       "      <td>-0.459229</td>\n",
       "      <td>-0.223822</td>\n",
       "      <td>-0.145712</td>\n",
       "      <td>-0.195306</td>\n",
       "      <td>-0.242904</td>\n",
       "      <td>-0.220424</td>\n",
       "    </tr>\n",
       "    <tr>\n",
       "      <th>50%</th>\n",
       "      <td>-0.020263</td>\n",
       "      <td>-0.116964</td>\n",
       "      <td>-0.129233</td>\n",
       "      <td>-0.045670</td>\n",
       "      <td>-0.148311</td>\n",
       "      <td>-0.202649</td>\n",
       "      <td>-0.211429</td>\n",
       "      <td>-0.076210</td>\n",
       "      <td>0.255479</td>\n",
       "      <td>0.132509</td>\n",
       "      <td>-0.111954</td>\n",
       "      <td>0.415333</td>\n",
       "    </tr>\n",
       "    <tr>\n",
       "      <th>75%</th>\n",
       "      <td>0.154793</td>\n",
       "      <td>0.045542</td>\n",
       "      <td>0.134527</td>\n",
       "      <td>0.115044</td>\n",
       "      <td>0.065655</td>\n",
       "      <td>0.024667</td>\n",
       "      <td>0.079249</td>\n",
       "      <td>0.095432</td>\n",
       "      <td>0.606388</td>\n",
       "      <td>0.455201</td>\n",
       "      <td>0.065979</td>\n",
       "      <td>1.163893</td>\n",
       "    </tr>\n",
       "    <tr>\n",
       "      <th>max</th>\n",
       "      <td>1.687239</td>\n",
       "      <td>0.676707</td>\n",
       "      <td>2.082204</td>\n",
       "      <td>1.522205</td>\n",
       "      <td>1.846544</td>\n",
       "      <td>0.846193</td>\n",
       "      <td>1.447687</td>\n",
       "      <td>1.225039</td>\n",
       "      <td>2.138143</td>\n",
       "      <td>2.338790</td>\n",
       "      <td>1.924148</td>\n",
       "      <td>2.752643</td>\n",
       "    </tr>\n",
       "  </tbody>\n",
       "</table>\n",
       "</div>"
      ],
      "text/plain": [
       "             NI_1        NI_2        NI_7        NI_8        D3_3        D3_4  \\\n",
       "count  591.000000  591.000000  636.000000  636.000000  591.000000  591.000000   \n",
       "mean     0.018741   -0.096846   -0.141263   -0.023339   -0.136090   -0.186912   \n",
       "std      0.352807    0.242460    0.498972    0.265459    0.316248    0.349886   \n",
       "min     -1.226488   -1.090018   -2.903402   -0.772762   -1.698366   -1.772834   \n",
       "25%     -0.182524   -0.249135   -0.431201   -0.185618   -0.344550   -0.399042   \n",
       "50%     -0.020263   -0.116964   -0.129233   -0.045670   -0.148311   -0.202649   \n",
       "75%      0.154793    0.045542    0.134527    0.115044    0.065655    0.024667   \n",
       "max      1.687239    0.676707    2.082204    1.522205    1.846544    0.846193   \n",
       "\n",
       "             D3_9       D3_10       ECM_5       ECM_6      ECM_11      ECM_12  \n",
       "count  636.000000  636.000000  591.000000  591.000000  636.000000  636.000000  \n",
       "mean    -0.184807   -0.044430    0.257273    0.143834   -0.039733    0.433572  \n",
       "std      0.425344    0.285929    0.561700    0.484882    0.387100    0.897728  \n",
       "min     -1.576109   -0.963776   -1.461867   -1.421203   -1.180796   -3.631490  \n",
       "25%     -0.459229   -0.223822   -0.145712   -0.195306   -0.242904   -0.220424  \n",
       "50%     -0.211429   -0.076210    0.255479    0.132509   -0.111954    0.415333  \n",
       "75%      0.079249    0.095432    0.606388    0.455201    0.065979    1.163893  \n",
       "max      1.447687    1.225039    2.138143    2.338790    1.924148    2.752643  "
      ]
     },
     "execution_count": 25,
     "metadata": {},
     "output_type": "execute_result"
    }
   ],
   "source": [
    "df_raw.describe() #Summary of whole Dataframe"
   ]
  },
  {
   "cell_type": "markdown",
   "metadata": {},
   "source": [
    "From the generated summary statistics, we can see that all samples from 'Sample1' run have lower count than 'Sample2'. We also see that the replicates have different means, minimums and maximums."
   ]
  },
  {
   "cell_type": "code",
   "execution_count": null,
   "metadata": {},
   "outputs": [],
   "source": []
  },
  {
   "cell_type": "markdown",
   "metadata": {},
   "source": [
    "## Plotting in seaborn\n",
    "We can also plot all the protein values per sample using the plotting library Seaborn and matplotlib.\n",
    "\n",
    "Read more: https://seaborn.pydata.org/introduction.html\n",
    "\n"
   ]
  },
  {
   "cell_type": "markdown",
   "metadata": {},
   "source": [
    "In order to make our analysis of the data easier, we will use Pandas´ **pd.melt** function. This will reshape our data for more computer-friendly analysis, and return a DataFrame with only two columns. One for the samples (**variable**) and one for the protein levels (sample **value**), as shown below:"
   ]
  },
  {
   "cell_type": "code",
   "execution_count": 26,
   "metadata": {},
   "outputs": [
    {
     "data": {
      "text/html": [
       "<div>\n",
       "<style scoped>\n",
       "    .dataframe tbody tr th:only-of-type {\n",
       "        vertical-align: middle;\n",
       "    }\n",
       "\n",
       "    .dataframe tbody tr th {\n",
       "        vertical-align: top;\n",
       "    }\n",
       "\n",
       "    .dataframe thead th {\n",
       "        text-align: right;\n",
       "    }\n",
       "</style>\n",
       "<table border=\"1\" class=\"dataframe\">\n",
       "  <thead>\n",
       "    <tr style=\"text-align: right;\">\n",
       "      <th></th>\n",
       "      <th>variable</th>\n",
       "      <th>value</th>\n",
       "    </tr>\n",
       "  </thead>\n",
       "  <tbody>\n",
       "    <tr>\n",
       "      <th>0</th>\n",
       "      <td>NI_1</td>\n",
       "      <td>0.030023</td>\n",
       "    </tr>\n",
       "    <tr>\n",
       "      <th>1</th>\n",
       "      <td>NI_1</td>\n",
       "      <td>-0.175916</td>\n",
       "    </tr>\n",
       "    <tr>\n",
       "      <th>2</th>\n",
       "      <td>NI_1</td>\n",
       "      <td>0.022319</td>\n",
       "    </tr>\n",
       "    <tr>\n",
       "      <th>3</th>\n",
       "      <td>NI_1</td>\n",
       "      <td>-0.243200</td>\n",
       "    </tr>\n",
       "    <tr>\n",
       "      <th>4</th>\n",
       "      <td>NI_1</td>\n",
       "      <td>0.739940</td>\n",
       "    </tr>\n",
       "    <tr>\n",
       "      <th>...</th>\n",
       "      <td>...</td>\n",
       "      <td>...</td>\n",
       "    </tr>\n",
       "    <tr>\n",
       "      <th>8971</th>\n",
       "      <td>ECM_12</td>\n",
       "      <td>-0.084300</td>\n",
       "    </tr>\n",
       "    <tr>\n",
       "      <th>8972</th>\n",
       "      <td>ECM_12</td>\n",
       "      <td>-0.199044</td>\n",
       "    </tr>\n",
       "    <tr>\n",
       "      <th>8973</th>\n",
       "      <td>ECM_12</td>\n",
       "      <td>0.601181</td>\n",
       "    </tr>\n",
       "    <tr>\n",
       "      <th>8974</th>\n",
       "      <td>ECM_12</td>\n",
       "      <td>0.587835</td>\n",
       "    </tr>\n",
       "    <tr>\n",
       "      <th>8975</th>\n",
       "      <td>ECM_12</td>\n",
       "      <td>0.763677</td>\n",
       "    </tr>\n",
       "  </tbody>\n",
       "</table>\n",
       "<p>8976 rows × 2 columns</p>\n",
       "</div>"
      ],
      "text/plain": [
       "     variable     value\n",
       "0        NI_1  0.030023\n",
       "1        NI_1 -0.175916\n",
       "2        NI_1  0.022319\n",
       "3        NI_1 -0.243200\n",
       "4        NI_1  0.739940\n",
       "...       ...       ...\n",
       "8971   ECM_12 -0.084300\n",
       "8972   ECM_12 -0.199044\n",
       "8973   ECM_12  0.601181\n",
       "8974   ECM_12  0.587835\n",
       "8975   ECM_12  0.763677\n",
       "\n",
       "[8976 rows x 2 columns]"
      ]
     },
     "execution_count": 26,
     "metadata": {},
     "output_type": "execute_result"
    }
   ],
   "source": [
    "pd.melt(df_raw)"
   ]
  },
  {
   "cell_type": "markdown",
   "metadata": {},
   "source": [
    "#### Great! Now we can simply plot the distribution of values per sample:"
   ]
  },
  {
   "cell_type": "code",
   "execution_count": 27,
   "metadata": {},
   "outputs": [
    {
     "data": {
      "text/plain": [
       "Text(0, 0.5, 'Log2 Quantitative protein expression levels')"
      ]
     },
     "execution_count": 27,
     "metadata": {},
     "output_type": "execute_result"
    },
    {
     "data": {
      "image/png": "[encoded data removed]",
      "text/plain": [
       "<Figure size 864x576 with 1 Axes>"
      ]
     },
     "metadata": {},
     "output_type": "display_data"
    }
   ],
   "source": [
    "df = pd.melt(df_raw)\n",
    "\n",
    "# Initialize plot\n",
    "sns.set(font_scale=1.3)\n",
    "fig, ax = plt.subplots(figsize = (12,8))\n",
    "\n",
    "# Graph violin plot\n",
    "sns.violinplot(data = df, x = 'variable', y = 'value', ax = ax)\n",
    "\n",
    "# Change plot settings\n",
    "plt.title(\"Non-normalized dataset\", fontsize = 22)\n",
    "ax.set_xlabel(\"Sample names\")\n",
    "ax.set_ylabel(\"Log2 Quantitative protein expression levels\")"
   ]
  },
  {
   "cell_type": "markdown",
   "metadata": {},
   "source": [
    "\n",
    "\n",
    "When the samples are not normalized, it can make direct comparison between them difficult to interpret. Based on this, we can begin considering that the data needs to be normalized (put sample mean to 0 and variance to 1) in order to make comparisons between them equal. We will be doing this later."
   ]
  },
  {
   "cell_type": "code",
   "execution_count": null,
   "metadata": {},
   "outputs": [],
   "source": []
  },
  {
   "cell_type": "markdown",
   "metadata": {},
   "source": [
    "#### Dealing with empty values in the dataset\n",
    "Upon data generation, not all proteins may be observed in all samples. The general consensus is that this is due to technical limitations of the techniques and stochastic dropouts. Therefore, we assume that all proteins are expressed to some degree at any point in time. \n",
    "\n",
    "\n",
    "From a Data Science point of view, empty values are problematic as they do not represent any specific numerical value, and thus performing calculations on them is ambiguous.\n",
    "    \n",
    "Note: Common alternatives for dealing with empty values include:\n",
    "    \n",
    "- Removing row or column\n",
    "- Setting to 0\n",
    "- Setting to feature or sample mean or some other imputing method\n",
    "- Setting to a special categorical value representing missing values\n"
   ]
  },
  {
   "cell_type": "code",
   "execution_count": null,
   "metadata": {},
   "outputs": [],
   "source": []
  },
  {
   "cell_type": "markdown",
   "metadata": {},
   "source": [
    "#### Finding empty values in the dataset"
   ]
  },
  {
   "cell_type": "markdown",
   "metadata": {},
   "source": [
    "We can test for NA values in out DataFrame using the Pandas **.isna method**. \n",
    "\n",
    "**.isna** return as boolean DataFrame (True or False). Since True and False is represented as 1 and 0 respectively in Python, the total number of True statements can easily be counted. Here we count the number of NA's per sample using the Pandas **.sum** method.\n",
    "\n",
    "Like the sum method, pandas also have other functions to generate descriptive statistics e.g. **.mean()**, **.median()** and **.std()**."
   ]
  },
  {
   "cell_type": "code",
   "execution_count": 28,
   "metadata": {},
   "outputs": [
    {
     "data": {
      "text/plain": [
       "NI_1      157\n",
       "NI_2      157\n",
       "NI_7      112\n",
       "NI_8      112\n",
       "D3_3      157\n",
       "D3_4      157\n",
       "D3_9      112\n",
       "D3_10     112\n",
       "ECM_5     157\n",
       "ECM_6     157\n",
       "ECM_11    112\n",
       "ECM_12    112\n",
       "dtype: int64"
      ]
     },
     "execution_count": 28,
     "metadata": {},
     "output_type": "execute_result"
    }
   ],
   "source": [
    "df_raw.isna().sum()"
   ]
  },
  {
   "cell_type": "markdown",
   "metadata": {},
   "source": [
    "Question 4: What is the mean number of NA values per sample in this dataset?"
   ]
  },
  {
   "cell_type": "code",
   "execution_count": null,
   "metadata": {},
   "outputs": [],
   "source": []
  },
  {
   "cell_type": "code",
   "execution_count": 29,
   "metadata": {},
   "outputs": [
    {
     "name": "stdout",
     "output_type": "stream",
     "text": [
      "It doesn't seem like you typed a valid question.\n"
     ]
    }
   ],
   "source": [
    "check_answer_module1(question='4', \n",
    "                     answer=\"\")"
   ]
  },
  {
   "cell_type": "code",
   "execution_count": null,
   "metadata": {},
   "outputs": [],
   "source": []
  },
  {
   "cell_type": "markdown",
   "metadata": {},
   "source": [
    "We can also do the reverse: Get the total count of all proteins per sample that are NOT missing:"
   ]
  },
  {
   "cell_type": "code",
   "execution_count": 30,
   "metadata": {},
   "outputs": [
    {
     "data": {
      "text/plain": [
       "NI_1      591\n",
       "NI_2      591\n",
       "NI_7      636\n",
       "NI_8      636\n",
       "D3_3      591\n",
       "D3_4      591\n",
       "D3_9      636\n",
       "D3_10     636\n",
       "ECM_5     591\n",
       "ECM_6     591\n",
       "ECM_11    636\n",
       "ECM_12    636\n",
       "dtype: int64"
      ]
     },
     "execution_count": 30,
     "metadata": {},
     "output_type": "execute_result"
    }
   ],
   "source": [
    "df_raw.notna().sum()"
   ]
  },
  {
   "cell_type": "markdown",
   "metadata": {},
   "source": [
    "One way to deal with NA values is to just remove them. Here we see that we have a lot of NA values and therefore we would have to remove a large portion of the data. This is undesirable as it would mean discarding an entire protein if any of the 12 samples have a missing value for that protein, meaning we´d potentially be throwing away a lot of good data as well.\n",
    "\n",
    "**Let´s try dropping all rows (proteins) with at least 1 missing value, and see what happens:**\n"
   ]
  },
  {
   "cell_type": "code",
   "execution_count": 31,
   "metadata": {},
   "outputs": [
    {
     "data": {
      "text/html": [
       "<div>\n",
       "<style scoped>\n",
       "    .dataframe tbody tr th:only-of-type {\n",
       "        vertical-align: middle;\n",
       "    }\n",
       "\n",
       "    .dataframe tbody tr th {\n",
       "        vertical-align: top;\n",
       "    }\n",
       "\n",
       "    .dataframe thead th {\n",
       "        text-align: right;\n",
       "    }\n",
       "</style>\n",
       "<table border=\"1\" class=\"dataframe\">\n",
       "  <thead>\n",
       "    <tr style=\"text-align: right;\">\n",
       "      <th></th>\n",
       "      <th>NI_1</th>\n",
       "      <th>NI_2</th>\n",
       "      <th>NI_7</th>\n",
       "      <th>NI_8</th>\n",
       "      <th>D3_3</th>\n",
       "      <th>D3_4</th>\n",
       "      <th>D3_9</th>\n",
       "      <th>D3_10</th>\n",
       "      <th>ECM_5</th>\n",
       "      <th>ECM_6</th>\n",
       "      <th>ECM_11</th>\n",
       "      <th>ECM_12</th>\n",
       "    </tr>\n",
       "  </thead>\n",
       "  <tbody>\n",
       "    <tr>\n",
       "      <th>A2A8L1</th>\n",
       "      <td>0.030023</td>\n",
       "      <td>0.255059</td>\n",
       "      <td>0.960442</td>\n",
       "      <td>0.816278</td>\n",
       "      <td>0.105955</td>\n",
       "      <td>-0.045645</td>\n",
       "      <td>0.933976</td>\n",
       "      <td>0.524753</td>\n",
       "      <td>-0.110047</td>\n",
       "      <td>-0.235346</td>\n",
       "      <td>0.396041</td>\n",
       "      <td>-3.631490</td>\n",
       "    </tr>\n",
       "    <tr>\n",
       "      <th>A2AQ07, P68372, P99024, Q7TMM9, Q922F4, Q9CWF2, Q9D6F9, Q9ERD7</th>\n",
       "      <td>-0.175916</td>\n",
       "      <td>-0.249753</td>\n",
       "      <td>-0.481753</td>\n",
       "      <td>0.174177</td>\n",
       "      <td>-0.211482</td>\n",
       "      <td>-0.098306</td>\n",
       "      <td>-0.435210</td>\n",
       "      <td>-0.070642</td>\n",
       "      <td>0.285241</td>\n",
       "      <td>0.450215</td>\n",
       "      <td>-0.074134</td>\n",
       "      <td>0.887562</td>\n",
       "    </tr>\n",
       "    <tr>\n",
       "      <th>A2BIM8, B5X0G2, P02762, P04938</th>\n",
       "      <td>0.022319</td>\n",
       "      <td>-0.195931</td>\n",
       "      <td>0.285260</td>\n",
       "      <td>-0.533405</td>\n",
       "      <td>-0.192663</td>\n",
       "      <td>-0.166054</td>\n",
       "      <td>0.214600</td>\n",
       "      <td>-0.012918</td>\n",
       "      <td>0.368278</td>\n",
       "      <td>0.164051</td>\n",
       "      <td>0.066875</td>\n",
       "      <td>-0.020412</td>\n",
       "    </tr>\n",
       "    <tr>\n",
       "      <th>A2BIM8, B5X0G2, P02762, P04938, P04939, P11589</th>\n",
       "      <td>-0.243200</td>\n",
       "      <td>0.037658</td>\n",
       "      <td>-0.058964</td>\n",
       "      <td>-0.113433</td>\n",
       "      <td>-0.251572</td>\n",
       "      <td>0.136858</td>\n",
       "      <td>-0.094399</td>\n",
       "      <td>0.098368</td>\n",
       "      <td>0.106330</td>\n",
       "      <td>0.213925</td>\n",
       "      <td>-0.576792</td>\n",
       "      <td>0.745219</td>\n",
       "    </tr>\n",
       "    <tr>\n",
       "      <th>A2BIM8, B5X0G2, P02762, P04938, P11588</th>\n",
       "      <td>0.739940</td>\n",
       "      <td>0.421966</td>\n",
       "      <td>1.255490</td>\n",
       "      <td>-0.035059</td>\n",
       "      <td>0.077114</td>\n",
       "      <td>0.616292</td>\n",
       "      <td>-0.616863</td>\n",
       "      <td>1.225039</td>\n",
       "      <td>-0.546514</td>\n",
       "      <td>-1.308798</td>\n",
       "      <td>-1.180796</td>\n",
       "      <td>-0.647811</td>\n",
       "    </tr>\n",
       "    <tr>\n",
       "      <th>...</th>\n",
       "      <td>...</td>\n",
       "      <td>...</td>\n",
       "      <td>...</td>\n",
       "      <td>...</td>\n",
       "      <td>...</td>\n",
       "      <td>...</td>\n",
       "      <td>...</td>\n",
       "      <td>...</td>\n",
       "      <td>...</td>\n",
       "      <td>...</td>\n",
       "      <td>...</td>\n",
       "      <td>...</td>\n",
       "    </tr>\n",
       "    <tr>\n",
       "      <th>Q9WVA4</th>\n",
       "      <td>0.112719</td>\n",
       "      <td>-0.396774</td>\n",
       "      <td>-0.049299</td>\n",
       "      <td>0.056203</td>\n",
       "      <td>-0.387501</td>\n",
       "      <td>-0.149961</td>\n",
       "      <td>0.145984</td>\n",
       "      <td>-0.238364</td>\n",
       "      <td>0.385670</td>\n",
       "      <td>0.435847</td>\n",
       "      <td>-0.117934</td>\n",
       "      <td>0.203410</td>\n",
       "    </tr>\n",
       "    <tr>\n",
       "      <th>Q9Z126</th>\n",
       "      <td>-0.220367</td>\n",
       "      <td>-0.090344</td>\n",
       "      <td>1.339732</td>\n",
       "      <td>0.557239</td>\n",
       "      <td>0.799531</td>\n",
       "      <td>0.210439</td>\n",
       "      <td>-0.420985</td>\n",
       "      <td>-0.180021</td>\n",
       "      <td>-0.261854</td>\n",
       "      <td>-0.437405</td>\n",
       "      <td>-0.541925</td>\n",
       "      <td>-0.754040</td>\n",
       "    </tr>\n",
       "    <tr>\n",
       "      <th>Q9Z1R3</th>\n",
       "      <td>0.843102</td>\n",
       "      <td>0.313808</td>\n",
       "      <td>-0.145425</td>\n",
       "      <td>0.534150</td>\n",
       "      <td>-0.020243</td>\n",
       "      <td>0.459755</td>\n",
       "      <td>0.215962</td>\n",
       "      <td>0.557557</td>\n",
       "      <td>-1.364095</td>\n",
       "      <td>-0.232327</td>\n",
       "      <td>-0.891840</td>\n",
       "      <td>-0.270403</td>\n",
       "    </tr>\n",
       "    <tr>\n",
       "      <th>Q9Z2K1</th>\n",
       "      <td>0.744293</td>\n",
       "      <td>-0.230905</td>\n",
       "      <td>0.346441</td>\n",
       "      <td>-0.107369</td>\n",
       "      <td>-0.010773</td>\n",
       "      <td>-0.626418</td>\n",
       "      <td>-0.912998</td>\n",
       "      <td>0.329317</td>\n",
       "      <td>0.114466</td>\n",
       "      <td>0.009336</td>\n",
       "      <td>-0.238551</td>\n",
       "      <td>0.583160</td>\n",
       "    </tr>\n",
       "    <tr>\n",
       "      <th>Q9Z2U1</th>\n",
       "      <td>-0.099506</td>\n",
       "      <td>-0.450609</td>\n",
       "      <td>0.137015</td>\n",
       "      <td>-0.060549</td>\n",
       "      <td>-0.161068</td>\n",
       "      <td>-0.603550</td>\n",
       "      <td>-0.557696</td>\n",
       "      <td>-0.146110</td>\n",
       "      <td>0.494651</td>\n",
       "      <td>0.820082</td>\n",
       "      <td>-0.148761</td>\n",
       "      <td>0.776102</td>\n",
       "    </tr>\n",
       "  </tbody>\n",
       "</table>\n",
       "<p>479 rows × 12 columns</p>\n",
       "</div>"
      ],
      "text/plain": [
       "                                                        NI_1      NI_2  \\\n",
       "A2A8L1                                              0.030023  0.255059   \n",
       "A2AQ07, P68372, P99024, Q7TMM9, Q922F4, Q9CWF2,... -0.175916 -0.249753   \n",
       "A2BIM8, B5X0G2, P02762, P04938                      0.022319 -0.195931   \n",
       "A2BIM8, B5X0G2, P02762, P04938, P04939, P11589     -0.243200  0.037658   \n",
       "A2BIM8, B5X0G2, P02762, P04938, P11588              0.739940  0.421966   \n",
       "...                                                      ...       ...   \n",
       "Q9WVA4                                              0.112719 -0.396774   \n",
       "Q9Z126                                             -0.220367 -0.090344   \n",
       "Q9Z1R3                                              0.843102  0.313808   \n",
       "Q9Z2K1                                              0.744293 -0.230905   \n",
       "Q9Z2U1                                             -0.099506 -0.450609   \n",
       "\n",
       "                                                        NI_7      NI_8  \\\n",
       "A2A8L1                                              0.960442  0.816278   \n",
       "A2AQ07, P68372, P99024, Q7TMM9, Q922F4, Q9CWF2,... -0.481753  0.174177   \n",
       "A2BIM8, B5X0G2, P02762, P04938                      0.285260 -0.533405   \n",
       "A2BIM8, B5X0G2, P02762, P04938, P04939, P11589     -0.058964 -0.113433   \n",
       "A2BIM8, B5X0G2, P02762, P04938, P11588              1.255490 -0.035059   \n",
       "...                                                      ...       ...   \n",
       "Q9WVA4                                             -0.049299  0.056203   \n",
       "Q9Z126                                              1.339732  0.557239   \n",
       "Q9Z1R3                                             -0.145425  0.534150   \n",
       "Q9Z2K1                                              0.346441 -0.107369   \n",
       "Q9Z2U1                                              0.137015 -0.060549   \n",
       "\n",
       "                                                        D3_3      D3_4  \\\n",
       "A2A8L1                                              0.105955 -0.045645   \n",
       "A2AQ07, P68372, P99024, Q7TMM9, Q922F4, Q9CWF2,... -0.211482 -0.098306   \n",
       "A2BIM8, B5X0G2, P02762, P04938                     -0.192663 -0.166054   \n",
       "A2BIM8, B5X0G2, P02762, P04938, P04939, P11589     -0.251572  0.136858   \n",
       "A2BIM8, B5X0G2, P02762, P04938, P11588              0.077114  0.616292   \n",
       "...                                                      ...       ...   \n",
       "Q9WVA4                                             -0.387501 -0.149961   \n",
       "Q9Z126                                              0.799531  0.210439   \n",
       "Q9Z1R3                                             -0.020243  0.459755   \n",
       "Q9Z2K1                                             -0.010773 -0.626418   \n",
       "Q9Z2U1                                             -0.161068 -0.603550   \n",
       "\n",
       "                                                        D3_9     D3_10  \\\n",
       "A2A8L1                                              0.933976  0.524753   \n",
       "A2AQ07, P68372, P99024, Q7TMM9, Q922F4, Q9CWF2,... -0.435210 -0.070642   \n",
       "A2BIM8, B5X0G2, P02762, P04938                      0.214600 -0.012918   \n",
       "A2BIM8, B5X0G2, P02762, P04938, P04939, P11589     -0.094399  0.098368   \n",
       "A2BIM8, B5X0G2, P02762, P04938, P11588             -0.616863  1.225039   \n",
       "...                                                      ...       ...   \n",
       "Q9WVA4                                              0.145984 -0.238364   \n",
       "Q9Z126                                             -0.420985 -0.180021   \n",
       "Q9Z1R3                                              0.215962  0.557557   \n",
       "Q9Z2K1                                             -0.912998  0.329317   \n",
       "Q9Z2U1                                             -0.557696 -0.146110   \n",
       "\n",
       "                                                       ECM_5     ECM_6  \\\n",
       "A2A8L1                                             -0.110047 -0.235346   \n",
       "A2AQ07, P68372, P99024, Q7TMM9, Q922F4, Q9CWF2,...  0.285241  0.450215   \n",
       "A2BIM8, B5X0G2, P02762, P04938                      0.368278  0.164051   \n",
       "A2BIM8, B5X0G2, P02762, P04938, P04939, P11589      0.106330  0.213925   \n",
       "A2BIM8, B5X0G2, P02762, P04938, P11588             -0.546514 -1.308798   \n",
       "...                                                      ...       ...   \n",
       "Q9WVA4                                              0.385670  0.435847   \n",
       "Q9Z126                                             -0.261854 -0.437405   \n",
       "Q9Z1R3                                             -1.364095 -0.232327   \n",
       "Q9Z2K1                                              0.114466  0.009336   \n",
       "Q9Z2U1                                              0.494651  0.820082   \n",
       "\n",
       "                                                      ECM_11    ECM_12  \n",
       "A2A8L1                                              0.396041 -3.631490  \n",
       "A2AQ07, P68372, P99024, Q7TMM9, Q922F4, Q9CWF2,... -0.074134  0.887562  \n",
       "A2BIM8, B5X0G2, P02762, P04938                      0.066875 -0.020412  \n",
       "A2BIM8, B5X0G2, P02762, P04938, P04939, P11589     -0.576792  0.745219  \n",
       "A2BIM8, B5X0G2, P02762, P04938, P11588             -1.180796 -0.647811  \n",
       "...                                                      ...       ...  \n",
       "Q9WVA4                                             -0.117934  0.203410  \n",
       "Q9Z126                                             -0.541925 -0.754040  \n",
       "Q9Z1R3                                             -0.891840 -0.270403  \n",
       "Q9Z2K1                                             -0.238551  0.583160  \n",
       "Q9Z2U1                                             -0.148761  0.776102  \n",
       "\n",
       "[479 rows x 12 columns]"
      ]
     },
     "execution_count": 31,
     "metadata": {},
     "output_type": "execute_result"
    }
   ],
   "source": [
    "df_raw.dropna()"
   ]
  },
  {
   "cell_type": "code",
   "execution_count": 32,
   "metadata": {},
   "outputs": [
    {
     "data": {
      "text/plain": [
       "(748, 12)"
      ]
     },
     "execution_count": 32,
     "metadata": {},
     "output_type": "execute_result"
    }
   ],
   "source": [
    "df_raw.shape"
   ]
  },
  {
   "cell_type": "markdown",
   "metadata": {},
   "source": [
    "Our dataset has been reduced from 748 proteins to 479 proteins"
   ]
  },
  {
   "cell_type": "code",
   "execution_count": 33,
   "metadata": {},
   "outputs": [
    {
     "data": {
      "text/plain": [
       "0.35962566844919786"
      ]
     },
     "execution_count": 33,
     "metadata": {},
     "output_type": "execute_result"
    }
   ],
   "source": [
    "(748 - 479) / 748"
   ]
  },
  {
   "cell_type": "markdown",
   "metadata": {},
   "source": [
    "We are effectively throwing away 36 % of our data, also discarding proteins even if a single sample was missing a value for that protein. This is greatly undesirable. Let´s investigate alternative strategies for dealing with missing values."
   ]
  },
  {
   "cell_type": "code",
   "execution_count": null,
   "metadata": {},
   "outputs": [],
   "source": []
  },
  {
   "cell_type": "markdown",
   "metadata": {},
   "source": [
    "#### Mean imputation\n",
    "Another way to deal with missing data is to impute it. \n",
    "Here we apply a simple mean imputation mehod, where any missing value is estimated to be the mean abundance of that protein across all samples. \n",
    "\n",
    "In real world problems, more advanced imputing methods are advised.\n",
    "\n",
    "**Read more:**\n",
    "- Will Badr, How to handle missing data, towardsdatascience.com, 2019: https://towardsdatascience.com/how-to-handle-missing-data-8646b18db0d4\n",
    "- Schmitt et al, A Comparison of Six Methods for Missing Data Imputation, Journal of Biometrics & Biostatistics, 2015: https://www.omicsonline.org/open-access/a-comparison-of-six-methods-for-missing-data-imputation-2155-6180-1000224.php?aid=54590\n",
    "\n"
   ]
  },
  {
   "cell_type": "markdown",
   "metadata": {},
   "source": [
    "    \n",
    "We can only recommend using Sci-kit learn´s Imputer to impute missing values. We have a choice of imputation strategy (mean, median or most frequent values) and to normalize based either on:\n",
    "\n",
    "- row mean (protein level across samples, axis = 1)\n",
    "- column mean (protein level based on all proteins in that sample, axis = 0) \n",
    "\n",
    "- Sklearn documentation for mean imputation: https://scikit-learn.org/stable/modules/impute.html#impute\n",
    "    \n",
    "    \n",
    "But for transparency we implement the imputer using only pandas methods instead of using the sklearn implementation."
   ]
  },
  {
   "cell_type": "code",
   "execution_count": 34,
   "metadata": {},
   "outputs": [],
   "source": [
    "df_proc = df_raw.apply(lambda row: row.fillna(row.mean()), axis=1)"
   ]
  },
  {
   "cell_type": "code",
   "execution_count": 35,
   "metadata": {},
   "outputs": [
    {
     "data": {
      "text/plain": [
       "NI_1      0\n",
       "NI_2      0\n",
       "NI_7      0\n",
       "NI_8      0\n",
       "D3_3      0\n",
       "D3_4      0\n",
       "D3_9      0\n",
       "D3_10     0\n",
       "ECM_5     0\n",
       "ECM_6     0\n",
       "ECM_11    0\n",
       "ECM_12    0\n",
       "dtype: int64"
      ]
     },
     "execution_count": 35,
     "metadata": {},
     "output_type": "execute_result"
    }
   ],
   "source": [
    "df_proc.isna().sum()"
   ]
  },
  {
   "cell_type": "markdown",
   "metadata": {},
   "source": [
    "### Great!\n",
    "**We now have no missing values and the NA's (missing values) have been imputed, such that they don't contribute or bias our observed variation.**"
   ]
  },
  {
   "cell_type": "code",
   "execution_count": null,
   "metadata": {},
   "outputs": [],
   "source": []
  },
  {
   "cell_type": "markdown",
   "metadata": {},
   "source": [
    "#### Visualizing our non-normalized data"
   ]
  },
  {
   "cell_type": "markdown",
   "metadata": {},
   "source": [
    "Let´s compare the distribution of protein expression (log 2 changes)"
   ]
  },
  {
   "cell_type": "code",
   "execution_count": null,
   "metadata": {},
   "outputs": [],
   "source": []
  },
  {
   "cell_type": "code",
   "execution_count": 36,
   "metadata": {},
   "outputs": [
    {
     "data": {
      "text/plain": [
       "Text(0, 0.5, 'Log2 Quantitative protein expression levels')"
      ]
     },
     "execution_count": 36,
     "metadata": {},
     "output_type": "execute_result"
    },
    {
     "data": {
      "image/png": "[encoded data removed]",
      "text/plain": [
       "<Figure size 864x576 with 1 Axes>"
      ]
     },
     "metadata": {},
     "output_type": "display_data"
    }
   ],
   "source": [
    "df = pd.melt(df_proc)\n",
    "\n",
    "#Initialize plot\n",
    "sns.set(font_scale=1.3)\n",
    "fig, ax = plt.subplots(figsize = (12,8))\n",
    "\n",
    "# Graph violinplot\n",
    "sns.violinplot(data = df, x = 'variable', y = 'value', ax = ax)\n",
    "\n",
    "# Change plot settings\n",
    "plt.title(\"Non-normalized dataset\", fontsize = 22)\n",
    "ax.set_xlabel(\"Sample names\")\n",
    "ax.set_ylabel(\"Log2 Quantitative protein expression levels\")"
   ]
  },
  {
   "cell_type": "code",
   "execution_count": null,
   "metadata": {},
   "outputs": [],
   "source": []
  },
  {
   "cell_type": "markdown",
   "metadata": {},
   "source": [
    "### Normalizing data"
   ]
  },
  {
   "cell_type": "markdown",
   "metadata": {},
   "source": [
    "Data normalization is a critical part of biological data science. Here the aim is to isolate the biological variation, by removing technical variation.\n",
    "\n",
    "Here we are most concerned about samples with abnormal dynamic range and mean. \n",
    "\n",
    "Technical variation or systematic errors can originate from many different sources e.g. small variations in sample size/volume and reagent amount between samples. \n",
    "\n",
    "The ratinale for our normalization strategy is as follow: \n",
    "Assuming two given samples are equally big, they should contain the same ammount of protein. Hence, we can set the means of both samples to zero. To acocunt for the dynamic range of different peptides eg. one peptide being expressed in the range of .1 - 1, and another being expressed in the expressed at the dynamic range of 10 - 100, we scale the expression of each peptide to unit variance over all samples. "
   ]
  },
  {
   "cell_type": "markdown",
   "metadata": {},
   "source": [
    "To normalize the data we use the scikit-learn standardScaler.\n",
    "\n",
    "The standardScaler purely centers each column around 0 and scales to unit variance using the formula:\n",
    "\n",
    "<center> <span style=\"font-size:1.5em;\">$x_{scaled} = \\frac{x-\\mu}{\\sigma}$</span> </center>"
   ]
  },
  {
   "cell_type": "code",
   "execution_count": 37,
   "metadata": {},
   "outputs": [],
   "source": [
    "from sklearn.preprocessing import StandardScaler\n",
    "scaler = StandardScaler()\n",
    "\n",
    "df_scaled = pd.DataFrame(data = scaler.fit_transform(df_proc),\n",
    "                                                 index = df_proc.index, \n",
    "                                                 columns = df_proc.columns)"
   ]
  },
  {
   "cell_type": "code",
   "execution_count": 38,
   "metadata": {},
   "outputs": [
    {
     "data": {
      "text/html": [
       "<div>\n",
       "<style scoped>\n",
       "    .dataframe tbody tr th:only-of-type {\n",
       "        vertical-align: middle;\n",
       "    }\n",
       "\n",
       "    .dataframe tbody tr th {\n",
       "        vertical-align: top;\n",
       "    }\n",
       "\n",
       "    .dataframe thead th {\n",
       "        text-align: right;\n",
       "    }\n",
       "</style>\n",
       "<table border=\"1\" class=\"dataframe\">\n",
       "  <thead>\n",
       "    <tr style=\"text-align: right;\">\n",
       "      <th></th>\n",
       "      <th>NI_1</th>\n",
       "      <th>NI_2</th>\n",
       "      <th>NI_7</th>\n",
       "      <th>NI_8</th>\n",
       "      <th>D3_3</th>\n",
       "      <th>D3_4</th>\n",
       "      <th>D3_9</th>\n",
       "      <th>D3_10</th>\n",
       "      <th>ECM_5</th>\n",
       "      <th>ECM_6</th>\n",
       "      <th>ECM_11</th>\n",
       "      <th>ECM_12</th>\n",
       "    </tr>\n",
       "  </thead>\n",
       "  <tbody>\n",
       "    <tr>\n",
       "      <th>count</th>\n",
       "      <td>7.480000e+02</td>\n",
       "      <td>7.480000e+02</td>\n",
       "      <td>7.480000e+02</td>\n",
       "      <td>7.480000e+02</td>\n",
       "      <td>7.480000e+02</td>\n",
       "      <td>7.480000e+02</td>\n",
       "      <td>7.480000e+02</td>\n",
       "      <td>7.480000e+02</td>\n",
       "      <td>7.480000e+02</td>\n",
       "      <td>7.480000e+02</td>\n",
       "      <td>7.480000e+02</td>\n",
       "      <td>7.480000e+02</td>\n",
       "    </tr>\n",
       "    <tr>\n",
       "      <th>mean</th>\n",
       "      <td>5.937022e-18</td>\n",
       "      <td>-5.699541e-17</td>\n",
       "      <td>9.499234e-18</td>\n",
       "      <td>-1.424885e-17</td>\n",
       "      <td>-1.899847e-17</td>\n",
       "      <td>3.799694e-17</td>\n",
       "      <td>2.374809e-18</td>\n",
       "      <td>-1.899847e-17</td>\n",
       "      <td>-5.699541e-17</td>\n",
       "      <td>5.699541e-17</td>\n",
       "      <td>-9.499234e-18</td>\n",
       "      <td>-2.849770e-17</td>\n",
       "    </tr>\n",
       "    <tr>\n",
       "      <th>std</th>\n",
       "      <td>1.000669e+00</td>\n",
       "      <td>1.000669e+00</td>\n",
       "      <td>1.000669e+00</td>\n",
       "      <td>1.000669e+00</td>\n",
       "      <td>1.000669e+00</td>\n",
       "      <td>1.000669e+00</td>\n",
       "      <td>1.000669e+00</td>\n",
       "      <td>1.000669e+00</td>\n",
       "      <td>1.000669e+00</td>\n",
       "      <td>1.000669e+00</td>\n",
       "      <td>1.000669e+00</td>\n",
       "      <td>1.000669e+00</td>\n",
       "    </tr>\n",
       "    <tr>\n",
       "      <th>min</th>\n",
       "      <td>-3.960359e+00</td>\n",
       "      <td>-4.629603e+00</td>\n",
       "      <td>-6.017991e+00</td>\n",
       "      <td>-3.076537e+00</td>\n",
       "      <td>-5.556867e+00</td>\n",
       "      <td>-5.079722e+00</td>\n",
       "      <td>-3.570558e+00</td>\n",
       "      <td>-3.508579e+00</td>\n",
       "      <td>-3.266618e+00</td>\n",
       "      <td>-3.531612e+00</td>\n",
       "      <td>-3.213406e+00</td>\n",
       "      <td>-4.753664e+00</td>\n",
       "    </tr>\n",
       "    <tr>\n",
       "      <th>25%</th>\n",
       "      <td>-4.746239e-01</td>\n",
       "      <td>-6.196147e-01</td>\n",
       "      <td>-5.529167e-01</td>\n",
       "      <td>-5.635788e-01</td>\n",
       "      <td>-6.081456e-01</td>\n",
       "      <td>-6.098046e-01</td>\n",
       "      <td>-6.454584e-01</td>\n",
       "      <td>-5.994050e-01</td>\n",
       "      <td>-4.405170e-01</td>\n",
       "      <td>-5.183365e-01</td>\n",
       "      <td>-5.248200e-01</td>\n",
       "      <td>-6.047573e-01</td>\n",
       "    </tr>\n",
       "    <tr>\n",
       "      <th>50%</th>\n",
       "      <td>-4.724347e-02</td>\n",
       "      <td>2.293904e-01</td>\n",
       "      <td>1.753839e-01</td>\n",
       "      <td>5.586176e-02</td>\n",
       "      <td>1.626206e-01</td>\n",
       "      <td>2.037054e-01</td>\n",
       "      <td>1.049833e-01</td>\n",
       "      <td>7.523079e-02</td>\n",
       "      <td>-2.852217e-01</td>\n",
       "      <td>-2.614898e-01</td>\n",
       "      <td>-8.494349e-02</td>\n",
       "      <td>-2.599424e-01</td>\n",
       "    </tr>\n",
       "    <tr>\n",
       "      <th>75%</th>\n",
       "      <td>2.567040e-01</td>\n",
       "      <td>3.878672e-01</td>\n",
       "      <td>4.621955e-01</td>\n",
       "      <td>3.574020e-01</td>\n",
       "      <td>3.755904e-01</td>\n",
       "      <td>4.616039e-01</td>\n",
       "      <td>4.506196e-01</td>\n",
       "      <td>4.044310e-01</td>\n",
       "      <td>6.437455e-01</td>\n",
       "      <td>5.714396e-01</td>\n",
       "      <td>1.395351e-01</td>\n",
       "      <td>7.690351e-01</td>\n",
       "    </tr>\n",
       "    <tr>\n",
       "      <th>max</th>\n",
       "      <td>5.335901e+00</td>\n",
       "      <td>3.440686e+00</td>\n",
       "      <td>4.761814e+00</td>\n",
       "      <td>6.301047e+00</td>\n",
       "      <td>6.825636e+00</td>\n",
       "      <td>3.106540e+00</td>\n",
       "      <td>4.038207e+00</td>\n",
       "      <td>4.784771e+00</td>\n",
       "      <td>3.795763e+00</td>\n",
       "      <td>5.119956e+00</td>\n",
       "      <td>5.485232e+00</td>\n",
       "      <td>2.833073e+00</td>\n",
       "    </tr>\n",
       "  </tbody>\n",
       "</table>\n",
       "</div>"
      ],
      "text/plain": [
       "               NI_1          NI_2          NI_7          NI_8          D3_3  \\\n",
       "count  7.480000e+02  7.480000e+02  7.480000e+02  7.480000e+02  7.480000e+02   \n",
       "mean   5.937022e-18 -5.699541e-17  9.499234e-18 -1.424885e-17 -1.899847e-17   \n",
       "std    1.000669e+00  1.000669e+00  1.000669e+00  1.000669e+00  1.000669e+00   \n",
       "min   -3.960359e+00 -4.629603e+00 -6.017991e+00 -3.076537e+00 -5.556867e+00   \n",
       "25%   -4.746239e-01 -6.196147e-01 -5.529167e-01 -5.635788e-01 -6.081456e-01   \n",
       "50%   -4.724347e-02  2.293904e-01  1.753839e-01  5.586176e-02  1.626206e-01   \n",
       "75%    2.567040e-01  3.878672e-01  4.621955e-01  3.574020e-01  3.755904e-01   \n",
       "max    5.335901e+00  3.440686e+00  4.761814e+00  6.301047e+00  6.825636e+00   \n",
       "\n",
       "               D3_4          D3_9         D3_10         ECM_5         ECM_6  \\\n",
       "count  7.480000e+02  7.480000e+02  7.480000e+02  7.480000e+02  7.480000e+02   \n",
       "mean   3.799694e-17  2.374809e-18 -1.899847e-17 -5.699541e-17  5.699541e-17   \n",
       "std    1.000669e+00  1.000669e+00  1.000669e+00  1.000669e+00  1.000669e+00   \n",
       "min   -5.079722e+00 -3.570558e+00 -3.508579e+00 -3.266618e+00 -3.531612e+00   \n",
       "25%   -6.098046e-01 -6.454584e-01 -5.994050e-01 -4.405170e-01 -5.183365e-01   \n",
       "50%    2.037054e-01  1.049833e-01  7.523079e-02 -2.852217e-01 -2.614898e-01   \n",
       "75%    4.616039e-01  4.506196e-01  4.044310e-01  6.437455e-01  5.714396e-01   \n",
       "max    3.106540e+00  4.038207e+00  4.784771e+00  3.795763e+00  5.119956e+00   \n",
       "\n",
       "             ECM_11        ECM_12  \n",
       "count  7.480000e+02  7.480000e+02  \n",
       "mean  -9.499234e-18 -2.849770e-17  \n",
       "std    1.000669e+00  1.000669e+00  \n",
       "min   -3.213406e+00 -4.753664e+00  \n",
       "25%   -5.248200e-01 -6.047573e-01  \n",
       "50%   -8.494349e-02 -2.599424e-01  \n",
       "75%    1.395351e-01  7.690351e-01  \n",
       "max    5.485232e+00  2.833073e+00  "
      ]
     },
     "execution_count": 38,
     "metadata": {},
     "output_type": "execute_result"
    }
   ],
   "source": [
    "df_scaled.describe()"
   ]
  },
  {
   "cell_type": "markdown",
   "metadata": {},
   "source": [
    "Note how the means are now centered around 0. The tiny values above/below zero are artifacts of the **np.float64** floating point precision not being able to specify the 0 values precisely enough.\n",
    "\n",
    "Read more about Numpy data types: https://numpy.org/devdocs/user/basics.types.html"
   ]
  },
  {
   "cell_type": "code",
   "execution_count": 39,
   "metadata": {},
   "outputs": [
    {
     "data": {
      "text/plain": [
       "Text(0.5, 1.0, 'Normalized dataset')"
      ]
     },
     "execution_count": 39,
     "metadata": {},
     "output_type": "execute_result"
    },
    {
     "data": {
      "image/png": "[encoded data removed]",
      "text/plain": [
       "<Figure size 864x576 with 1 Axes>"
      ]
     },
     "metadata": {},
     "output_type": "display_data"
    }
   ],
   "source": [
    "df = pd.melt(df_scaled)\n",
    "\n",
    "sns.set(font_scale=1.3)\n",
    "fig, ax = plt.subplots(figsize = (12,8))\n",
    "\n",
    "sns.violinplot(data = df, x = 'variable', y = 'value', ax = ax)\n",
    "\n",
    "ax.set_xlabel(\"Sample names\")\n",
    "ax.set_ylabel(\"Log2 Quantitative protein expression levels\")\n",
    "plt.title(\"Normalized dataset\", fontsize = 22)"
   ]
  },
  {
   "cell_type": "markdown",
   "metadata": {},
   "source": [
    "__Subtask summary:__\n",
    "\n",
    "So far we:\n",
    "- Imputed missing values using simple mean imputation\n",
    "- Normalized all samples to mean zero and unit variance\n",
    "- Generated summary statistics and descriptive plots of data quality"
   ]
  },
  {
   "cell_type": "code",
   "execution_count": null,
   "metadata": {},
   "outputs": [],
   "source": []
  },
  {
   "cell_type": "markdown",
   "metadata": {},
   "source": [
    "#### Sample correlation heatmap using Spearman correlation"
   ]
  },
  {
   "cell_type": "markdown",
   "metadata": {},
   "source": [
    "It would be reasonable to expect samples from early and late infection to be very different. To investigate this we calculate a [Spearman correlation](https://docs.scipy.org/doc/scipy-0.14.0/reference/generated/scipy.stats.pearsonr.html) between the samples. \n",
    "\n",
    "\n",
    "\n",
    "- Samples that have similar protein quantitation levels, will show a positive correlation value up to 1.0\n",
    "- Samples that are dissimilar will show a negative correlations up to -1.0\n",
    "- A pearson correlation close to 0 means the samples have low or no correlation with one another.\n",
    "\n",
    "<a href=\"img/corr.jpg\"><center> <img src=\"img/corr.jpg\" alt=\"Drawing\" style=\"width: 400px;\"/> <center/><a/>\n",
    "    \n",
    "Reference: Haroon D. (2017) Regression. In: Python Machine Learning Case Studies, pp 45-94. Apress, Berkeley, CA URL: https://doi.org/10.1007/978-1-4842-2823-4_2\n"
   ]
  },
  {
   "cell_type": "code",
   "execution_count": null,
   "metadata": {},
   "outputs": [],
   "source": []
  },
  {
   "cell_type": "markdown",
   "metadata": {},
   "source": [
    "Firstly, we generate a plot of the correlations using **corrplot**. Here the colors indicate the correlation value, and the size of the square indicate the magnitude of the (absolute) correlation."
   ]
  },
  {
   "cell_type": "code",
   "execution_count": 41,
   "metadata": {},
   "outputs": [
    {
     "name": "stdout",
     "output_type": "stream",
     "text": [
      "Collecting heatmapz\n",
      "  Downloading heatmapz-0.0.4-py3-none-any.whl (5.8 kB)\n",
      "Requirement already satisfied: matplotlib>=3.0.3 in /Users/admin/opt/anaconda3/envs/biodatascience101/lib/python3.9/site-packages (from heatmapz) (3.4.3)\n",
      "Requirement already satisfied: pandas in /Users/admin/opt/anaconda3/envs/biodatascience101/lib/python3.9/site-packages (from heatmapz) (1.3.2)\n",
      "Requirement already satisfied: seaborn in /Users/admin/opt/anaconda3/envs/biodatascience101/lib/python3.9/site-packages (from heatmapz) (0.11.2)\n",
      "Requirement already satisfied: numpy>=1.16 in /Users/admin/opt/anaconda3/envs/biodatascience101/lib/python3.9/site-packages (from matplotlib>=3.0.3->heatmapz) (1.21.2)\n",
      "Requirement already satisfied: pyparsing>=2.2.1 in /Users/admin/opt/anaconda3/envs/biodatascience101/lib/python3.9/site-packages (from matplotlib>=3.0.3->heatmapz) (2.4.7)\n",
      "Requirement already satisfied: cycler>=0.10 in /Users/admin/opt/anaconda3/envs/biodatascience101/lib/python3.9/site-packages (from matplotlib>=3.0.3->heatmapz) (0.10.0)\n",
      "Requirement already satisfied: pillow>=6.2.0 in /Users/admin/opt/anaconda3/envs/biodatascience101/lib/python3.9/site-packages (from matplotlib>=3.0.3->heatmapz) (8.3.1)\n",
      "Requirement already satisfied: kiwisolver>=1.0.1 in /Users/admin/opt/anaconda3/envs/biodatascience101/lib/python3.9/site-packages (from matplotlib>=3.0.3->heatmapz) (1.3.1)\n",
      "Requirement already satisfied: python-dateutil>=2.7 in /Users/admin/opt/anaconda3/envs/biodatascience101/lib/python3.9/site-packages (from matplotlib>=3.0.3->heatmapz) (2.8.2)\n",
      "Requirement already satisfied: six in /Users/admin/opt/anaconda3/envs/biodatascience101/lib/python3.9/site-packages (from cycler>=0.10->matplotlib>=3.0.3->heatmapz) (1.16.0)\n",
      "Requirement already satisfied: pytz>=2017.3 in /Users/admin/opt/anaconda3/envs/biodatascience101/lib/python3.9/site-packages (from pandas->heatmapz) (2021.1)\n",
      "Requirement already satisfied: scipy>=1.0 in /Users/admin/opt/anaconda3/envs/biodatascience101/lib/python3.9/site-packages (from seaborn->heatmapz) (1.7.1)\n",
      "Installing collected packages: heatmapz\n",
      "Successfully installed heatmapz-0.0.4\n"
     ]
    }
   ],
   "source": [
    "!pip install heatmapz\n",
    "from heatmap import heatmap, corrplot\n",
    "\n",
    "# Python code and Jupyter notebook for an improved heatmap implementation using Matplotlib and Seaborn.\n",
    "# Code avalible at: https://github.com/drazenz/heatmap\n",
    "#Described in: https://towardsdatascience.com/better-heatmaps-and-correlation-matrix-plots-in-python-41445d0f2bec\n",
    "# by: Drazen Zaric, 2019"
   ]
  },
  {
   "cell_type": "code",
   "execution_count": 42,
   "metadata": {},
   "outputs": [
    {
     "data": {
      "image/png": "[encoded data removed]",
      "text/plain": [
       "<Figure size 576x576 with 2 Axes>"
      ]
     },
     "metadata": {},
     "output_type": "display_data"
    }
   ],
   "source": [
    "fig, ax = plt.subplots(figsize = (8,8))\n",
    "\n",
    "corrplot(df_proc.corr(method = 'spearman'), size_scale = 400)"
   ]
  },
  {
   "cell_type": "markdown",
   "metadata": {},
   "source": [
    "This nicely illustrates that non-infected and day3 infection are very different from ECM.\n",
    "\n",
    "Though this looks very nice, we would like to cluster the samples too. For this we use the seaborn clustermap function."
   ]
  },
  {
   "cell_type": "code",
   "execution_count": 43,
   "metadata": {},
   "outputs": [
    {
     "data": {
      "text/plain": [
       "<seaborn.matrix.ClusterGrid at 0x1684a8c40>"
      ]
     },
     "execution_count": 43,
     "metadata": {},
     "output_type": "execute_result"
    },
    {
     "data": {
      "image/png": "[encoded data removed]",
      "text/plain": [
       "<Figure size 432x432 with 4 Axes>"
      ]
     },
     "metadata": {},
     "output_type": "display_data"
    }
   ],
   "source": [
    "#Calculate pearson correlation\n",
    "correlations = df_proc.corr(method='spearman')\n",
    "\n",
    "#Plot heatmap\n",
    "sns.clustermap(correlations, method = \"average\", metric = \"euclidean\",\n",
    "               figsize = (6, 6), linewidth=0.5, cmap = 'RdBu')"
   ]
  },
  {
   "cell_type": "markdown",
   "metadata": {},
   "source": [
    "The resulting heatmap (**clustermap**) looks in many ways very similar to the **corrplot** above. By default, seaborn clustermap clusters the columns and rows using hierachical clustering. From this, we see that non-infected and day 3 post infection forms one cluster, and ECM forms a second cluster."
   ]
  },
  {
   "cell_type": "markdown",
   "metadata": {},
   "source": [
    "Exercise: What 2 samples are the most similar?"
   ]
  },
  {
   "cell_type": "code",
   "execution_count": null,
   "metadata": {},
   "outputs": [],
   "source": []
  },
  {
   "cell_type": "markdown",
   "metadata": {},
   "source": [
    "## PCA analysis"
   ]
  },
  {
   "cell_type": "markdown",
   "metadata": {},
   "source": [
    "PCA is a dimensionality reduction method to reduce the dimensionality (number of features, or in this case, proteins) of large datasets while maintaining most of the variation. This is achieved by calculating which features (proteins) vary the most across samples, and defining new, abstract features called principal components which give a high weight to those features. This way, one is often able to describe up to 90 % or more of the dataset variation with only a few principal components, instead of needing the entire dataset.\n",
    "\n",
    "The first principal component thus describes the largest source of variation. The second, second most variation and so forth until N-1 components. Only working with largest axis of variations reduces the redundancy and noise in the data. It also becomes a lot easier to compute on.\n",
    "\n",
    "**Read more:** Intuition for Principal Component Analysis (PCA), https://blog.ephorie.de/intuition-for-principal-component-analysis-pca"
   ]
  },
  {
   "cell_type": "code",
   "execution_count": null,
   "metadata": {},
   "outputs": [],
   "source": []
  },
  {
   "cell_type": "markdown",
   "metadata": {},
   "source": [
    "#### Intuition for PCA\n",
    "\n",
    "One funny but intuitive application of PCA by Learning Machines (*) is the reduction applied to this 3D teapot. Imagine that each large point (sphere) is represented by an x, y and z coordinate. That is, the dataset samples (points in 3D space) are represented by 3 features.\n",
    "\n",
    "<img src=\"img/teapot_in_3D.png\" alt=\"Drawing\" style=\"width: 400px;\"/>\n",
    "\n",
    "Imagine manually trying to rotate a 3D representation of this teapot until you get the 3D to 2D snapshot or view representing the highest possible variation in each direction. That view becomes the PCA view you reach after completing your principal component analysis and plotting that points. All the points are now only represented by their point in this 2 dimensional space.\n",
    "\n",
    "In other words, by applying PCA, the teapot is rotated to maximize the variation / information in a 2D plane. This retains the highest amount of information in the dataset, while reducing its size considerably.\n",
    "\n",
    "<img src=\"img/teapot_in_2D.png\" alt=\"Drawing\" style=\"width: 400px;\"/>\n",
    "\n",
    "Images and reference (*):\n",
    "Learning Machines, 2018: https://blog.ephorie.de/intuition-for-principal-component-analysis-pca\n"
   ]
  },
  {
   "cell_type": "markdown",
   "metadata": {},
   "source": [
    "#### Let´s try to run a PCA analysis on our 12 samples and 748 proteins, and see what the principal components can tell us"
   ]
  },
  {
   "cell_type": "code",
   "execution_count": 44,
   "metadata": {},
   "outputs": [
    {
     "name": "stdout",
     "output_type": "stream",
     "text": [
      "The top 2 principal components explain 58.41  % of the variance\n"
     ]
    }
   ],
   "source": [
    "from sklearn.decomposition import PCA\n",
    "\n",
    "df = df_scaled.copy()\n",
    "\n",
    "#Try changing the number of components to include from 2 to other values\n",
    "n_components = 2\n",
    "\n",
    "#Define the number of components we want\n",
    "pca = PCA(n_components=n_components)\n",
    "\n",
    "#Extract principal component 1 and 2 values for each of our samples\n",
    "principalComponents = pca.fit_transform(df.T)\n",
    "principalDf = pd.DataFrame(data = principalComponents,\n",
    "                          columns = [\"PC1\", \"PC2\"])\n",
    "\n",
    "#Explained variance\n",
    "pca_explained_variance = round(sum(pca.explained_variance_ratio_[0:n_components])*100, 2)\n",
    "print(\"The top\", n_components, \"principal components explain\", pca_explained_variance, \" % of the variance\")"
   ]
  },
  {
   "cell_type": "code",
   "execution_count": null,
   "metadata": {},
   "outputs": [],
   "source": []
  },
  {
   "cell_type": "code",
   "execution_count": 45,
   "metadata": {},
   "outputs": [
    {
     "data": {
      "text/html": [
       "<div>\n",
       "<style scoped>\n",
       "    .dataframe tbody tr th:only-of-type {\n",
       "        vertical-align: middle;\n",
       "    }\n",
       "\n",
       "    .dataframe tbody tr th {\n",
       "        vertical-align: top;\n",
       "    }\n",
       "\n",
       "    .dataframe thead th {\n",
       "        text-align: right;\n",
       "    }\n",
       "</style>\n",
       "<table border=\"1\" class=\"dataframe\">\n",
       "  <thead>\n",
       "    <tr style=\"text-align: right;\">\n",
       "      <th></th>\n",
       "      <th>PC1</th>\n",
       "      <th>PC2</th>\n",
       "    </tr>\n",
       "  </thead>\n",
       "  <tbody>\n",
       "    <tr>\n",
       "      <th>0</th>\n",
       "      <td>-8.161876</td>\n",
       "      <td>-15.744299</td>\n",
       "    </tr>\n",
       "    <tr>\n",
       "      <th>1</th>\n",
       "      <td>-19.090771</td>\n",
       "      <td>0.412646</td>\n",
       "    </tr>\n",
       "    <tr>\n",
       "      <th>2</th>\n",
       "      <td>-8.461706</td>\n",
       "      <td>7.017049</td>\n",
       "    </tr>\n",
       "    <tr>\n",
       "      <th>3</th>\n",
       "      <td>-7.986543</td>\n",
       "      <td>-10.827180</td>\n",
       "    </tr>\n",
       "    <tr>\n",
       "      <th>4</th>\n",
       "      <td>-15.526944</td>\n",
       "      <td>6.735909</td>\n",
       "    </tr>\n",
       "    <tr>\n",
       "      <th>5</th>\n",
       "      <td>-18.070550</td>\n",
       "      <td>2.680872</td>\n",
       "    </tr>\n",
       "    <tr>\n",
       "      <th>6</th>\n",
       "      <td>-5.511229</td>\n",
       "      <td>18.446386</td>\n",
       "    </tr>\n",
       "    <tr>\n",
       "      <th>7</th>\n",
       "      <td>-9.391711</td>\n",
       "      <td>-13.046400</td>\n",
       "    </tr>\n",
       "    <tr>\n",
       "      <th>8</th>\n",
       "      <td>27.995030</td>\n",
       "      <td>2.313088</td>\n",
       "    </tr>\n",
       "    <tr>\n",
       "      <th>9</th>\n",
       "      <td>28.855643</td>\n",
       "      <td>-1.169171</td>\n",
       "    </tr>\n",
       "    <tr>\n",
       "      <th>10</th>\n",
       "      <td>14.600299</td>\n",
       "      <td>18.305586</td>\n",
       "    </tr>\n",
       "    <tr>\n",
       "      <th>11</th>\n",
       "      <td>20.750357</td>\n",
       "      <td>-15.124486</td>\n",
       "    </tr>\n",
       "  </tbody>\n",
       "</table>\n",
       "</div>"
      ],
      "text/plain": [
       "          PC1        PC2\n",
       "0   -8.161876 -15.744299\n",
       "1  -19.090771   0.412646\n",
       "2   -8.461706   7.017049\n",
       "3   -7.986543 -10.827180\n",
       "4  -15.526944   6.735909\n",
       "5  -18.070550   2.680872\n",
       "6   -5.511229  18.446386\n",
       "7   -9.391711 -13.046400\n",
       "8   27.995030   2.313088\n",
       "9   28.855643  -1.169171\n",
       "10  14.600299  18.305586\n",
       "11  20.750357 -15.124486"
      ]
     },
     "execution_count": 45,
     "metadata": {},
     "output_type": "execute_result"
    }
   ],
   "source": [
    "principalDf"
   ]
  },
  {
   "cell_type": "code",
   "execution_count": null,
   "metadata": {},
   "outputs": [],
   "source": []
  },
  {
   "cell_type": "markdown",
   "metadata": {},
   "source": [
    "#### Plotting principal components"
   ]
  },
  {
   "cell_type": "markdown",
   "metadata": {},
   "source": [
    "These 2 components can be used as an x and y-axis in a coordinate system. As such, we can look for grouping of samples in this principal component or latent space. For illustration, lets color and annotate the points according to their treatment stage. This is done by adding treatment information per sample and specifying a color palette to use."
   ]
  },
  {
   "cell_type": "code",
   "execution_count": 46,
   "metadata": {},
   "outputs": [],
   "source": [
    "# Adding group label for each sample\n",
    "df = principalDf\n",
    "df[\"group\"] = df_scaled.columns\n",
    "\n",
    "x = df.iloc[:, 0] #First column, first PC\n",
    "y = df.iloc[:, 1] #Second column, second PC\n",
    "\n",
    "#Set coloring for our groups by the order of our columns\n",
    "groups = [\"NI\"]*4 + [\"D3\"]*4 + [\"ECM\"]*4\n",
    "colors = ['#0D76BF', '#00cc96', \"#EF553B\"]"
   ]
  },
  {
   "cell_type": "code",
   "execution_count": 47,
   "metadata": {},
   "outputs": [
    {
     "data": {
      "text/html": [
       "<div>\n",
       "<style scoped>\n",
       "    .dataframe tbody tr th:only-of-type {\n",
       "        vertical-align: middle;\n",
       "    }\n",
       "\n",
       "    .dataframe tbody tr th {\n",
       "        vertical-align: top;\n",
       "    }\n",
       "\n",
       "    .dataframe thead th {\n",
       "        text-align: right;\n",
       "    }\n",
       "</style>\n",
       "<table border=\"1\" class=\"dataframe\">\n",
       "  <thead>\n",
       "    <tr style=\"text-align: right;\">\n",
       "      <th></th>\n",
       "      <th>PC1</th>\n",
       "      <th>PC2</th>\n",
       "      <th>group</th>\n",
       "    </tr>\n",
       "  </thead>\n",
       "  <tbody>\n",
       "    <tr>\n",
       "      <th>0</th>\n",
       "      <td>-8.161876</td>\n",
       "      <td>-15.744299</td>\n",
       "      <td>NI_1</td>\n",
       "    </tr>\n",
       "    <tr>\n",
       "      <th>1</th>\n",
       "      <td>-19.090771</td>\n",
       "      <td>0.412646</td>\n",
       "      <td>NI_2</td>\n",
       "    </tr>\n",
       "    <tr>\n",
       "      <th>2</th>\n",
       "      <td>-8.461706</td>\n",
       "      <td>7.017049</td>\n",
       "      <td>NI_7</td>\n",
       "    </tr>\n",
       "    <tr>\n",
       "      <th>3</th>\n",
       "      <td>-7.986543</td>\n",
       "      <td>-10.827180</td>\n",
       "      <td>NI_8</td>\n",
       "    </tr>\n",
       "    <tr>\n",
       "      <th>4</th>\n",
       "      <td>-15.526944</td>\n",
       "      <td>6.735909</td>\n",
       "      <td>D3_3</td>\n",
       "    </tr>\n",
       "    <tr>\n",
       "      <th>5</th>\n",
       "      <td>-18.070550</td>\n",
       "      <td>2.680872</td>\n",
       "      <td>D3_4</td>\n",
       "    </tr>\n",
       "    <tr>\n",
       "      <th>6</th>\n",
       "      <td>-5.511229</td>\n",
       "      <td>18.446386</td>\n",
       "      <td>D3_9</td>\n",
       "    </tr>\n",
       "    <tr>\n",
       "      <th>7</th>\n",
       "      <td>-9.391711</td>\n",
       "      <td>-13.046400</td>\n",
       "      <td>D3_10</td>\n",
       "    </tr>\n",
       "    <tr>\n",
       "      <th>8</th>\n",
       "      <td>27.995030</td>\n",
       "      <td>2.313088</td>\n",
       "      <td>ECM_5</td>\n",
       "    </tr>\n",
       "    <tr>\n",
       "      <th>9</th>\n",
       "      <td>28.855643</td>\n",
       "      <td>-1.169171</td>\n",
       "      <td>ECM_6</td>\n",
       "    </tr>\n",
       "    <tr>\n",
       "      <th>10</th>\n",
       "      <td>14.600299</td>\n",
       "      <td>18.305586</td>\n",
       "      <td>ECM_11</td>\n",
       "    </tr>\n",
       "    <tr>\n",
       "      <th>11</th>\n",
       "      <td>20.750357</td>\n",
       "      <td>-15.124486</td>\n",
       "      <td>ECM_12</td>\n",
       "    </tr>\n",
       "  </tbody>\n",
       "</table>\n",
       "</div>"
      ],
      "text/plain": [
       "          PC1        PC2   group\n",
       "0   -8.161876 -15.744299    NI_1\n",
       "1  -19.090771   0.412646    NI_2\n",
       "2   -8.461706   7.017049    NI_7\n",
       "3   -7.986543 -10.827180    NI_8\n",
       "4  -15.526944   6.735909    D3_3\n",
       "5  -18.070550   2.680872    D3_4\n",
       "6   -5.511229  18.446386    D3_9\n",
       "7   -9.391711 -13.046400   D3_10\n",
       "8   27.995030   2.313088   ECM_5\n",
       "9   28.855643  -1.169171   ECM_6\n",
       "10  14.600299  18.305586  ECM_11\n",
       "11  20.750357 -15.124486  ECM_12"
      ]
     },
     "execution_count": 47,
     "metadata": {},
     "output_type": "execute_result"
    }
   ],
   "source": [
    "df"
   ]
  },
  {
   "cell_type": "code",
   "execution_count": 50,
   "metadata": {},
   "outputs": [
    {
     "data": {
      "text/plain": [
       "6"
      ]
     },
     "execution_count": 50,
     "metadata": {},
     "output_type": "execute_result"
    },
    {
     "data": {
      "image/png": "[encoded data removed]",
      "text/plain": [
       "<Figure size 432x432 with 1 Axes>"
      ]
     },
     "metadata": {},
     "output_type": "display_data"
    }
   ],
   "source": [
    "#Plot principal component values per sample\n",
    "\n",
    "# Initialize graph\n",
    "sns.set(font_scale = 1)\n",
    "fig, ax = plt.subplots(figsize = (6, 6))\n",
    "\n",
    "# Plot graph\n",
    "sns.scatterplot(x = x, y = y, data = df,\n",
    "                hue = groups, palette = colors, markers=\"+\")\n",
    "\n",
    "# Title and axis labels\n",
    "plt.title(\"PCA-analysis:\\n Scatterplot of principal components for all samples\\n\",\n",
    "         fontsize = 12)\n",
    "ax.set_xlabel(\"Principal component 1\")\n",
    "ax.set_ylabel(\"Principal component 2\")\n",
    "\n",
    "#Non-overlapping text using adjustText for matplotlib\n",
    "#https://github.com/Phlya/adjustText\n",
    "from adjustText import adjust_text\n",
    "\n",
    "texts = [plt.text(x[i],\n",
    "                  y[i],\n",
    "                  df[\"group\"][i],\n",
    "                  ha='center',\n",
    "                  va='center')\n",
    "         for i in range(len(x))]\n",
    "adjust_text(texts)"
   ]
  },
  {
   "cell_type": "markdown",
   "metadata": {},
   "source": [
    "**From the PCA scatterplot, we observe that principal component 1 (PC1) clearly separates mice with experimental cerebral malaria from the other mice. This means that the protein level variation described by principal component 1 is able to strongly separate these groups**"
   ]
  },
  {
   "cell_type": "markdown",
   "metadata": {},
   "source": [
    "Question 6: Based on the first 2 principal components, are sample D3_3 and D3_4 now still the most similar?"
   ]
  },
  {
   "cell_type": "code",
   "execution_count": null,
   "metadata": {},
   "outputs": [],
   "source": []
  },
  {
   "cell_type": "code",
   "execution_count": 51,
   "metadata": {},
   "outputs": [
    {
     "name": "stdout",
     "output_type": "stream",
     "text": [
      "It doesn't seem like you typed a valid question.\n"
     ]
    }
   ],
   "source": [
    "check_answer_module1(question='6', \n",
    "                     answer = \"\")"
   ]
  },
  {
   "cell_type": "code",
   "execution_count": null,
   "metadata": {},
   "outputs": [],
   "source": []
  },
  {
   "cell_type": "markdown",
   "metadata": {},
   "source": [
    "#### Explained variance graph"
   ]
  },
  {
   "cell_type": "markdown",
   "metadata": {},
   "source": [
    "As previously mentioned, we can examine the \"importance\" of the components.\n",
    "\n",
    "The information about explained variance is stored as the **explained_variance_ratio_** attribute of the **pca** object."
   ]
  },
  {
   "cell_type": "code",
   "execution_count": 52,
   "metadata": {},
   "outputs": [],
   "source": [
    "df = df_scaled.copy()\n",
    "n_components = 12\n",
    "pca = PCA(n_components=n_components)\n",
    "principalComponents = pca.fit_transform(df.T)\n",
    "principalDf = pd.DataFrame(data = principalComponents)"
   ]
  },
  {
   "cell_type": "code",
   "execution_count": 53,
   "metadata": {},
   "outputs": [
    {
     "data": {
      "text/plain": [
       "((12,), (12,))"
      ]
     },
     "execution_count": 53,
     "metadata": {},
     "output_type": "execute_result"
    }
   ],
   "source": [
    "x.shape, y.shape"
   ]
  },
  {
   "cell_type": "code",
   "execution_count": 54,
   "metadata": {},
   "outputs": [
    {
     "name": "stderr",
     "output_type": "stream",
     "text": [
      "/Users/admin/opt/anaconda3/envs/biodatascience101/lib/python3.9/site-packages/seaborn/_decorators.py:36: FutureWarning: Pass the following variables as keyword args: x, y. From version 0.12, the only valid positional argument will be `data`, and passing other arguments without an explicit keyword will result in an error or misinterpretation.\n",
      "  warnings.warn(\n"
     ]
    },
    {
     "data": {
      "text/plain": [
       "<AxesSubplot:title={'center':'Explained variance from principal components'}, xlabel='Principal components', ylabel='Explained variance'>"
      ]
     },
     "execution_count": 54,
     "metadata": {},
     "output_type": "execute_result"
    },
    {
     "data": {
      "image/png": "[encoded data removed]",
      "text/plain": [
       "<Figure size 432x288 with 1 Axes>"
      ]
     },
     "metadata": {},
     "output_type": "display_data"
    }
   ],
   "source": [
    "#Define x and y for plot\n",
    "y = pca.explained_variance_ratio_\n",
    "x = np.array(list(range(1, len(y) +1)))\n",
    "\n",
    "#Intitialize plot and labels\n",
    "fig, ax = plt.subplots()\n",
    "plt.title(\"Explained variance from principal components\")\n",
    "ax.set_xlabel(\"Principal components\")\n",
    "ax.set_ylabel(\"Explained variance\")\n",
    "\n",
    "#Barplot of principal components\n",
    "sns.barplot(x, y, color = \"lightblue\")"
   ]
  },
  {
   "cell_type": "markdown",
   "metadata": {},
   "source": [
    "We observe that most of the variance is explained by the first principal component (ca 41 %) and second principal component (ca 17 %), adding up to a total of 58 % explained variance."
   ]
  },
  {
   "cell_type": "code",
   "execution_count": null,
   "metadata": {},
   "outputs": [],
   "source": []
  },
  {
   "cell_type": "markdown",
   "metadata": {},
   "source": [
    "__Subtask summary:__\n",
    "\n",
    "So far we:\n",
    "- Performed principal component analysis\n",
    "- Shown that the first to principal components well separates the early and late malaria samples"
   ]
  },
  {
   "cell_type": "code",
   "execution_count": null,
   "metadata": {},
   "outputs": [],
   "source": []
  },
  {
   "cell_type": "markdown",
   "metadata": {},
   "source": [
    "## Differential protein abundance\n",
    "\n"
   ]
  },
  {
   "cell_type": "markdown",
   "metadata": {},
   "source": [
    "#### Fold-changes\n",
    "We wish to compare protein abundance between the non-infected mice and ECM mice. Here we take the mean abundance per group and canclulate an estimated fold change between NI and ECM mice. \n",
    "\n",
    "The data is already log2 transformed, we can use standard logarithm math rules. \n",
    "\n",
    "log2(a/b) = log2(a) - log2(b)\n",
    "\n",
    "**Read more on fold-changes in bioinformatics:**\n",
    "- https://en.wikipedia.org/wiki/Fold_change\n",
    "\n"
   ]
  },
  {
   "cell_type": "code",
   "execution_count": 55,
   "metadata": {},
   "outputs": [],
   "source": [
    "df_scaled['NI_mean'] = df_scaled[['NI_1','NI_2','NI_7','NI_8']].mean(axis = 1)\n",
    "df_scaled['ECM_mean'] = df_scaled[['ECM_5','ECM_6','ECM_11','ECM_12']].mean(axis = 1)\n",
    "df_scaled['log2FC'] =  df_scaled['ECM_mean'] - df_scaled['NI_mean']"
   ]
  },
  {
   "cell_type": "markdown",
   "metadata": {},
   "source": [
    "#### T-test and multiple-test corrections using Q-test (Benjamin-Hockberg"
   ]
  },
  {
   "cell_type": "markdown",
   "metadata": {},
   "source": [
    "Then we perform a simple t-test per protein between the two groups. \n",
    "\n",
    "t-test is a parametric statistical test that aims to determine if two mean values are equal. \n",
    "\n",
    "**Read more on t-tests in biology:**\n",
    "- https://www.biologyforlife.com/t-test.html\n",
    "\n",
    "At a 5% (.05) significance level we can assume 5% false possitives. This is maybe okay when performing one test. But since we perform >700 tests, we can assume > 35 false possitives. This is of course unwanted. To correct for this bias, many statistical methods for multiple testing correction have been developed. \n",
    "\n",
    "Here we use a common test called Benjamini-Hochberg correction.\n",
    "The function takes, all the p-values and returnes adjusted p-values.\n",
    "\n",
    "**Read more on multiple comparison testing:**\n",
    "- https://rdrr.io/cran/astrochron/man/multiTest.html\n",
    "- https://link.springer.com/referenceworkentry/10.1007%2F978-1-4419-9863-7_1215"
   ]
  },
  {
   "cell_type": "code",
   "execution_count": 56,
   "metadata": {},
   "outputs": [],
   "source": [
    "from scipy.stats import ttest_ind\n",
    "df_scaled['pvalue'] = df_scaled.apply(lambda row : ttest_ind(row[['NI_1','NI_2','NI_7','NI_8']], \n",
    "                     row[['ECM_5','ECM_6','ECM_11','ECM_12']]).pvalue, axis = 1)\n",
    "\n",
    "from statsmodels.stats.multitest import multipletests\n",
    "rejectarray, pvals_correctedarray , _, _= multipletests(df_scaled['pvalue'], method = 'fdr_bh')\n",
    "df_scaled['q_value'] = pvals_correctedarray\n",
    "\n",
    "\n",
    "df_scaled['log10qvalue'] = -np.log10(df_scaled['q_value'])"
   ]
  },
  {
   "cell_type": "code",
   "execution_count": null,
   "metadata": {},
   "outputs": [],
   "source": []
  },
  {
   "cell_type": "markdown",
   "metadata": {},
   "source": [
    "#### Finding significantly over and underexpressed proteins"
   ]
  },
  {
   "cell_type": "markdown",
   "metadata": {},
   "source": [
    "We are interested in finding the most up and downregulated upon disease progression. \n",
    "\n",
    "Here we color proteins that are upregulated in red and downregulated in green.\n",
    "\n",
    "We use log2fc cutoff of 1 (meaning 2-fold increase or decrease) and at the same time only select those with a adjusted p-value (q-value) of less than 5% (0.05) (or in -log10 format > ca 1.3).\n",
    "\n"
   ]
  },
  {
   "cell_type": "code",
   "execution_count": 57,
   "metadata": {},
   "outputs": [
    {
     "data": {
      "text/plain": [
       "-1.3010299956639813"
      ]
     },
     "execution_count": 57,
     "metadata": {},
     "output_type": "execute_result"
    }
   ],
   "source": [
    "np.log10(0.05)"
   ]
  },
  {
   "cell_type": "code",
   "execution_count": null,
   "metadata": {},
   "outputs": [],
   "source": []
  },
  {
   "cell_type": "markdown",
   "metadata": {},
   "source": [
    "We will be exploiting booleans, that is, returning a series of True / False status for whether each element in df_proc satisfies our condition.\n",
    "\n",
    "By running:\n",
    "\n",
    "np.array(df_proc['log10qvalue'] > -np.log10(0.05))\n",
    "\n",
    "We identify all rows (proteins) with Q-values below 0.05 as True, and the rest as false. We repeat this for the 3 conditions:\n",
    "- Significant Q-value?\n",
    "- Overexpressed (fold-change above 1)?\n",
    "- Underexpressed (fold-change below -1)?\n",
    "\n",
    "We can then find proteins that satisfies 2 or multiple of these conditions simply by multiplying them together or running the & operand. Knowing that True = 1, and False = 0, we also know that:\n",
    "- True * True = True\n",
    "- True * False = False\n",
    "- False * False = False"
   ]
  },
  {
   "cell_type": "code",
   "execution_count": 58,
   "metadata": {},
   "outputs": [
    {
     "data": {
      "text/plain": [
       "(37, 84, 141, 147)"
      ]
     },
     "execution_count": 58,
     "metadata": {},
     "output_type": "execute_result"
    }
   ],
   "source": [
    "# Exploiting booleans (True / False according to a specific condition)\n",
    "significant = np.array(df_scaled['log10qvalue'] > -np.log10(0.05))\n",
    "overexpressed = np.array(df_scaled['log2FC'] > 1)\n",
    "underexpressed = np.array(df_scaled['log2FC'] < -1)\n",
    "\n",
    "sum(significant & overexpressed), sum(significant), sum(overexpressed), sum(underexpressed)"
   ]
  },
  {
   "cell_type": "markdown",
   "metadata": {},
   "source": [
    "By comparing the mean expression levels of ECM-mice and non-infected mice, we observe:\n",
    "- 37 proteins are significantly overexpressed\n",
    "- 84 proteins have a Q-value below 0.05 (in -log10 format)\n",
    "- 141 proteins are overexpressed (fold change above 1)\n",
    "- 147 under-expressed (fold change below -1)"
   ]
  },
  {
   "cell_type": "markdown",
   "metadata": {},
   "source": [
    "Question 7: Using the above logic. How many underexpressed genes are also significant?"
   ]
  },
  {
   "cell_type": "code",
   "execution_count": null,
   "metadata": {},
   "outputs": [],
   "source": []
  },
  {
   "cell_type": "code",
   "execution_count": 59,
   "metadata": {},
   "outputs": [
    {
     "name": "stdout",
     "output_type": "stream",
     "text": [
      "It doesn't seem like you typed a valid question.\n"
     ]
    }
   ],
   "source": [
    "check_answer_module1(question='7', \n",
    "                     answer = \"\")"
   ]
  },
  {
   "cell_type": "code",
   "execution_count": null,
   "metadata": {},
   "outputs": [],
   "source": []
  },
  {
   "cell_type": "markdown",
   "metadata": {},
   "source": [
    "### Volcano plot of significantly over and underexpressed proteins\n",
    "\n",
    "Let´s graph all our datapoints and mark the proteins which are both significantly different between the two conditions, and have at least a doubling or halving in their expression levels."
   ]
  },
  {
   "cell_type": "markdown",
   "metadata": {},
   "source": [
    "Volcanoplots are commonly used visualizations for differential expression om omics data. They are used to visualize a statistical significance (p- or q-values from a statistical test) and magnitude of change (often given as fold-change). \n",
    "\n",
    "Read more and see another example of volcano plots at: \n",
    "    \n",
    "https://galaxyproject.github.io/training-material/topics/transcriptomics/tutorials/rna-seq-viz-with-volcanoplot/tutorial.html"
   ]
  },
  {
   "cell_type": "code",
   "execution_count": 60,
   "metadata": {},
   "outputs": [
    {
     "data": {
      "text/plain": [
       "<matplotlib.collections.PathCollection at 0x1695819d0>"
      ]
     },
     "execution_count": 60,
     "metadata": {},
     "output_type": "execute_result"
    },
    {
     "data": {
      "image/png": "[encoded data removed]",
      "text/plain": [
       "<Figure size 432x288 with 1 Axes>"
      ]
     },
     "metadata": {},
     "output_type": "display_data"
    }
   ],
   "source": [
    "# Plot all points as a volcano plot\n",
    "data = df_scaled\n",
    "plt.scatter(x = data['log2FC'], y = data['log10qvalue'], c = \"grey\")"
   ]
  },
  {
   "cell_type": "code",
   "execution_count": null,
   "metadata": {},
   "outputs": [],
   "source": []
  },
  {
   "cell_type": "markdown",
   "metadata": {},
   "source": [
    "#### Now let´s color the over and under-expressed proteins, and add some labels and titles!"
   ]
  },
  {
   "cell_type": "code",
   "execution_count": 61,
   "metadata": {},
   "outputs": [
    {
     "data": {
      "image/png": "[encoded data removed]",
      "text/plain": [
       "<Figure size 576x576 with 1 Axes>"
      ]
     },
     "metadata": {},
     "output_type": "display_data"
    }
   ],
   "source": [
    "fig, ax = plt.subplots(figsize = (8,8))\n",
    "sns.set(font_scale = 1)\n",
    "\n",
    "# Plot all points\n",
    "data = df_scaled\n",
    "plt.scatter(x = data['log2FC'], y = data['log10qvalue'], c = \"grey\")\n",
    "\n",
    "# Plot significantly overexpressed\n",
    "data = df_scaled[significant & overexpressed]\n",
    "plt.scatter(x = data['log2FC'], y = data['log10qvalue'], c = \"red\")\n",
    "\n",
    "# Plot significant underexpressed\n",
    "data = df_scaled[significant & underexpressed]\n",
    "plt.scatter(x = data['log2FC'], y = data['log10qvalue'], c = \"blue\")\n",
    "\n",
    "# Add legend\n",
    "plt.legend(labels=['Non-significant', 'Sign. over-expressed', 'Sign. under-expressed'])\n",
    "\n",
    "# Add axis labels and title\n",
    "plt.title(\"Significant fold-changes in protein expression\\n\",\n",
    "         fontsize = 20)\n",
    "ax.set_xlabel(\"Fold change (log 2)\")\n",
    "ax.set_ylabel(\"Significance, Q-value (-log10)\")\n",
    "\n",
    "# Save plot\n",
    "plt.savefig(\"significant_expressed_proteins.png\")"
   ]
  },
  {
   "cell_type": "code",
   "execution_count": null,
   "metadata": {},
   "outputs": [],
   "source": []
  },
  {
   "cell_type": "markdown",
   "metadata": {},
   "source": [
    "## Extracting significantly changed protein names"
   ]
  },
  {
   "cell_type": "markdown",
   "metadata": {},
   "source": [
    "#### Overexpressed"
   ]
  },
  {
   "cell_type": "code",
   "execution_count": 62,
   "metadata": {},
   "outputs": [
    {
     "name": "stdout",
     "output_type": "stream",
     "text": [
      "Significant Q-value and fold change above 1:\n",
      "37\n",
      "['P00920' 'P01831'\n",
      " 'P01896, P01897, P01898, P01899, P06339, P14426, P14432' 'P01897'\n",
      " 'P01897, P01899' 'P01901, P03991, P04223, P14426, P14428'\n",
      " 'P01901, P03991, P04223, P14428' 'P01942' 'P01942, P06467' 'P02088'\n",
      " 'P02088, P02089' 'P02088, P02089, P02104' 'P02089' 'P03991, P14428'\n",
      " 'P05366' 'P05366, P05367' 'P05367'\n",
      " 'P05480, P06240, P08103, P39688, Q04736' 'P06745' 'P06800' 'P07356'\n",
      " 'P07361' 'P0CW03' 'P11835' 'P13634' 'P14824' 'P17182'\n",
      " 'P17182, P17183, P21550' 'P55258, P61028' 'P60764, P63001, Q05144'\n",
      " 'P62874, P62880' 'P63242, Q8BGY2' 'P70290' 'Q01853' 'Q61171' 'Q9CYL5'\n",
      " 'Q9R1P4']\n"
     ]
    },
    {
     "data": {
      "text/html": [
       "<div>\n",
       "<style scoped>\n",
       "    .dataframe tbody tr th:only-of-type {\n",
       "        vertical-align: middle;\n",
       "    }\n",
       "\n",
       "    .dataframe tbody tr th {\n",
       "        vertical-align: top;\n",
       "    }\n",
       "\n",
       "    .dataframe thead th {\n",
       "        text-align: right;\n",
       "    }\n",
       "</style>\n",
       "<table border=\"1\" class=\"dataframe\">\n",
       "  <thead>\n",
       "    <tr style=\"text-align: right;\">\n",
       "      <th></th>\n",
       "      <th>log2FC</th>\n",
       "      <th>pvalue</th>\n",
       "      <th>q_value</th>\n",
       "      <th>log10qvalue</th>\n",
       "    </tr>\n",
       "  </thead>\n",
       "  <tbody>\n",
       "    <tr>\n",
       "      <th>P00920</th>\n",
       "      <td>3.232546</td>\n",
       "      <td>0.001900</td>\n",
       "      <td>0.037590</td>\n",
       "      <td>1.424926</td>\n",
       "    </tr>\n",
       "    <tr>\n",
       "      <th>P01831</th>\n",
       "      <td>2.486730</td>\n",
       "      <td>0.004720</td>\n",
       "      <td>0.046455</td>\n",
       "      <td>1.332969</td>\n",
       "    </tr>\n",
       "    <tr>\n",
       "      <th>P01896, P01897, P01898, P01899, P06339, P14426, P14432</th>\n",
       "      <td>1.545562</td>\n",
       "      <td>0.000768</td>\n",
       "      <td>0.028234</td>\n",
       "      <td>1.549225</td>\n",
       "    </tr>\n",
       "    <tr>\n",
       "      <th>P01897</th>\n",
       "      <td>2.374500</td>\n",
       "      <td>0.000109</td>\n",
       "      <td>0.020368</td>\n",
       "      <td>1.691060</td>\n",
       "    </tr>\n",
       "    <tr>\n",
       "      <th>P01897, P01899</th>\n",
       "      <td>2.986548</td>\n",
       "      <td>0.000321</td>\n",
       "      <td>0.028214</td>\n",
       "      <td>1.549532</td>\n",
       "    </tr>\n",
       "    <tr>\n",
       "      <th>P01901, P03991, P04223, P14426, P14428</th>\n",
       "      <td>3.419380</td>\n",
       "      <td>0.000025</td>\n",
       "      <td>0.018748</td>\n",
       "      <td>1.727045</td>\n",
       "    </tr>\n",
       "    <tr>\n",
       "      <th>P01901, P03991, P04223, P14428</th>\n",
       "      <td>1.920298</td>\n",
       "      <td>0.000905</td>\n",
       "      <td>0.028234</td>\n",
       "      <td>1.549225</td>\n",
       "    </tr>\n",
       "    <tr>\n",
       "      <th>P01942</th>\n",
       "      <td>3.554038</td>\n",
       "      <td>0.003910</td>\n",
       "      <td>0.041191</td>\n",
       "      <td>1.385200</td>\n",
       "    </tr>\n",
       "    <tr>\n",
       "      <th>P01942, P06467</th>\n",
       "      <td>5.322022</td>\n",
       "      <td>0.000711</td>\n",
       "      <td>0.028234</td>\n",
       "      <td>1.549225</td>\n",
       "    </tr>\n",
       "    <tr>\n",
       "      <th>P02088</th>\n",
       "      <td>3.027678</td>\n",
       "      <td>0.002075</td>\n",
       "      <td>0.037590</td>\n",
       "      <td>1.424926</td>\n",
       "    </tr>\n",
       "    <tr>\n",
       "      <th>P02088, P02089</th>\n",
       "      <td>2.645962</td>\n",
       "      <td>0.003635</td>\n",
       "      <td>0.040279</td>\n",
       "      <td>1.394919</td>\n",
       "    </tr>\n",
       "    <tr>\n",
       "      <th>P02088, P02089, P02104</th>\n",
       "      <td>2.573378</td>\n",
       "      <td>0.001936</td>\n",
       "      <td>0.037590</td>\n",
       "      <td>1.424926</td>\n",
       "    </tr>\n",
       "    <tr>\n",
       "      <th>P02089</th>\n",
       "      <td>2.927644</td>\n",
       "      <td>0.003649</td>\n",
       "      <td>0.040279</td>\n",
       "      <td>1.394919</td>\n",
       "    </tr>\n",
       "    <tr>\n",
       "      <th>P03991, P14428</th>\n",
       "      <td>2.364570</td>\n",
       "      <td>0.000906</td>\n",
       "      <td>0.028234</td>\n",
       "      <td>1.549225</td>\n",
       "    </tr>\n",
       "    <tr>\n",
       "      <th>P05366</th>\n",
       "      <td>5.577513</td>\n",
       "      <td>0.001913</td>\n",
       "      <td>0.037590</td>\n",
       "      <td>1.424926</td>\n",
       "    </tr>\n",
       "    <tr>\n",
       "      <th>P05366, P05367</th>\n",
       "      <td>5.831111</td>\n",
       "      <td>0.001552</td>\n",
       "      <td>0.035186</td>\n",
       "      <td>1.453625</td>\n",
       "    </tr>\n",
       "    <tr>\n",
       "      <th>P05367</th>\n",
       "      <td>5.056166</td>\n",
       "      <td>0.000243</td>\n",
       "      <td>0.028214</td>\n",
       "      <td>1.549532</td>\n",
       "    </tr>\n",
       "    <tr>\n",
       "      <th>P05480, P06240, P08103, P39688, Q04736</th>\n",
       "      <td>1.360024</td>\n",
       "      <td>0.003206</td>\n",
       "      <td>0.039705</td>\n",
       "      <td>1.401156</td>\n",
       "    </tr>\n",
       "    <tr>\n",
       "      <th>P06745</th>\n",
       "      <td>1.511369</td>\n",
       "      <td>0.000949</td>\n",
       "      <td>0.028407</td>\n",
       "      <td>1.546582</td>\n",
       "    </tr>\n",
       "    <tr>\n",
       "      <th>P06800</th>\n",
       "      <td>2.336259</td>\n",
       "      <td>0.000893</td>\n",
       "      <td>0.028234</td>\n",
       "      <td>1.549225</td>\n",
       "    </tr>\n",
       "    <tr>\n",
       "      <th>P07356</th>\n",
       "      <td>1.316362</td>\n",
       "      <td>0.005268</td>\n",
       "      <td>0.047276</td>\n",
       "      <td>1.325360</td>\n",
       "    </tr>\n",
       "    <tr>\n",
       "      <th>P07361</th>\n",
       "      <td>4.027033</td>\n",
       "      <td>0.004633</td>\n",
       "      <td>0.046202</td>\n",
       "      <td>1.335342</td>\n",
       "    </tr>\n",
       "    <tr>\n",
       "      <th>P0CW03</th>\n",
       "      <td>2.062152</td>\n",
       "      <td>0.001113</td>\n",
       "      <td>0.031433</td>\n",
       "      <td>1.502607</td>\n",
       "    </tr>\n",
       "    <tr>\n",
       "      <th>P11835</th>\n",
       "      <td>2.124772</td>\n",
       "      <td>0.001456</td>\n",
       "      <td>0.034027</td>\n",
       "      <td>1.468173</td>\n",
       "    </tr>\n",
       "    <tr>\n",
       "      <th>P13634</th>\n",
       "      <td>2.185579</td>\n",
       "      <td>0.002362</td>\n",
       "      <td>0.037590</td>\n",
       "      <td>1.424926</td>\n",
       "    </tr>\n",
       "    <tr>\n",
       "      <th>P14824</th>\n",
       "      <td>1.369254</td>\n",
       "      <td>0.003715</td>\n",
       "      <td>0.040279</td>\n",
       "      <td>1.394919</td>\n",
       "    </tr>\n",
       "    <tr>\n",
       "      <th>P17182</th>\n",
       "      <td>1.589778</td>\n",
       "      <td>0.002936</td>\n",
       "      <td>0.037990</td>\n",
       "      <td>1.420336</td>\n",
       "    </tr>\n",
       "    <tr>\n",
       "      <th>P17182, P17183, P21550</th>\n",
       "      <td>1.180182</td>\n",
       "      <td>0.002558</td>\n",
       "      <td>0.037621</td>\n",
       "      <td>1.424574</td>\n",
       "    </tr>\n",
       "    <tr>\n",
       "      <th>P55258, P61028</th>\n",
       "      <td>1.496011</td>\n",
       "      <td>0.002227</td>\n",
       "      <td>0.037590</td>\n",
       "      <td>1.424926</td>\n",
       "    </tr>\n",
       "    <tr>\n",
       "      <th>P60764, P63001, Q05144</th>\n",
       "      <td>2.595464</td>\n",
       "      <td>0.000102</td>\n",
       "      <td>0.020368</td>\n",
       "      <td>1.691060</td>\n",
       "    </tr>\n",
       "    <tr>\n",
       "      <th>P62874, P62880</th>\n",
       "      <td>1.533123</td>\n",
       "      <td>0.002119</td>\n",
       "      <td>0.037590</td>\n",
       "      <td>1.424926</td>\n",
       "    </tr>\n",
       "    <tr>\n",
       "      <th>P63242, Q8BGY2</th>\n",
       "      <td>1.258981</td>\n",
       "      <td>0.002040</td>\n",
       "      <td>0.037590</td>\n",
       "      <td>1.424926</td>\n",
       "    </tr>\n",
       "    <tr>\n",
       "      <th>P70290</th>\n",
       "      <td>1.889217</td>\n",
       "      <td>0.003238</td>\n",
       "      <td>0.039705</td>\n",
       "      <td>1.401156</td>\n",
       "    </tr>\n",
       "    <tr>\n",
       "      <th>Q01853</th>\n",
       "      <td>1.289243</td>\n",
       "      <td>0.000592</td>\n",
       "      <td>0.028214</td>\n",
       "      <td>1.549532</td>\n",
       "    </tr>\n",
       "    <tr>\n",
       "      <th>Q61171</th>\n",
       "      <td>3.250799</td>\n",
       "      <td>0.000751</td>\n",
       "      <td>0.028234</td>\n",
       "      <td>1.549225</td>\n",
       "    </tr>\n",
       "    <tr>\n",
       "      <th>Q9CYL5</th>\n",
       "      <td>2.159549</td>\n",
       "      <td>0.005039</td>\n",
       "      <td>0.046978</td>\n",
       "      <td>1.328105</td>\n",
       "    </tr>\n",
       "    <tr>\n",
       "      <th>Q9R1P4</th>\n",
       "      <td>1.051278</td>\n",
       "      <td>0.003430</td>\n",
       "      <td>0.040279</td>\n",
       "      <td>1.394919</td>\n",
       "    </tr>\n",
       "  </tbody>\n",
       "</table>\n",
       "</div>"
      ],
      "text/plain": [
       "                                                      log2FC    pvalue  \\\n",
       "P00920                                              3.232546  0.001900   \n",
       "P01831                                              2.486730  0.004720   \n",
       "P01896, P01897, P01898, P01899, P06339, P14426,...  1.545562  0.000768   \n",
       "P01897                                              2.374500  0.000109   \n",
       "P01897, P01899                                      2.986548  0.000321   \n",
       "P01901, P03991, P04223, P14426, P14428              3.419380  0.000025   \n",
       "P01901, P03991, P04223, P14428                      1.920298  0.000905   \n",
       "P01942                                              3.554038  0.003910   \n",
       "P01942, P06467                                      5.322022  0.000711   \n",
       "P02088                                              3.027678  0.002075   \n",
       "P02088, P02089                                      2.645962  0.003635   \n",
       "P02088, P02089, P02104                              2.573378  0.001936   \n",
       "P02089                                              2.927644  0.003649   \n",
       "P03991, P14428                                      2.364570  0.000906   \n",
       "P05366                                              5.577513  0.001913   \n",
       "P05366, P05367                                      5.831111  0.001552   \n",
       "P05367                                              5.056166  0.000243   \n",
       "P05480, P06240, P08103, P39688, Q04736              1.360024  0.003206   \n",
       "P06745                                              1.511369  0.000949   \n",
       "P06800                                              2.336259  0.000893   \n",
       "P07356                                              1.316362  0.005268   \n",
       "P07361                                              4.027033  0.004633   \n",
       "P0CW03                                              2.062152  0.001113   \n",
       "P11835                                              2.124772  0.001456   \n",
       "P13634                                              2.185579  0.002362   \n",
       "P14824                                              1.369254  0.003715   \n",
       "P17182                                              1.589778  0.002936   \n",
       "P17182, P17183, P21550                              1.180182  0.002558   \n",
       "P55258, P61028                                      1.496011  0.002227   \n",
       "P60764, P63001, Q05144                              2.595464  0.000102   \n",
       "P62874, P62880                                      1.533123  0.002119   \n",
       "P63242, Q8BGY2                                      1.258981  0.002040   \n",
       "P70290                                              1.889217  0.003238   \n",
       "Q01853                                              1.289243  0.000592   \n",
       "Q61171                                              3.250799  0.000751   \n",
       "Q9CYL5                                              2.159549  0.005039   \n",
       "Q9R1P4                                              1.051278  0.003430   \n",
       "\n",
       "                                                     q_value  log10qvalue  \n",
       "P00920                                              0.037590     1.424926  \n",
       "P01831                                              0.046455     1.332969  \n",
       "P01896, P01897, P01898, P01899, P06339, P14426,...  0.028234     1.549225  \n",
       "P01897                                              0.020368     1.691060  \n",
       "P01897, P01899                                      0.028214     1.549532  \n",
       "P01901, P03991, P04223, P14426, P14428              0.018748     1.727045  \n",
       "P01901, P03991, P04223, P14428                      0.028234     1.549225  \n",
       "P01942                                              0.041191     1.385200  \n",
       "P01942, P06467                                      0.028234     1.549225  \n",
       "P02088                                              0.037590     1.424926  \n",
       "P02088, P02089                                      0.040279     1.394919  \n",
       "P02088, P02089, P02104                              0.037590     1.424926  \n",
       "P02089                                              0.040279     1.394919  \n",
       "P03991, P14428                                      0.028234     1.549225  \n",
       "P05366                                              0.037590     1.424926  \n",
       "P05366, P05367                                      0.035186     1.453625  \n",
       "P05367                                              0.028214     1.549532  \n",
       "P05480, P06240, P08103, P39688, Q04736              0.039705     1.401156  \n",
       "P06745                                              0.028407     1.546582  \n",
       "P06800                                              0.028234     1.549225  \n",
       "P07356                                              0.047276     1.325360  \n",
       "P07361                                              0.046202     1.335342  \n",
       "P0CW03                                              0.031433     1.502607  \n",
       "P11835                                              0.034027     1.468173  \n",
       "P13634                                              0.037590     1.424926  \n",
       "P14824                                              0.040279     1.394919  \n",
       "P17182                                              0.037990     1.420336  \n",
       "P17182, P17183, P21550                              0.037621     1.424574  \n",
       "P55258, P61028                                      0.037590     1.424926  \n",
       "P60764, P63001, Q05144                              0.020368     1.691060  \n",
       "P62874, P62880                                      0.037590     1.424926  \n",
       "P63242, Q8BGY2                                      0.037590     1.424926  \n",
       "P70290                                              0.039705     1.401156  \n",
       "Q01853                                              0.028214     1.549532  \n",
       "Q61171                                              0.028234     1.549225  \n",
       "Q9CYL5                                              0.046978     1.328105  \n",
       "Q9R1P4                                              0.040279     1.394919  "
      ]
     },
     "execution_count": 62,
     "metadata": {},
     "output_type": "execute_result"
    }
   ],
   "source": [
    "print(\"Significant Q-value and fold change above 1:\")\n",
    "print(sum(significant & overexpressed))\n",
    "print(df_scaled.index.values[significant & overexpressed])\n",
    "\n",
    "df_scaled[significant & overexpressed][[\"log2FC\", \"pvalue\", \"q_value\", \"log10qvalue\"]]\n",
    "\n"
   ]
  },
  {
   "cell_type": "code",
   "execution_count": null,
   "metadata": {},
   "outputs": [],
   "source": []
  },
  {
   "cell_type": "markdown",
   "metadata": {},
   "source": [
    "#### Underexpressed"
   ]
  },
  {
   "cell_type": "code",
   "execution_count": 63,
   "metadata": {},
   "outputs": [
    {
     "name": "stdout",
     "output_type": "stream",
     "text": [
      "Significant Q-value and fold change below -1:\n",
      "43\n",
      "['A2BIM8, B5X0G2, P02762, P04938, P11588'\n",
      " 'A2BIM8, P02762, P04938, P11588, P11589' 'E9Q414' 'O54890' 'P01878'\n",
      " 'P06684' 'P06728' 'P07309' 'P07758, P22599, Q00896, Q00897'\n",
      " 'P07758, P22599, Q00896, Q00897, Q00898' 'P07758, P22599, Q00896, Q00898'\n",
      " 'P07758, Q00896' 'P07759' 'P07759, P29621'\n",
      " 'P07759, P29621, Q03734, Q5I2A0, Q91WP6' 'P08226' 'P11589' 'P13020'\n",
      " 'P22599' 'P22599, Q00896, Q00897' 'P23953' 'P23953, Q8VCT4' 'P26262'\n",
      " 'P28665' 'P28665, P28666' 'P29699' 'P52430' 'P55065' 'P56400' 'Q00623'\n",
      " 'Q00724' 'Q00897' 'Q01279' 'Q07968' 'Q61247' 'Q61730' 'Q62351' 'Q64727'\n",
      " 'Q8BH35' 'Q8BH61' 'Q8BTM8' 'Q8K182' 'Q9JJN5']\n"
     ]
    },
    {
     "data": {
      "text/html": [
       "<div>\n",
       "<style scoped>\n",
       "    .dataframe tbody tr th:only-of-type {\n",
       "        vertical-align: middle;\n",
       "    }\n",
       "\n",
       "    .dataframe tbody tr th {\n",
       "        vertical-align: top;\n",
       "    }\n",
       "\n",
       "    .dataframe thead th {\n",
       "        text-align: right;\n",
       "    }\n",
       "</style>\n",
       "<table border=\"1\" class=\"dataframe\">\n",
       "  <thead>\n",
       "    <tr style=\"text-align: right;\">\n",
       "      <th></th>\n",
       "      <th>log2FC</th>\n",
       "      <th>pvalue</th>\n",
       "      <th>q_value</th>\n",
       "      <th>log10qvalue</th>\n",
       "    </tr>\n",
       "  </thead>\n",
       "  <tbody>\n",
       "    <tr>\n",
       "      <th>A2BIM8, B5X0G2, P02762, P04938, P11588</th>\n",
       "      <td>-4.166987</td>\n",
       "      <td>0.002946</td>\n",
       "      <td>0.037990</td>\n",
       "      <td>1.420336</td>\n",
       "    </tr>\n",
       "    <tr>\n",
       "      <th>A2BIM8, P02762, P04938, P11588, P11589</th>\n",
       "      <td>-2.679161</td>\n",
       "      <td>0.003606</td>\n",
       "      <td>0.040279</td>\n",
       "      <td>1.394919</td>\n",
       "    </tr>\n",
       "    <tr>\n",
       "      <th>E9Q414</th>\n",
       "      <td>-1.375922</td>\n",
       "      <td>0.000165</td>\n",
       "      <td>0.024635</td>\n",
       "      <td>1.608451</td>\n",
       "    </tr>\n",
       "    <tr>\n",
       "      <th>O54890</th>\n",
       "      <td>-1.663172</td>\n",
       "      <td>0.001338</td>\n",
       "      <td>0.033512</td>\n",
       "      <td>1.474804</td>\n",
       "    </tr>\n",
       "    <tr>\n",
       "      <th>P01878</th>\n",
       "      <td>-2.746246</td>\n",
       "      <td>0.004122</td>\n",
       "      <td>0.041706</td>\n",
       "      <td>1.379806</td>\n",
       "    </tr>\n",
       "    <tr>\n",
       "      <th>P06684</th>\n",
       "      <td>-1.192704</td>\n",
       "      <td>0.002163</td>\n",
       "      <td>0.037590</td>\n",
       "      <td>1.424926</td>\n",
       "    </tr>\n",
       "    <tr>\n",
       "      <th>P06728</th>\n",
       "      <td>-3.215700</td>\n",
       "      <td>0.002751</td>\n",
       "      <td>0.037621</td>\n",
       "      <td>1.424574</td>\n",
       "    </tr>\n",
       "    <tr>\n",
       "      <th>P07309</th>\n",
       "      <td>-1.987341</td>\n",
       "      <td>0.005150</td>\n",
       "      <td>0.046978</td>\n",
       "      <td>1.328105</td>\n",
       "    </tr>\n",
       "    <tr>\n",
       "      <th>P07758, P22599, Q00896, Q00897</th>\n",
       "      <td>-3.995937</td>\n",
       "      <td>0.000570</td>\n",
       "      <td>0.028214</td>\n",
       "      <td>1.549532</td>\n",
       "    </tr>\n",
       "    <tr>\n",
       "      <th>P07758, P22599, Q00896, Q00897, Q00898</th>\n",
       "      <td>-2.604251</td>\n",
       "      <td>0.002013</td>\n",
       "      <td>0.037590</td>\n",
       "      <td>1.424926</td>\n",
       "    </tr>\n",
       "    <tr>\n",
       "      <th>P07758, P22599, Q00896, Q00898</th>\n",
       "      <td>-1.585992</td>\n",
       "      <td>0.002585</td>\n",
       "      <td>0.037621</td>\n",
       "      <td>1.424574</td>\n",
       "    </tr>\n",
       "    <tr>\n",
       "      <th>P07758, Q00896</th>\n",
       "      <td>-2.565086</td>\n",
       "      <td>0.000391</td>\n",
       "      <td>0.028214</td>\n",
       "      <td>1.549532</td>\n",
       "    </tr>\n",
       "    <tr>\n",
       "      <th>P07759</th>\n",
       "      <td>-2.535205</td>\n",
       "      <td>0.000850</td>\n",
       "      <td>0.028234</td>\n",
       "      <td>1.549225</td>\n",
       "    </tr>\n",
       "    <tr>\n",
       "      <th>P07759, P29621</th>\n",
       "      <td>-4.297279</td>\n",
       "      <td>0.001177</td>\n",
       "      <td>0.031433</td>\n",
       "      <td>1.502607</td>\n",
       "    </tr>\n",
       "    <tr>\n",
       "      <th>P07759, P29621, Q03734, Q5I2A0, Q91WP6</th>\n",
       "      <td>-2.206021</td>\n",
       "      <td>0.005309</td>\n",
       "      <td>0.047276</td>\n",
       "      <td>1.325360</td>\n",
       "    </tr>\n",
       "    <tr>\n",
       "      <th>P08226</th>\n",
       "      <td>-1.948101</td>\n",
       "      <td>0.000359</td>\n",
       "      <td>0.028214</td>\n",
       "      <td>1.549532</td>\n",
       "    </tr>\n",
       "    <tr>\n",
       "      <th>P11589</th>\n",
       "      <td>-3.547734</td>\n",
       "      <td>0.002817</td>\n",
       "      <td>0.037621</td>\n",
       "      <td>1.424574</td>\n",
       "    </tr>\n",
       "    <tr>\n",
       "      <th>P13020</th>\n",
       "      <td>-1.678130</td>\n",
       "      <td>0.000418</td>\n",
       "      <td>0.028214</td>\n",
       "      <td>1.549532</td>\n",
       "    </tr>\n",
       "    <tr>\n",
       "      <th>P22599</th>\n",
       "      <td>-1.837650</td>\n",
       "      <td>0.001351</td>\n",
       "      <td>0.033512</td>\n",
       "      <td>1.474804</td>\n",
       "    </tr>\n",
       "    <tr>\n",
       "      <th>P22599, Q00896, Q00897</th>\n",
       "      <td>-2.907198</td>\n",
       "      <td>0.002335</td>\n",
       "      <td>0.037590</td>\n",
       "      <td>1.424926</td>\n",
       "    </tr>\n",
       "    <tr>\n",
       "      <th>P23953</th>\n",
       "      <td>-2.708287</td>\n",
       "      <td>0.003222</td>\n",
       "      <td>0.039705</td>\n",
       "      <td>1.401156</td>\n",
       "    </tr>\n",
       "    <tr>\n",
       "      <th>P23953, Q8VCT4</th>\n",
       "      <td>-3.991831</td>\n",
       "      <td>0.003569</td>\n",
       "      <td>0.040279</td>\n",
       "      <td>1.394919</td>\n",
       "    </tr>\n",
       "    <tr>\n",
       "      <th>P26262</th>\n",
       "      <td>-1.282730</td>\n",
       "      <td>0.002333</td>\n",
       "      <td>0.037590</td>\n",
       "      <td>1.424926</td>\n",
       "    </tr>\n",
       "    <tr>\n",
       "      <th>P28665</th>\n",
       "      <td>-2.232392</td>\n",
       "      <td>0.001693</td>\n",
       "      <td>0.036338</td>\n",
       "      <td>1.439634</td>\n",
       "    </tr>\n",
       "    <tr>\n",
       "      <th>P28665, P28666</th>\n",
       "      <td>-2.599097</td>\n",
       "      <td>0.001171</td>\n",
       "      <td>0.031433</td>\n",
       "      <td>1.502607</td>\n",
       "    </tr>\n",
       "    <tr>\n",
       "      <th>P29699</th>\n",
       "      <td>-1.783638</td>\n",
       "      <td>0.000455</td>\n",
       "      <td>0.028214</td>\n",
       "      <td>1.549532</td>\n",
       "    </tr>\n",
       "    <tr>\n",
       "      <th>P52430</th>\n",
       "      <td>-1.210774</td>\n",
       "      <td>0.004989</td>\n",
       "      <td>0.046978</td>\n",
       "      <td>1.328105</td>\n",
       "    </tr>\n",
       "    <tr>\n",
       "      <th>P55065</th>\n",
       "      <td>-1.750589</td>\n",
       "      <td>0.001389</td>\n",
       "      <td>0.033512</td>\n",
       "      <td>1.474804</td>\n",
       "    </tr>\n",
       "    <tr>\n",
       "      <th>P56400</th>\n",
       "      <td>-1.278908</td>\n",
       "      <td>0.003971</td>\n",
       "      <td>0.041254</td>\n",
       "      <td>1.384530</td>\n",
       "    </tr>\n",
       "    <tr>\n",
       "      <th>Q00623</th>\n",
       "      <td>-1.826959</td>\n",
       "      <td>0.002791</td>\n",
       "      <td>0.037621</td>\n",
       "      <td>1.424574</td>\n",
       "    </tr>\n",
       "    <tr>\n",
       "      <th>Q00724</th>\n",
       "      <td>-1.419342</td>\n",
       "      <td>0.003873</td>\n",
       "      <td>0.041191</td>\n",
       "      <td>1.385200</td>\n",
       "    </tr>\n",
       "    <tr>\n",
       "      <th>Q00897</th>\n",
       "      <td>-2.146061</td>\n",
       "      <td>0.004837</td>\n",
       "      <td>0.046742</td>\n",
       "      <td>1.330294</td>\n",
       "    </tr>\n",
       "    <tr>\n",
       "      <th>Q01279</th>\n",
       "      <td>-1.516373</td>\n",
       "      <td>0.000522</td>\n",
       "      <td>0.028214</td>\n",
       "      <td>1.549532</td>\n",
       "    </tr>\n",
       "    <tr>\n",
       "      <th>Q07968</th>\n",
       "      <td>-1.763195</td>\n",
       "      <td>0.002685</td>\n",
       "      <td>0.037621</td>\n",
       "      <td>1.424574</td>\n",
       "    </tr>\n",
       "    <tr>\n",
       "      <th>Q61247</th>\n",
       "      <td>-1.574203</td>\n",
       "      <td>0.002509</td>\n",
       "      <td>0.037621</td>\n",
       "      <td>1.424574</td>\n",
       "    </tr>\n",
       "    <tr>\n",
       "      <th>Q61730</th>\n",
       "      <td>-1.706714</td>\n",
       "      <td>0.000533</td>\n",
       "      <td>0.028214</td>\n",
       "      <td>1.549532</td>\n",
       "    </tr>\n",
       "    <tr>\n",
       "      <th>Q62351</th>\n",
       "      <td>-3.554545</td>\n",
       "      <td>0.000081</td>\n",
       "      <td>0.020368</td>\n",
       "      <td>1.691060</td>\n",
       "    </tr>\n",
       "    <tr>\n",
       "      <th>Q64727</th>\n",
       "      <td>-1.206852</td>\n",
       "      <td>0.004126</td>\n",
       "      <td>0.041706</td>\n",
       "      <td>1.379806</td>\n",
       "    </tr>\n",
       "    <tr>\n",
       "      <th>Q8BH35</th>\n",
       "      <td>-1.436360</td>\n",
       "      <td>0.000604</td>\n",
       "      <td>0.028214</td>\n",
       "      <td>1.549532</td>\n",
       "    </tr>\n",
       "    <tr>\n",
       "      <th>Q8BH61</th>\n",
       "      <td>-1.854463</td>\n",
       "      <td>0.002540</td>\n",
       "      <td>0.037621</td>\n",
       "      <td>1.424574</td>\n",
       "    </tr>\n",
       "    <tr>\n",
       "      <th>Q8BTM8</th>\n",
       "      <td>-1.374691</td>\n",
       "      <td>0.004874</td>\n",
       "      <td>0.046742</td>\n",
       "      <td>1.330294</td>\n",
       "    </tr>\n",
       "    <tr>\n",
       "      <th>Q8K182</th>\n",
       "      <td>-1.172919</td>\n",
       "      <td>0.003716</td>\n",
       "      <td>0.040279</td>\n",
       "      <td>1.394919</td>\n",
       "    </tr>\n",
       "    <tr>\n",
       "      <th>Q9JJN5</th>\n",
       "      <td>-1.164040</td>\n",
       "      <td>0.003684</td>\n",
       "      <td>0.040279</td>\n",
       "      <td>1.394919</td>\n",
       "    </tr>\n",
       "  </tbody>\n",
       "</table>\n",
       "</div>"
      ],
      "text/plain": [
       "                                          log2FC    pvalue   q_value  \\\n",
       "A2BIM8, B5X0G2, P02762, P04938, P11588 -4.166987  0.002946  0.037990   \n",
       "A2BIM8, P02762, P04938, P11588, P11589 -2.679161  0.003606  0.040279   \n",
       "E9Q414                                 -1.375922  0.000165  0.024635   \n",
       "O54890                                 -1.663172  0.001338  0.033512   \n",
       "P01878                                 -2.746246  0.004122  0.041706   \n",
       "P06684                                 -1.192704  0.002163  0.037590   \n",
       "P06728                                 -3.215700  0.002751  0.037621   \n",
       "P07309                                 -1.987341  0.005150  0.046978   \n",
       "P07758, P22599, Q00896, Q00897         -3.995937  0.000570  0.028214   \n",
       "P07758, P22599, Q00896, Q00897, Q00898 -2.604251  0.002013  0.037590   \n",
       "P07758, P22599, Q00896, Q00898         -1.585992  0.002585  0.037621   \n",
       "P07758, Q00896                         -2.565086  0.000391  0.028214   \n",
       "P07759                                 -2.535205  0.000850  0.028234   \n",
       "P07759, P29621                         -4.297279  0.001177  0.031433   \n",
       "P07759, P29621, Q03734, Q5I2A0, Q91WP6 -2.206021  0.005309  0.047276   \n",
       "P08226                                 -1.948101  0.000359  0.028214   \n",
       "P11589                                 -3.547734  0.002817  0.037621   \n",
       "P13020                                 -1.678130  0.000418  0.028214   \n",
       "P22599                                 -1.837650  0.001351  0.033512   \n",
       "P22599, Q00896, Q00897                 -2.907198  0.002335  0.037590   \n",
       "P23953                                 -2.708287  0.003222  0.039705   \n",
       "P23953, Q8VCT4                         -3.991831  0.003569  0.040279   \n",
       "P26262                                 -1.282730  0.002333  0.037590   \n",
       "P28665                                 -2.232392  0.001693  0.036338   \n",
       "P28665, P28666                         -2.599097  0.001171  0.031433   \n",
       "P29699                                 -1.783638  0.000455  0.028214   \n",
       "P52430                                 -1.210774  0.004989  0.046978   \n",
       "P55065                                 -1.750589  0.001389  0.033512   \n",
       "P56400                                 -1.278908  0.003971  0.041254   \n",
       "Q00623                                 -1.826959  0.002791  0.037621   \n",
       "Q00724                                 -1.419342  0.003873  0.041191   \n",
       "Q00897                                 -2.146061  0.004837  0.046742   \n",
       "Q01279                                 -1.516373  0.000522  0.028214   \n",
       "Q07968                                 -1.763195  0.002685  0.037621   \n",
       "Q61247                                 -1.574203  0.002509  0.037621   \n",
       "Q61730                                 -1.706714  0.000533  0.028214   \n",
       "Q62351                                 -3.554545  0.000081  0.020368   \n",
       "Q64727                                 -1.206852  0.004126  0.041706   \n",
       "Q8BH35                                 -1.436360  0.000604  0.028214   \n",
       "Q8BH61                                 -1.854463  0.002540  0.037621   \n",
       "Q8BTM8                                 -1.374691  0.004874  0.046742   \n",
       "Q8K182                                 -1.172919  0.003716  0.040279   \n",
       "Q9JJN5                                 -1.164040  0.003684  0.040279   \n",
       "\n",
       "                                        log10qvalue  \n",
       "A2BIM8, B5X0G2, P02762, P04938, P11588     1.420336  \n",
       "A2BIM8, P02762, P04938, P11588, P11589     1.394919  \n",
       "E9Q414                                     1.608451  \n",
       "O54890                                     1.474804  \n",
       "P01878                                     1.379806  \n",
       "P06684                                     1.424926  \n",
       "P06728                                     1.424574  \n",
       "P07309                                     1.328105  \n",
       "P07758, P22599, Q00896, Q00897             1.549532  \n",
       "P07758, P22599, Q00896, Q00897, Q00898     1.424926  \n",
       "P07758, P22599, Q00896, Q00898             1.424574  \n",
       "P07758, Q00896                             1.549532  \n",
       "P07759                                     1.549225  \n",
       "P07759, P29621                             1.502607  \n",
       "P07759, P29621, Q03734, Q5I2A0, Q91WP6     1.325360  \n",
       "P08226                                     1.549532  \n",
       "P11589                                     1.424574  \n",
       "P13020                                     1.549532  \n",
       "P22599                                     1.474804  \n",
       "P22599, Q00896, Q00897                     1.424926  \n",
       "P23953                                     1.401156  \n",
       "P23953, Q8VCT4                             1.394919  \n",
       "P26262                                     1.424926  \n",
       "P28665                                     1.439634  \n",
       "P28665, P28666                             1.502607  \n",
       "P29699                                     1.549532  \n",
       "P52430                                     1.328105  \n",
       "P55065                                     1.474804  \n",
       "P56400                                     1.384530  \n",
       "Q00623                                     1.424574  \n",
       "Q00724                                     1.385200  \n",
       "Q00897                                     1.330294  \n",
       "Q01279                                     1.549532  \n",
       "Q07968                                     1.424574  \n",
       "Q61247                                     1.424574  \n",
       "Q61730                                     1.549532  \n",
       "Q62351                                     1.691060  \n",
       "Q64727                                     1.379806  \n",
       "Q8BH35                                     1.549532  \n",
       "Q8BH61                                     1.424574  \n",
       "Q8BTM8                                     1.330294  \n",
       "Q8K182                                     1.394919  \n",
       "Q9JJN5                                     1.394919  "
      ]
     },
     "execution_count": 63,
     "metadata": {},
     "output_type": "execute_result"
    }
   ],
   "source": [
    "print(\"Significant Q-value and fold change below -1:\")\n",
    "print(sum(significant & underexpressed))\n",
    "print(df_scaled.index.values[significant & underexpressed])\n",
    "\n",
    "df_scaled[significant & underexpressed][[\"log2FC\", \"pvalue\", \"q_value\", \"log10qvalue\"]]"
   ]
  },
  {
   "cell_type": "markdown",
   "metadata": {},
   "source": [
    "Exercise:\n",
    "    \n",
    "Go to [uniprot.org](https://www.uniprot.org) and identify which proteins are over-expresed and under-expressed from their uniprot accession numbers. Do these follow a certain trend, and are the protein level changes expected from what we know of the mice? In other words, do you see biologically significance in the up and downregulated genes?"
   ]
  },
  {
   "cell_type": "code",
   "execution_count": null,
   "metadata": {},
   "outputs": [],
   "source": []
  },
  {
   "cell_type": "markdown",
   "metadata": {},
   "source": [
    "Exercise: Do you see biologically significance in the up and downregulated genes?"
   ]
  },
  {
   "cell_type": "code",
   "execution_count": null,
   "metadata": {},
   "outputs": [],
   "source": []
  },
  {
   "cell_type": "markdown",
   "metadata": {},
   "source": [
    "__Final summary:__\n",
    "\n",
    "Finally we have:\n",
    "- Imported, processed and generated statistics for dataframes using Pandas\n",
    "- Performed data normalization, imputing of missing values and transformations\n",
    "- Visualized dataset distribution using violinplots and heatmaps\n",
    "- Performed PCA clustering and dimensionality reduction of the data and investigated loadings\n",
    "- Performed differential expression analysis\n",
    "- Identified significantly over and under-expressed proteins between non-infected and ECM infected mice"
   ]
  },
  {
   "cell_type": "code",
   "execution_count": null,
   "metadata": {},
   "outputs": [],
   "source": []
  },
  {
   "cell_type": "code",
   "execution_count": null,
   "metadata": {},
   "outputs": [],
   "source": []
  }
 ],
 "metadata": {
  "kernelspec": {
   "display_name": "Python 3 (ipykernel)",
   "language": "python",
   "name": "python3"
  },
  "language_info": {
   "codemirror_mode": {
    "name": "ipython",
    "version": 3
   },
   "file_extension": ".py",
   "mimetype": "text/x-python",
   "name": "python",
   "nbconvert_exporter": "python",
   "pygments_lexer": "ipython3",
   "version": "3.9.6"
  }
 },
 "nbformat": 4,
 "nbformat_minor": 2
}
